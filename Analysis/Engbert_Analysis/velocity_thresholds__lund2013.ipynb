{
 "cells": [
  {
   "cell_type": "markdown",
   "source": [
    "# Velocity Threshold Variability\n",
    "## Dataset: Lund2013"
   ],
   "metadata": {
    "collapsed": false
   },
   "id": "6d4b89eeb06645f4"
  },
  {
   "cell_type": "code",
   "outputs": [],
   "source": [
    "import time\n",
    "\n",
    "import numpy as np\n",
    "\n",
    "import Config.constants as cnst\n",
    "\n",
    "from GazeDetectors.EngbertDetector import EngbertDetector\n",
    "from GazeDetectors.NHDetector import NHDetector\n",
    "from GazeDetectors.REMoDNaVDetector import REMoDNaVDetector\n",
    "from DataSetLoaders.DataSetFactory import DataSetFactory\n",
    "\n",
    "import Analysis.comparisons as detector_comparisons\n",
    "import Analysis.figures as figs"
   ],
   "metadata": {
    "collapsed": true
   },
   "id": "initial_id",
   "execution_count": 0
  },
  {
   "cell_type": "code",
   "outputs": [],
   "source": [
    "%%capture --no-stdout\n",
    "\n",
    "LMDA = \"λ\"\n",
    "\n",
    "DATASET_NAME = \"Lund2013\"\n",
    "RATERS = [\"MN\", \"RA\"]\n",
    "DETECTORS = [EngbertDetector(lambdaa=lmda) for lmda in np.arange(0.5, 6.1, 0.5)]\n",
    "\n",
    "start = time.time()\n",
    "\n",
    "# load and detected\n",
    "lund_dataset = DataSetFactory.load(DATASET_NAME)\n",
    "lund_samples, lund_events, lund_detector_res = DataSetFactory.process(lund_dataset, RATERS, DETECTORS[:2])\n",
    "lund_detector_res.rename(columns=lambda col: col[col.index(LMDA):col.index(\",\")].replace(\"'\", \"\"), inplace=True)\n",
    "\n",
    "# extract the threshold velocity when the multiplication constant λ=1\n",
    "vx_thresh = lund_detector_res[f\"{LMDA}:1.0\"].map(lambda cell: cell['thresh_Vx'])\n",
    "vy_thresh = lund_detector_res[f\"{LMDA}:1.0\"].map(lambda cell: cell['thresh_Vy'])\n",
    "\n",
    "end = time.time()\n",
    "print(f\"Elapsed time: {end - start:.2f} seconds\")\n",
    "del start, end"
   ],
   "metadata": {
    "collapsed": false
   },
   "id": "dc924fcb45f17e19"
  },
  {
   "cell_type": "code",
   "outputs": [],
   "source": [],
   "metadata": {
    "collapsed": false
   },
   "id": "572fe8ec8f5b1ee4"
  }
 ],
 "metadata": {
  "kernelspec": {
   "display_name": "Python 3",
   "language": "python",
   "name": "python3"
  },
  "language_info": {
   "codemirror_mode": {
    "name": "ipython",
    "version": 2
   },
   "file_extension": ".py",
   "mimetype": "text/x-python",
   "name": "python",
   "nbconvert_exporter": "python",
   "pygments_lexer": "ipython2",
   "version": "2.7.6"
  }
 },
 "nbformat": 4,
 "nbformat_minor": 5
}
