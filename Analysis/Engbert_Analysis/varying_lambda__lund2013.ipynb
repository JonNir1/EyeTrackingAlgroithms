{
 "cells": [
  {
   "cell_type": "markdown",
   "source": [
    "# Varying λ Values\n",
    "## Dataset: Lund2013"
   ],
   "metadata": {
    "collapsed": false
   },
   "id": "6d4b89eeb06645f4"
  },
  {
   "cell_type": "code",
   "source": [
    "import time\n",
    "\n",
    "import numpy as np\n",
    "import pandas as pd\n",
    "import plotly.graph_objects as go\n",
    "import plotly.io as pio\n",
    "\n",
    "import Config.constants as cnst\n",
    "from GazeDetectors.EngbertDetector import EngbertDetector\n",
    "from DataSetLoaders.DataSetFactory import DataSetFactory\n",
    "\n",
    "import Analysis.comparisons as cmps\n",
    "import Analysis.scarfplot as scarfplot\n",
    "import Analysis.figures as figs\n",
    "\n",
    "pio.renderers.default = \"browser\""
   ],
   "metadata": {
    "collapsed": true
   },
   "id": "initial_id",
   "outputs": [],
   "execution_count": null
  },
  {
   "cell_type": "code",
   "source": [
    "LAMBDA = \"λ\"\n",
    "\n",
    "DATASET_NAME = \"Lund2013\"\n",
    "RATERS = [\"MN\", \"RA\"]\n",
    "DETECTORS = [EngbertDetector(lambdaa=lmda) for lmda in np.arange(1, 7, 1)]\n",
    "\n",
    "rename_columns = lambda col: col[col.index(LAMBDA):col.index(\",\")].replace(\"'\", \"\") if LAMBDA in col else col\n",
    "COMPARISON_COLUMNS = [(RATERS[1], rename_columns(d.name)) for d in DETECTORS]\n",
    "EVENT_MATCHING_PARAMS = {\"match_by\": \"onset\", \"max_onset_latency\": 15, \"allow_cross_matching\": False}"
   ],
   "metadata": {
    "collapsed": false
   },
   "id": "62fb8c8b17c35241",
   "outputs": [],
   "execution_count": null
  },
  {
   "cell_type": "markdown",
   "source": [
    "## Load & Process"
   ],
   "metadata": {
    "collapsed": false
   },
   "id": "4b70e54d842aee6b"
  },
  {
   "cell_type": "code",
   "source": [
    "start = time.time()\n",
    "\n",
    "lund_dataset = DataSetFactory.load(DATASET_NAME)\n",
    "lund_samples, lund_events, lund_detector_res = DataSetFactory.process(lund_dataset, RATERS, DETECTORS)\n",
    "\n",
    "lund_samples.rename(columns=rename_columns, inplace=True)\n",
    "lund_events.rename(columns=rename_columns, inplace=True)\n",
    "lund_detector_res.rename(columns=rename_columns, inplace=True)\n",
    "\n",
    "end = time.time()\n",
    "print(f\"Finished Detecting Events:\\t{end - start:.2f} seconds\")\n",
    "del start, end"
   ],
   "metadata": {
    "collapsed": false
   },
   "id": "dc924fcb45f17e19",
   "outputs": [],
   "execution_count": null
  },
  {
   "cell_type": "markdown",
   "source": [
    "## Detection Scarfplot"
   ],
   "metadata": {
    "collapsed": false
   },
   "id": "b4b4556b297901fc"
  },
  {
   "cell_type": "code",
   "source": [
    "SCARF_WIDTH = 10\n",
    "STIM = \"img\"  # \"video\" / \"moving dot\"\n",
    "\n",
    "for i, idx in enumerate(lund_samples.index):\n",
    "    if idx[2] != STIM:\n",
    "        continue\n",
    "    t = np.arange(len(lund_samples.iloc[i][\"RA\"]))  # use RA as ground-truth for number of samples\n",
    "    scarfplot_fig = go.Figure()\n",
    "    for j, col in enumerate(lund_samples.columns):\n",
    "        labels = lund_samples.loc[idx, col]\n",
    "        if pd.isna(labels).all():\n",
    "            # ignore undetected trials\n",
    "            continue\n",
    "        scarfplot_fig = scarfplot.add_scarfplot(scarfplot_fig, t, labels,\n",
    "                                                ymin=2 * j * SCARF_WIDTH,\n",
    "                                                ymax=(2 * j + 1) * SCARF_WIDTH)\n",
    "    scarfplot_fig.update_layout(title=f\"Subject: {idx[1]}\\t\\tStimulus: {idx[2]}\\t\\tStimulus Name: {idx[3]}\",\n",
    "                                xaxis=dict(title=\"Samples\", showgrid=False),\n",
    "                                yaxis=dict(range=[0, (2 * len(lund_samples.columns) - 1) * SCARF_WIDTH],\n",
    "                                           tickmode='array',\n",
    "                                           tickvals=[(2 * i + 0.5) * SCARF_WIDTH for i in\n",
    "                                                     range(len(lund_samples.columns))],\n",
    "                                           ticktext=list(lund_samples.columns))\n",
    "                                )\n",
    "    scarfplot_fig.show()\n",
    "\n",
    "del i, j, idx, col, t, labels"
   ],
   "metadata": {
    "collapsed": false
   },
   "id": "a43f3c6608a6b34f",
   "outputs": [],
   "execution_count": null
  },
  {
   "cell_type": "markdown",
   "source": [
    "## Compare against GT\n",
    "Compare the detected outputs against the human-annotated GT, with metrics:  \n",
    "(1) Label Counts  \n",
    "(2) Cohen's Kappa  \n",
    "(3) Matched-Events Ratio  "
   ],
   "metadata": {
    "collapsed": false
   },
   "id": "37c56fa61a6cc8e5"
  },
  {
   "cell_type": "code",
   "source": [
    "label_counts = cmps.label_counts(lund_samples, group_by=cnst.STIMULUS)\n",
    "label_counts_fig = figs.count_grid(label_counts,\n",
    "                                   title=\"Label Counts\")\n",
    "label_counts_fig.show()"
   ],
   "metadata": {
    "collapsed": false
   },
   "id": "432be20aeaf748d7",
   "outputs": [],
   "execution_count": null
  },
  {
   "cell_type": "code",
   "source": [
    "cohen_kappa = cmps.compare_samples(lund_samples, metric='kappa', group_by=cnst.STIMULUS)\n",
    "cohen_kappa_fig = figs.distributions_grid(cohen_kappa[COMPARISON_COLUMNS],\n",
    "                                          plot_type=\"violin\",\n",
    "                                          title=\"Cohen's Kappa\",\n",
    "                                          column_title_mapper=lambda col: f\"{col[0]}→{col[1]}\")\n",
    "cohen_kappa_fig.show()"
   ],
   "metadata": {
    "collapsed": false
   },
   "id": "a2e7c349b86f7132",
   "outputs": [],
   "execution_count": null
  },
  {
   "cell_type": "code",
   "source": [
    "matching_ratio = cmps.event_matching_ratio(lund_events, group_by=cnst.STIMULUS, **EVENT_MATCHING_PARAMS)\n",
    "matching_ratio_fig = figs.distributions_grid(matching_ratio[COMPARISON_COLUMNS],\n",
    "                                             plot_type=\"violin\",\n",
    "                                             title=\"Event Matching Ratio\",\n",
    "                                             column_title_mapper=lambda col: f\"{col[0]}→{col[1]}\")\n",
    "matching_ratio_fig.show()"
   ],
   "metadata": {
    "collapsed": false,
    "jupyter": {
     "is_executing": true
    }
   },
   "id": "572fe8ec8f5b1ee4",
   "outputs": [],
   "execution_count": null
  },
  {
   "cell_type": "markdown",
   "source": [
    "## Velocity Threshold Distribution"
   ],
   "metadata": {
    "collapsed": false
   },
   "id": "bb96cd280d9f40dc"
  },
  {
   "cell_type": "code",
   "source": [
    "thresholds = pd.concat([lund_detector_res[f\"{LAMBDA}:1\"].map(lambda cell: cell['thresh_Vx']),\n",
    "                        lund_detector_res[f\"{LAMBDA}:1\"].map(lambda cell: cell['thresh_Vy'])],\n",
    "                       axis=1, keys=[\"Vx\", \"Vy\"])\n",
    "agg_thresholds = cmps.group_and_aggregate(thresholds, group_by=cnst.STIMULUS)\n",
    "threshold_distribution_fig = figs.distributions_grid(agg_thresholds,\n",
    "                                                     plot_type=\"violin\",\n",
    "                                                     title=\"Thresholds Distribution\")\n",
    "threshold_distribution_fig.show()"
   ],
   "metadata": {
    "collapsed": false,
    "jupyter": {
     "is_executing": true
    }
   },
   "id": "ad629d4b18338970",
   "outputs": [],
   "execution_count": null
  },
  {
   "metadata": {
    "jupyter": {
     "is_executing": true
    }
   },
   "cell_type": "code",
   "source": "",
   "id": "195fe01c5733d664",
   "outputs": [],
   "execution_count": null
  }
 ],
 "metadata": {
  "kernelspec": {
   "display_name": "Python 3",
   "language": "python",
   "name": "python3"
  },
  "language_info": {
   "codemirror_mode": {
    "name": "ipython",
    "version": 2
   },
   "file_extension": ".py",
   "mimetype": "text/x-python",
   "name": "python",
   "nbconvert_exporter": "python",
   "pygments_lexer": "ipython2",
   "version": "2.7.6"
  }
 },
 "nbformat": 4,
 "nbformat_minor": 5
}
