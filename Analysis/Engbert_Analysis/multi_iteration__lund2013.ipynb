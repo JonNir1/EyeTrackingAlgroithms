{
 "cells": [
  {
   "cell_type": "code",
   "id": "initial_id",
   "metadata": {
    "collapsed": true,
    "ExecuteTime": {
     "end_time": "2024-04-09T09:43:29.559963Z",
     "start_time": "2024-04-09T09:43:26.953036Z"
    }
   },
   "source": [
    "import time\n",
    "import copy\n",
    "import warnings\n",
    "from typing import Callable\n",
    "\n",
    "import numpy as np\n",
    "import pandas as pd\n",
    "import plotly.io as pio\n",
    "\n",
    "import Config.constants as cnst\n",
    "from GazeDetectors.EngbertDetector import EngbertDetector\n",
    "from DataSetLoaders.DataSetFactory import DataSetFactory\n",
    "\n",
    "import Analysis.comparisons as cmps\n",
    "import Analysis.figures as figs\n",
    "\n",
    "pio.renderers.default = \"browser\""
   ],
   "outputs": [],
   "execution_count": 1
  },
  {
   "cell_type": "code",
   "source": [
    "DATASET_NAME = \"Lund2013\"\n",
    "\n",
    "LAMBDA = \"λ\"\n",
    "ITERATION = \"Iteration\"\n",
    "NUM_ITERATIONS = 5"
   ],
   "metadata": {
    "collapsed": false,
    "ExecuteTime": {
     "end_time": "2024-04-09T09:43:29.567005Z",
     "start_time": "2024-04-09T09:43:29.559963Z"
    }
   },
   "id": "dc7bdbc64021d841",
   "outputs": [],
   "execution_count": 2
  },
  {
   "cell_type": "code",
   "source": [
    "engbert = EngbertDetector()\n",
    "lund_dataset = DataSetFactory.load(DATASET_NAME)"
   ],
   "metadata": {
    "collapsed": false,
    "ExecuteTime": {
     "end_time": "2024-04-09T09:44:16.819646Z",
     "start_time": "2024-04-09T09:43:29.567005Z"
    }
   },
   "id": "6496682672d01b94",
   "outputs": [],
   "execution_count": 3
  },
  {
   "cell_type": "code",
   "source": [
    "start = time.time()\n",
    "\n",
    "prev_gaze_data = lund_dataset\n",
    "indexers = [col for col in DataSetFactory._INDEXERS if col in prev_gaze_data.columns]\n",
    "\n",
    "results = {}\n",
    "with warnings.catch_warnings():\n",
    "    warnings.simplefilter(\"ignore\")\n",
    "    for i in range(1, NUM_ITERATIONS + 1):\n",
    "        prev_gaze_data = prev_gaze_data.copy()\n",
    "        for trial_num in prev_gaze_data[cnst.TRIAL].unique():\n",
    "            trial_data = prev_gaze_data[prev_gaze_data[cnst.TRIAL] == trial_num]\n",
    "            key = tuple(trial_data[indexers].iloc[0].to_list() + [i])\n",
    "            res = engbert.detect(\n",
    "                t=trial_data[cnst.T].to_numpy(),\n",
    "                x=trial_data[cnst.X].to_numpy(),\n",
    "                y=trial_data[cnst.Y].to_numpy()\n",
    "            )\n",
    "            results[key] = copy.deepcopy(res)\n",
    "\n",
    "            # nullify detected saccades\n",
    "            detected_event_labels = res[cnst.GAZE][cnst.EVENT]\n",
    "            saccade_idxs = trial_data.index[detected_event_labels == cnst.EVENT_LABELS.SACCADE]\n",
    "            prev_gaze_data.loc[saccade_idxs, cnst.X] = np.nan\n",
    "            prev_gaze_data.loc[saccade_idxs, cnst.Y] = np.nan\n",
    "\n",
    "iteration_events = pd.Series({k: [e for e in v[cnst.EVENTS] if e.event_label != cnst.EVENT_LABELS.BLINK]\n",
    "                              for k, v in results.items()}).sort_index()\n",
    "iteration_events.index.names = indexers + [\"Iteration\"]\n",
    "iteration_events = iteration_events.to_frame()\n",
    "\n",
    "end = time.time()\n",
    "print(f\"Finished Multi-Iteration Detection:\\t{end - start:.2f} seconds\")\n",
    "del start, end"
   ],
   "metadata": {
    "collapsed": false,
    "jupyter": {
     "is_executing": true
    },
    "ExecuteTime": {
     "start_time": "2024-04-09T09:44:16.821664Z"
    }
   },
   "id": "c02038a40be8d7a5",
   "outputs": [],
   "execution_count": null
  },
  {
   "cell_type": "code",
   "source": [
    "def calc_per_iteration(dataset: pd.DataFrame, func: Callable, **kwargs) -> pd.DataFrame:\n",
    "    group_by = kwargs.pop(\"group_by\", [cnst.STIMULUS, ITERATION])\n",
    "    computed = func(dataset, group_by=group_by, **kwargs)\n",
    "    computed.drop(index=\"all\", inplace=True)  # drop the \"all\" index because it aggregates over iterations\n",
    "    computed.index = pd.MultiIndex.from_tuples(computed.index, names=group_by)\n",
    "    computed_all_stim = computed.groupby(level=ITERATION).agg(\"sum\")\n",
    "    computed_all_stim.index = pd.MultiIndex.from_tuples([(\"all\", idx) for idx in computed_all_stim.index],\n",
    "                                                        names=group_by)\n",
    "    computed = pd.concat([computed, computed_all_stim])[0].unstack(level=ITERATION)\n",
    "    return computed"
   ],
   "metadata": {
    "collapsed": false,
    "jupyter": {
     "is_executing": true
    }
   },
   "id": "980598cd750c2449",
   "outputs": [],
   "execution_count": null
  },
  {
   "cell_type": "markdown",
   "source": [
    "### Label Counts"
   ],
   "metadata": {
    "collapsed": false
   },
   "id": "5eefc3625f9edfe4"
  },
  {
   "cell_type": "code",
   "source": [
    "label_counts = calc_per_iteration(iteration_events, cmps.label_counts)\n",
    "label_counts_fig = figs.count_grid(label_counts,\n",
    "                                   title=\"Event Counts per Iteration\")\n",
    "label_counts_fig.show()"
   ],
   "metadata": {
    "collapsed": false,
    "jupyter": {
     "is_executing": true
    }
   },
   "id": "312fd0f688acb026",
   "outputs": [],
   "execution_count": null
  },
  {
   "cell_type": "markdown",
   "source": [
    "### Saccade Amplitude"
   ],
   "metadata": {
    "collapsed": false
   },
   "id": "c9f2ab9ac6e43a92"
  },
  {
   "cell_type": "code",
   "source": [
    "saccade_amplitudes = calc_per_iteration(iteration_events,\n",
    "                                        cmps.event_features,\n",
    "                                        feature=cnst.AMPLITUDE,\n",
    "                                        ignore_events=[v for v in cnst.EVENT_LABELS if v != cnst.EVENT_LABELS.SACCADE])\n",
    "saccade_amplitudes_fig = figs.distributions_grid(saccade_amplitudes,\n",
    "                                                 plot_type=\"violin\",\n",
    "                                          title=\"Saccade Amplitudes per Iteration\")\n",
    "saccade_amplitudes_fig.show()"
   ],
   "metadata": {
    "collapsed": false,
    "jupyter": {
     "is_executing": true
    }
   },
   "id": "68afe4a0334e757f",
   "outputs": [],
   "execution_count": null
  },
  {
   "cell_type": "markdown",
   "source": [
    "### Saccade Duration"
   ],
   "metadata": {
    "collapsed": false
   },
   "id": "e0f51d8b66fa5ee4"
  },
  {
   "cell_type": "code",
   "source": [
    "saccade_durations = calc_per_iteration(iteration_events,\n",
    "                                       cmps.event_features,\n",
    "                                       feature=cnst.DURATION,\n",
    "                                       ignore_events=[v for v in cnst.EVENT_LABELS if v != cnst.EVENT_LABELS.SACCADE])\n",
    "saccade_durations_fig = figs.distributions_grid(saccade_durations,\n",
    "                                                plot_type=\"violin\",\n",
    "                                                title=\"Saccade Durations per Iteration\")\n",
    "saccade_durations_fig.show()"
   ],
   "metadata": {
    "collapsed": false,
    "jupyter": {
     "is_executing": true
    }
   },
   "id": "9157937bdbb39631",
   "outputs": [],
   "execution_count": null
  },
  {
   "cell_type": "markdown",
   "source": [
    "### Saccade Peak-Velocity"
   ],
   "metadata": {
    "collapsed": false
   },
   "id": "fe5b004b0cee0b71"
  },
  {
   "cell_type": "code",
   "source": [
    "saccade_peak_velocities = calc_per_iteration(iteration_events,\n",
    "                                             cmps.event_features,\n",
    "                                             feature=\"peak velocity\",\n",
    "                                             ignore_events=[v for v in cnst.EVENT_LABELS if v != cnst.EVENT_LABELS.SACCADE])\n",
    "saccade_peak_vel_fig = figs.distributions_grid(saccade_peak_velocities,\n",
    "                                               plot_type=\"violin\",\n",
    "                                               title=\"Saccade Peak Velocities per Iteration\")\n",
    "saccade_peak_vel_fig.show()"
   ],
   "metadata": {
    "collapsed": false,
    "jupyter": {
     "is_executing": true
    }
   },
   "id": "be482a43902761ee",
   "outputs": [],
   "execution_count": null
  },
  {
   "cell_type": "markdown",
   "source": [
    "### Micro-Saccade Ration"
   ],
   "metadata": {
    "collapsed": false
   },
   "id": "2f191f61af6bfc8"
  },
  {
   "cell_type": "code",
   "source": [
    "MICROSACCADE_MAX_AMPLITUDE = 1.0\n",
    "saccade_counts = iteration_events.map(lambda cell: len([e for e in cell if e.event_label == cnst.EVENT_LABELS.SACCADE]))\n",
    "microsaccade_counts = iteration_events.map(lambda cell: len([e for e in cell if\n",
    "                                                             e.event_label == cnst.EVENT_LABELS.SACCADE and\n",
    "                                                             e.amplitude <= MICROSACCADE_MAX_AMPLITUDE]))\n",
    "microsaccade_ratio = microsaccade_counts / saccade_counts\n",
    "microsaccade_ratio = microsaccade_ratio.groupby(level=[cnst.STIMULUS, ITERATION]).agg(list).map(lambda cell: [e for e in cell if pd.notnull(e)])[0]\n",
    "microsaccade_ratio_all_stim = microsaccade_ratio.groupby(level=ITERATION).agg(\"sum\")\n",
    "microsaccade_ratio_all_stim.index = pd.MultiIndex.from_tuples(\n",
    "    [(\"all\", idx) for idx in microsaccade_ratio_all_stim.index],\n",
    "    names=[cnst.STIMULUS, ITERATION])\n",
    "microsaccade_ratio = pd.concat([microsaccade_ratio, microsaccade_ratio_all_stim]).unstack(level=ITERATION)\n",
    "microsaccade_ratio_fig = figs.distributions_grid(microsaccade_ratio,\n",
    "                                                 plot_type=\"violin\",\n",
    "                                                 # limit_pdf=True,\n",
    "                                                 title=\"Microsaccade Ratio per Iteration\")\n",
    "microsaccade_ratio_fig.show()"
   ],
   "metadata": {
    "collapsed": false,
    "jupyter": {
     "is_executing": true
    }
   },
   "id": "f126b3c188ced4b1",
   "outputs": [],
   "execution_count": null
  }
 ],
 "metadata": {
  "kernelspec": {
   "display_name": "Python 3",
   "language": "python",
   "name": "python3"
  },
  "language_info": {
   "codemirror_mode": {
    "name": "ipython",
    "version": 2
   },
   "file_extension": ".py",
   "mimetype": "text/x-python",
   "name": "python",
   "nbconvert_exporter": "python",
   "pygments_lexer": "ipython2",
   "version": "2.7.6"
  }
 },
 "nbformat": 4,
 "nbformat_minor": 5
}
