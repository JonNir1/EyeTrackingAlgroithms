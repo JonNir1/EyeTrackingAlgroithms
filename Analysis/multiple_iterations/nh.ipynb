{
 "cells": [
  {
   "cell_type": "markdown",
   "source": [
    "# Multi-Iteration Detection\n",
    "## Dataset: LUND2013\n",
    "## Detector: NH"
   ],
   "metadata": {
    "collapsed": false
   },
   "id": "572e3573c7e10a35"
  },
  {
   "cell_type": "code",
   "outputs": [],
   "source": [
    "import plotly.io as pio\n",
    "\n",
    "import Config.constants as cnst\n",
    "from GazeDetectors.NHDetector import NHDetector\n",
    "from Analysis.multiple_iterations.MultiIterationAnalyzer import MultiIterationAnalyzer\n",
    "from Visualization.distributions_grid import *\n",
    "\n",
    "pio.renderers.default = \"notebook\"\n",
    "\n",
    "DATASET_NAME = \"Lund2013\""
   ],
   "metadata": {
    "collapsed": true,
    "ExecuteTime": {
     "end_time": "2024-04-16T12:17:46.055196Z",
     "start_time": "2024-04-16T12:17:41.093280Z"
    }
   },
   "id": "initial_id",
   "execution_count": 1
  },
  {
   "cell_type": "code",
   "outputs": [
    {
     "name": "stdout",
     "output_type": "stream",
     "text": [
      "Preprocessing dataset `Lund2013` with EngbertDetector{'λ':5,'ws':2}...\n",
      "\tPreprocessing:\t43.38s\n"
     ]
    }
   ],
   "source": [
    "detector = NHDetector()\n",
    "multi_detect_events = MultiIterationAnalyzer.preprocess_dataset(DATASET_NAME, detector=detector, verbose=True)\n",
    "\n",
    "all_event_features = MultiIterationAnalyzer.analyze(multi_detect_events)[MultiIterationAnalyzer.EVENT_FEATURES_STR]\n",
    "saccade_features = MultiIterationAnalyzer.analyze(multi_detect_events,\n",
    "                                                  ignore_events={v for v in cnst.EVENT_LABELS if v != cnst.EVENT_LABELS.SACCADE})[MultiIterationAnalyzer.EVENT_FEATURES_STR]\n",
    "fixation_features = MultiIterationAnalyzer.analyze(multi_detect_events,\n",
    "                                                   ignore_events={v for v in cnst.EVENT_LABELS if v != cnst.EVENT_LABELS.FIXATION})[MultiIterationAnalyzer.EVENT_FEATURES_STR]"
   ],
   "metadata": {
    "collapsed": false,
    "ExecuteTime": {
     "end_time": "2024-04-16T12:18:32.991736Z",
     "start_time": "2024-04-16T12:17:46.056304Z"
    }
   },
   "id": "784feb9b4c18e0da",
   "execution_count": 2
  },
  {
   "cell_type": "code",
   "outputs": [],
   "source": [
    "event_counts_fig = distributions_grid(all_event_features[\"Count\"],\n",
    "                                      title=\"Event Counts\",\n",
    "                                      column_title_mapper=lambda col: f\"Iteration {col}\", \n",
    "                                      show_counts=True)\n",
    "event_counts_fig.show()"
   ],
   "metadata": {
    "collapsed": false,
    "ExecuteTime": {
     "end_time": "2024-04-16T12:20:22.691933Z",
     "start_time": "2024-04-16T12:20:22.494728Z"
    }
   },
   "id": "d147724310016acf",
   "execution_count": 6
  },
  {
   "cell_type": "code",
   "outputs": [],
   "source": [
    "saccade_amplitudes_fig = distributions_grid(saccade_features[cnst.AMPLITUDE.capitalize()],\n",
    "                                            title=\"Saccade Amplitudes\",\n",
    "                                            column_title_mapper=lambda row: f\"Iteration {row}\")\n",
    "saccade_durations_fig = distributions_grid(saccade_features[cnst.DURATION.capitalize()],\n",
    "                                           title=\"Saccade Durations\",\n",
    "                                           column_title_mapper=lambda row: f\"Iteration {row}\")\n",
    "\n",
    "saccade_amplitudes_fig.show()\n",
    "saccade_durations_fig.show()"
   ],
   "metadata": {
    "collapsed": false,
    "ExecuteTime": {
     "end_time": "2024-04-16T12:21:56.483096Z",
     "start_time": "2024-04-16T12:21:56.001356Z"
    }
   },
   "id": "f0576895a3876095",
   "execution_count": 7
  },
  {
   "cell_type": "code",
   "outputs": [],
   "source": [
    "fixation_durations_fig = distributions_grid(fixation_features[cnst.DURATION.capitalize()],\n",
    "                                            title=\"Fixation Durations\",\n",
    "                                            column_title_mapper=lambda row: f\"Iteration {row}\")\n",
    "fixation_durations_fig.show()"
   ],
   "metadata": {
    "collapsed": false,
    "ExecuteTime": {
     "end_time": "2024-04-16T12:23:40.749137Z",
     "start_time": "2024-04-16T12:23:40.455053Z"
    }
   },
   "id": "f5fc510e522d8831",
   "execution_count": 8
  }
 ],
 "metadata": {
  "kernelspec": {
   "display_name": "Python 3",
   "language": "python",
   "name": "python3"
  },
  "language_info": {
   "codemirror_mode": {
    "name": "ipython",
    "version": 2
   },
   "file_extension": ".py",
   "mimetype": "text/x-python",
   "name": "python",
   "nbconvert_exporter": "python",
   "pygments_lexer": "ipython2",
   "version": "2.7.6"
  }
 },
 "nbformat": 4,
 "nbformat_minor": 5
}
