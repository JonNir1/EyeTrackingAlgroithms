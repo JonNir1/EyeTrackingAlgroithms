{
 "cells": [
  {
   "cell_type": "markdown",
   "source": [
    "# Sample-Level Comparison\n",
    "## Dataset: Lund2013\n",
    "(1) **Levenshtein Distance**: Measuring the edit distance between two sequences of sample-labels.  \n",
    "(2) **Cohen's Kappa**: Measuring the agreement between two sequences of sample-labels.  \n",
    "(3) **Transition-Matrices' Frobenius Norm**: Computing the transition matrix of each sequence of labels and measuring the Frobenius Norm of the difference between the two matrices.  \n",
    "(4) **Transition-Matrices' Kullback-Leibler Divergence**: Computing the transition matrix of each sequence of labels, calculating each matrix's first (left-) eigenvector (which is the transition matrix's stationary distribution), and measuring the Kullback-Leibler Divergence between the two stationary distributions."
   ],
   "metadata": {
    "collapsed": false
   },
   "id": "bb8d5cefcc5927d2"
  },
  {
   "cell_type": "code",
   "outputs": [],
   "source": [
    "import Config.constants as cnst\n",
    "\n",
    "from GazeDetectors.EngbertDetector import EngbertDetector\n",
    "from GazeDetectors.NHDetector import NHDetector\n",
    "from GazeDetectors.REMoDNaVDetector import REMoDNaVDetector\n",
    "from DataSetLoaders.DataSetFactory import DataSetFactory\n",
    "\n",
    "import Analysis.comparisons as detector_comparisons\n",
    "import Analysis.figures as figs"
   ],
   "metadata": {
    "collapsed": false
   },
   "id": "15c41c57f0246e4d",
   "execution_count": 7
  },
  {
   "cell_type": "code",
   "outputs": [],
   "source": [
    "%%capture --no-stdout\n",
    "\n",
    "DATASET_NAME = \"Lund2013\"\n",
    "RATERS = [\"MN\", \"RA\"]\n",
    "DETECTORS = [EngbertDetector(), NHDetector(), REMoDNaVDetector()]\n",
    "COMPARISON_COLUMNS = [tuple(RATERS)] + [(r, d.name) for r in RATERS for d in DETECTORS]\n",
    "EVENT_MATCHING_PARAMS = {\"match_by\": \"onset\", \"max_onset_latency\": 15, \"allow_cross_matching\": False}\n",
    "\n",
    "samples_df, events_df, detector_res_df = DataSetFactory.load_and_process(DATASET_NAME, RATERS, DETECTORS)"
   ],
   "metadata": {
    "collapsed": false,
    "ExecuteTime": {
     "end_time": "2024-04-07T11:13:44.452207Z",
     "start_time": "2024-04-07T11:11:25.924370Z"
    }
   },
   "id": "26b03db29ae09a01",
   "execution_count": 8
  },
  {
   "cell_type": "code",
   "outputs": [
    {
     "data": {
      "application/vnd.plotly.v1+json": {
       "data": [
        {
         "name": "",
         "points": "all",
         "showlegend": false,
         "side": "positive",
         "y": [
          278.0,
          693.0,
          null,
          null,
          null,
          415.0,
          582.0,
          null,
          null,
          null,
          129.0,
          128.0,
          136.0,
          294.0,
          93.0,
          354.0,
          398.0,
          333.0,
          283.0,
          87.0
         ],
         "type": "violin",
         "xaxis": "x",
         "yaxis": "y"
        },
        {
         "name": "",
         "points": "all",
         "showlegend": false,
         "side": "positive",
         "y": [
          264.0,
          107.0,
          null,
          null,
          null,
          393.0,
          797.0,
          null,
          null,
          null,
          456.0,
          353.0,
          255.0,
          290.0,
          236.0,
          742.0,
          1206.0,
          1429.0,
          426.0,
          333.0
         ],
         "type": "violin",
         "xaxis": "x2",
         "yaxis": "y2"
        },
        {
         "name": "",
         "points": "all",
         "showlegend": false,
         "side": "positive",
         "y": [
          373.0,
          159.0,
          null,
          null,
          null,
          448.0,
          975.0,
          null,
          null,
          null,
          488.0,
          399.0,
          438.0,
          386.0,
          240.0,
          783.0,
          1999.0,
          2036.0,
          908.0,
          400.0
         ],
         "type": "violin",
         "xaxis": "x3",
         "yaxis": "y3"
        },
        {
         "name": "",
         "points": "all",
         "showlegend": false,
         "side": "positive",
         "y": [
          755.0,
          1250.0,
          null,
          null,
          null,
          958.0,
          1568.0,
          null,
          null,
          null,
          486.0,
          688.0,
          1121.0,
          1025.0,
          672.0,
          1439.0,
          3235.0,
          2635.0,
          951.0,
          824.0
         ],
         "type": "violin",
         "xaxis": "x4",
         "yaxis": "y4"
        },
        {
         "name": "",
         "points": "all",
         "showlegend": false,
         "side": "positive",
         "y": [
          417,
          767,
          313,
          420,
          460,
          612,
          905,
          1515,
          349,
          263,
          484,
          415,
          301,
          457,
          208,
          940,
          1482,
          1545,
          479,
          332
         ],
         "type": "violin",
         "xaxis": "x5",
         "yaxis": "y5"
        },
        {
         "name": "",
         "points": "all",
         "showlegend": false,
         "side": "positive",
         "y": [
          534,
          791,
          739,
          485,
          651,
          669,
          1139,
          1672,
          389,
          268,
          486,
          456,
          432,
          547,
          214,
          992,
          2270,
          2159,
          968,
          389
         ],
         "type": "violin",
         "xaxis": "x6",
         "yaxis": "y6"
        },
        {
         "name": "",
         "points": "all",
         "showlegend": false,
         "side": "positive",
         "y": [
          933,
          1402,
          874,
          518,
          893,
          947,
          1705,
          1355,
          828,
          539,
          514,
          716,
          1082,
          927,
          659,
          1356,
          3244,
          2531,
          968,
          824
         ],
         "type": "violin",
         "xaxis": "x7",
         "yaxis": "y7"
        },
        {
         "name": "",
         "points": "all",
         "showlegend": false,
         "side": "positive",
         "y": [
          53.0,
          null,
          null,
          13.0,
          null,
          5.0,
          79.0,
          null,
          null,
          82.0,
          50.0,
          null,
          187.0,
          null,
          15.0,
          null,
          619.0,
          73.0,
          null
         ],
         "type": "violin",
         "xaxis": "x8",
         "yaxis": "y8"
        },
        {
         "name": "",
         "points": "all",
         "showlegend": false,
         "side": "positive",
         "y": [
          1494.0,
          null,
          null,
          447.0,
          null,
          356.0,
          422.0,
          null,
          null,
          401.0,
          1129.0,
          null,
          340.0,
          null,
          332.0,
          null,
          1187.0,
          1112.0,
          null
         ],
         "type": "violin",
         "xaxis": "x9",
         "yaxis": "y9"
        },
        {
         "name": "",
         "points": "all",
         "showlegend": false,
         "side": "positive",
         "y": [
          1491.0,
          null,
          null,
          439.0,
          null,
          361.0,
          428.0,
          null,
          null,
          387.0,
          1134.0,
          null,
          318.0,
          null,
          347.0,
          null,
          1219.0,
          1181.0,
          null
         ],
         "type": "violin",
         "xaxis": "x10",
         "yaxis": "y10"
        },
        {
         "name": "",
         "points": "all",
         "showlegend": false,
         "side": "positive",
         "y": [
          267.0,
          null,
          null,
          172.0,
          null,
          72.0,
          60.0,
          null,
          null,
          199.0,
          343.0,
          null,
          191.0,
          null,
          89.0,
          null,
          294.0,
          313.0,
          null
         ],
         "type": "violin",
         "xaxis": "x11",
         "yaxis": "y11"
        },
        {
         "name": "",
         "points": "all",
         "showlegend": false,
         "side": "positive",
         "y": [
          1510,
          293,
          296,
          447,
          1300,
          355,
          450,
          453,
          1211,
          410,
          1149,
          292,
          183,
          243,
          329,
          343,
          640,
          1116,
          449
         ],
         "type": "violin",
         "xaxis": "x12",
         "yaxis": "y12"
        },
        {
         "name": "",
         "points": "all",
         "showlegend": false,
         "side": "positive",
         "y": [
          1515,
          298,
          301,
          442,
          1314,
          362,
          453,
          456,
          1209,
          423,
          1158,
          290,
          253,
          248,
          343,
          354,
          725,
          1186,
          488
         ],
         "type": "violin",
         "xaxis": "x13",
         "yaxis": "y13"
        },
        {
         "name": "",
         "points": "all",
         "showlegend": false,
         "side": "positive",
         "y": [
          242,
          160,
          71,
          180,
          255,
          71,
          87,
          114,
          75,
          171,
          385,
          130,
          24,
          91,
          81,
          8,
          489,
          256,
          44
         ],
         "type": "violin",
         "xaxis": "x14",
         "yaxis": "y14"
        },
        {
         "name": "",
         "points": "all",
         "showlegend": false,
         "side": "positive",
         "y": [
          1228.0,
          1876.0,
          null,
          null,
          null,
          222.0,
          null,
          null,
          null,
          null,
          290.0,
          null,
          603.0,
          343.0,
          232.0,
          221.0,
          424.0,
          null,
          null
         ],
         "type": "violin",
         "xaxis": "x15",
         "yaxis": "y15"
        },
        {
         "name": "",
         "points": "all",
         "showlegend": false,
         "side": "positive",
         "y": [
          1560.0,
          689.0,
          null,
          null,
          null,
          1602.0,
          null,
          null,
          null,
          null,
          3619.0,
          null,
          2313.0,
          676.0,
          1382.0,
          1507.0,
          1720.0,
          null,
          null
         ],
         "type": "violin",
         "xaxis": "x16",
         "yaxis": "y16"
        },
        {
         "name": "",
         "points": "all",
         "showlegend": false,
         "side": "positive",
         "y": [
          1552.0,
          745.0,
          null,
          null,
          null,
          1588.0,
          null,
          null,
          null,
          null,
          3611.0,
          null,
          2360.0,
          646.0,
          1308.0,
          1509.0,
          1822.0,
          null,
          null
         ],
         "type": "violin",
         "xaxis": "x17",
         "yaxis": "y17"
        },
        {
         "name": "",
         "points": "all",
         "showlegend": false,
         "side": "positive",
         "y": [
          1395.0,
          2123.0,
          null,
          null,
          null,
          580.0,
          null,
          null,
          null,
          null,
          1495.0,
          null,
          1143.0,
          647.0,
          594.0,
          408.0,
          933.0,
          null,
          null
         ],
         "type": "violin",
         "xaxis": "x18",
         "yaxis": "y18"
        },
        {
         "name": "",
         "points": "all",
         "showlegend": false,
         "side": "positive",
         "y": [
          2186,
          2332,
          3119,
          31465,
          20624,
          1538,
          1503,
          32412,
          1796,
          11849,
          3748,
          17928,
          2805,
          958,
          1244,
          1541,
          1676,
          16782,
          14816
         ],
         "type": "violin",
         "xaxis": "x19",
         "yaxis": "y19"
        },
        {
         "name": "",
         "points": "all",
         "showlegend": false,
         "side": "positive",
         "y": [
          2194,
          2334,
          3141,
          31578,
          20834,
          1543,
          1548,
          32346,
          1798,
          11797,
          3728,
          17792,
          2842,
          925,
          1331,
          1551,
          1776,
          17494,
          14831
         ],
         "type": "violin",
         "xaxis": "x20",
         "yaxis": "y20"
        },
        {
         "name": "",
         "points": "all",
         "showlegend": false,
         "side": "positive",
         "y": [
          1559,
          1119,
          1294,
          17116,
          11908,
          394,
          480,
          18109,
          94,
          6295,
          1610,
          10027,
          1190,
          660,
          599,
          367,
          904,
          10824,
          9010
         ],
         "type": "violin",
         "xaxis": "x21",
         "yaxis": "y21"
        },
        {
         "name": "",
         "points": "all",
         "showlegend": false,
         "side": "positive",
         "y": [
          53.0,
          278.0,
          693.0,
          null,
          1228.0,
          null,
          null,
          13.0,
          1876.0,
          null,
          null,
          null,
          null,
          null,
          null,
          415.0,
          5.0,
          79.0,
          582.0,
          222.0,
          null,
          null,
          null,
          null,
          null,
          null,
          null,
          null,
          null,
          129.0,
          82.0,
          290.0,
          50.0,
          128.0,
          null,
          136.0,
          603.0,
          null,
          294.0,
          187.0,
          93.0,
          343.0,
          354.0,
          232.0,
          null,
          15.0,
          221.0,
          null,
          398.0,
          619.0,
          424.0,
          333.0,
          73.0,
          283.0,
          null,
          87.0,
          null,
          null
         ],
         "type": "violin",
         "xaxis": "x22",
         "yaxis": "y22"
        },
        {
         "name": "",
         "points": "all",
         "showlegend": false,
         "side": "positive",
         "y": [
          1494.0,
          264.0,
          107.0,
          null,
          1560.0,
          null,
          null,
          447.0,
          689.0,
          null,
          null,
          null,
          null,
          null,
          null,
          393.0,
          356.0,
          422.0,
          797.0,
          1602.0,
          null,
          null,
          null,
          null,
          null,
          null,
          null,
          null,
          null,
          456.0,
          401.0,
          3619.0,
          1129.0,
          353.0,
          null,
          255.0,
          2313.0,
          null,
          290.0,
          340.0,
          236.0,
          676.0,
          742.0,
          1382.0,
          null,
          332.0,
          1507.0,
          null,
          1206.0,
          1187.0,
          1720.0,
          1429.0,
          1112.0,
          426.0,
          null,
          333.0,
          null,
          null
         ],
         "type": "violin",
         "xaxis": "x23",
         "yaxis": "y23"
        },
        {
         "name": "",
         "points": "all",
         "showlegend": false,
         "side": "positive",
         "y": [
          1491.0,
          373.0,
          159.0,
          null,
          1552.0,
          null,
          null,
          439.0,
          745.0,
          null,
          null,
          null,
          null,
          null,
          null,
          448.0,
          361.0,
          428.0,
          975.0,
          1588.0,
          null,
          null,
          null,
          null,
          null,
          null,
          null,
          null,
          null,
          488.0,
          387.0,
          3611.0,
          1134.0,
          399.0,
          null,
          438.0,
          2360.0,
          null,
          386.0,
          318.0,
          240.0,
          646.0,
          783.0,
          1308.0,
          null,
          347.0,
          1509.0,
          null,
          1999.0,
          1219.0,
          1822.0,
          2036.0,
          1181.0,
          908.0,
          null,
          400.0,
          null,
          null
         ],
         "type": "violin",
         "xaxis": "x24",
         "yaxis": "y24"
        },
        {
         "name": "",
         "points": "all",
         "showlegend": false,
         "side": "positive",
         "y": [
          267.0,
          755.0,
          1250.0,
          null,
          1395.0,
          null,
          null,
          172.0,
          2123.0,
          null,
          null,
          null,
          null,
          null,
          null,
          958.0,
          72.0,
          60.0,
          1568.0,
          580.0,
          null,
          null,
          null,
          null,
          null,
          null,
          null,
          null,
          null,
          486.0,
          199.0,
          1495.0,
          343.0,
          688.0,
          null,
          1121.0,
          1143.0,
          null,
          1025.0,
          191.0,
          672.0,
          647.0,
          1439.0,
          594.0,
          null,
          89.0,
          408.0,
          null,
          3235.0,
          294.0,
          933.0,
          2635.0,
          313.0,
          951.0,
          null,
          824.0,
          null,
          null
         ],
         "type": "violin",
         "xaxis": "x25",
         "yaxis": "y25"
        },
        {
         "name": "",
         "points": "all",
         "showlegend": false,
         "side": "positive",
         "y": [
          1510,
          417,
          767,
          293,
          2186,
          296,
          313,
          447,
          2332,
          420,
          3119,
          31465,
          460,
          1300,
          20624,
          612,
          355,
          450,
          905,
          1538,
          453,
          1503,
          32412,
          1515,
          1211,
          1796,
          349,
          263,
          11849,
          484,
          410,
          3748,
          1149,
          415,
          17928,
          301,
          2805,
          292,
          457,
          183,
          208,
          958,
          940,
          1244,
          243,
          329,
          1541,
          343,
          1482,
          640,
          1676,
          1545,
          1116,
          479,
          16782,
          332,
          449,
          14816
         ],
         "type": "violin",
         "xaxis": "x26",
         "yaxis": "y26"
        },
        {
         "name": "",
         "points": "all",
         "showlegend": false,
         "side": "positive",
         "y": [
          1515,
          534,
          791,
          298,
          2194,
          301,
          739,
          442,
          2334,
          485,
          3141,
          31578,
          651,
          1314,
          20834,
          669,
          362,
          453,
          1139,
          1543,
          456,
          1548,
          32346,
          1672,
          1209,
          1798,
          389,
          268,
          11797,
          486,
          423,
          3728,
          1158,
          456,
          17792,
          432,
          2842,
          290,
          547,
          253,
          214,
          925,
          992,
          1331,
          248,
          343,
          1551,
          354,
          2270,
          725,
          1776,
          2159,
          1186,
          968,
          17494,
          389,
          488,
          14831
         ],
         "type": "violin",
         "xaxis": "x27",
         "yaxis": "y27"
        },
        {
         "name": "",
         "points": "all",
         "showlegend": false,
         "side": "positive",
         "y": [
          242,
          933,
          1402,
          160,
          1559,
          71,
          874,
          180,
          1119,
          518,
          1294,
          17116,
          893,
          255,
          11908,
          947,
          71,
          87,
          1705,
          394,
          114,
          480,
          18109,
          1355,
          75,
          94,
          828,
          539,
          6295,
          514,
          171,
          1610,
          385,
          716,
          10027,
          1082,
          1190,
          130,
          927,
          24,
          659,
          660,
          1356,
          599,
          91,
          81,
          367,
          8,
          3244,
          489,
          904,
          2531,
          256,
          968,
          10824,
          824,
          44,
          9010
         ],
         "type": "violin",
         "xaxis": "x28",
         "yaxis": "y28"
        }
       ],
       "layout": {
        "template": {
         "data": {
          "histogram2dcontour": [
           {
            "type": "histogram2dcontour",
            "colorbar": {
             "outlinewidth": 0,
             "ticks": ""
            },
            "colorscale": [
             [
              0.0,
              "#0d0887"
             ],
             [
              0.1111111111111111,
              "#46039f"
             ],
             [
              0.2222222222222222,
              "#7201a8"
             ],
             [
              0.3333333333333333,
              "#9c179e"
             ],
             [
              0.4444444444444444,
              "#bd3786"
             ],
             [
              0.5555555555555556,
              "#d8576b"
             ],
             [
              0.6666666666666666,
              "#ed7953"
             ],
             [
              0.7777777777777778,
              "#fb9f3a"
             ],
             [
              0.8888888888888888,
              "#fdca26"
             ],
             [
              1.0,
              "#f0f921"
             ]
            ]
           }
          ],
          "choropleth": [
           {
            "type": "choropleth",
            "colorbar": {
             "outlinewidth": 0,
             "ticks": ""
            }
           }
          ],
          "histogram2d": [
           {
            "type": "histogram2d",
            "colorbar": {
             "outlinewidth": 0,
             "ticks": ""
            },
            "colorscale": [
             [
              0.0,
              "#0d0887"
             ],
             [
              0.1111111111111111,
              "#46039f"
             ],
             [
              0.2222222222222222,
              "#7201a8"
             ],
             [
              0.3333333333333333,
              "#9c179e"
             ],
             [
              0.4444444444444444,
              "#bd3786"
             ],
             [
              0.5555555555555556,
              "#d8576b"
             ],
             [
              0.6666666666666666,
              "#ed7953"
             ],
             [
              0.7777777777777778,
              "#fb9f3a"
             ],
             [
              0.8888888888888888,
              "#fdca26"
             ],
             [
              1.0,
              "#f0f921"
             ]
            ]
           }
          ],
          "heatmap": [
           {
            "type": "heatmap",
            "colorbar": {
             "outlinewidth": 0,
             "ticks": ""
            },
            "colorscale": [
             [
              0.0,
              "#0d0887"
             ],
             [
              0.1111111111111111,
              "#46039f"
             ],
             [
              0.2222222222222222,
              "#7201a8"
             ],
             [
              0.3333333333333333,
              "#9c179e"
             ],
             [
              0.4444444444444444,
              "#bd3786"
             ],
             [
              0.5555555555555556,
              "#d8576b"
             ],
             [
              0.6666666666666666,
              "#ed7953"
             ],
             [
              0.7777777777777778,
              "#fb9f3a"
             ],
             [
              0.8888888888888888,
              "#fdca26"
             ],
             [
              1.0,
              "#f0f921"
             ]
            ]
           }
          ],
          "heatmapgl": [
           {
            "type": "heatmapgl",
            "colorbar": {
             "outlinewidth": 0,
             "ticks": ""
            },
            "colorscale": [
             [
              0.0,
              "#0d0887"
             ],
             [
              0.1111111111111111,
              "#46039f"
             ],
             [
              0.2222222222222222,
              "#7201a8"
             ],
             [
              0.3333333333333333,
              "#9c179e"
             ],
             [
              0.4444444444444444,
              "#bd3786"
             ],
             [
              0.5555555555555556,
              "#d8576b"
             ],
             [
              0.6666666666666666,
              "#ed7953"
             ],
             [
              0.7777777777777778,
              "#fb9f3a"
             ],
             [
              0.8888888888888888,
              "#fdca26"
             ],
             [
              1.0,
              "#f0f921"
             ]
            ]
           }
          ],
          "contourcarpet": [
           {
            "type": "contourcarpet",
            "colorbar": {
             "outlinewidth": 0,
             "ticks": ""
            }
           }
          ],
          "contour": [
           {
            "type": "contour",
            "colorbar": {
             "outlinewidth": 0,
             "ticks": ""
            },
            "colorscale": [
             [
              0.0,
              "#0d0887"
             ],
             [
              0.1111111111111111,
              "#46039f"
             ],
             [
              0.2222222222222222,
              "#7201a8"
             ],
             [
              0.3333333333333333,
              "#9c179e"
             ],
             [
              0.4444444444444444,
              "#bd3786"
             ],
             [
              0.5555555555555556,
              "#d8576b"
             ],
             [
              0.6666666666666666,
              "#ed7953"
             ],
             [
              0.7777777777777778,
              "#fb9f3a"
             ],
             [
              0.8888888888888888,
              "#fdca26"
             ],
             [
              1.0,
              "#f0f921"
             ]
            ]
           }
          ],
          "surface": [
           {
            "type": "surface",
            "colorbar": {
             "outlinewidth": 0,
             "ticks": ""
            },
            "colorscale": [
             [
              0.0,
              "#0d0887"
             ],
             [
              0.1111111111111111,
              "#46039f"
             ],
             [
              0.2222222222222222,
              "#7201a8"
             ],
             [
              0.3333333333333333,
              "#9c179e"
             ],
             [
              0.4444444444444444,
              "#bd3786"
             ],
             [
              0.5555555555555556,
              "#d8576b"
             ],
             [
              0.6666666666666666,
              "#ed7953"
             ],
             [
              0.7777777777777778,
              "#fb9f3a"
             ],
             [
              0.8888888888888888,
              "#fdca26"
             ],
             [
              1.0,
              "#f0f921"
             ]
            ]
           }
          ],
          "mesh3d": [
           {
            "type": "mesh3d",
            "colorbar": {
             "outlinewidth": 0,
             "ticks": ""
            }
           }
          ],
          "scatter": [
           {
            "marker": {
             "line": {
              "color": "#283442"
             }
            },
            "type": "scatter"
           }
          ],
          "parcoords": [
           {
            "type": "parcoords",
            "line": {
             "colorbar": {
              "outlinewidth": 0,
              "ticks": ""
             }
            }
           }
          ],
          "scatterpolargl": [
           {
            "type": "scatterpolargl",
            "marker": {
             "colorbar": {
              "outlinewidth": 0,
              "ticks": ""
             }
            }
           }
          ],
          "bar": [
           {
            "error_x": {
             "color": "#f2f5fa"
            },
            "error_y": {
             "color": "#f2f5fa"
            },
            "marker": {
             "line": {
              "color": "rgb(17,17,17)",
              "width": 0.5
             },
             "pattern": {
              "fillmode": "overlay",
              "size": 10,
              "solidity": 0.2
             }
            },
            "type": "bar"
           }
          ],
          "scattergeo": [
           {
            "type": "scattergeo",
            "marker": {
             "colorbar": {
              "outlinewidth": 0,
              "ticks": ""
             }
            }
           }
          ],
          "scatterpolar": [
           {
            "type": "scatterpolar",
            "marker": {
             "colorbar": {
              "outlinewidth": 0,
              "ticks": ""
             }
            }
           }
          ],
          "histogram": [
           {
            "marker": {
             "pattern": {
              "fillmode": "overlay",
              "size": 10,
              "solidity": 0.2
             }
            },
            "type": "histogram"
           }
          ],
          "scattergl": [
           {
            "marker": {
             "line": {
              "color": "#283442"
             }
            },
            "type": "scattergl"
           }
          ],
          "scatter3d": [
           {
            "type": "scatter3d",
            "line": {
             "colorbar": {
              "outlinewidth": 0,
              "ticks": ""
             }
            },
            "marker": {
             "colorbar": {
              "outlinewidth": 0,
              "ticks": ""
             }
            }
           }
          ],
          "scattermapbox": [
           {
            "type": "scattermapbox",
            "marker": {
             "colorbar": {
              "outlinewidth": 0,
              "ticks": ""
             }
            }
           }
          ],
          "scatterternary": [
           {
            "type": "scatterternary",
            "marker": {
             "colorbar": {
              "outlinewidth": 0,
              "ticks": ""
             }
            }
           }
          ],
          "scattercarpet": [
           {
            "type": "scattercarpet",
            "marker": {
             "colorbar": {
              "outlinewidth": 0,
              "ticks": ""
             }
            }
           }
          ],
          "carpet": [
           {
            "aaxis": {
             "endlinecolor": "#A2B1C6",
             "gridcolor": "#506784",
             "linecolor": "#506784",
             "minorgridcolor": "#506784",
             "startlinecolor": "#A2B1C6"
            },
            "baxis": {
             "endlinecolor": "#A2B1C6",
             "gridcolor": "#506784",
             "linecolor": "#506784",
             "minorgridcolor": "#506784",
             "startlinecolor": "#A2B1C6"
            },
            "type": "carpet"
           }
          ],
          "table": [
           {
            "cells": {
             "fill": {
              "color": "#506784"
             },
             "line": {
              "color": "rgb(17,17,17)"
             }
            },
            "header": {
             "fill": {
              "color": "#2a3f5f"
             },
             "line": {
              "color": "rgb(17,17,17)"
             }
            },
            "type": "table"
           }
          ],
          "barpolar": [
           {
            "marker": {
             "line": {
              "color": "rgb(17,17,17)",
              "width": 0.5
             },
             "pattern": {
              "fillmode": "overlay",
              "size": 10,
              "solidity": 0.2
             }
            },
            "type": "barpolar"
           }
          ],
          "pie": [
           {
            "automargin": true,
            "type": "pie"
           }
          ]
         },
         "layout": {
          "autotypenumbers": "strict",
          "colorway": [
           "#636efa",
           "#EF553B",
           "#00cc96",
           "#ab63fa",
           "#FFA15A",
           "#19d3f3",
           "#FF6692",
           "#B6E880",
           "#FF97FF",
           "#FECB52"
          ],
          "font": {
           "color": "#f2f5fa"
          },
          "hovermode": "closest",
          "hoverlabel": {
           "align": "left"
          },
          "paper_bgcolor": "rgb(17,17,17)",
          "plot_bgcolor": "rgb(17,17,17)",
          "polar": {
           "bgcolor": "rgb(17,17,17)",
           "angularaxis": {
            "gridcolor": "#506784",
            "linecolor": "#506784",
            "ticks": ""
           },
           "radialaxis": {
            "gridcolor": "#506784",
            "linecolor": "#506784",
            "ticks": ""
           }
          },
          "ternary": {
           "bgcolor": "rgb(17,17,17)",
           "aaxis": {
            "gridcolor": "#506784",
            "linecolor": "#506784",
            "ticks": ""
           },
           "baxis": {
            "gridcolor": "#506784",
            "linecolor": "#506784",
            "ticks": ""
           },
           "caxis": {
            "gridcolor": "#506784",
            "linecolor": "#506784",
            "ticks": ""
           }
          },
          "coloraxis": {
           "colorbar": {
            "outlinewidth": 0,
            "ticks": ""
           }
          },
          "colorscale": {
           "sequential": [
            [
             0.0,
             "#0d0887"
            ],
            [
             0.1111111111111111,
             "#46039f"
            ],
            [
             0.2222222222222222,
             "#7201a8"
            ],
            [
             0.3333333333333333,
             "#9c179e"
            ],
            [
             0.4444444444444444,
             "#bd3786"
            ],
            [
             0.5555555555555556,
             "#d8576b"
            ],
            [
             0.6666666666666666,
             "#ed7953"
            ],
            [
             0.7777777777777778,
             "#fb9f3a"
            ],
            [
             0.8888888888888888,
             "#fdca26"
            ],
            [
             1.0,
             "#f0f921"
            ]
           ],
           "sequentialminus": [
            [
             0.0,
             "#0d0887"
            ],
            [
             0.1111111111111111,
             "#46039f"
            ],
            [
             0.2222222222222222,
             "#7201a8"
            ],
            [
             0.3333333333333333,
             "#9c179e"
            ],
            [
             0.4444444444444444,
             "#bd3786"
            ],
            [
             0.5555555555555556,
             "#d8576b"
            ],
            [
             0.6666666666666666,
             "#ed7953"
            ],
            [
             0.7777777777777778,
             "#fb9f3a"
            ],
            [
             0.8888888888888888,
             "#fdca26"
            ],
            [
             1.0,
             "#f0f921"
            ]
           ],
           "diverging": [
            [
             0,
             "#8e0152"
            ],
            [
             0.1,
             "#c51b7d"
            ],
            [
             0.2,
             "#de77ae"
            ],
            [
             0.3,
             "#f1b6da"
            ],
            [
             0.4,
             "#fde0ef"
            ],
            [
             0.5,
             "#f7f7f7"
            ],
            [
             0.6,
             "#e6f5d0"
            ],
            [
             0.7,
             "#b8e186"
            ],
            [
             0.8,
             "#7fbc41"
            ],
            [
             0.9,
             "#4d9221"
            ],
            [
             1,
             "#276419"
            ]
           ]
          },
          "xaxis": {
           "gridcolor": "#283442",
           "linecolor": "#506784",
           "ticks": "",
           "title": {
            "standoff": 15
           },
           "zerolinecolor": "#283442",
           "automargin": true,
           "zerolinewidth": 2
          },
          "yaxis": {
           "gridcolor": "#283442",
           "linecolor": "#506784",
           "ticks": "",
           "title": {
            "standoff": 15
           },
           "zerolinecolor": "#283442",
           "automargin": true,
           "zerolinewidth": 2
          },
          "scene": {
           "xaxis": {
            "backgroundcolor": "rgb(17,17,17)",
            "gridcolor": "#506784",
            "linecolor": "#506784",
            "showbackground": true,
            "ticks": "",
            "zerolinecolor": "#C8D4E3",
            "gridwidth": 2
           },
           "yaxis": {
            "backgroundcolor": "rgb(17,17,17)",
            "gridcolor": "#506784",
            "linecolor": "#506784",
            "showbackground": true,
            "ticks": "",
            "zerolinecolor": "#C8D4E3",
            "gridwidth": 2
           },
           "zaxis": {
            "backgroundcolor": "rgb(17,17,17)",
            "gridcolor": "#506784",
            "linecolor": "#506784",
            "showbackground": true,
            "ticks": "",
            "zerolinecolor": "#C8D4E3",
            "gridwidth": 2
           }
          },
          "shapedefaults": {
           "line": {
            "color": "#f2f5fa"
           }
          },
          "annotationdefaults": {
           "arrowcolor": "#f2f5fa",
           "arrowhead": 0,
           "arrowwidth": 1
          },
          "geo": {
           "bgcolor": "rgb(17,17,17)",
           "landcolor": "rgb(17,17,17)",
           "subunitcolor": "#506784",
           "showland": true,
           "showlakes": true,
           "lakecolor": "rgb(17,17,17)"
          },
          "title": {
           "x": 0.05
          },
          "updatemenudefaults": {
           "bgcolor": "#506784",
           "borderwidth": 0
          },
          "sliderdefaults": {
           "bgcolor": "#C8D4E3",
           "borderwidth": 1,
           "bordercolor": "rgb(17,17,17)",
           "tickwidth": 0
          },
          "mapbox": {
           "style": "dark"
          }
         }
        },
        "xaxis": {
         "anchor": "y",
         "domain": [
          0.0,
          0.11551020408163264
         ]
        },
        "yaxis": {
         "anchor": "x",
         "domain": [
          0.80625,
          1.0
         ]
        },
        "xaxis2": {
         "anchor": "y2",
         "domain": [
          0.1440816326530612,
          0.2595918367346938
         ]
        },
        "yaxis2": {
         "anchor": "x2",
         "domain": [
          0.80625,
          1.0
         ]
        },
        "xaxis3": {
         "anchor": "y3",
         "domain": [
          0.2881632653061224,
          0.40367346938775506
         ]
        },
        "yaxis3": {
         "anchor": "x3",
         "domain": [
          0.80625,
          1.0
         ]
        },
        "xaxis4": {
         "anchor": "y4",
         "domain": [
          0.43224489795918364,
          0.5477551020408162
         ]
        },
        "yaxis4": {
         "anchor": "x4",
         "domain": [
          0.80625,
          1.0
         ]
        },
        "xaxis5": {
         "anchor": "y5",
         "domain": [
          0.5763265306122448,
          0.6918367346938774
         ]
        },
        "yaxis5": {
         "anchor": "x5",
         "domain": [
          0.80625,
          1.0
         ]
        },
        "xaxis6": {
         "anchor": "y6",
         "domain": [
          0.7204081632653061,
          0.8359183673469387
         ]
        },
        "yaxis6": {
         "anchor": "x6",
         "domain": [
          0.80625,
          1.0
         ]
        },
        "xaxis7": {
         "anchor": "y7",
         "domain": [
          0.8644897959183673,
          0.9799999999999999
         ]
        },
        "yaxis7": {
         "anchor": "x7",
         "domain": [
          0.80625,
          1.0
         ]
        },
        "xaxis8": {
         "anchor": "y8",
         "domain": [
          0.0,
          0.11551020408163264
         ]
        },
        "yaxis8": {
         "anchor": "x8",
         "domain": [
          0.5375,
          0.73125
         ]
        },
        "xaxis9": {
         "anchor": "y9",
         "domain": [
          0.1440816326530612,
          0.2595918367346938
         ]
        },
        "yaxis9": {
         "anchor": "x9",
         "domain": [
          0.5375,
          0.73125
         ]
        },
        "xaxis10": {
         "anchor": "y10",
         "domain": [
          0.2881632653061224,
          0.40367346938775506
         ]
        },
        "yaxis10": {
         "anchor": "x10",
         "domain": [
          0.5375,
          0.73125
         ]
        },
        "xaxis11": {
         "anchor": "y11",
         "domain": [
          0.43224489795918364,
          0.5477551020408162
         ]
        },
        "yaxis11": {
         "anchor": "x11",
         "domain": [
          0.5375,
          0.73125
         ]
        },
        "xaxis12": {
         "anchor": "y12",
         "domain": [
          0.5763265306122448,
          0.6918367346938774
         ]
        },
        "yaxis12": {
         "anchor": "x12",
         "domain": [
          0.5375,
          0.73125
         ]
        },
        "xaxis13": {
         "anchor": "y13",
         "domain": [
          0.7204081632653061,
          0.8359183673469387
         ]
        },
        "yaxis13": {
         "anchor": "x13",
         "domain": [
          0.5375,
          0.73125
         ]
        },
        "xaxis14": {
         "anchor": "y14",
         "domain": [
          0.8644897959183673,
          0.9799999999999999
         ]
        },
        "yaxis14": {
         "anchor": "x14",
         "domain": [
          0.5375,
          0.73125
         ]
        },
        "xaxis15": {
         "anchor": "y15",
         "domain": [
          0.0,
          0.11551020408163264
         ]
        },
        "yaxis15": {
         "anchor": "x15",
         "domain": [
          0.26875,
          0.4625
         ]
        },
        "xaxis16": {
         "anchor": "y16",
         "domain": [
          0.1440816326530612,
          0.2595918367346938
         ]
        },
        "yaxis16": {
         "anchor": "x16",
         "domain": [
          0.26875,
          0.4625
         ]
        },
        "xaxis17": {
         "anchor": "y17",
         "domain": [
          0.2881632653061224,
          0.40367346938775506
         ]
        },
        "yaxis17": {
         "anchor": "x17",
         "domain": [
          0.26875,
          0.4625
         ]
        },
        "xaxis18": {
         "anchor": "y18",
         "domain": [
          0.43224489795918364,
          0.5477551020408162
         ]
        },
        "yaxis18": {
         "anchor": "x18",
         "domain": [
          0.26875,
          0.4625
         ]
        },
        "xaxis19": {
         "anchor": "y19",
         "domain": [
          0.5763265306122448,
          0.6918367346938774
         ]
        },
        "yaxis19": {
         "anchor": "x19",
         "domain": [
          0.26875,
          0.4625
         ]
        },
        "xaxis20": {
         "anchor": "y20",
         "domain": [
          0.7204081632653061,
          0.8359183673469387
         ]
        },
        "yaxis20": {
         "anchor": "x20",
         "domain": [
          0.26875,
          0.4625
         ]
        },
        "xaxis21": {
         "anchor": "y21",
         "domain": [
          0.8644897959183673,
          0.9799999999999999
         ]
        },
        "yaxis21": {
         "anchor": "x21",
         "domain": [
          0.26875,
          0.4625
         ]
        },
        "xaxis22": {
         "anchor": "y22",
         "domain": [
          0.0,
          0.11551020408163264
         ]
        },
        "yaxis22": {
         "anchor": "x22",
         "domain": [
          0.0,
          0.19375
         ]
        },
        "xaxis23": {
         "anchor": "y23",
         "domain": [
          0.1440816326530612,
          0.2595918367346938
         ]
        },
        "yaxis23": {
         "anchor": "x23",
         "domain": [
          0.0,
          0.19375
         ]
        },
        "xaxis24": {
         "anchor": "y24",
         "domain": [
          0.2881632653061224,
          0.40367346938775506
         ]
        },
        "yaxis24": {
         "anchor": "x24",
         "domain": [
          0.0,
          0.19375
         ]
        },
        "xaxis25": {
         "anchor": "y25",
         "domain": [
          0.43224489795918364,
          0.5477551020408162
         ]
        },
        "yaxis25": {
         "anchor": "x25",
         "domain": [
          0.0,
          0.19375
         ]
        },
        "xaxis26": {
         "anchor": "y26",
         "domain": [
          0.5763265306122448,
          0.6918367346938774
         ]
        },
        "yaxis26": {
         "anchor": "x26",
         "domain": [
          0.0,
          0.19375
         ]
        },
        "xaxis27": {
         "anchor": "y27",
         "domain": [
          0.7204081632653061,
          0.8359183673469387
         ]
        },
        "yaxis27": {
         "anchor": "x27",
         "domain": [
          0.0,
          0.19375
         ]
        },
        "xaxis28": {
         "anchor": "y28",
         "domain": [
          0.8644897959183673,
          0.9799999999999999
         ]
        },
        "yaxis28": {
         "anchor": "x28",
         "domain": [
          0.0,
          0.19375
         ]
        },
        "annotations": [
         {
          "font": {
           "size": 16
          },
          "showarrow": false,
          "text": "MN→RA",
          "x": 0.05775510204081632,
          "xanchor": "center",
          "xref": "paper",
          "y": 1.0,
          "yanchor": "bottom",
          "yref": "paper"
         },
         {
          "font": {
           "size": 16
          },
          "showarrow": false,
          "text": "MN→EngbertDetector{'λ':5,'ws':2}",
          "x": 0.20183673469387753,
          "xanchor": "center",
          "xref": "paper",
          "y": 1.0,
          "yanchor": "bottom",
          "yref": "paper"
         },
         {
          "font": {
           "size": 16
          },
          "showarrow": false,
          "text": "MN→NHDetector",
          "x": 0.3459183673469387,
          "xanchor": "center",
          "xref": "paper",
          "y": 1.0,
          "yanchor": "bottom",
          "yref": "paper"
         },
         {
          "font": {
           "size": 16
          },
          "showarrow": false,
          "text": "MN→REMoDNaVDetector",
          "x": 0.48999999999999994,
          "xanchor": "center",
          "xref": "paper",
          "y": 1.0,
          "yanchor": "bottom",
          "yref": "paper"
         },
         {
          "font": {
           "size": 16
          },
          "showarrow": false,
          "text": "RA→EngbertDetector{'λ':5,'ws':2}",
          "x": 0.6340816326530612,
          "xanchor": "center",
          "xref": "paper",
          "y": 1.0,
          "yanchor": "bottom",
          "yref": "paper"
         },
         {
          "font": {
           "size": 16
          },
          "showarrow": false,
          "text": "RA→NHDetector",
          "x": 0.7781632653061223,
          "xanchor": "center",
          "xref": "paper",
          "y": 1.0,
          "yanchor": "bottom",
          "yref": "paper"
         },
         {
          "font": {
           "size": 16
          },
          "showarrow": false,
          "text": "RA→REMoDNaVDetector",
          "x": 0.9222448979591835,
          "xanchor": "center",
          "xref": "paper",
          "y": 1.0,
          "yanchor": "bottom",
          "yref": "paper"
         },
         {
          "font": {
           "size": 16
          },
          "showarrow": false,
          "text": "img",
          "textangle": 90,
          "x": 0.9799999999999999,
          "xanchor": "left",
          "xref": "paper",
          "y": 0.903125,
          "yanchor": "middle",
          "yref": "paper"
         },
         {
          "font": {
           "size": 16
          },
          "showarrow": false,
          "text": "moving dot",
          "textangle": 90,
          "x": 0.9799999999999999,
          "xanchor": "left",
          "xref": "paper",
          "y": 0.6343749999999999,
          "yanchor": "middle",
          "yref": "paper"
         },
         {
          "font": {
           "size": 16
          },
          "showarrow": false,
          "text": "video",
          "textangle": 90,
          "x": 0.9799999999999999,
          "xanchor": "left",
          "xref": "paper",
          "y": 0.365625,
          "yanchor": "middle",
          "yref": "paper"
         },
         {
          "font": {
           "size": 16
          },
          "showarrow": false,
          "text": "all",
          "textangle": 90,
          "x": 0.9799999999999999,
          "xanchor": "left",
          "xref": "paper",
          "y": 0.096875,
          "yanchor": "middle",
          "yref": "paper"
         }
        ],
        "title": {
         "text": "Levenshtein Distance Distribution"
        },
        "showlegend": false
       },
       "config": {
        "plotlyServerURL": "https://plot.ly"
       }
      },
      "text/html": "<div>                            <div id=\"63c2791c-c8c3-45d3-b3ea-9f09e3cdb6b6\" class=\"plotly-graph-div\" style=\"height:525px; width:100%;\"></div>            <script type=\"text/javascript\">                require([\"plotly\"], function(Plotly) {                    window.PLOTLYENV=window.PLOTLYENV || {};                                    if (document.getElementById(\"63c2791c-c8c3-45d3-b3ea-9f09e3cdb6b6\")) {                    Plotly.newPlot(                        \"63c2791c-c8c3-45d3-b3ea-9f09e3cdb6b6\",                        [{\"name\":\"\",\"points\":\"all\",\"showlegend\":false,\"side\":\"positive\",\"y\":[278.0,693.0,null,null,null,415.0,582.0,null,null,null,129.0,128.0,136.0,294.0,93.0,354.0,398.0,333.0,283.0,87.0],\"type\":\"violin\",\"xaxis\":\"x\",\"yaxis\":\"y\"},{\"name\":\"\",\"points\":\"all\",\"showlegend\":false,\"side\":\"positive\",\"y\":[264.0,107.0,null,null,null,393.0,797.0,null,null,null,456.0,353.0,255.0,290.0,236.0,742.0,1206.0,1429.0,426.0,333.0],\"type\":\"violin\",\"xaxis\":\"x2\",\"yaxis\":\"y2\"},{\"name\":\"\",\"points\":\"all\",\"showlegend\":false,\"side\":\"positive\",\"y\":[373.0,159.0,null,null,null,448.0,975.0,null,null,null,488.0,399.0,438.0,386.0,240.0,783.0,1999.0,2036.0,908.0,400.0],\"type\":\"violin\",\"xaxis\":\"x3\",\"yaxis\":\"y3\"},{\"name\":\"\",\"points\":\"all\",\"showlegend\":false,\"side\":\"positive\",\"y\":[755.0,1250.0,null,null,null,958.0,1568.0,null,null,null,486.0,688.0,1121.0,1025.0,672.0,1439.0,3235.0,2635.0,951.0,824.0],\"type\":\"violin\",\"xaxis\":\"x4\",\"yaxis\":\"y4\"},{\"name\":\"\",\"points\":\"all\",\"showlegend\":false,\"side\":\"positive\",\"y\":[417,767,313,420,460,612,905,1515,349,263,484,415,301,457,208,940,1482,1545,479,332],\"type\":\"violin\",\"xaxis\":\"x5\",\"yaxis\":\"y5\"},{\"name\":\"\",\"points\":\"all\",\"showlegend\":false,\"side\":\"positive\",\"y\":[534,791,739,485,651,669,1139,1672,389,268,486,456,432,547,214,992,2270,2159,968,389],\"type\":\"violin\",\"xaxis\":\"x6\",\"yaxis\":\"y6\"},{\"name\":\"\",\"points\":\"all\",\"showlegend\":false,\"side\":\"positive\",\"y\":[933,1402,874,518,893,947,1705,1355,828,539,514,716,1082,927,659,1356,3244,2531,968,824],\"type\":\"violin\",\"xaxis\":\"x7\",\"yaxis\":\"y7\"},{\"name\":\"\",\"points\":\"all\",\"showlegend\":false,\"side\":\"positive\",\"y\":[53.0,null,null,13.0,null,5.0,79.0,null,null,82.0,50.0,null,187.0,null,15.0,null,619.0,73.0,null],\"type\":\"violin\",\"xaxis\":\"x8\",\"yaxis\":\"y8\"},{\"name\":\"\",\"points\":\"all\",\"showlegend\":false,\"side\":\"positive\",\"y\":[1494.0,null,null,447.0,null,356.0,422.0,null,null,401.0,1129.0,null,340.0,null,332.0,null,1187.0,1112.0,null],\"type\":\"violin\",\"xaxis\":\"x9\",\"yaxis\":\"y9\"},{\"name\":\"\",\"points\":\"all\",\"showlegend\":false,\"side\":\"positive\",\"y\":[1491.0,null,null,439.0,null,361.0,428.0,null,null,387.0,1134.0,null,318.0,null,347.0,null,1219.0,1181.0,null],\"type\":\"violin\",\"xaxis\":\"x10\",\"yaxis\":\"y10\"},{\"name\":\"\",\"points\":\"all\",\"showlegend\":false,\"side\":\"positive\",\"y\":[267.0,null,null,172.0,null,72.0,60.0,null,null,199.0,343.0,null,191.0,null,89.0,null,294.0,313.0,null],\"type\":\"violin\",\"xaxis\":\"x11\",\"yaxis\":\"y11\"},{\"name\":\"\",\"points\":\"all\",\"showlegend\":false,\"side\":\"positive\",\"y\":[1510,293,296,447,1300,355,450,453,1211,410,1149,292,183,243,329,343,640,1116,449],\"type\":\"violin\",\"xaxis\":\"x12\",\"yaxis\":\"y12\"},{\"name\":\"\",\"points\":\"all\",\"showlegend\":false,\"side\":\"positive\",\"y\":[1515,298,301,442,1314,362,453,456,1209,423,1158,290,253,248,343,354,725,1186,488],\"type\":\"violin\",\"xaxis\":\"x13\",\"yaxis\":\"y13\"},{\"name\":\"\",\"points\":\"all\",\"showlegend\":false,\"side\":\"positive\",\"y\":[242,160,71,180,255,71,87,114,75,171,385,130,24,91,81,8,489,256,44],\"type\":\"violin\",\"xaxis\":\"x14\",\"yaxis\":\"y14\"},{\"name\":\"\",\"points\":\"all\",\"showlegend\":false,\"side\":\"positive\",\"y\":[1228.0,1876.0,null,null,null,222.0,null,null,null,null,290.0,null,603.0,343.0,232.0,221.0,424.0,null,null],\"type\":\"violin\",\"xaxis\":\"x15\",\"yaxis\":\"y15\"},{\"name\":\"\",\"points\":\"all\",\"showlegend\":false,\"side\":\"positive\",\"y\":[1560.0,689.0,null,null,null,1602.0,null,null,null,null,3619.0,null,2313.0,676.0,1382.0,1507.0,1720.0,null,null],\"type\":\"violin\",\"xaxis\":\"x16\",\"yaxis\":\"y16\"},{\"name\":\"\",\"points\":\"all\",\"showlegend\":false,\"side\":\"positive\",\"y\":[1552.0,745.0,null,null,null,1588.0,null,null,null,null,3611.0,null,2360.0,646.0,1308.0,1509.0,1822.0,null,null],\"type\":\"violin\",\"xaxis\":\"x17\",\"yaxis\":\"y17\"},{\"name\":\"\",\"points\":\"all\",\"showlegend\":false,\"side\":\"positive\",\"y\":[1395.0,2123.0,null,null,null,580.0,null,null,null,null,1495.0,null,1143.0,647.0,594.0,408.0,933.0,null,null],\"type\":\"violin\",\"xaxis\":\"x18\",\"yaxis\":\"y18\"},{\"name\":\"\",\"points\":\"all\",\"showlegend\":false,\"side\":\"positive\",\"y\":[2186,2332,3119,31465,20624,1538,1503,32412,1796,11849,3748,17928,2805,958,1244,1541,1676,16782,14816],\"type\":\"violin\",\"xaxis\":\"x19\",\"yaxis\":\"y19\"},{\"name\":\"\",\"points\":\"all\",\"showlegend\":false,\"side\":\"positive\",\"y\":[2194,2334,3141,31578,20834,1543,1548,32346,1798,11797,3728,17792,2842,925,1331,1551,1776,17494,14831],\"type\":\"violin\",\"xaxis\":\"x20\",\"yaxis\":\"y20\"},{\"name\":\"\",\"points\":\"all\",\"showlegend\":false,\"side\":\"positive\",\"y\":[1559,1119,1294,17116,11908,394,480,18109,94,6295,1610,10027,1190,660,599,367,904,10824,9010],\"type\":\"violin\",\"xaxis\":\"x21\",\"yaxis\":\"y21\"},{\"name\":\"\",\"points\":\"all\",\"showlegend\":false,\"side\":\"positive\",\"y\":[53.0,278.0,693.0,null,1228.0,null,null,13.0,1876.0,null,null,null,null,null,null,415.0,5.0,79.0,582.0,222.0,null,null,null,null,null,null,null,null,null,129.0,82.0,290.0,50.0,128.0,null,136.0,603.0,null,294.0,187.0,93.0,343.0,354.0,232.0,null,15.0,221.0,null,398.0,619.0,424.0,333.0,73.0,283.0,null,87.0,null,null],\"type\":\"violin\",\"xaxis\":\"x22\",\"yaxis\":\"y22\"},{\"name\":\"\",\"points\":\"all\",\"showlegend\":false,\"side\":\"positive\",\"y\":[1494.0,264.0,107.0,null,1560.0,null,null,447.0,689.0,null,null,null,null,null,null,393.0,356.0,422.0,797.0,1602.0,null,null,null,null,null,null,null,null,null,456.0,401.0,3619.0,1129.0,353.0,null,255.0,2313.0,null,290.0,340.0,236.0,676.0,742.0,1382.0,null,332.0,1507.0,null,1206.0,1187.0,1720.0,1429.0,1112.0,426.0,null,333.0,null,null],\"type\":\"violin\",\"xaxis\":\"x23\",\"yaxis\":\"y23\"},{\"name\":\"\",\"points\":\"all\",\"showlegend\":false,\"side\":\"positive\",\"y\":[1491.0,373.0,159.0,null,1552.0,null,null,439.0,745.0,null,null,null,null,null,null,448.0,361.0,428.0,975.0,1588.0,null,null,null,null,null,null,null,null,null,488.0,387.0,3611.0,1134.0,399.0,null,438.0,2360.0,null,386.0,318.0,240.0,646.0,783.0,1308.0,null,347.0,1509.0,null,1999.0,1219.0,1822.0,2036.0,1181.0,908.0,null,400.0,null,null],\"type\":\"violin\",\"xaxis\":\"x24\",\"yaxis\":\"y24\"},{\"name\":\"\",\"points\":\"all\",\"showlegend\":false,\"side\":\"positive\",\"y\":[267.0,755.0,1250.0,null,1395.0,null,null,172.0,2123.0,null,null,null,null,null,null,958.0,72.0,60.0,1568.0,580.0,null,null,null,null,null,null,null,null,null,486.0,199.0,1495.0,343.0,688.0,null,1121.0,1143.0,null,1025.0,191.0,672.0,647.0,1439.0,594.0,null,89.0,408.0,null,3235.0,294.0,933.0,2635.0,313.0,951.0,null,824.0,null,null],\"type\":\"violin\",\"xaxis\":\"x25\",\"yaxis\":\"y25\"},{\"name\":\"\",\"points\":\"all\",\"showlegend\":false,\"side\":\"positive\",\"y\":[1510,417,767,293,2186,296,313,447,2332,420,3119,31465,460,1300,20624,612,355,450,905,1538,453,1503,32412,1515,1211,1796,349,263,11849,484,410,3748,1149,415,17928,301,2805,292,457,183,208,958,940,1244,243,329,1541,343,1482,640,1676,1545,1116,479,16782,332,449,14816],\"type\":\"violin\",\"xaxis\":\"x26\",\"yaxis\":\"y26\"},{\"name\":\"\",\"points\":\"all\",\"showlegend\":false,\"side\":\"positive\",\"y\":[1515,534,791,298,2194,301,739,442,2334,485,3141,31578,651,1314,20834,669,362,453,1139,1543,456,1548,32346,1672,1209,1798,389,268,11797,486,423,3728,1158,456,17792,432,2842,290,547,253,214,925,992,1331,248,343,1551,354,2270,725,1776,2159,1186,968,17494,389,488,14831],\"type\":\"violin\",\"xaxis\":\"x27\",\"yaxis\":\"y27\"},{\"name\":\"\",\"points\":\"all\",\"showlegend\":false,\"side\":\"positive\",\"y\":[242,933,1402,160,1559,71,874,180,1119,518,1294,17116,893,255,11908,947,71,87,1705,394,114,480,18109,1355,75,94,828,539,6295,514,171,1610,385,716,10027,1082,1190,130,927,24,659,660,1356,599,91,81,367,8,3244,489,904,2531,256,968,10824,824,44,9010],\"type\":\"violin\",\"xaxis\":\"x28\",\"yaxis\":\"y28\"}],                        {\"template\":{\"data\":{\"histogram2dcontour\":[{\"type\":\"histogram2dcontour\",\"colorbar\":{\"outlinewidth\":0,\"ticks\":\"\"},\"colorscale\":[[0.0,\"#0d0887\"],[0.1111111111111111,\"#46039f\"],[0.2222222222222222,\"#7201a8\"],[0.3333333333333333,\"#9c179e\"],[0.4444444444444444,\"#bd3786\"],[0.5555555555555556,\"#d8576b\"],[0.6666666666666666,\"#ed7953\"],[0.7777777777777778,\"#fb9f3a\"],[0.8888888888888888,\"#fdca26\"],[1.0,\"#f0f921\"]]}],\"choropleth\":[{\"type\":\"choropleth\",\"colorbar\":{\"outlinewidth\":0,\"ticks\":\"\"}}],\"histogram2d\":[{\"type\":\"histogram2d\",\"colorbar\":{\"outlinewidth\":0,\"ticks\":\"\"},\"colorscale\":[[0.0,\"#0d0887\"],[0.1111111111111111,\"#46039f\"],[0.2222222222222222,\"#7201a8\"],[0.3333333333333333,\"#9c179e\"],[0.4444444444444444,\"#bd3786\"],[0.5555555555555556,\"#d8576b\"],[0.6666666666666666,\"#ed7953\"],[0.7777777777777778,\"#fb9f3a\"],[0.8888888888888888,\"#fdca26\"],[1.0,\"#f0f921\"]]}],\"heatmap\":[{\"type\":\"heatmap\",\"colorbar\":{\"outlinewidth\":0,\"ticks\":\"\"},\"colorscale\":[[0.0,\"#0d0887\"],[0.1111111111111111,\"#46039f\"],[0.2222222222222222,\"#7201a8\"],[0.3333333333333333,\"#9c179e\"],[0.4444444444444444,\"#bd3786\"],[0.5555555555555556,\"#d8576b\"],[0.6666666666666666,\"#ed7953\"],[0.7777777777777778,\"#fb9f3a\"],[0.8888888888888888,\"#fdca26\"],[1.0,\"#f0f921\"]]}],\"heatmapgl\":[{\"type\":\"heatmapgl\",\"colorbar\":{\"outlinewidth\":0,\"ticks\":\"\"},\"colorscale\":[[0.0,\"#0d0887\"],[0.1111111111111111,\"#46039f\"],[0.2222222222222222,\"#7201a8\"],[0.3333333333333333,\"#9c179e\"],[0.4444444444444444,\"#bd3786\"],[0.5555555555555556,\"#d8576b\"],[0.6666666666666666,\"#ed7953\"],[0.7777777777777778,\"#fb9f3a\"],[0.8888888888888888,\"#fdca26\"],[1.0,\"#f0f921\"]]}],\"contourcarpet\":[{\"type\":\"contourcarpet\",\"colorbar\":{\"outlinewidth\":0,\"ticks\":\"\"}}],\"contour\":[{\"type\":\"contour\",\"colorbar\":{\"outlinewidth\":0,\"ticks\":\"\"},\"colorscale\":[[0.0,\"#0d0887\"],[0.1111111111111111,\"#46039f\"],[0.2222222222222222,\"#7201a8\"],[0.3333333333333333,\"#9c179e\"],[0.4444444444444444,\"#bd3786\"],[0.5555555555555556,\"#d8576b\"],[0.6666666666666666,\"#ed7953\"],[0.7777777777777778,\"#fb9f3a\"],[0.8888888888888888,\"#fdca26\"],[1.0,\"#f0f921\"]]}],\"surface\":[{\"type\":\"surface\",\"colorbar\":{\"outlinewidth\":0,\"ticks\":\"\"},\"colorscale\":[[0.0,\"#0d0887\"],[0.1111111111111111,\"#46039f\"],[0.2222222222222222,\"#7201a8\"],[0.3333333333333333,\"#9c179e\"],[0.4444444444444444,\"#bd3786\"],[0.5555555555555556,\"#d8576b\"],[0.6666666666666666,\"#ed7953\"],[0.7777777777777778,\"#fb9f3a\"],[0.8888888888888888,\"#fdca26\"],[1.0,\"#f0f921\"]]}],\"mesh3d\":[{\"type\":\"mesh3d\",\"colorbar\":{\"outlinewidth\":0,\"ticks\":\"\"}}],\"scatter\":[{\"marker\":{\"line\":{\"color\":\"#283442\"}},\"type\":\"scatter\"}],\"parcoords\":[{\"type\":\"parcoords\",\"line\":{\"colorbar\":{\"outlinewidth\":0,\"ticks\":\"\"}}}],\"scatterpolargl\":[{\"type\":\"scatterpolargl\",\"marker\":{\"colorbar\":{\"outlinewidth\":0,\"ticks\":\"\"}}}],\"bar\":[{\"error_x\":{\"color\":\"#f2f5fa\"},\"error_y\":{\"color\":\"#f2f5fa\"},\"marker\":{\"line\":{\"color\":\"rgb(17,17,17)\",\"width\":0.5},\"pattern\":{\"fillmode\":\"overlay\",\"size\":10,\"solidity\":0.2}},\"type\":\"bar\"}],\"scattergeo\":[{\"type\":\"scattergeo\",\"marker\":{\"colorbar\":{\"outlinewidth\":0,\"ticks\":\"\"}}}],\"scatterpolar\":[{\"type\":\"scatterpolar\",\"marker\":{\"colorbar\":{\"outlinewidth\":0,\"ticks\":\"\"}}}],\"histogram\":[{\"marker\":{\"pattern\":{\"fillmode\":\"overlay\",\"size\":10,\"solidity\":0.2}},\"type\":\"histogram\"}],\"scattergl\":[{\"marker\":{\"line\":{\"color\":\"#283442\"}},\"type\":\"scattergl\"}],\"scatter3d\":[{\"type\":\"scatter3d\",\"line\":{\"colorbar\":{\"outlinewidth\":0,\"ticks\":\"\"}},\"marker\":{\"colorbar\":{\"outlinewidth\":0,\"ticks\":\"\"}}}],\"scattermapbox\":[{\"type\":\"scattermapbox\",\"marker\":{\"colorbar\":{\"outlinewidth\":0,\"ticks\":\"\"}}}],\"scatterternary\":[{\"type\":\"scatterternary\",\"marker\":{\"colorbar\":{\"outlinewidth\":0,\"ticks\":\"\"}}}],\"scattercarpet\":[{\"type\":\"scattercarpet\",\"marker\":{\"colorbar\":{\"outlinewidth\":0,\"ticks\":\"\"}}}],\"carpet\":[{\"aaxis\":{\"endlinecolor\":\"#A2B1C6\",\"gridcolor\":\"#506784\",\"linecolor\":\"#506784\",\"minorgridcolor\":\"#506784\",\"startlinecolor\":\"#A2B1C6\"},\"baxis\":{\"endlinecolor\":\"#A2B1C6\",\"gridcolor\":\"#506784\",\"linecolor\":\"#506784\",\"minorgridcolor\":\"#506784\",\"startlinecolor\":\"#A2B1C6\"},\"type\":\"carpet\"}],\"table\":[{\"cells\":{\"fill\":{\"color\":\"#506784\"},\"line\":{\"color\":\"rgb(17,17,17)\"}},\"header\":{\"fill\":{\"color\":\"#2a3f5f\"},\"line\":{\"color\":\"rgb(17,17,17)\"}},\"type\":\"table\"}],\"barpolar\":[{\"marker\":{\"line\":{\"color\":\"rgb(17,17,17)\",\"width\":0.5},\"pattern\":{\"fillmode\":\"overlay\",\"size\":10,\"solidity\":0.2}},\"type\":\"barpolar\"}],\"pie\":[{\"automargin\":true,\"type\":\"pie\"}]},\"layout\":{\"autotypenumbers\":\"strict\",\"colorway\":[\"#636efa\",\"#EF553B\",\"#00cc96\",\"#ab63fa\",\"#FFA15A\",\"#19d3f3\",\"#FF6692\",\"#B6E880\",\"#FF97FF\",\"#FECB52\"],\"font\":{\"color\":\"#f2f5fa\"},\"hovermode\":\"closest\",\"hoverlabel\":{\"align\":\"left\"},\"paper_bgcolor\":\"rgb(17,17,17)\",\"plot_bgcolor\":\"rgb(17,17,17)\",\"polar\":{\"bgcolor\":\"rgb(17,17,17)\",\"angularaxis\":{\"gridcolor\":\"#506784\",\"linecolor\":\"#506784\",\"ticks\":\"\"},\"radialaxis\":{\"gridcolor\":\"#506784\",\"linecolor\":\"#506784\",\"ticks\":\"\"}},\"ternary\":{\"bgcolor\":\"rgb(17,17,17)\",\"aaxis\":{\"gridcolor\":\"#506784\",\"linecolor\":\"#506784\",\"ticks\":\"\"},\"baxis\":{\"gridcolor\":\"#506784\",\"linecolor\":\"#506784\",\"ticks\":\"\"},\"caxis\":{\"gridcolor\":\"#506784\",\"linecolor\":\"#506784\",\"ticks\":\"\"}},\"coloraxis\":{\"colorbar\":{\"outlinewidth\":0,\"ticks\":\"\"}},\"colorscale\":{\"sequential\":[[0.0,\"#0d0887\"],[0.1111111111111111,\"#46039f\"],[0.2222222222222222,\"#7201a8\"],[0.3333333333333333,\"#9c179e\"],[0.4444444444444444,\"#bd3786\"],[0.5555555555555556,\"#d8576b\"],[0.6666666666666666,\"#ed7953\"],[0.7777777777777778,\"#fb9f3a\"],[0.8888888888888888,\"#fdca26\"],[1.0,\"#f0f921\"]],\"sequentialminus\":[[0.0,\"#0d0887\"],[0.1111111111111111,\"#46039f\"],[0.2222222222222222,\"#7201a8\"],[0.3333333333333333,\"#9c179e\"],[0.4444444444444444,\"#bd3786\"],[0.5555555555555556,\"#d8576b\"],[0.6666666666666666,\"#ed7953\"],[0.7777777777777778,\"#fb9f3a\"],[0.8888888888888888,\"#fdca26\"],[1.0,\"#f0f921\"]],\"diverging\":[[0,\"#8e0152\"],[0.1,\"#c51b7d\"],[0.2,\"#de77ae\"],[0.3,\"#f1b6da\"],[0.4,\"#fde0ef\"],[0.5,\"#f7f7f7\"],[0.6,\"#e6f5d0\"],[0.7,\"#b8e186\"],[0.8,\"#7fbc41\"],[0.9,\"#4d9221\"],[1,\"#276419\"]]},\"xaxis\":{\"gridcolor\":\"#283442\",\"linecolor\":\"#506784\",\"ticks\":\"\",\"title\":{\"standoff\":15},\"zerolinecolor\":\"#283442\",\"automargin\":true,\"zerolinewidth\":2},\"yaxis\":{\"gridcolor\":\"#283442\",\"linecolor\":\"#506784\",\"ticks\":\"\",\"title\":{\"standoff\":15},\"zerolinecolor\":\"#283442\",\"automargin\":true,\"zerolinewidth\":2},\"scene\":{\"xaxis\":{\"backgroundcolor\":\"rgb(17,17,17)\",\"gridcolor\":\"#506784\",\"linecolor\":\"#506784\",\"showbackground\":true,\"ticks\":\"\",\"zerolinecolor\":\"#C8D4E3\",\"gridwidth\":2},\"yaxis\":{\"backgroundcolor\":\"rgb(17,17,17)\",\"gridcolor\":\"#506784\",\"linecolor\":\"#506784\",\"showbackground\":true,\"ticks\":\"\",\"zerolinecolor\":\"#C8D4E3\",\"gridwidth\":2},\"zaxis\":{\"backgroundcolor\":\"rgb(17,17,17)\",\"gridcolor\":\"#506784\",\"linecolor\":\"#506784\",\"showbackground\":true,\"ticks\":\"\",\"zerolinecolor\":\"#C8D4E3\",\"gridwidth\":2}},\"shapedefaults\":{\"line\":{\"color\":\"#f2f5fa\"}},\"annotationdefaults\":{\"arrowcolor\":\"#f2f5fa\",\"arrowhead\":0,\"arrowwidth\":1},\"geo\":{\"bgcolor\":\"rgb(17,17,17)\",\"landcolor\":\"rgb(17,17,17)\",\"subunitcolor\":\"#506784\",\"showland\":true,\"showlakes\":true,\"lakecolor\":\"rgb(17,17,17)\"},\"title\":{\"x\":0.05},\"updatemenudefaults\":{\"bgcolor\":\"#506784\",\"borderwidth\":0},\"sliderdefaults\":{\"bgcolor\":\"#C8D4E3\",\"borderwidth\":1,\"bordercolor\":\"rgb(17,17,17)\",\"tickwidth\":0},\"mapbox\":{\"style\":\"dark\"}}},\"xaxis\":{\"anchor\":\"y\",\"domain\":[0.0,0.11551020408163264]},\"yaxis\":{\"anchor\":\"x\",\"domain\":[0.80625,1.0]},\"xaxis2\":{\"anchor\":\"y2\",\"domain\":[0.1440816326530612,0.2595918367346938]},\"yaxis2\":{\"anchor\":\"x2\",\"domain\":[0.80625,1.0]},\"xaxis3\":{\"anchor\":\"y3\",\"domain\":[0.2881632653061224,0.40367346938775506]},\"yaxis3\":{\"anchor\":\"x3\",\"domain\":[0.80625,1.0]},\"xaxis4\":{\"anchor\":\"y4\",\"domain\":[0.43224489795918364,0.5477551020408162]},\"yaxis4\":{\"anchor\":\"x4\",\"domain\":[0.80625,1.0]},\"xaxis5\":{\"anchor\":\"y5\",\"domain\":[0.5763265306122448,0.6918367346938774]},\"yaxis5\":{\"anchor\":\"x5\",\"domain\":[0.80625,1.0]},\"xaxis6\":{\"anchor\":\"y6\",\"domain\":[0.7204081632653061,0.8359183673469387]},\"yaxis6\":{\"anchor\":\"x6\",\"domain\":[0.80625,1.0]},\"xaxis7\":{\"anchor\":\"y7\",\"domain\":[0.8644897959183673,0.9799999999999999]},\"yaxis7\":{\"anchor\":\"x7\",\"domain\":[0.80625,1.0]},\"xaxis8\":{\"anchor\":\"y8\",\"domain\":[0.0,0.11551020408163264]},\"yaxis8\":{\"anchor\":\"x8\",\"domain\":[0.5375,0.73125]},\"xaxis9\":{\"anchor\":\"y9\",\"domain\":[0.1440816326530612,0.2595918367346938]},\"yaxis9\":{\"anchor\":\"x9\",\"domain\":[0.5375,0.73125]},\"xaxis10\":{\"anchor\":\"y10\",\"domain\":[0.2881632653061224,0.40367346938775506]},\"yaxis10\":{\"anchor\":\"x10\",\"domain\":[0.5375,0.73125]},\"xaxis11\":{\"anchor\":\"y11\",\"domain\":[0.43224489795918364,0.5477551020408162]},\"yaxis11\":{\"anchor\":\"x11\",\"domain\":[0.5375,0.73125]},\"xaxis12\":{\"anchor\":\"y12\",\"domain\":[0.5763265306122448,0.6918367346938774]},\"yaxis12\":{\"anchor\":\"x12\",\"domain\":[0.5375,0.73125]},\"xaxis13\":{\"anchor\":\"y13\",\"domain\":[0.7204081632653061,0.8359183673469387]},\"yaxis13\":{\"anchor\":\"x13\",\"domain\":[0.5375,0.73125]},\"xaxis14\":{\"anchor\":\"y14\",\"domain\":[0.8644897959183673,0.9799999999999999]},\"yaxis14\":{\"anchor\":\"x14\",\"domain\":[0.5375,0.73125]},\"xaxis15\":{\"anchor\":\"y15\",\"domain\":[0.0,0.11551020408163264]},\"yaxis15\":{\"anchor\":\"x15\",\"domain\":[0.26875,0.4625]},\"xaxis16\":{\"anchor\":\"y16\",\"domain\":[0.1440816326530612,0.2595918367346938]},\"yaxis16\":{\"anchor\":\"x16\",\"domain\":[0.26875,0.4625]},\"xaxis17\":{\"anchor\":\"y17\",\"domain\":[0.2881632653061224,0.40367346938775506]},\"yaxis17\":{\"anchor\":\"x17\",\"domain\":[0.26875,0.4625]},\"xaxis18\":{\"anchor\":\"y18\",\"domain\":[0.43224489795918364,0.5477551020408162]},\"yaxis18\":{\"anchor\":\"x18\",\"domain\":[0.26875,0.4625]},\"xaxis19\":{\"anchor\":\"y19\",\"domain\":[0.5763265306122448,0.6918367346938774]},\"yaxis19\":{\"anchor\":\"x19\",\"domain\":[0.26875,0.4625]},\"xaxis20\":{\"anchor\":\"y20\",\"domain\":[0.7204081632653061,0.8359183673469387]},\"yaxis20\":{\"anchor\":\"x20\",\"domain\":[0.26875,0.4625]},\"xaxis21\":{\"anchor\":\"y21\",\"domain\":[0.8644897959183673,0.9799999999999999]},\"yaxis21\":{\"anchor\":\"x21\",\"domain\":[0.26875,0.4625]},\"xaxis22\":{\"anchor\":\"y22\",\"domain\":[0.0,0.11551020408163264]},\"yaxis22\":{\"anchor\":\"x22\",\"domain\":[0.0,0.19375]},\"xaxis23\":{\"anchor\":\"y23\",\"domain\":[0.1440816326530612,0.2595918367346938]},\"yaxis23\":{\"anchor\":\"x23\",\"domain\":[0.0,0.19375]},\"xaxis24\":{\"anchor\":\"y24\",\"domain\":[0.2881632653061224,0.40367346938775506]},\"yaxis24\":{\"anchor\":\"x24\",\"domain\":[0.0,0.19375]},\"xaxis25\":{\"anchor\":\"y25\",\"domain\":[0.43224489795918364,0.5477551020408162]},\"yaxis25\":{\"anchor\":\"x25\",\"domain\":[0.0,0.19375]},\"xaxis26\":{\"anchor\":\"y26\",\"domain\":[0.5763265306122448,0.6918367346938774]},\"yaxis26\":{\"anchor\":\"x26\",\"domain\":[0.0,0.19375]},\"xaxis27\":{\"anchor\":\"y27\",\"domain\":[0.7204081632653061,0.8359183673469387]},\"yaxis27\":{\"anchor\":\"x27\",\"domain\":[0.0,0.19375]},\"xaxis28\":{\"anchor\":\"y28\",\"domain\":[0.8644897959183673,0.9799999999999999]},\"yaxis28\":{\"anchor\":\"x28\",\"domain\":[0.0,0.19375]},\"annotations\":[{\"font\":{\"size\":16},\"showarrow\":false,\"text\":\"MN\\u2192RA\",\"x\":0.05775510204081632,\"xanchor\":\"center\",\"xref\":\"paper\",\"y\":1.0,\"yanchor\":\"bottom\",\"yref\":\"paper\"},{\"font\":{\"size\":16},\"showarrow\":false,\"text\":\"MN\\u2192EngbertDetector{'\\u03bb':5,'ws':2}\",\"x\":0.20183673469387753,\"xanchor\":\"center\",\"xref\":\"paper\",\"y\":1.0,\"yanchor\":\"bottom\",\"yref\":\"paper\"},{\"font\":{\"size\":16},\"showarrow\":false,\"text\":\"MN\\u2192NHDetector\",\"x\":0.3459183673469387,\"xanchor\":\"center\",\"xref\":\"paper\",\"y\":1.0,\"yanchor\":\"bottom\",\"yref\":\"paper\"},{\"font\":{\"size\":16},\"showarrow\":false,\"text\":\"MN\\u2192REMoDNaVDetector\",\"x\":0.48999999999999994,\"xanchor\":\"center\",\"xref\":\"paper\",\"y\":1.0,\"yanchor\":\"bottom\",\"yref\":\"paper\"},{\"font\":{\"size\":16},\"showarrow\":false,\"text\":\"RA\\u2192EngbertDetector{'\\u03bb':5,'ws':2}\",\"x\":0.6340816326530612,\"xanchor\":\"center\",\"xref\":\"paper\",\"y\":1.0,\"yanchor\":\"bottom\",\"yref\":\"paper\"},{\"font\":{\"size\":16},\"showarrow\":false,\"text\":\"RA\\u2192NHDetector\",\"x\":0.7781632653061223,\"xanchor\":\"center\",\"xref\":\"paper\",\"y\":1.0,\"yanchor\":\"bottom\",\"yref\":\"paper\"},{\"font\":{\"size\":16},\"showarrow\":false,\"text\":\"RA\\u2192REMoDNaVDetector\",\"x\":0.9222448979591835,\"xanchor\":\"center\",\"xref\":\"paper\",\"y\":1.0,\"yanchor\":\"bottom\",\"yref\":\"paper\"},{\"font\":{\"size\":16},\"showarrow\":false,\"text\":\"img\",\"textangle\":90,\"x\":0.9799999999999999,\"xanchor\":\"left\",\"xref\":\"paper\",\"y\":0.903125,\"yanchor\":\"middle\",\"yref\":\"paper\"},{\"font\":{\"size\":16},\"showarrow\":false,\"text\":\"moving dot\",\"textangle\":90,\"x\":0.9799999999999999,\"xanchor\":\"left\",\"xref\":\"paper\",\"y\":0.6343749999999999,\"yanchor\":\"middle\",\"yref\":\"paper\"},{\"font\":{\"size\":16},\"showarrow\":false,\"text\":\"video\",\"textangle\":90,\"x\":0.9799999999999999,\"xanchor\":\"left\",\"xref\":\"paper\",\"y\":0.365625,\"yanchor\":\"middle\",\"yref\":\"paper\"},{\"font\":{\"size\":16},\"showarrow\":false,\"text\":\"all\",\"textangle\":90,\"x\":0.9799999999999999,\"xanchor\":\"left\",\"xref\":\"paper\",\"y\":0.096875,\"yanchor\":\"middle\",\"yref\":\"paper\"}],\"title\":{\"text\":\"Levenshtein Distance Distribution\"},\"showlegend\":false},                        {\"responsive\": true}                    ).then(function(){\n                            \nvar gd = document.getElementById('63c2791c-c8c3-45d3-b3ea-9f09e3cdb6b6');\nvar x = new MutationObserver(function (mutations, observer) {{\n        var display = window.getComputedStyle(gd).display;\n        if (!display || display === 'none') {{\n            console.log([gd, 'removed!']);\n            Plotly.purge(gd);\n            observer.disconnect();\n        }}\n}});\n\n// Listen for the removal of the full notebook cells\nvar notebookContainer = gd.closest('#notebook-container');\nif (notebookContainer) {{\n    x.observe(notebookContainer, {childList: true});\n}}\n\n// Listen for the clearing of the current output cell\nvar outputEl = gd.closest('.output');\nif (outputEl) {{\n    x.observe(outputEl, {childList: true});\n}}\n\n                        })                };                });            </script>        </div>"
     },
     "metadata": {},
     "output_type": "display_data"
    }
   ],
   "source": [
    "samples_levenshtein_grouped = detector_comparisons.compare_samples(samples=samples_df, metric=\"lev\", group_by=cnst.STIMULUS)\n",
    "lev_distribution_fig = figs.distributions_grid(\n",
    "    samples_levenshtein_grouped[COMPARISON_COLUMNS],\n",
    "    plot_type=\"violin\",\n",
    "    title=\"Levenshtein Distance Distribution\",\n",
    "    column_title_mapper=lambda col: f\"{col[0]}→{col[1]}\"\n",
    ")\n",
    "lev_distribution_fig.show()"
   ],
   "metadata": {
    "collapsed": false,
    "ExecuteTime": {
     "end_time": "2024-04-07T11:13:57.330010Z",
     "start_time": "2024-04-07T11:13:44.454479Z"
    }
   },
   "id": "2cb51cbd7dbbe575",
   "execution_count": 9
  },
  {
   "cell_type": "code",
   "outputs": [
    {
     "data": {
      "application/vnd.plotly.v1+json": {
       "data": [
        {
         "name": "",
         "points": "all",
         "showlegend": false,
         "side": "positive",
         "y": [
          0.7899374642998439,
          0.22120621559937914,
          null,
          null,
          null,
          0.7200549475263476,
          0.677382293683207,
          null,
          null,
          null,
          0.9054133078487512,
          0.8955694420828169,
          0.9064000004383075,
          0.7924612058168573,
          0.8364267811215045,
          0.8405848106589864,
          0.8546864376292359,
          0.8962768567029877,
          0.8357095131889745,
          0.9002713399903137
         ],
         "type": "violin",
         "xaxis": "x",
         "yaxis": "y"
        },
        {
         "name": "",
         "points": "all",
         "showlegend": false,
         "side": "positive",
         "y": [
          0.7884508374381723,
          0.6272129627851997,
          null,
          null,
          null,
          0.687699037221917,
          0.5447705784467276,
          null,
          null,
          null,
          0.6882957373830271,
          0.7354908544745629,
          0.8180989112541991,
          0.7657880122541643,
          0.6096363421918443,
          0.6426034109779192,
          0.5876769063445428,
          0.5109961161847073,
          0.7463460286880816,
          0.5962993277096236
         ],
         "type": "violin",
         "xaxis": "x2",
         "yaxis": "y2"
        },
        {
         "name": "",
         "points": "all",
         "showlegend": false,
         "side": "positive",
         "y": [
          0.7287365548492191,
          0.5551808964224539,
          null,
          null,
          null,
          0.6548599649762421,
          0.07189350050080101,
          null,
          null,
          null,
          0.669725591479187,
          0.7256229129240234,
          0.6971427553501988,
          0.7104953550996329,
          0.5957281337883404,
          0.5418407575451021,
          0.237019508193673,
          0.3155465596548358,
          0.2370405874422169,
          0.5269122560805266
         ],
         "type": "violin",
         "xaxis": "x3",
         "yaxis": "y3"
        },
        {
         "name": "",
         "points": "all",
         "showlegend": false,
         "side": "positive",
         "y": [
          0.5807513977022312,
          0.13222449206253317,
          null,
          null,
          null,
          0.4931662664524167,
          0.4038355008085035,
          null,
          null,
          null,
          0.6936604745780313,
          0.6097038028958383,
          0.49526427201021694,
          0.4841744812215787,
          0.35822701114472044,
          0.45053893115363575,
          0.2125064303485772,
          0.2708155437639095,
          0.5606822453653332,
          0.3404990949260527
         ],
         "type": "violin",
         "xaxis": "x4",
         "yaxis": "y4"
        },
        {
         "name": "",
         "points": "all",
         "showlegend": false,
         "side": "positive",
         "y": [
          0.6916804696785008,
          0.18842997769046677,
          0.7790608319218285,
          0.6877261439172008,
          0.6809052398184181,
          0.5832582162044126,
          0.5134906776138806,
          0.3143961980254292,
          0.5337550405311429,
          0.6077996741304625,
          0.6716382017565956,
          0.7021062601933605,
          0.7929656049059585,
          0.6753891762637367,
          0.650751138637732,
          0.5914934542981384,
          0.5180157753597492,
          0.49159704402447213,
          0.7213872523479353,
          0.6135361560868307
         ],
         "type": "violin",
         "xaxis": "x5",
         "yaxis": "y5"
        },
        {
         "name": "",
         "points": "all",
         "showlegend": false,
         "side": "positive",
         "y": [
          0.635393273929046,
          0.21149893396064856,
          0.06223208027844496,
          0.6718417549287444,
          0.6053273450562591,
          0.5658775727229977,
          0.07363072999345355,
          0.2909539057194641,
          0.4827365736963368,
          0.5750952174543276,
          0.6658292510535873,
          0.6907173659824899,
          0.7061273301373168,
          0.6346544896091849,
          0.6006440234934731,
          0.4874122978895973,
          0.20543927314132848,
          0.29808043489272207,
          0.21709040960439563,
          0.5426652769234641
         ],
         "type": "violin",
         "xaxis": "x6",
         "yaxis": "y6"
        },
        {
         "name": "",
         "points": "all",
         "showlegend": false,
         "side": "positive",
         "y": [
          0.4980411876270575,
          0.21147000932726423,
          0.5501716929073167,
          0.6693590019142965,
          0.5498905526530107,
          0.532645624188423,
          0.34212708255008795,
          0.4810486885880232,
          0.3295236553482537,
          0.41721910967060905,
          0.6819195564353246,
          0.5989186934025204,
          0.5162392699944958,
          0.5596289075335713,
          0.34793441344478004,
          0.5122627368354091,
          0.22448993993638877,
          0.30690835149329176,
          0.5548101532250638,
          0.33634009705574175
         ],
         "type": "violin",
         "xaxis": "x7",
         "yaxis": "y7"
        },
        {
         "name": "",
         "points": "all",
         "showlegend": false,
         "side": "positive",
         "y": [
          0.8403898618482474,
          null,
          null,
          0.829576038199971,
          null,
          0.9622720079953361,
          -0.06391770966495236,
          null,
          null,
          0.7111722057017462,
          0.8623052959501558,
          null,
          0.27324913892078084,
          null,
          0.9279824487027302,
          null,
          0.3298358049128728,
          0.8573823822348996,
          null
         ],
         "type": "violin",
         "xaxis": "x8",
         "yaxis": "y8"
        },
        {
         "name": "",
         "points": "all",
         "showlegend": false,
         "side": "positive",
         "y": [
          0.03156060907577163,
          null,
          null,
          -5.926540530132307E-5,
          null,
          0.11899962305586964,
          0.05562060022230442,
          null,
          null,
          0.07327797774869116,
          0.05382570543376475,
          null,
          -0.011700589912880588,
          null,
          0.09573770886068345,
          null,
          0.0924511330219685,
          0.08318141233059695,
          null
         ],
         "type": "violin",
         "xaxis": "x9",
         "yaxis": "y9"
        },
        {
         "name": "",
         "points": "all",
         "showlegend": false,
         "side": "positive",
         "y": [
          0.03436980360279629,
          null,
          null,
          -0.009608572440666041,
          null,
          0.0390247628897481,
          0.04756840469900947,
          null,
          null,
          0.09779415405436631,
          0.04962517404552247,
          null,
          0.0,
          null,
          0.05100248129969398,
          null,
          0.06658004608215096,
          0.03153128381121395,
          null
         ],
         "type": "violin",
         "xaxis": "x10",
         "yaxis": "y10"
        },
        {
         "name": "",
         "points": "all",
         "showlegend": false,
         "side": "positive",
         "y": [
          0.4863087021764112,
          null,
          null,
          0.09280632411067191,
          null,
          0.6746403846537519,
          0.43736027159062674,
          null,
          null,
          0.27153726944769074,
          0.43891191709844557,
          null,
          0.2809039243435092,
          null,
          0.6349222159842078,
          null,
          0.5529220022218463,
          0.47348110033643387,
          null
         ],
         "type": "violin",
         "xaxis": "x11",
         "yaxis": "y11"
        },
        {
         "name": "",
         "points": "all",
         "showlegend": false,
         "side": "positive",
         "y": [
          0.021770431489584907,
          0.15063749005925964,
          0.1866849441364502,
          0.0012872869318181213,
          0.017588572613985054,
          0.12142634710256173,
          -0.004019031295251052,
          0.003627242909511885,
          0.017395518579573888,
          0.061045617427223475,
          0.03791570947033962,
          0.15203887353919743,
          0.3426817954756298,
          0.1812819999851809,
          0.10219990751139574,
          0.13223722054988074,
          0.24916256192448216,
          0.08254864956688435,
          0.08260513223054644
         ],
         "type": "violin",
         "xaxis": "x12",
         "yaxis": "y12"
        },
        {
         "name": "",
         "points": "all",
         "showlegend": false,
         "side": "positive",
         "y": [
          0.019709464625173534,
          0.1260430048922282,
          0.17415373061105832,
          -0.0083138017954274,
          0.008829924124772681,
          0.038385757511786744,
          -0.004036519492719437,
          0.0,
          0.019147959839209805,
          0.04308222057616462,
          0.030429393464288523,
          0.14979678479898517,
          0.0,
          0.0,
          0.06327656367746803,
          0.03512054825841304,
          0.16318210777032316,
          0.027963101230761733,
          -0.007699846003079713
         ],
         "type": "violin",
         "xaxis": "x13",
         "yaxis": "y13"
        },
        {
         "name": "",
         "points": "all",
         "showlegend": false,
         "side": "positive",
         "y": [
          0.5024663649327299,
          0.3359227936787784,
          0.7357341812714141,
          0.06954225352112664,
          0.09490467937608305,
          0.6769063859282549,
          -0.055576387400899874,
          0.003503416698463435,
          0.7114254624591947,
          0.37885019997346314,
          0.36893948896546136,
          0.5033313654381378,
          0.9072352687354187,
          0.6548563054628349,
          0.6710092170856794,
          0.945005584421891,
          0.4604727785165631,
          0.5317648064951743,
          0.7404490262950332
         ],
         "type": "violin",
         "xaxis": "x14",
         "yaxis": "y14"
        },
        {
         "name": "",
         "points": "all",
         "showlegend": false,
         "side": "positive",
         "y": [
          0.44743731791213837,
          0.25908645042522194,
          null,
          null,
          null,
          0.8570214060467125,
          null,
          null,
          null,
          null,
          0.6265618549523779,
          null,
          0.7354293738746817,
          0.6451589478471684,
          0.8728476052249637,
          0.8722355803161519,
          0.762317145436232,
          null,
          null
         ],
         "type": "violin",
         "xaxis": "x15",
         "yaxis": "y15"
        },
        {
         "name": "",
         "points": "all",
         "showlegend": false,
         "side": "positive",
         "y": [
          0.1147968573763517,
          0.3932448817349826,
          null,
          null,
          null,
          0.11300505360385626,
          null,
          null,
          null,
          null,
          0.025547179173421974,
          null,
          0.16749421781886908,
          0.14531176378200095,
          0.22973995433415695,
          0.1785992214144787,
          0.18718364110818708,
          null,
          null
         ],
         "type": "violin",
         "xaxis": "x16",
         "yaxis": "y16"
        },
        {
         "name": "",
         "points": "all",
         "showlegend": false,
         "side": "positive",
         "y": [
          0.13279258017328843,
          0.38848016582421696,
          null,
          null,
          null,
          0.11059807548562295,
          null,
          null,
          null,
          null,
          0.028668940018059308,
          null,
          0.16205488532760826,
          0.15989621199225568,
          0.252949675771838,
          0.16741853121502104,
          0.1528204868486025,
          null,
          null
         ],
         "type": "violin",
         "xaxis": "x17",
         "yaxis": "y17"
        },
        {
         "name": "",
         "points": "all",
         "showlegend": false,
         "side": "positive",
         "y": [
          0.31806555606646114,
          0.21268843101545376,
          null,
          null,
          null,
          0.6251896733512059,
          null,
          null,
          null,
          null,
          0.27295329934494417,
          null,
          0.5426399233221467,
          0.25500102710928796,
          0.6752248871946926,
          0.7606805776829416,
          0.4726753714564633,
          null,
          null
         ],
         "type": "violin",
         "xaxis": "x18",
         "yaxis": "y18"
        },
        {
         "name": "",
         "points": "all",
         "showlegend": false,
         "side": "positive",
         "y": [
          0.08014010506417513,
          0.1111974039789303,
          0.022102442863495164,
          0.0870073810332922,
          0.11737797965651953,
          0.12183982284554362,
          0.21466677852594618,
          0.06229972565862707,
          0.09242684310668936,
          0.04421068189848365,
          0.0211170505449646,
          0.13996272097555185,
          0.11376525941046511,
          0.0912609612414027,
          0.29045395499069615,
          0.1688379760279196,
          0.2035902696489087,
          0.17611967164029596,
          0.09490991479524236
         ],
         "type": "violin",
         "xaxis": "x19",
         "yaxis": "y19"
        },
        {
         "name": "",
         "points": "all",
         "showlegend": false,
         "side": "positive",
         "y": [
          0.08735582410915954,
          0.11570367826683436,
          0.01701839814858641,
          0.08776643454549682,
          0.11773650233435595,
          0.10503147030892457,
          0.18702954774764902,
          0.05808175851998254,
          0.08786641537654183,
          0.04299627290282193,
          0.02646169743868665,
          0.15756688311749745,
          0.10856270859546047,
          0.11213182814676803,
          0.191170004284134,
          0.14946613591345437,
          0.16438119739266044,
          0.16396611490526303,
          0.08696333409695789
         ],
         "type": "violin",
         "xaxis": "x20",
         "yaxis": "y20"
        },
        {
         "name": "",
         "points": "all",
         "showlegend": false,
         "side": "positive",
         "y": [
          0.30226862295714774,
          0.48319846441064285,
          0.39420772003284144,
          0.38646069773800706,
          0.44350598975261346,
          0.7470493393319795,
          0.7193651843596641,
          0.34634187207725853,
          0.9329234707644004,
          0.24101205580764473,
          0.21156080657580245,
          0.518252715974899,
          0.5217410356551936,
          0.3091045924383339,
          0.655685889782389,
          0.7775777717685348,
          0.4530449275902191,
          0.4919208882160343,
          0.26607966220326673
         ],
         "type": "violin",
         "xaxis": "x21",
         "yaxis": "y21"
        },
        {
         "name": "",
         "points": "all",
         "showlegend": false,
         "side": "positive",
         "y": [
          0.8403898618482474,
          0.7899374642998439,
          0.22120621559937914,
          null,
          0.44743731791213837,
          null,
          null,
          0.829576038199971,
          0.25908645042522194,
          null,
          null,
          null,
          null,
          null,
          null,
          0.7200549475263476,
          0.9622720079953361,
          -0.06391770966495236,
          0.677382293683207,
          0.8570214060467125,
          null,
          null,
          null,
          null,
          null,
          null,
          null,
          null,
          null,
          0.9054133078487512,
          0.7111722057017462,
          0.6265618549523779,
          0.8623052959501558,
          0.8955694420828169,
          null,
          0.9064000004383075,
          0.7354293738746817,
          null,
          0.7924612058168573,
          0.27324913892078084,
          0.8364267811215045,
          0.6451589478471684,
          0.8405848106589864,
          0.8728476052249637,
          null,
          0.9279824487027302,
          0.8722355803161519,
          null,
          0.8546864376292359,
          0.3298358049128728,
          0.762317145436232,
          0.8962768567029877,
          0.8573823822348996,
          0.8357095131889745,
          null,
          0.9002713399903137,
          null,
          null
         ],
         "type": "violin",
         "xaxis": "x22",
         "yaxis": "y22"
        },
        {
         "name": "",
         "points": "all",
         "showlegend": false,
         "side": "positive",
         "y": [
          0.03156060907577163,
          0.7884508374381723,
          0.6272129627851997,
          null,
          0.1147968573763517,
          null,
          null,
          -5.926540530132307E-5,
          0.3932448817349826,
          null,
          null,
          null,
          null,
          null,
          null,
          0.687699037221917,
          0.11899962305586964,
          0.05562060022230442,
          0.5447705784467276,
          0.11300505360385626,
          null,
          null,
          null,
          null,
          null,
          null,
          null,
          null,
          null,
          0.6882957373830271,
          0.07327797774869116,
          0.025547179173421974,
          0.05382570543376475,
          0.7354908544745629,
          null,
          0.8180989112541991,
          0.16749421781886908,
          null,
          0.7657880122541643,
          -0.011700589912880588,
          0.6096363421918443,
          0.14531176378200095,
          0.6426034109779192,
          0.22973995433415695,
          null,
          0.09573770886068345,
          0.1785992214144787,
          null,
          0.5876769063445428,
          0.0924511330219685,
          0.18718364110818708,
          0.5109961161847073,
          0.08318141233059695,
          0.7463460286880816,
          null,
          0.5962993277096236,
          null,
          null
         ],
         "type": "violin",
         "xaxis": "x23",
         "yaxis": "y23"
        },
        {
         "name": "",
         "points": "all",
         "showlegend": false,
         "side": "positive",
         "y": [
          0.03436980360279629,
          0.7287365548492191,
          0.5551808964224539,
          null,
          0.13279258017328843,
          null,
          null,
          -0.009608572440666041,
          0.38848016582421696,
          null,
          null,
          null,
          null,
          null,
          null,
          0.6548599649762421,
          0.0390247628897481,
          0.04756840469900947,
          0.07189350050080101,
          0.11059807548562295,
          null,
          null,
          null,
          null,
          null,
          null,
          null,
          null,
          null,
          0.669725591479187,
          0.09779415405436631,
          0.028668940018059308,
          0.04962517404552247,
          0.7256229129240234,
          null,
          0.6971427553501988,
          0.16205488532760826,
          null,
          0.7104953550996329,
          0.0,
          0.5957281337883404,
          0.15989621199225568,
          0.5418407575451021,
          0.252949675771838,
          null,
          0.05100248129969398,
          0.16741853121502104,
          null,
          0.237019508193673,
          0.06658004608215096,
          0.1528204868486025,
          0.3155465596548358,
          0.03153128381121395,
          0.2370405874422169,
          null,
          0.5269122560805266,
          null,
          null
         ],
         "type": "violin",
         "xaxis": "x24",
         "yaxis": "y24"
        },
        {
         "name": "",
         "points": "all",
         "showlegend": false,
         "side": "positive",
         "y": [
          0.4863087021764112,
          0.5807513977022312,
          0.13222449206253317,
          null,
          0.31806555606646114,
          null,
          null,
          0.09280632411067191,
          0.21268843101545376,
          null,
          null,
          null,
          null,
          null,
          null,
          0.4931662664524167,
          0.6746403846537519,
          0.43736027159062674,
          0.4038355008085035,
          0.6251896733512059,
          null,
          null,
          null,
          null,
          null,
          null,
          null,
          null,
          null,
          0.6936604745780313,
          0.27153726944769074,
          0.27295329934494417,
          0.43891191709844557,
          0.6097038028958383,
          null,
          0.49526427201021694,
          0.5426399233221467,
          null,
          0.4841744812215787,
          0.2809039243435092,
          0.35822701114472044,
          0.25500102710928796,
          0.45053893115363575,
          0.6752248871946926,
          null,
          0.6349222159842078,
          0.7606805776829416,
          null,
          0.2125064303485772,
          0.5529220022218463,
          0.4726753714564633,
          0.2708155437639095,
          0.47348110033643387,
          0.5606822453653332,
          null,
          0.3404990949260527,
          null,
          null
         ],
         "type": "violin",
         "xaxis": "x25",
         "yaxis": "y25"
        },
        {
         "name": "",
         "points": "all",
         "showlegend": false,
         "side": "positive",
         "y": [
          0.021770431489584907,
          0.6916804696785008,
          0.18842997769046677,
          0.15063749005925964,
          0.08014010506417513,
          0.1866849441364502,
          0.7790608319218285,
          0.0012872869318181213,
          0.1111974039789303,
          0.6877261439172008,
          0.022102442863495164,
          0.0870073810332922,
          0.6809052398184181,
          0.017588572613985054,
          0.11737797965651953,
          0.5832582162044126,
          0.12142634710256173,
          -0.004019031295251052,
          0.5134906776138806,
          0.12183982284554362,
          0.003627242909511885,
          0.21466677852594618,
          0.06229972565862707,
          0.3143961980254292,
          0.017395518579573888,
          0.09242684310668936,
          0.5337550405311429,
          0.6077996741304625,
          0.04421068189848365,
          0.6716382017565956,
          0.061045617427223475,
          0.0211170505449646,
          0.03791570947033962,
          0.7021062601933605,
          0.13996272097555185,
          0.7929656049059585,
          0.11376525941046511,
          0.15203887353919743,
          0.6753891762637367,
          0.3426817954756298,
          0.650751138637732,
          0.0912609612414027,
          0.5914934542981384,
          0.29045395499069615,
          0.1812819999851809,
          0.10219990751139574,
          0.1688379760279196,
          0.13223722054988074,
          0.5180157753597492,
          0.24916256192448216,
          0.2035902696489087,
          0.49159704402447213,
          0.08254864956688435,
          0.7213872523479353,
          0.17611967164029596,
          0.6135361560868307,
          0.08260513223054644,
          0.09490991479524236
         ],
         "type": "violin",
         "xaxis": "x26",
         "yaxis": "y26"
        },
        {
         "name": "",
         "points": "all",
         "showlegend": false,
         "side": "positive",
         "y": [
          0.019709464625173534,
          0.635393273929046,
          0.21149893396064856,
          0.1260430048922282,
          0.08735582410915954,
          0.17415373061105832,
          0.06223208027844496,
          -0.0083138017954274,
          0.11570367826683436,
          0.6718417549287444,
          0.01701839814858641,
          0.08776643454549682,
          0.6053273450562591,
          0.008829924124772681,
          0.11773650233435595,
          0.5658775727229977,
          0.038385757511786744,
          -0.004036519492719437,
          0.07363072999345355,
          0.10503147030892457,
          0.0,
          0.18702954774764902,
          0.05808175851998254,
          0.2909539057194641,
          0.019147959839209805,
          0.08786641537654183,
          0.4827365736963368,
          0.5750952174543276,
          0.04299627290282193,
          0.6658292510535873,
          0.04308222057616462,
          0.02646169743868665,
          0.030429393464288523,
          0.6907173659824899,
          0.15756688311749745,
          0.7061273301373168,
          0.10856270859546047,
          0.14979678479898517,
          0.6346544896091849,
          0.0,
          0.6006440234934731,
          0.11213182814676803,
          0.4874122978895973,
          0.191170004284134,
          0.0,
          0.06327656367746803,
          0.14946613591345437,
          0.03512054825841304,
          0.20543927314132848,
          0.16318210777032316,
          0.16438119739266044,
          0.29808043489272207,
          0.027963101230761733,
          0.21709040960439563,
          0.16396611490526303,
          0.5426652769234641,
          -0.007699846003079713,
          0.08696333409695789
         ],
         "type": "violin",
         "xaxis": "x27",
         "yaxis": "y27"
        },
        {
         "name": "",
         "points": "all",
         "showlegend": false,
         "side": "positive",
         "y": [
          0.5024663649327299,
          0.4980411876270575,
          0.21147000932726423,
          0.3359227936787784,
          0.30226862295714774,
          0.7357341812714141,
          0.5501716929073167,
          0.06954225352112664,
          0.48319846441064285,
          0.6693590019142965,
          0.39420772003284144,
          0.38646069773800706,
          0.5498905526530107,
          0.09490467937608305,
          0.44350598975261346,
          0.532645624188423,
          0.6769063859282549,
          -0.055576387400899874,
          0.34212708255008795,
          0.7470493393319795,
          0.003503416698463435,
          0.7193651843596641,
          0.34634187207725853,
          0.4810486885880232,
          0.7114254624591947,
          0.9329234707644004,
          0.3295236553482537,
          0.41721910967060905,
          0.24101205580764473,
          0.6819195564353246,
          0.37885019997346314,
          0.21156080657580245,
          0.36893948896546136,
          0.5989186934025204,
          0.518252715974899,
          0.5162392699944958,
          0.5217410356551936,
          0.5033313654381378,
          0.5596289075335713,
          0.9072352687354187,
          0.34793441344478004,
          0.3091045924383339,
          0.5122627368354091,
          0.655685889782389,
          0.6548563054628349,
          0.6710092170856794,
          0.7775777717685348,
          0.945005584421891,
          0.22448993993638877,
          0.4604727785165631,
          0.4530449275902191,
          0.30690835149329176,
          0.5317648064951743,
          0.5548101532250638,
          0.4919208882160343,
          0.33634009705574175,
          0.7404490262950332,
          0.26607966220326673
         ],
         "type": "violin",
         "xaxis": "x28",
         "yaxis": "y28"
        }
       ],
       "layout": {
        "template": {
         "data": {
          "histogram2dcontour": [
           {
            "type": "histogram2dcontour",
            "colorbar": {
             "outlinewidth": 0,
             "ticks": ""
            },
            "colorscale": [
             [
              0.0,
              "#0d0887"
             ],
             [
              0.1111111111111111,
              "#46039f"
             ],
             [
              0.2222222222222222,
              "#7201a8"
             ],
             [
              0.3333333333333333,
              "#9c179e"
             ],
             [
              0.4444444444444444,
              "#bd3786"
             ],
             [
              0.5555555555555556,
              "#d8576b"
             ],
             [
              0.6666666666666666,
              "#ed7953"
             ],
             [
              0.7777777777777778,
              "#fb9f3a"
             ],
             [
              0.8888888888888888,
              "#fdca26"
             ],
             [
              1.0,
              "#f0f921"
             ]
            ]
           }
          ],
          "choropleth": [
           {
            "type": "choropleth",
            "colorbar": {
             "outlinewidth": 0,
             "ticks": ""
            }
           }
          ],
          "histogram2d": [
           {
            "type": "histogram2d",
            "colorbar": {
             "outlinewidth": 0,
             "ticks": ""
            },
            "colorscale": [
             [
              0.0,
              "#0d0887"
             ],
             [
              0.1111111111111111,
              "#46039f"
             ],
             [
              0.2222222222222222,
              "#7201a8"
             ],
             [
              0.3333333333333333,
              "#9c179e"
             ],
             [
              0.4444444444444444,
              "#bd3786"
             ],
             [
              0.5555555555555556,
              "#d8576b"
             ],
             [
              0.6666666666666666,
              "#ed7953"
             ],
             [
              0.7777777777777778,
              "#fb9f3a"
             ],
             [
              0.8888888888888888,
              "#fdca26"
             ],
             [
              1.0,
              "#f0f921"
             ]
            ]
           }
          ],
          "heatmap": [
           {
            "type": "heatmap",
            "colorbar": {
             "outlinewidth": 0,
             "ticks": ""
            },
            "colorscale": [
             [
              0.0,
              "#0d0887"
             ],
             [
              0.1111111111111111,
              "#46039f"
             ],
             [
              0.2222222222222222,
              "#7201a8"
             ],
             [
              0.3333333333333333,
              "#9c179e"
             ],
             [
              0.4444444444444444,
              "#bd3786"
             ],
             [
              0.5555555555555556,
              "#d8576b"
             ],
             [
              0.6666666666666666,
              "#ed7953"
             ],
             [
              0.7777777777777778,
              "#fb9f3a"
             ],
             [
              0.8888888888888888,
              "#fdca26"
             ],
             [
              1.0,
              "#f0f921"
             ]
            ]
           }
          ],
          "heatmapgl": [
           {
            "type": "heatmapgl",
            "colorbar": {
             "outlinewidth": 0,
             "ticks": ""
            },
            "colorscale": [
             [
              0.0,
              "#0d0887"
             ],
             [
              0.1111111111111111,
              "#46039f"
             ],
             [
              0.2222222222222222,
              "#7201a8"
             ],
             [
              0.3333333333333333,
              "#9c179e"
             ],
             [
              0.4444444444444444,
              "#bd3786"
             ],
             [
              0.5555555555555556,
              "#d8576b"
             ],
             [
              0.6666666666666666,
              "#ed7953"
             ],
             [
              0.7777777777777778,
              "#fb9f3a"
             ],
             [
              0.8888888888888888,
              "#fdca26"
             ],
             [
              1.0,
              "#f0f921"
             ]
            ]
           }
          ],
          "contourcarpet": [
           {
            "type": "contourcarpet",
            "colorbar": {
             "outlinewidth": 0,
             "ticks": ""
            }
           }
          ],
          "contour": [
           {
            "type": "contour",
            "colorbar": {
             "outlinewidth": 0,
             "ticks": ""
            },
            "colorscale": [
             [
              0.0,
              "#0d0887"
             ],
             [
              0.1111111111111111,
              "#46039f"
             ],
             [
              0.2222222222222222,
              "#7201a8"
             ],
             [
              0.3333333333333333,
              "#9c179e"
             ],
             [
              0.4444444444444444,
              "#bd3786"
             ],
             [
              0.5555555555555556,
              "#d8576b"
             ],
             [
              0.6666666666666666,
              "#ed7953"
             ],
             [
              0.7777777777777778,
              "#fb9f3a"
             ],
             [
              0.8888888888888888,
              "#fdca26"
             ],
             [
              1.0,
              "#f0f921"
             ]
            ]
           }
          ],
          "surface": [
           {
            "type": "surface",
            "colorbar": {
             "outlinewidth": 0,
             "ticks": ""
            },
            "colorscale": [
             [
              0.0,
              "#0d0887"
             ],
             [
              0.1111111111111111,
              "#46039f"
             ],
             [
              0.2222222222222222,
              "#7201a8"
             ],
             [
              0.3333333333333333,
              "#9c179e"
             ],
             [
              0.4444444444444444,
              "#bd3786"
             ],
             [
              0.5555555555555556,
              "#d8576b"
             ],
             [
              0.6666666666666666,
              "#ed7953"
             ],
             [
              0.7777777777777778,
              "#fb9f3a"
             ],
             [
              0.8888888888888888,
              "#fdca26"
             ],
             [
              1.0,
              "#f0f921"
             ]
            ]
           }
          ],
          "mesh3d": [
           {
            "type": "mesh3d",
            "colorbar": {
             "outlinewidth": 0,
             "ticks": ""
            }
           }
          ],
          "scatter": [
           {
            "marker": {
             "line": {
              "color": "#283442"
             }
            },
            "type": "scatter"
           }
          ],
          "parcoords": [
           {
            "type": "parcoords",
            "line": {
             "colorbar": {
              "outlinewidth": 0,
              "ticks": ""
             }
            }
           }
          ],
          "scatterpolargl": [
           {
            "type": "scatterpolargl",
            "marker": {
             "colorbar": {
              "outlinewidth": 0,
              "ticks": ""
             }
            }
           }
          ],
          "bar": [
           {
            "error_x": {
             "color": "#f2f5fa"
            },
            "error_y": {
             "color": "#f2f5fa"
            },
            "marker": {
             "line": {
              "color": "rgb(17,17,17)",
              "width": 0.5
             },
             "pattern": {
              "fillmode": "overlay",
              "size": 10,
              "solidity": 0.2
             }
            },
            "type": "bar"
           }
          ],
          "scattergeo": [
           {
            "type": "scattergeo",
            "marker": {
             "colorbar": {
              "outlinewidth": 0,
              "ticks": ""
             }
            }
           }
          ],
          "scatterpolar": [
           {
            "type": "scatterpolar",
            "marker": {
             "colorbar": {
              "outlinewidth": 0,
              "ticks": ""
             }
            }
           }
          ],
          "histogram": [
           {
            "marker": {
             "pattern": {
              "fillmode": "overlay",
              "size": 10,
              "solidity": 0.2
             }
            },
            "type": "histogram"
           }
          ],
          "scattergl": [
           {
            "marker": {
             "line": {
              "color": "#283442"
             }
            },
            "type": "scattergl"
           }
          ],
          "scatter3d": [
           {
            "type": "scatter3d",
            "line": {
             "colorbar": {
              "outlinewidth": 0,
              "ticks": ""
             }
            },
            "marker": {
             "colorbar": {
              "outlinewidth": 0,
              "ticks": ""
             }
            }
           }
          ],
          "scattermapbox": [
           {
            "type": "scattermapbox",
            "marker": {
             "colorbar": {
              "outlinewidth": 0,
              "ticks": ""
             }
            }
           }
          ],
          "scatterternary": [
           {
            "type": "scatterternary",
            "marker": {
             "colorbar": {
              "outlinewidth": 0,
              "ticks": ""
             }
            }
           }
          ],
          "scattercarpet": [
           {
            "type": "scattercarpet",
            "marker": {
             "colorbar": {
              "outlinewidth": 0,
              "ticks": ""
             }
            }
           }
          ],
          "carpet": [
           {
            "aaxis": {
             "endlinecolor": "#A2B1C6",
             "gridcolor": "#506784",
             "linecolor": "#506784",
             "minorgridcolor": "#506784",
             "startlinecolor": "#A2B1C6"
            },
            "baxis": {
             "endlinecolor": "#A2B1C6",
             "gridcolor": "#506784",
             "linecolor": "#506784",
             "minorgridcolor": "#506784",
             "startlinecolor": "#A2B1C6"
            },
            "type": "carpet"
           }
          ],
          "table": [
           {
            "cells": {
             "fill": {
              "color": "#506784"
             },
             "line": {
              "color": "rgb(17,17,17)"
             }
            },
            "header": {
             "fill": {
              "color": "#2a3f5f"
             },
             "line": {
              "color": "rgb(17,17,17)"
             }
            },
            "type": "table"
           }
          ],
          "barpolar": [
           {
            "marker": {
             "line": {
              "color": "rgb(17,17,17)",
              "width": 0.5
             },
             "pattern": {
              "fillmode": "overlay",
              "size": 10,
              "solidity": 0.2
             }
            },
            "type": "barpolar"
           }
          ],
          "pie": [
           {
            "automargin": true,
            "type": "pie"
           }
          ]
         },
         "layout": {
          "autotypenumbers": "strict",
          "colorway": [
           "#636efa",
           "#EF553B",
           "#00cc96",
           "#ab63fa",
           "#FFA15A",
           "#19d3f3",
           "#FF6692",
           "#B6E880",
           "#FF97FF",
           "#FECB52"
          ],
          "font": {
           "color": "#f2f5fa"
          },
          "hovermode": "closest",
          "hoverlabel": {
           "align": "left"
          },
          "paper_bgcolor": "rgb(17,17,17)",
          "plot_bgcolor": "rgb(17,17,17)",
          "polar": {
           "bgcolor": "rgb(17,17,17)",
           "angularaxis": {
            "gridcolor": "#506784",
            "linecolor": "#506784",
            "ticks": ""
           },
           "radialaxis": {
            "gridcolor": "#506784",
            "linecolor": "#506784",
            "ticks": ""
           }
          },
          "ternary": {
           "bgcolor": "rgb(17,17,17)",
           "aaxis": {
            "gridcolor": "#506784",
            "linecolor": "#506784",
            "ticks": ""
           },
           "baxis": {
            "gridcolor": "#506784",
            "linecolor": "#506784",
            "ticks": ""
           },
           "caxis": {
            "gridcolor": "#506784",
            "linecolor": "#506784",
            "ticks": ""
           }
          },
          "coloraxis": {
           "colorbar": {
            "outlinewidth": 0,
            "ticks": ""
           }
          },
          "colorscale": {
           "sequential": [
            [
             0.0,
             "#0d0887"
            ],
            [
             0.1111111111111111,
             "#46039f"
            ],
            [
             0.2222222222222222,
             "#7201a8"
            ],
            [
             0.3333333333333333,
             "#9c179e"
            ],
            [
             0.4444444444444444,
             "#bd3786"
            ],
            [
             0.5555555555555556,
             "#d8576b"
            ],
            [
             0.6666666666666666,
             "#ed7953"
            ],
            [
             0.7777777777777778,
             "#fb9f3a"
            ],
            [
             0.8888888888888888,
             "#fdca26"
            ],
            [
             1.0,
             "#f0f921"
            ]
           ],
           "sequentialminus": [
            [
             0.0,
             "#0d0887"
            ],
            [
             0.1111111111111111,
             "#46039f"
            ],
            [
             0.2222222222222222,
             "#7201a8"
            ],
            [
             0.3333333333333333,
             "#9c179e"
            ],
            [
             0.4444444444444444,
             "#bd3786"
            ],
            [
             0.5555555555555556,
             "#d8576b"
            ],
            [
             0.6666666666666666,
             "#ed7953"
            ],
            [
             0.7777777777777778,
             "#fb9f3a"
            ],
            [
             0.8888888888888888,
             "#fdca26"
            ],
            [
             1.0,
             "#f0f921"
            ]
           ],
           "diverging": [
            [
             0,
             "#8e0152"
            ],
            [
             0.1,
             "#c51b7d"
            ],
            [
             0.2,
             "#de77ae"
            ],
            [
             0.3,
             "#f1b6da"
            ],
            [
             0.4,
             "#fde0ef"
            ],
            [
             0.5,
             "#f7f7f7"
            ],
            [
             0.6,
             "#e6f5d0"
            ],
            [
             0.7,
             "#b8e186"
            ],
            [
             0.8,
             "#7fbc41"
            ],
            [
             0.9,
             "#4d9221"
            ],
            [
             1,
             "#276419"
            ]
           ]
          },
          "xaxis": {
           "gridcolor": "#283442",
           "linecolor": "#506784",
           "ticks": "",
           "title": {
            "standoff": 15
           },
           "zerolinecolor": "#283442",
           "automargin": true,
           "zerolinewidth": 2
          },
          "yaxis": {
           "gridcolor": "#283442",
           "linecolor": "#506784",
           "ticks": "",
           "title": {
            "standoff": 15
           },
           "zerolinecolor": "#283442",
           "automargin": true,
           "zerolinewidth": 2
          },
          "scene": {
           "xaxis": {
            "backgroundcolor": "rgb(17,17,17)",
            "gridcolor": "#506784",
            "linecolor": "#506784",
            "showbackground": true,
            "ticks": "",
            "zerolinecolor": "#C8D4E3",
            "gridwidth": 2
           },
           "yaxis": {
            "backgroundcolor": "rgb(17,17,17)",
            "gridcolor": "#506784",
            "linecolor": "#506784",
            "showbackground": true,
            "ticks": "",
            "zerolinecolor": "#C8D4E3",
            "gridwidth": 2
           },
           "zaxis": {
            "backgroundcolor": "rgb(17,17,17)",
            "gridcolor": "#506784",
            "linecolor": "#506784",
            "showbackground": true,
            "ticks": "",
            "zerolinecolor": "#C8D4E3",
            "gridwidth": 2
           }
          },
          "shapedefaults": {
           "line": {
            "color": "#f2f5fa"
           }
          },
          "annotationdefaults": {
           "arrowcolor": "#f2f5fa",
           "arrowhead": 0,
           "arrowwidth": 1
          },
          "geo": {
           "bgcolor": "rgb(17,17,17)",
           "landcolor": "rgb(17,17,17)",
           "subunitcolor": "#506784",
           "showland": true,
           "showlakes": true,
           "lakecolor": "rgb(17,17,17)"
          },
          "title": {
           "x": 0.05
          },
          "updatemenudefaults": {
           "bgcolor": "#506784",
           "borderwidth": 0
          },
          "sliderdefaults": {
           "bgcolor": "#C8D4E3",
           "borderwidth": 1,
           "bordercolor": "rgb(17,17,17)",
           "tickwidth": 0
          },
          "mapbox": {
           "style": "dark"
          }
         }
        },
        "xaxis": {
         "anchor": "y",
         "domain": [
          0.0,
          0.11551020408163264
         ]
        },
        "yaxis": {
         "anchor": "x",
         "domain": [
          0.80625,
          1.0
         ]
        },
        "xaxis2": {
         "anchor": "y2",
         "domain": [
          0.1440816326530612,
          0.2595918367346938
         ]
        },
        "yaxis2": {
         "anchor": "x2",
         "domain": [
          0.80625,
          1.0
         ]
        },
        "xaxis3": {
         "anchor": "y3",
         "domain": [
          0.2881632653061224,
          0.40367346938775506
         ]
        },
        "yaxis3": {
         "anchor": "x3",
         "domain": [
          0.80625,
          1.0
         ]
        },
        "xaxis4": {
         "anchor": "y4",
         "domain": [
          0.43224489795918364,
          0.5477551020408162
         ]
        },
        "yaxis4": {
         "anchor": "x4",
         "domain": [
          0.80625,
          1.0
         ]
        },
        "xaxis5": {
         "anchor": "y5",
         "domain": [
          0.5763265306122448,
          0.6918367346938774
         ]
        },
        "yaxis5": {
         "anchor": "x5",
         "domain": [
          0.80625,
          1.0
         ]
        },
        "xaxis6": {
         "anchor": "y6",
         "domain": [
          0.7204081632653061,
          0.8359183673469387
         ]
        },
        "yaxis6": {
         "anchor": "x6",
         "domain": [
          0.80625,
          1.0
         ]
        },
        "xaxis7": {
         "anchor": "y7",
         "domain": [
          0.8644897959183673,
          0.9799999999999999
         ]
        },
        "yaxis7": {
         "anchor": "x7",
         "domain": [
          0.80625,
          1.0
         ]
        },
        "xaxis8": {
         "anchor": "y8",
         "domain": [
          0.0,
          0.11551020408163264
         ]
        },
        "yaxis8": {
         "anchor": "x8",
         "domain": [
          0.5375,
          0.73125
         ]
        },
        "xaxis9": {
         "anchor": "y9",
         "domain": [
          0.1440816326530612,
          0.2595918367346938
         ]
        },
        "yaxis9": {
         "anchor": "x9",
         "domain": [
          0.5375,
          0.73125
         ]
        },
        "xaxis10": {
         "anchor": "y10",
         "domain": [
          0.2881632653061224,
          0.40367346938775506
         ]
        },
        "yaxis10": {
         "anchor": "x10",
         "domain": [
          0.5375,
          0.73125
         ]
        },
        "xaxis11": {
         "anchor": "y11",
         "domain": [
          0.43224489795918364,
          0.5477551020408162
         ]
        },
        "yaxis11": {
         "anchor": "x11",
         "domain": [
          0.5375,
          0.73125
         ]
        },
        "xaxis12": {
         "anchor": "y12",
         "domain": [
          0.5763265306122448,
          0.6918367346938774
         ]
        },
        "yaxis12": {
         "anchor": "x12",
         "domain": [
          0.5375,
          0.73125
         ]
        },
        "xaxis13": {
         "anchor": "y13",
         "domain": [
          0.7204081632653061,
          0.8359183673469387
         ]
        },
        "yaxis13": {
         "anchor": "x13",
         "domain": [
          0.5375,
          0.73125
         ]
        },
        "xaxis14": {
         "anchor": "y14",
         "domain": [
          0.8644897959183673,
          0.9799999999999999
         ]
        },
        "yaxis14": {
         "anchor": "x14",
         "domain": [
          0.5375,
          0.73125
         ]
        },
        "xaxis15": {
         "anchor": "y15",
         "domain": [
          0.0,
          0.11551020408163264
         ]
        },
        "yaxis15": {
         "anchor": "x15",
         "domain": [
          0.26875,
          0.4625
         ]
        },
        "xaxis16": {
         "anchor": "y16",
         "domain": [
          0.1440816326530612,
          0.2595918367346938
         ]
        },
        "yaxis16": {
         "anchor": "x16",
         "domain": [
          0.26875,
          0.4625
         ]
        },
        "xaxis17": {
         "anchor": "y17",
         "domain": [
          0.2881632653061224,
          0.40367346938775506
         ]
        },
        "yaxis17": {
         "anchor": "x17",
         "domain": [
          0.26875,
          0.4625
         ]
        },
        "xaxis18": {
         "anchor": "y18",
         "domain": [
          0.43224489795918364,
          0.5477551020408162
         ]
        },
        "yaxis18": {
         "anchor": "x18",
         "domain": [
          0.26875,
          0.4625
         ]
        },
        "xaxis19": {
         "anchor": "y19",
         "domain": [
          0.5763265306122448,
          0.6918367346938774
         ]
        },
        "yaxis19": {
         "anchor": "x19",
         "domain": [
          0.26875,
          0.4625
         ]
        },
        "xaxis20": {
         "anchor": "y20",
         "domain": [
          0.7204081632653061,
          0.8359183673469387
         ]
        },
        "yaxis20": {
         "anchor": "x20",
         "domain": [
          0.26875,
          0.4625
         ]
        },
        "xaxis21": {
         "anchor": "y21",
         "domain": [
          0.8644897959183673,
          0.9799999999999999
         ]
        },
        "yaxis21": {
         "anchor": "x21",
         "domain": [
          0.26875,
          0.4625
         ]
        },
        "xaxis22": {
         "anchor": "y22",
         "domain": [
          0.0,
          0.11551020408163264
         ]
        },
        "yaxis22": {
         "anchor": "x22",
         "domain": [
          0.0,
          0.19375
         ]
        },
        "xaxis23": {
         "anchor": "y23",
         "domain": [
          0.1440816326530612,
          0.2595918367346938
         ]
        },
        "yaxis23": {
         "anchor": "x23",
         "domain": [
          0.0,
          0.19375
         ]
        },
        "xaxis24": {
         "anchor": "y24",
         "domain": [
          0.2881632653061224,
          0.40367346938775506
         ]
        },
        "yaxis24": {
         "anchor": "x24",
         "domain": [
          0.0,
          0.19375
         ]
        },
        "xaxis25": {
         "anchor": "y25",
         "domain": [
          0.43224489795918364,
          0.5477551020408162
         ]
        },
        "yaxis25": {
         "anchor": "x25",
         "domain": [
          0.0,
          0.19375
         ]
        },
        "xaxis26": {
         "anchor": "y26",
         "domain": [
          0.5763265306122448,
          0.6918367346938774
         ]
        },
        "yaxis26": {
         "anchor": "x26",
         "domain": [
          0.0,
          0.19375
         ]
        },
        "xaxis27": {
         "anchor": "y27",
         "domain": [
          0.7204081632653061,
          0.8359183673469387
         ]
        },
        "yaxis27": {
         "anchor": "x27",
         "domain": [
          0.0,
          0.19375
         ]
        },
        "xaxis28": {
         "anchor": "y28",
         "domain": [
          0.8644897959183673,
          0.9799999999999999
         ]
        },
        "yaxis28": {
         "anchor": "x28",
         "domain": [
          0.0,
          0.19375
         ]
        },
        "annotations": [
         {
          "font": {
           "size": 16
          },
          "showarrow": false,
          "text": "MN→RA",
          "x": 0.05775510204081632,
          "xanchor": "center",
          "xref": "paper",
          "y": 1.0,
          "yanchor": "bottom",
          "yref": "paper"
         },
         {
          "font": {
           "size": 16
          },
          "showarrow": false,
          "text": "MN→EngbertDetector{'λ':5,'ws':2}",
          "x": 0.20183673469387753,
          "xanchor": "center",
          "xref": "paper",
          "y": 1.0,
          "yanchor": "bottom",
          "yref": "paper"
         },
         {
          "font": {
           "size": 16
          },
          "showarrow": false,
          "text": "MN→NHDetector",
          "x": 0.3459183673469387,
          "xanchor": "center",
          "xref": "paper",
          "y": 1.0,
          "yanchor": "bottom",
          "yref": "paper"
         },
         {
          "font": {
           "size": 16
          },
          "showarrow": false,
          "text": "MN→REMoDNaVDetector",
          "x": 0.48999999999999994,
          "xanchor": "center",
          "xref": "paper",
          "y": 1.0,
          "yanchor": "bottom",
          "yref": "paper"
         },
         {
          "font": {
           "size": 16
          },
          "showarrow": false,
          "text": "RA→EngbertDetector{'λ':5,'ws':2}",
          "x": 0.6340816326530612,
          "xanchor": "center",
          "xref": "paper",
          "y": 1.0,
          "yanchor": "bottom",
          "yref": "paper"
         },
         {
          "font": {
           "size": 16
          },
          "showarrow": false,
          "text": "RA→NHDetector",
          "x": 0.7781632653061223,
          "xanchor": "center",
          "xref": "paper",
          "y": 1.0,
          "yanchor": "bottom",
          "yref": "paper"
         },
         {
          "font": {
           "size": 16
          },
          "showarrow": false,
          "text": "RA→REMoDNaVDetector",
          "x": 0.9222448979591835,
          "xanchor": "center",
          "xref": "paper",
          "y": 1.0,
          "yanchor": "bottom",
          "yref": "paper"
         },
         {
          "font": {
           "size": 16
          },
          "showarrow": false,
          "text": "img",
          "textangle": 90,
          "x": 0.9799999999999999,
          "xanchor": "left",
          "xref": "paper",
          "y": 0.903125,
          "yanchor": "middle",
          "yref": "paper"
         },
         {
          "font": {
           "size": 16
          },
          "showarrow": false,
          "text": "moving dot",
          "textangle": 90,
          "x": 0.9799999999999999,
          "xanchor": "left",
          "xref": "paper",
          "y": 0.6343749999999999,
          "yanchor": "middle",
          "yref": "paper"
         },
         {
          "font": {
           "size": 16
          },
          "showarrow": false,
          "text": "video",
          "textangle": 90,
          "x": 0.9799999999999999,
          "xanchor": "left",
          "xref": "paper",
          "y": 0.365625,
          "yanchor": "middle",
          "yref": "paper"
         },
         {
          "font": {
           "size": 16
          },
          "showarrow": false,
          "text": "all",
          "textangle": 90,
          "x": 0.9799999999999999,
          "xanchor": "left",
          "xref": "paper",
          "y": 0.096875,
          "yanchor": "middle",
          "yref": "paper"
         }
        ],
        "title": {
         "text": "Cohen's Kappa Distribution"
        },
        "showlegend": false
       },
       "config": {
        "plotlyServerURL": "https://plot.ly"
       }
      },
      "text/html": "<div>                            <div id=\"cecf93c5-da15-4c32-90f7-e17543b19ac7\" class=\"plotly-graph-div\" style=\"height:525px; width:100%;\"></div>            <script type=\"text/javascript\">                require([\"plotly\"], function(Plotly) {                    window.PLOTLYENV=window.PLOTLYENV || {};                                    if (document.getElementById(\"cecf93c5-da15-4c32-90f7-e17543b19ac7\")) {                    Plotly.newPlot(                        \"cecf93c5-da15-4c32-90f7-e17543b19ac7\",                        [{\"name\":\"\",\"points\":\"all\",\"showlegend\":false,\"side\":\"positive\",\"y\":[0.7899374642998439,0.22120621559937914,null,null,null,0.7200549475263476,0.677382293683207,null,null,null,0.9054133078487512,0.8955694420828169,0.9064000004383075,0.7924612058168573,0.8364267811215045,0.8405848106589864,0.8546864376292359,0.8962768567029877,0.8357095131889745,0.9002713399903137],\"type\":\"violin\",\"xaxis\":\"x\",\"yaxis\":\"y\"},{\"name\":\"\",\"points\":\"all\",\"showlegend\":false,\"side\":\"positive\",\"y\":[0.7884508374381723,0.6272129627851997,null,null,null,0.687699037221917,0.5447705784467276,null,null,null,0.6882957373830271,0.7354908544745629,0.8180989112541991,0.7657880122541643,0.6096363421918443,0.6426034109779192,0.5876769063445428,0.5109961161847073,0.7463460286880816,0.5962993277096236],\"type\":\"violin\",\"xaxis\":\"x2\",\"yaxis\":\"y2\"},{\"name\":\"\",\"points\":\"all\",\"showlegend\":false,\"side\":\"positive\",\"y\":[0.7287365548492191,0.5551808964224539,null,null,null,0.6548599649762421,0.07189350050080101,null,null,null,0.669725591479187,0.7256229129240234,0.6971427553501988,0.7104953550996329,0.5957281337883404,0.5418407575451021,0.237019508193673,0.3155465596548358,0.2370405874422169,0.5269122560805266],\"type\":\"violin\",\"xaxis\":\"x3\",\"yaxis\":\"y3\"},{\"name\":\"\",\"points\":\"all\",\"showlegend\":false,\"side\":\"positive\",\"y\":[0.5807513977022312,0.13222449206253317,null,null,null,0.4931662664524167,0.4038355008085035,null,null,null,0.6936604745780313,0.6097038028958383,0.49526427201021694,0.4841744812215787,0.35822701114472044,0.45053893115363575,0.2125064303485772,0.2708155437639095,0.5606822453653332,0.3404990949260527],\"type\":\"violin\",\"xaxis\":\"x4\",\"yaxis\":\"y4\"},{\"name\":\"\",\"points\":\"all\",\"showlegend\":false,\"side\":\"positive\",\"y\":[0.6916804696785008,0.18842997769046677,0.7790608319218285,0.6877261439172008,0.6809052398184181,0.5832582162044126,0.5134906776138806,0.3143961980254292,0.5337550405311429,0.6077996741304625,0.6716382017565956,0.7021062601933605,0.7929656049059585,0.6753891762637367,0.650751138637732,0.5914934542981384,0.5180157753597492,0.49159704402447213,0.7213872523479353,0.6135361560868307],\"type\":\"violin\",\"xaxis\":\"x5\",\"yaxis\":\"y5\"},{\"name\":\"\",\"points\":\"all\",\"showlegend\":false,\"side\":\"positive\",\"y\":[0.635393273929046,0.21149893396064856,0.06223208027844496,0.6718417549287444,0.6053273450562591,0.5658775727229977,0.07363072999345355,0.2909539057194641,0.4827365736963368,0.5750952174543276,0.6658292510535873,0.6907173659824899,0.7061273301373168,0.6346544896091849,0.6006440234934731,0.4874122978895973,0.20543927314132848,0.29808043489272207,0.21709040960439563,0.5426652769234641],\"type\":\"violin\",\"xaxis\":\"x6\",\"yaxis\":\"y6\"},{\"name\":\"\",\"points\":\"all\",\"showlegend\":false,\"side\":\"positive\",\"y\":[0.4980411876270575,0.21147000932726423,0.5501716929073167,0.6693590019142965,0.5498905526530107,0.532645624188423,0.34212708255008795,0.4810486885880232,0.3295236553482537,0.41721910967060905,0.6819195564353246,0.5989186934025204,0.5162392699944958,0.5596289075335713,0.34793441344478004,0.5122627368354091,0.22448993993638877,0.30690835149329176,0.5548101532250638,0.33634009705574175],\"type\":\"violin\",\"xaxis\":\"x7\",\"yaxis\":\"y7\"},{\"name\":\"\",\"points\":\"all\",\"showlegend\":false,\"side\":\"positive\",\"y\":[0.8403898618482474,null,null,0.829576038199971,null,0.9622720079953361,-0.06391770966495236,null,null,0.7111722057017462,0.8623052959501558,null,0.27324913892078084,null,0.9279824487027302,null,0.3298358049128728,0.8573823822348996,null],\"type\":\"violin\",\"xaxis\":\"x8\",\"yaxis\":\"y8\"},{\"name\":\"\",\"points\":\"all\",\"showlegend\":false,\"side\":\"positive\",\"y\":[0.03156060907577163,null,null,-5.926540530132307e-05,null,0.11899962305586964,0.05562060022230442,null,null,0.07327797774869116,0.05382570543376475,null,-0.011700589912880588,null,0.09573770886068345,null,0.0924511330219685,0.08318141233059695,null],\"type\":\"violin\",\"xaxis\":\"x9\",\"yaxis\":\"y9\"},{\"name\":\"\",\"points\":\"all\",\"showlegend\":false,\"side\":\"positive\",\"y\":[0.03436980360279629,null,null,-0.009608572440666041,null,0.0390247628897481,0.04756840469900947,null,null,0.09779415405436631,0.04962517404552247,null,0.0,null,0.05100248129969398,null,0.06658004608215096,0.03153128381121395,null],\"type\":\"violin\",\"xaxis\":\"x10\",\"yaxis\":\"y10\"},{\"name\":\"\",\"points\":\"all\",\"showlegend\":false,\"side\":\"positive\",\"y\":[0.4863087021764112,null,null,0.09280632411067191,null,0.6746403846537519,0.43736027159062674,null,null,0.27153726944769074,0.43891191709844557,null,0.2809039243435092,null,0.6349222159842078,null,0.5529220022218463,0.47348110033643387,null],\"type\":\"violin\",\"xaxis\":\"x11\",\"yaxis\":\"y11\"},{\"name\":\"\",\"points\":\"all\",\"showlegend\":false,\"side\":\"positive\",\"y\":[0.021770431489584907,0.15063749005925964,0.1866849441364502,0.0012872869318181213,0.017588572613985054,0.12142634710256173,-0.004019031295251052,0.003627242909511885,0.017395518579573888,0.061045617427223475,0.03791570947033962,0.15203887353919743,0.3426817954756298,0.1812819999851809,0.10219990751139574,0.13223722054988074,0.24916256192448216,0.08254864956688435,0.08260513223054644],\"type\":\"violin\",\"xaxis\":\"x12\",\"yaxis\":\"y12\"},{\"name\":\"\",\"points\":\"all\",\"showlegend\":false,\"side\":\"positive\",\"y\":[0.019709464625173534,0.1260430048922282,0.17415373061105832,-0.0083138017954274,0.008829924124772681,0.038385757511786744,-0.004036519492719437,0.0,0.019147959839209805,0.04308222057616462,0.030429393464288523,0.14979678479898517,0.0,0.0,0.06327656367746803,0.03512054825841304,0.16318210777032316,0.027963101230761733,-0.007699846003079713],\"type\":\"violin\",\"xaxis\":\"x13\",\"yaxis\":\"y13\"},{\"name\":\"\",\"points\":\"all\",\"showlegend\":false,\"side\":\"positive\",\"y\":[0.5024663649327299,0.3359227936787784,0.7357341812714141,0.06954225352112664,0.09490467937608305,0.6769063859282549,-0.055576387400899874,0.003503416698463435,0.7114254624591947,0.37885019997346314,0.36893948896546136,0.5033313654381378,0.9072352687354187,0.6548563054628349,0.6710092170856794,0.945005584421891,0.4604727785165631,0.5317648064951743,0.7404490262950332],\"type\":\"violin\",\"xaxis\":\"x14\",\"yaxis\":\"y14\"},{\"name\":\"\",\"points\":\"all\",\"showlegend\":false,\"side\":\"positive\",\"y\":[0.44743731791213837,0.25908645042522194,null,null,null,0.8570214060467125,null,null,null,null,0.6265618549523779,null,0.7354293738746817,0.6451589478471684,0.8728476052249637,0.8722355803161519,0.762317145436232,null,null],\"type\":\"violin\",\"xaxis\":\"x15\",\"yaxis\":\"y15\"},{\"name\":\"\",\"points\":\"all\",\"showlegend\":false,\"side\":\"positive\",\"y\":[0.1147968573763517,0.3932448817349826,null,null,null,0.11300505360385626,null,null,null,null,0.025547179173421974,null,0.16749421781886908,0.14531176378200095,0.22973995433415695,0.1785992214144787,0.18718364110818708,null,null],\"type\":\"violin\",\"xaxis\":\"x16\",\"yaxis\":\"y16\"},{\"name\":\"\",\"points\":\"all\",\"showlegend\":false,\"side\":\"positive\",\"y\":[0.13279258017328843,0.38848016582421696,null,null,null,0.11059807548562295,null,null,null,null,0.028668940018059308,null,0.16205488532760826,0.15989621199225568,0.252949675771838,0.16741853121502104,0.1528204868486025,null,null],\"type\":\"violin\",\"xaxis\":\"x17\",\"yaxis\":\"y17\"},{\"name\":\"\",\"points\":\"all\",\"showlegend\":false,\"side\":\"positive\",\"y\":[0.31806555606646114,0.21268843101545376,null,null,null,0.6251896733512059,null,null,null,null,0.27295329934494417,null,0.5426399233221467,0.25500102710928796,0.6752248871946926,0.7606805776829416,0.4726753714564633,null,null],\"type\":\"violin\",\"xaxis\":\"x18\",\"yaxis\":\"y18\"},{\"name\":\"\",\"points\":\"all\",\"showlegend\":false,\"side\":\"positive\",\"y\":[0.08014010506417513,0.1111974039789303,0.022102442863495164,0.0870073810332922,0.11737797965651953,0.12183982284554362,0.21466677852594618,0.06229972565862707,0.09242684310668936,0.04421068189848365,0.0211170505449646,0.13996272097555185,0.11376525941046511,0.0912609612414027,0.29045395499069615,0.1688379760279196,0.2035902696489087,0.17611967164029596,0.09490991479524236],\"type\":\"violin\",\"xaxis\":\"x19\",\"yaxis\":\"y19\"},{\"name\":\"\",\"points\":\"all\",\"showlegend\":false,\"side\":\"positive\",\"y\":[0.08735582410915954,0.11570367826683436,0.01701839814858641,0.08776643454549682,0.11773650233435595,0.10503147030892457,0.18702954774764902,0.05808175851998254,0.08786641537654183,0.04299627290282193,0.02646169743868665,0.15756688311749745,0.10856270859546047,0.11213182814676803,0.191170004284134,0.14946613591345437,0.16438119739266044,0.16396611490526303,0.08696333409695789],\"type\":\"violin\",\"xaxis\":\"x20\",\"yaxis\":\"y20\"},{\"name\":\"\",\"points\":\"all\",\"showlegend\":false,\"side\":\"positive\",\"y\":[0.30226862295714774,0.48319846441064285,0.39420772003284144,0.38646069773800706,0.44350598975261346,0.7470493393319795,0.7193651843596641,0.34634187207725853,0.9329234707644004,0.24101205580764473,0.21156080657580245,0.518252715974899,0.5217410356551936,0.3091045924383339,0.655685889782389,0.7775777717685348,0.4530449275902191,0.4919208882160343,0.26607966220326673],\"type\":\"violin\",\"xaxis\":\"x21\",\"yaxis\":\"y21\"},{\"name\":\"\",\"points\":\"all\",\"showlegend\":false,\"side\":\"positive\",\"y\":[0.8403898618482474,0.7899374642998439,0.22120621559937914,null,0.44743731791213837,null,null,0.829576038199971,0.25908645042522194,null,null,null,null,null,null,0.7200549475263476,0.9622720079953361,-0.06391770966495236,0.677382293683207,0.8570214060467125,null,null,null,null,null,null,null,null,null,0.9054133078487512,0.7111722057017462,0.6265618549523779,0.8623052959501558,0.8955694420828169,null,0.9064000004383075,0.7354293738746817,null,0.7924612058168573,0.27324913892078084,0.8364267811215045,0.6451589478471684,0.8405848106589864,0.8728476052249637,null,0.9279824487027302,0.8722355803161519,null,0.8546864376292359,0.3298358049128728,0.762317145436232,0.8962768567029877,0.8573823822348996,0.8357095131889745,null,0.9002713399903137,null,null],\"type\":\"violin\",\"xaxis\":\"x22\",\"yaxis\":\"y22\"},{\"name\":\"\",\"points\":\"all\",\"showlegend\":false,\"side\":\"positive\",\"y\":[0.03156060907577163,0.7884508374381723,0.6272129627851997,null,0.1147968573763517,null,null,-5.926540530132307e-05,0.3932448817349826,null,null,null,null,null,null,0.687699037221917,0.11899962305586964,0.05562060022230442,0.5447705784467276,0.11300505360385626,null,null,null,null,null,null,null,null,null,0.6882957373830271,0.07327797774869116,0.025547179173421974,0.05382570543376475,0.7354908544745629,null,0.8180989112541991,0.16749421781886908,null,0.7657880122541643,-0.011700589912880588,0.6096363421918443,0.14531176378200095,0.6426034109779192,0.22973995433415695,null,0.09573770886068345,0.1785992214144787,null,0.5876769063445428,0.0924511330219685,0.18718364110818708,0.5109961161847073,0.08318141233059695,0.7463460286880816,null,0.5962993277096236,null,null],\"type\":\"violin\",\"xaxis\":\"x23\",\"yaxis\":\"y23\"},{\"name\":\"\",\"points\":\"all\",\"showlegend\":false,\"side\":\"positive\",\"y\":[0.03436980360279629,0.7287365548492191,0.5551808964224539,null,0.13279258017328843,null,null,-0.009608572440666041,0.38848016582421696,null,null,null,null,null,null,0.6548599649762421,0.0390247628897481,0.04756840469900947,0.07189350050080101,0.11059807548562295,null,null,null,null,null,null,null,null,null,0.669725591479187,0.09779415405436631,0.028668940018059308,0.04962517404552247,0.7256229129240234,null,0.6971427553501988,0.16205488532760826,null,0.7104953550996329,0.0,0.5957281337883404,0.15989621199225568,0.5418407575451021,0.252949675771838,null,0.05100248129969398,0.16741853121502104,null,0.237019508193673,0.06658004608215096,0.1528204868486025,0.3155465596548358,0.03153128381121395,0.2370405874422169,null,0.5269122560805266,null,null],\"type\":\"violin\",\"xaxis\":\"x24\",\"yaxis\":\"y24\"},{\"name\":\"\",\"points\":\"all\",\"showlegend\":false,\"side\":\"positive\",\"y\":[0.4863087021764112,0.5807513977022312,0.13222449206253317,null,0.31806555606646114,null,null,0.09280632411067191,0.21268843101545376,null,null,null,null,null,null,0.4931662664524167,0.6746403846537519,0.43736027159062674,0.4038355008085035,0.6251896733512059,null,null,null,null,null,null,null,null,null,0.6936604745780313,0.27153726944769074,0.27295329934494417,0.43891191709844557,0.6097038028958383,null,0.49526427201021694,0.5426399233221467,null,0.4841744812215787,0.2809039243435092,0.35822701114472044,0.25500102710928796,0.45053893115363575,0.6752248871946926,null,0.6349222159842078,0.7606805776829416,null,0.2125064303485772,0.5529220022218463,0.4726753714564633,0.2708155437639095,0.47348110033643387,0.5606822453653332,null,0.3404990949260527,null,null],\"type\":\"violin\",\"xaxis\":\"x25\",\"yaxis\":\"y25\"},{\"name\":\"\",\"points\":\"all\",\"showlegend\":false,\"side\":\"positive\",\"y\":[0.021770431489584907,0.6916804696785008,0.18842997769046677,0.15063749005925964,0.08014010506417513,0.1866849441364502,0.7790608319218285,0.0012872869318181213,0.1111974039789303,0.6877261439172008,0.022102442863495164,0.0870073810332922,0.6809052398184181,0.017588572613985054,0.11737797965651953,0.5832582162044126,0.12142634710256173,-0.004019031295251052,0.5134906776138806,0.12183982284554362,0.003627242909511885,0.21466677852594618,0.06229972565862707,0.3143961980254292,0.017395518579573888,0.09242684310668936,0.5337550405311429,0.6077996741304625,0.04421068189848365,0.6716382017565956,0.061045617427223475,0.0211170505449646,0.03791570947033962,0.7021062601933605,0.13996272097555185,0.7929656049059585,0.11376525941046511,0.15203887353919743,0.6753891762637367,0.3426817954756298,0.650751138637732,0.0912609612414027,0.5914934542981384,0.29045395499069615,0.1812819999851809,0.10219990751139574,0.1688379760279196,0.13223722054988074,0.5180157753597492,0.24916256192448216,0.2035902696489087,0.49159704402447213,0.08254864956688435,0.7213872523479353,0.17611967164029596,0.6135361560868307,0.08260513223054644,0.09490991479524236],\"type\":\"violin\",\"xaxis\":\"x26\",\"yaxis\":\"y26\"},{\"name\":\"\",\"points\":\"all\",\"showlegend\":false,\"side\":\"positive\",\"y\":[0.019709464625173534,0.635393273929046,0.21149893396064856,0.1260430048922282,0.08735582410915954,0.17415373061105832,0.06223208027844496,-0.0083138017954274,0.11570367826683436,0.6718417549287444,0.01701839814858641,0.08776643454549682,0.6053273450562591,0.008829924124772681,0.11773650233435595,0.5658775727229977,0.038385757511786744,-0.004036519492719437,0.07363072999345355,0.10503147030892457,0.0,0.18702954774764902,0.05808175851998254,0.2909539057194641,0.019147959839209805,0.08786641537654183,0.4827365736963368,0.5750952174543276,0.04299627290282193,0.6658292510535873,0.04308222057616462,0.02646169743868665,0.030429393464288523,0.6907173659824899,0.15756688311749745,0.7061273301373168,0.10856270859546047,0.14979678479898517,0.6346544896091849,0.0,0.6006440234934731,0.11213182814676803,0.4874122978895973,0.191170004284134,0.0,0.06327656367746803,0.14946613591345437,0.03512054825841304,0.20543927314132848,0.16318210777032316,0.16438119739266044,0.29808043489272207,0.027963101230761733,0.21709040960439563,0.16396611490526303,0.5426652769234641,-0.007699846003079713,0.08696333409695789],\"type\":\"violin\",\"xaxis\":\"x27\",\"yaxis\":\"y27\"},{\"name\":\"\",\"points\":\"all\",\"showlegend\":false,\"side\":\"positive\",\"y\":[0.5024663649327299,0.4980411876270575,0.21147000932726423,0.3359227936787784,0.30226862295714774,0.7357341812714141,0.5501716929073167,0.06954225352112664,0.48319846441064285,0.6693590019142965,0.39420772003284144,0.38646069773800706,0.5498905526530107,0.09490467937608305,0.44350598975261346,0.532645624188423,0.6769063859282549,-0.055576387400899874,0.34212708255008795,0.7470493393319795,0.003503416698463435,0.7193651843596641,0.34634187207725853,0.4810486885880232,0.7114254624591947,0.9329234707644004,0.3295236553482537,0.41721910967060905,0.24101205580764473,0.6819195564353246,0.37885019997346314,0.21156080657580245,0.36893948896546136,0.5989186934025204,0.518252715974899,0.5162392699944958,0.5217410356551936,0.5033313654381378,0.5596289075335713,0.9072352687354187,0.34793441344478004,0.3091045924383339,0.5122627368354091,0.655685889782389,0.6548563054628349,0.6710092170856794,0.7775777717685348,0.945005584421891,0.22448993993638877,0.4604727785165631,0.4530449275902191,0.30690835149329176,0.5317648064951743,0.5548101532250638,0.4919208882160343,0.33634009705574175,0.7404490262950332,0.26607966220326673],\"type\":\"violin\",\"xaxis\":\"x28\",\"yaxis\":\"y28\"}],                        {\"template\":{\"data\":{\"histogram2dcontour\":[{\"type\":\"histogram2dcontour\",\"colorbar\":{\"outlinewidth\":0,\"ticks\":\"\"},\"colorscale\":[[0.0,\"#0d0887\"],[0.1111111111111111,\"#46039f\"],[0.2222222222222222,\"#7201a8\"],[0.3333333333333333,\"#9c179e\"],[0.4444444444444444,\"#bd3786\"],[0.5555555555555556,\"#d8576b\"],[0.6666666666666666,\"#ed7953\"],[0.7777777777777778,\"#fb9f3a\"],[0.8888888888888888,\"#fdca26\"],[1.0,\"#f0f921\"]]}],\"choropleth\":[{\"type\":\"choropleth\",\"colorbar\":{\"outlinewidth\":0,\"ticks\":\"\"}}],\"histogram2d\":[{\"type\":\"histogram2d\",\"colorbar\":{\"outlinewidth\":0,\"ticks\":\"\"},\"colorscale\":[[0.0,\"#0d0887\"],[0.1111111111111111,\"#46039f\"],[0.2222222222222222,\"#7201a8\"],[0.3333333333333333,\"#9c179e\"],[0.4444444444444444,\"#bd3786\"],[0.5555555555555556,\"#d8576b\"],[0.6666666666666666,\"#ed7953\"],[0.7777777777777778,\"#fb9f3a\"],[0.8888888888888888,\"#fdca26\"],[1.0,\"#f0f921\"]]}],\"heatmap\":[{\"type\":\"heatmap\",\"colorbar\":{\"outlinewidth\":0,\"ticks\":\"\"},\"colorscale\":[[0.0,\"#0d0887\"],[0.1111111111111111,\"#46039f\"],[0.2222222222222222,\"#7201a8\"],[0.3333333333333333,\"#9c179e\"],[0.4444444444444444,\"#bd3786\"],[0.5555555555555556,\"#d8576b\"],[0.6666666666666666,\"#ed7953\"],[0.7777777777777778,\"#fb9f3a\"],[0.8888888888888888,\"#fdca26\"],[1.0,\"#f0f921\"]]}],\"heatmapgl\":[{\"type\":\"heatmapgl\",\"colorbar\":{\"outlinewidth\":0,\"ticks\":\"\"},\"colorscale\":[[0.0,\"#0d0887\"],[0.1111111111111111,\"#46039f\"],[0.2222222222222222,\"#7201a8\"],[0.3333333333333333,\"#9c179e\"],[0.4444444444444444,\"#bd3786\"],[0.5555555555555556,\"#d8576b\"],[0.6666666666666666,\"#ed7953\"],[0.7777777777777778,\"#fb9f3a\"],[0.8888888888888888,\"#fdca26\"],[1.0,\"#f0f921\"]]}],\"contourcarpet\":[{\"type\":\"contourcarpet\",\"colorbar\":{\"outlinewidth\":0,\"ticks\":\"\"}}],\"contour\":[{\"type\":\"contour\",\"colorbar\":{\"outlinewidth\":0,\"ticks\":\"\"},\"colorscale\":[[0.0,\"#0d0887\"],[0.1111111111111111,\"#46039f\"],[0.2222222222222222,\"#7201a8\"],[0.3333333333333333,\"#9c179e\"],[0.4444444444444444,\"#bd3786\"],[0.5555555555555556,\"#d8576b\"],[0.6666666666666666,\"#ed7953\"],[0.7777777777777778,\"#fb9f3a\"],[0.8888888888888888,\"#fdca26\"],[1.0,\"#f0f921\"]]}],\"surface\":[{\"type\":\"surface\",\"colorbar\":{\"outlinewidth\":0,\"ticks\":\"\"},\"colorscale\":[[0.0,\"#0d0887\"],[0.1111111111111111,\"#46039f\"],[0.2222222222222222,\"#7201a8\"],[0.3333333333333333,\"#9c179e\"],[0.4444444444444444,\"#bd3786\"],[0.5555555555555556,\"#d8576b\"],[0.6666666666666666,\"#ed7953\"],[0.7777777777777778,\"#fb9f3a\"],[0.8888888888888888,\"#fdca26\"],[1.0,\"#f0f921\"]]}],\"mesh3d\":[{\"type\":\"mesh3d\",\"colorbar\":{\"outlinewidth\":0,\"ticks\":\"\"}}],\"scatter\":[{\"marker\":{\"line\":{\"color\":\"#283442\"}},\"type\":\"scatter\"}],\"parcoords\":[{\"type\":\"parcoords\",\"line\":{\"colorbar\":{\"outlinewidth\":0,\"ticks\":\"\"}}}],\"scatterpolargl\":[{\"type\":\"scatterpolargl\",\"marker\":{\"colorbar\":{\"outlinewidth\":0,\"ticks\":\"\"}}}],\"bar\":[{\"error_x\":{\"color\":\"#f2f5fa\"},\"error_y\":{\"color\":\"#f2f5fa\"},\"marker\":{\"line\":{\"color\":\"rgb(17,17,17)\",\"width\":0.5},\"pattern\":{\"fillmode\":\"overlay\",\"size\":10,\"solidity\":0.2}},\"type\":\"bar\"}],\"scattergeo\":[{\"type\":\"scattergeo\",\"marker\":{\"colorbar\":{\"outlinewidth\":0,\"ticks\":\"\"}}}],\"scatterpolar\":[{\"type\":\"scatterpolar\",\"marker\":{\"colorbar\":{\"outlinewidth\":0,\"ticks\":\"\"}}}],\"histogram\":[{\"marker\":{\"pattern\":{\"fillmode\":\"overlay\",\"size\":10,\"solidity\":0.2}},\"type\":\"histogram\"}],\"scattergl\":[{\"marker\":{\"line\":{\"color\":\"#283442\"}},\"type\":\"scattergl\"}],\"scatter3d\":[{\"type\":\"scatter3d\",\"line\":{\"colorbar\":{\"outlinewidth\":0,\"ticks\":\"\"}},\"marker\":{\"colorbar\":{\"outlinewidth\":0,\"ticks\":\"\"}}}],\"scattermapbox\":[{\"type\":\"scattermapbox\",\"marker\":{\"colorbar\":{\"outlinewidth\":0,\"ticks\":\"\"}}}],\"scatterternary\":[{\"type\":\"scatterternary\",\"marker\":{\"colorbar\":{\"outlinewidth\":0,\"ticks\":\"\"}}}],\"scattercarpet\":[{\"type\":\"scattercarpet\",\"marker\":{\"colorbar\":{\"outlinewidth\":0,\"ticks\":\"\"}}}],\"carpet\":[{\"aaxis\":{\"endlinecolor\":\"#A2B1C6\",\"gridcolor\":\"#506784\",\"linecolor\":\"#506784\",\"minorgridcolor\":\"#506784\",\"startlinecolor\":\"#A2B1C6\"},\"baxis\":{\"endlinecolor\":\"#A2B1C6\",\"gridcolor\":\"#506784\",\"linecolor\":\"#506784\",\"minorgridcolor\":\"#506784\",\"startlinecolor\":\"#A2B1C6\"},\"type\":\"carpet\"}],\"table\":[{\"cells\":{\"fill\":{\"color\":\"#506784\"},\"line\":{\"color\":\"rgb(17,17,17)\"}},\"header\":{\"fill\":{\"color\":\"#2a3f5f\"},\"line\":{\"color\":\"rgb(17,17,17)\"}},\"type\":\"table\"}],\"barpolar\":[{\"marker\":{\"line\":{\"color\":\"rgb(17,17,17)\",\"width\":0.5},\"pattern\":{\"fillmode\":\"overlay\",\"size\":10,\"solidity\":0.2}},\"type\":\"barpolar\"}],\"pie\":[{\"automargin\":true,\"type\":\"pie\"}]},\"layout\":{\"autotypenumbers\":\"strict\",\"colorway\":[\"#636efa\",\"#EF553B\",\"#00cc96\",\"#ab63fa\",\"#FFA15A\",\"#19d3f3\",\"#FF6692\",\"#B6E880\",\"#FF97FF\",\"#FECB52\"],\"font\":{\"color\":\"#f2f5fa\"},\"hovermode\":\"closest\",\"hoverlabel\":{\"align\":\"left\"},\"paper_bgcolor\":\"rgb(17,17,17)\",\"plot_bgcolor\":\"rgb(17,17,17)\",\"polar\":{\"bgcolor\":\"rgb(17,17,17)\",\"angularaxis\":{\"gridcolor\":\"#506784\",\"linecolor\":\"#506784\",\"ticks\":\"\"},\"radialaxis\":{\"gridcolor\":\"#506784\",\"linecolor\":\"#506784\",\"ticks\":\"\"}},\"ternary\":{\"bgcolor\":\"rgb(17,17,17)\",\"aaxis\":{\"gridcolor\":\"#506784\",\"linecolor\":\"#506784\",\"ticks\":\"\"},\"baxis\":{\"gridcolor\":\"#506784\",\"linecolor\":\"#506784\",\"ticks\":\"\"},\"caxis\":{\"gridcolor\":\"#506784\",\"linecolor\":\"#506784\",\"ticks\":\"\"}},\"coloraxis\":{\"colorbar\":{\"outlinewidth\":0,\"ticks\":\"\"}},\"colorscale\":{\"sequential\":[[0.0,\"#0d0887\"],[0.1111111111111111,\"#46039f\"],[0.2222222222222222,\"#7201a8\"],[0.3333333333333333,\"#9c179e\"],[0.4444444444444444,\"#bd3786\"],[0.5555555555555556,\"#d8576b\"],[0.6666666666666666,\"#ed7953\"],[0.7777777777777778,\"#fb9f3a\"],[0.8888888888888888,\"#fdca26\"],[1.0,\"#f0f921\"]],\"sequentialminus\":[[0.0,\"#0d0887\"],[0.1111111111111111,\"#46039f\"],[0.2222222222222222,\"#7201a8\"],[0.3333333333333333,\"#9c179e\"],[0.4444444444444444,\"#bd3786\"],[0.5555555555555556,\"#d8576b\"],[0.6666666666666666,\"#ed7953\"],[0.7777777777777778,\"#fb9f3a\"],[0.8888888888888888,\"#fdca26\"],[1.0,\"#f0f921\"]],\"diverging\":[[0,\"#8e0152\"],[0.1,\"#c51b7d\"],[0.2,\"#de77ae\"],[0.3,\"#f1b6da\"],[0.4,\"#fde0ef\"],[0.5,\"#f7f7f7\"],[0.6,\"#e6f5d0\"],[0.7,\"#b8e186\"],[0.8,\"#7fbc41\"],[0.9,\"#4d9221\"],[1,\"#276419\"]]},\"xaxis\":{\"gridcolor\":\"#283442\",\"linecolor\":\"#506784\",\"ticks\":\"\",\"title\":{\"standoff\":15},\"zerolinecolor\":\"#283442\",\"automargin\":true,\"zerolinewidth\":2},\"yaxis\":{\"gridcolor\":\"#283442\",\"linecolor\":\"#506784\",\"ticks\":\"\",\"title\":{\"standoff\":15},\"zerolinecolor\":\"#283442\",\"automargin\":true,\"zerolinewidth\":2},\"scene\":{\"xaxis\":{\"backgroundcolor\":\"rgb(17,17,17)\",\"gridcolor\":\"#506784\",\"linecolor\":\"#506784\",\"showbackground\":true,\"ticks\":\"\",\"zerolinecolor\":\"#C8D4E3\",\"gridwidth\":2},\"yaxis\":{\"backgroundcolor\":\"rgb(17,17,17)\",\"gridcolor\":\"#506784\",\"linecolor\":\"#506784\",\"showbackground\":true,\"ticks\":\"\",\"zerolinecolor\":\"#C8D4E3\",\"gridwidth\":2},\"zaxis\":{\"backgroundcolor\":\"rgb(17,17,17)\",\"gridcolor\":\"#506784\",\"linecolor\":\"#506784\",\"showbackground\":true,\"ticks\":\"\",\"zerolinecolor\":\"#C8D4E3\",\"gridwidth\":2}},\"shapedefaults\":{\"line\":{\"color\":\"#f2f5fa\"}},\"annotationdefaults\":{\"arrowcolor\":\"#f2f5fa\",\"arrowhead\":0,\"arrowwidth\":1},\"geo\":{\"bgcolor\":\"rgb(17,17,17)\",\"landcolor\":\"rgb(17,17,17)\",\"subunitcolor\":\"#506784\",\"showland\":true,\"showlakes\":true,\"lakecolor\":\"rgb(17,17,17)\"},\"title\":{\"x\":0.05},\"updatemenudefaults\":{\"bgcolor\":\"#506784\",\"borderwidth\":0},\"sliderdefaults\":{\"bgcolor\":\"#C8D4E3\",\"borderwidth\":1,\"bordercolor\":\"rgb(17,17,17)\",\"tickwidth\":0},\"mapbox\":{\"style\":\"dark\"}}},\"xaxis\":{\"anchor\":\"y\",\"domain\":[0.0,0.11551020408163264]},\"yaxis\":{\"anchor\":\"x\",\"domain\":[0.80625,1.0]},\"xaxis2\":{\"anchor\":\"y2\",\"domain\":[0.1440816326530612,0.2595918367346938]},\"yaxis2\":{\"anchor\":\"x2\",\"domain\":[0.80625,1.0]},\"xaxis3\":{\"anchor\":\"y3\",\"domain\":[0.2881632653061224,0.40367346938775506]},\"yaxis3\":{\"anchor\":\"x3\",\"domain\":[0.80625,1.0]},\"xaxis4\":{\"anchor\":\"y4\",\"domain\":[0.43224489795918364,0.5477551020408162]},\"yaxis4\":{\"anchor\":\"x4\",\"domain\":[0.80625,1.0]},\"xaxis5\":{\"anchor\":\"y5\",\"domain\":[0.5763265306122448,0.6918367346938774]},\"yaxis5\":{\"anchor\":\"x5\",\"domain\":[0.80625,1.0]},\"xaxis6\":{\"anchor\":\"y6\",\"domain\":[0.7204081632653061,0.8359183673469387]},\"yaxis6\":{\"anchor\":\"x6\",\"domain\":[0.80625,1.0]},\"xaxis7\":{\"anchor\":\"y7\",\"domain\":[0.8644897959183673,0.9799999999999999]},\"yaxis7\":{\"anchor\":\"x7\",\"domain\":[0.80625,1.0]},\"xaxis8\":{\"anchor\":\"y8\",\"domain\":[0.0,0.11551020408163264]},\"yaxis8\":{\"anchor\":\"x8\",\"domain\":[0.5375,0.73125]},\"xaxis9\":{\"anchor\":\"y9\",\"domain\":[0.1440816326530612,0.2595918367346938]},\"yaxis9\":{\"anchor\":\"x9\",\"domain\":[0.5375,0.73125]},\"xaxis10\":{\"anchor\":\"y10\",\"domain\":[0.2881632653061224,0.40367346938775506]},\"yaxis10\":{\"anchor\":\"x10\",\"domain\":[0.5375,0.73125]},\"xaxis11\":{\"anchor\":\"y11\",\"domain\":[0.43224489795918364,0.5477551020408162]},\"yaxis11\":{\"anchor\":\"x11\",\"domain\":[0.5375,0.73125]},\"xaxis12\":{\"anchor\":\"y12\",\"domain\":[0.5763265306122448,0.6918367346938774]},\"yaxis12\":{\"anchor\":\"x12\",\"domain\":[0.5375,0.73125]},\"xaxis13\":{\"anchor\":\"y13\",\"domain\":[0.7204081632653061,0.8359183673469387]},\"yaxis13\":{\"anchor\":\"x13\",\"domain\":[0.5375,0.73125]},\"xaxis14\":{\"anchor\":\"y14\",\"domain\":[0.8644897959183673,0.9799999999999999]},\"yaxis14\":{\"anchor\":\"x14\",\"domain\":[0.5375,0.73125]},\"xaxis15\":{\"anchor\":\"y15\",\"domain\":[0.0,0.11551020408163264]},\"yaxis15\":{\"anchor\":\"x15\",\"domain\":[0.26875,0.4625]},\"xaxis16\":{\"anchor\":\"y16\",\"domain\":[0.1440816326530612,0.2595918367346938]},\"yaxis16\":{\"anchor\":\"x16\",\"domain\":[0.26875,0.4625]},\"xaxis17\":{\"anchor\":\"y17\",\"domain\":[0.2881632653061224,0.40367346938775506]},\"yaxis17\":{\"anchor\":\"x17\",\"domain\":[0.26875,0.4625]},\"xaxis18\":{\"anchor\":\"y18\",\"domain\":[0.43224489795918364,0.5477551020408162]},\"yaxis18\":{\"anchor\":\"x18\",\"domain\":[0.26875,0.4625]},\"xaxis19\":{\"anchor\":\"y19\",\"domain\":[0.5763265306122448,0.6918367346938774]},\"yaxis19\":{\"anchor\":\"x19\",\"domain\":[0.26875,0.4625]},\"xaxis20\":{\"anchor\":\"y20\",\"domain\":[0.7204081632653061,0.8359183673469387]},\"yaxis20\":{\"anchor\":\"x20\",\"domain\":[0.26875,0.4625]},\"xaxis21\":{\"anchor\":\"y21\",\"domain\":[0.8644897959183673,0.9799999999999999]},\"yaxis21\":{\"anchor\":\"x21\",\"domain\":[0.26875,0.4625]},\"xaxis22\":{\"anchor\":\"y22\",\"domain\":[0.0,0.11551020408163264]},\"yaxis22\":{\"anchor\":\"x22\",\"domain\":[0.0,0.19375]},\"xaxis23\":{\"anchor\":\"y23\",\"domain\":[0.1440816326530612,0.2595918367346938]},\"yaxis23\":{\"anchor\":\"x23\",\"domain\":[0.0,0.19375]},\"xaxis24\":{\"anchor\":\"y24\",\"domain\":[0.2881632653061224,0.40367346938775506]},\"yaxis24\":{\"anchor\":\"x24\",\"domain\":[0.0,0.19375]},\"xaxis25\":{\"anchor\":\"y25\",\"domain\":[0.43224489795918364,0.5477551020408162]},\"yaxis25\":{\"anchor\":\"x25\",\"domain\":[0.0,0.19375]},\"xaxis26\":{\"anchor\":\"y26\",\"domain\":[0.5763265306122448,0.6918367346938774]},\"yaxis26\":{\"anchor\":\"x26\",\"domain\":[0.0,0.19375]},\"xaxis27\":{\"anchor\":\"y27\",\"domain\":[0.7204081632653061,0.8359183673469387]},\"yaxis27\":{\"anchor\":\"x27\",\"domain\":[0.0,0.19375]},\"xaxis28\":{\"anchor\":\"y28\",\"domain\":[0.8644897959183673,0.9799999999999999]},\"yaxis28\":{\"anchor\":\"x28\",\"domain\":[0.0,0.19375]},\"annotations\":[{\"font\":{\"size\":16},\"showarrow\":false,\"text\":\"MN\\u2192RA\",\"x\":0.05775510204081632,\"xanchor\":\"center\",\"xref\":\"paper\",\"y\":1.0,\"yanchor\":\"bottom\",\"yref\":\"paper\"},{\"font\":{\"size\":16},\"showarrow\":false,\"text\":\"MN\\u2192EngbertDetector{'\\u03bb':5,'ws':2}\",\"x\":0.20183673469387753,\"xanchor\":\"center\",\"xref\":\"paper\",\"y\":1.0,\"yanchor\":\"bottom\",\"yref\":\"paper\"},{\"font\":{\"size\":16},\"showarrow\":false,\"text\":\"MN\\u2192NHDetector\",\"x\":0.3459183673469387,\"xanchor\":\"center\",\"xref\":\"paper\",\"y\":1.0,\"yanchor\":\"bottom\",\"yref\":\"paper\"},{\"font\":{\"size\":16},\"showarrow\":false,\"text\":\"MN\\u2192REMoDNaVDetector\",\"x\":0.48999999999999994,\"xanchor\":\"center\",\"xref\":\"paper\",\"y\":1.0,\"yanchor\":\"bottom\",\"yref\":\"paper\"},{\"font\":{\"size\":16},\"showarrow\":false,\"text\":\"RA\\u2192EngbertDetector{'\\u03bb':5,'ws':2}\",\"x\":0.6340816326530612,\"xanchor\":\"center\",\"xref\":\"paper\",\"y\":1.0,\"yanchor\":\"bottom\",\"yref\":\"paper\"},{\"font\":{\"size\":16},\"showarrow\":false,\"text\":\"RA\\u2192NHDetector\",\"x\":0.7781632653061223,\"xanchor\":\"center\",\"xref\":\"paper\",\"y\":1.0,\"yanchor\":\"bottom\",\"yref\":\"paper\"},{\"font\":{\"size\":16},\"showarrow\":false,\"text\":\"RA\\u2192REMoDNaVDetector\",\"x\":0.9222448979591835,\"xanchor\":\"center\",\"xref\":\"paper\",\"y\":1.0,\"yanchor\":\"bottom\",\"yref\":\"paper\"},{\"font\":{\"size\":16},\"showarrow\":false,\"text\":\"img\",\"textangle\":90,\"x\":0.9799999999999999,\"xanchor\":\"left\",\"xref\":\"paper\",\"y\":0.903125,\"yanchor\":\"middle\",\"yref\":\"paper\"},{\"font\":{\"size\":16},\"showarrow\":false,\"text\":\"moving dot\",\"textangle\":90,\"x\":0.9799999999999999,\"xanchor\":\"left\",\"xref\":\"paper\",\"y\":0.6343749999999999,\"yanchor\":\"middle\",\"yref\":\"paper\"},{\"font\":{\"size\":16},\"showarrow\":false,\"text\":\"video\",\"textangle\":90,\"x\":0.9799999999999999,\"xanchor\":\"left\",\"xref\":\"paper\",\"y\":0.365625,\"yanchor\":\"middle\",\"yref\":\"paper\"},{\"font\":{\"size\":16},\"showarrow\":false,\"text\":\"all\",\"textangle\":90,\"x\":0.9799999999999999,\"xanchor\":\"left\",\"xref\":\"paper\",\"y\":0.096875,\"yanchor\":\"middle\",\"yref\":\"paper\"}],\"title\":{\"text\":\"Cohen's Kappa Distribution\"},\"showlegend\":false},                        {\"responsive\": true}                    ).then(function(){\n                            \nvar gd = document.getElementById('cecf93c5-da15-4c32-90f7-e17543b19ac7');\nvar x = new MutationObserver(function (mutations, observer) {{\n        var display = window.getComputedStyle(gd).display;\n        if (!display || display === 'none') {{\n            console.log([gd, 'removed!']);\n            Plotly.purge(gd);\n            observer.disconnect();\n        }}\n}});\n\n// Listen for the removal of the full notebook cells\nvar notebookContainer = gd.closest('#notebook-container');\nif (notebookContainer) {{\n    x.observe(notebookContainer, {childList: true});\n}}\n\n// Listen for the clearing of the current output cell\nvar outputEl = gd.closest('.output');\nif (outputEl) {{\n    x.observe(outputEl, {childList: true});\n}}\n\n                        })                };                });            </script>        </div>"
     },
     "metadata": {},
     "output_type": "display_data"
    }
   ],
   "source": [
    "samples_kappa_grouped = detector_comparisons.compare_samples(samples=samples_df, metric=\"kappa\", group_by=cnst.STIMULUS)\n",
    "kappa_distribution_fig = figs.distributions_grid(\n",
    "    samples_kappa_grouped[COMPARISON_COLUMNS],\n",
    "    plot_type=\"violin\",\n",
    "    title=\"Cohen's Kappa Distribution\",\n",
    "    column_title_mapper=lambda col: f\"{col[0]}→{col[1]}\"\n",
    ")\n",
    "kappa_distribution_fig.show()"
   ],
   "metadata": {
    "collapsed": false,
    "ExecuteTime": {
     "end_time": "2024-04-07T11:18:30.176302Z",
     "start_time": "2024-04-07T11:18:18.417756Z"
    }
   },
   "id": "23b6c9d19e8bad29",
   "execution_count": 13
  },
  {
   "cell_type": "code",
   "outputs": [
    {
     "data": {
      "application/vnd.plotly.v1+json": {
       "data": [
        {
         "name": "",
         "points": "all",
         "showlegend": false,
         "side": "positive",
         "y": [
          1.266021862900179,
          0.999662498265097,
          null,
          null,
          null,
          0.9932356725097616,
          0.9911331492590654,
          null,
          null,
          null,
          0.012606070567415221,
          0.973416965052205,
          0.018981612924159674,
          0.9941914534803238,
          0.06281301845435934,
          0.9923250070698748,
          0.010528295261301132,
          0.09336752701994946,
          1.4101366206792572,
          0.02084495341392419
         ],
         "type": "violin",
         "xaxis": "x",
         "yaxis": "y"
        },
        {
         "name": "",
         "points": "all",
         "showlegend": false,
         "side": "positive",
         "y": [
          1.2380800147783788,
          1.150057525609764,
          null,
          null,
          null,
          1.1523708983629046,
          1.0019846035004094,
          null,
          null,
          null,
          1.1809832040917472,
          1.1822310502231506,
          1.0892922875388562,
          1.1669314547647271,
          1.1676130767543909,
          1.2283225059888425,
          1.1087797504932084,
          1.3908151136303395,
          0.9224842693948068,
          1.112119509032005
         ],
         "type": "violin",
         "xaxis": "x2",
         "yaxis": "y2"
        },
        {
         "name": "",
         "points": "all",
         "showlegend": false,
         "side": "positive",
         "y": [
          1.001486643572442,
          1.0055205144268948,
          null,
          null,
          null,
          1.4088943483287157,
          1.350959332556616,
          null,
          null,
          null,
          1.0018687267228694,
          1.0011075443567852,
          1.399747887228872,
          1.002054698809985,
          1.0179643307656934,
          0.8556622191293175,
          0.9832081291617557,
          1.0504037114044338,
          0.1400949388932895,
          0.8371571788584955
         ],
         "type": "violin",
         "xaxis": "x3",
         "yaxis": "y3"
        },
        {
         "name": "",
         "points": "all",
         "showlegend": false,
         "side": "positive",
         "y": [
          1.3894953331803968,
          1.32860502721394,
          null,
          null,
          null,
          1.691351703983695,
          0.996235346751266,
          null,
          null,
          null,
          0.9891456055332661,
          1.2672993169226137,
          1.6674207153778948,
          0.9896088929975507,
          0.9839796177421172,
          1.7153359584827887,
          1.7186533600711011,
          1.001484494667707,
          1.401872709721565,
          1.6788066031749858
         ],
         "type": "violin",
         "xaxis": "x4",
         "yaxis": "y4"
        },
        {
         "name": "",
         "points": "all",
         "showlegend": false,
         "side": "positive",
         "y": [
          1.335948847671584,
          1.5158143420283814,
          0.983663876308013,
          1.1853292303334764,
          1.4849097435885303,
          1.511302069759939,
          1.4050450685973712,
          1.362597669542668,
          1.456861037636922,
          1.4690842489649134,
          1.1872228056898122,
          1.5322743770463567,
          1.0915102817581581,
          1.540413817138079,
          1.145497796388127,
          1.5826279075523755,
          1.1124986905569019,
          1.4013574839810166,
          1.542037403842185,
          1.1149995206097014
         ],
         "type": "violin",
         "xaxis": "x5",
         "yaxis": "y5"
        },
        {
         "name": "",
         "points": "all",
         "showlegend": false,
         "side": "positive",
         "y": [
          1.6139258888452754,
          1.4170199774188725,
          1.3128194343473585,
          1.0015291001459077,
          1.718055479800252,
          1.7213290579316394,
          1.6884416673524418,
          1.4200106201152984,
          1.4081709097108601,
          1.3998053938097643,
          1.0018364839172582,
          1.3965390406199993,
          1.400604022205815,
          1.4106568957179761,
          1.0082695430982174,
          1.3096005060330043,
          0.9822985419940111,
          1.0536264310711851,
          1.394361633181253,
          0.8372927718289253
         ],
         "type": "violin",
         "xaxis": "x6",
         "yaxis": "y6"
        },
        {
         "name": "",
         "points": "all",
         "showlegend": false,
         "side": "positive",
         "y": [
          0.31882186803543916,
          0.8884041531920978,
          1.0861597654921022,
          0.9872106751640968,
          1.374618002033594,
          1.3691414706533784,
          0.10012495346153615,
          0.9939226128543076,
          0.8424748097152702,
          0.7124151653743177,
          0.9893015105693049,
          0.7932408065057774,
          1.6677104788855648,
          0.030008352330940246,
          0.9827714323408501,
          1.401716417283633,
          1.7194210785834618,
          0.9994967335977237,
          1.3915908578231757,
          1.6800896470764353
         ],
         "type": "violin",
         "xaxis": "x7",
         "yaxis": "y7"
        },
        {
         "name": "",
         "points": "all",
         "showlegend": false,
         "side": "positive",
         "y": [
          0.21010200599179937,
          null,
          null,
          0.05080676041325657,
          null,
          0.03811219906080986,
          0.8878859493518937,
          null,
          null,
          0.10192137703526753,
          0.11007192298253682,
          null,
          1.0449204701231813,
          null,
          0.1308296119430538,
          null,
          0.9948258994860614,
          0.025042300069254005,
          null
         ],
         "type": "violin",
         "xaxis": "x8",
         "yaxis": "y8"
        },
        {
         "name": "",
         "points": "all",
         "showlegend": false,
         "side": "positive",
         "y": [
          1.5463927388598928,
          null,
          null,
          1.8201600389768802,
          null,
          1.594882599958261,
          1.8140942704953864,
          null,
          null,
          1.5108066527371278,
          1.4771238757644436,
          null,
          1.47627735873713,
          null,
          1.4962677518227685,
          null,
          1.9335398161499513,
          1.4509578261506184,
          null
         ],
         "type": "violin",
         "xaxis": "x9",
         "yaxis": "y9"
        },
        {
         "name": "",
         "points": "all",
         "showlegend": false,
         "side": "positive",
         "y": [
          1.4400675170016586,
          null,
          null,
          1.734279438822453,
          null,
          1.4388550316211899,
          1.7463586936922766,
          null,
          null,
          1.0227812995967278,
          1.2750129882145487,
          null,
          1.55394484202779,
          null,
          1.2972296197484763,
          null,
          1.9956434230677629,
          1.7456708789857405,
          null
         ],
         "type": "violin",
         "xaxis": "x10",
         "yaxis": "y10"
        },
        {
         "name": "",
         "points": "all",
         "showlegend": false,
         "side": "positive",
         "y": [
          0.8795582603542469,
          null,
          null,
          0.9970014426052441,
          null,
          0.22236700486590738,
          0.971915185924372,
          null,
          null,
          0.1992974342497869,
          0.7965466949163574,
          null,
          1.0461364409460956,
          null,
          0.25167764182392255,
          null,
          0.9841802430679636,
          1.4207247797263007,
          null
         ],
         "type": "violin",
         "xaxis": "x11",
         "yaxis": "y11"
        },
        {
         "name": "",
         "points": "all",
         "showlegend": false,
         "side": "positive",
         "y": [
          1.4932350694860217,
          1.1009640860344125,
          1.339223489776508,
          1.8168452854791863,
          1.8344519629044296,
          1.5816857480586235,
          1.5925740918413203,
          1.8069707142446407,
          1.4587553434932417,
          1.5259293628750703,
          1.497151944770807,
          1.4914093902538053,
          1.3988098139126335,
          1.447448534228906,
          1.5273111787178297,
          1.5346122158565905,
          1.6686227269882596,
          1.4526123616364797,
          1.2916304127611544
         ],
         "type": "violin",
         "xaxis": "x12",
         "yaxis": "y12"
        },
        {
         "name": "",
         "points": "all",
         "showlegend": false,
         "side": "positive",
         "y": [
          1.463280706748353,
          1.4105402765993302,
          1.7388023964424602,
          1.734621097800413,
          1.6801441307990763,
          1.4389404277432107,
          1.9173348845557536,
          1.870547341985994,
          1.2539485466542235,
          1.007679574835815,
          1.2986118777027957,
          1.4312134589815981,
          1.910949217820366,
          1.5050734596482416,
          1.3331436169300979,
          1.3149147915509263,
          1.7177556262518399,
          1.745628265580557,
          1.6148172364553666
         ],
         "type": "violin",
         "xaxis": "x13",
         "yaxis": "y13"
        },
        {
         "name": "",
         "points": "all",
         "showlegend": false,
         "side": "positive",
         "y": [
          0.7804384847716653,
          1.2967515702071162,
          0.8693571764003826,
          0.9989718343919547,
          0.9982721961235151,
          0.2297873606928871,
          1.328793424783953,
          1.402428425210796,
          0.39747360319440866,
          0.12250500290024305,
          0.8346522902975847,
          0.8304907985557358,
          0.03091405812136113,
          0.5358388475720197,
          0.17089745700190656,
          0.8531199879578958,
          0.09262333957328284,
          1.4187770780152922,
          0.7976727845049546
         ],
         "type": "violin",
         "xaxis": "x14",
         "yaxis": "y14"
        },
        {
         "name": "",
         "points": "all",
         "showlegend": false,
         "side": "positive",
         "y": [
          0.9417542682465045,
          0.05449182032911947,
          null,
          null,
          null,
          0.04595497074767282,
          null,
          null,
          null,
          null,
          0.030479417200938087,
          null,
          0.03953979647448663,
          0.0389893943624333,
          0.08569441509545724,
          0.03134144900686228,
          0.850574826163345,
          null,
          null
         ],
         "type": "violin",
         "xaxis": "x15",
         "yaxis": "y15"
        },
        {
         "name": "",
         "points": "all",
         "showlegend": false,
         "side": "positive",
         "y": [
          1.3624452552422344,
          1.5475602051263455,
          null,
          null,
          null,
          1.5506514283019055,
          null,
          null,
          null,
          null,
          1.5260770651151039,
          null,
          1.5155151705445007,
          1.5453641570756647,
          1.5119219686644343,
          1.4937211868465616,
          1.4754004538068595,
          null,
          null
         ],
         "type": "violin",
         "xaxis": "x16",
         "yaxis": "y16"
        },
        {
         "name": "",
         "points": "all",
         "showlegend": false,
         "side": "positive",
         "y": [
          1.702058360928039,
          1.4128102960847817,
          null,
          null,
          null,
          1.416372801583351,
          null,
          null,
          null,
          null,
          1.4219514379184819,
          null,
          1.4141391472253833,
          1.4383930654315036,
          1.7255214477385117,
          1.725844937469394,
          1.403044078319111,
          null,
          null
         ],
         "type": "violin",
         "xaxis": "x17",
         "yaxis": "y17"
        },
        {
         "name": "",
         "points": "all",
         "showlegend": false,
         "side": "positive",
         "y": [
          0.9455884329864774,
          0.03877941512581261,
          null,
          null,
          null,
          0.9556348371987117,
          null,
          null,
          null,
          null,
          0.1273066611121631,
          null,
          0.8537977862076475,
          0.14681506866856056,
          1.3973282845868416,
          1.3883699938842196,
          1.4070801114582705,
          null,
          null
         ],
         "type": "violin",
         "xaxis": "x18",
         "yaxis": "y18"
        },
        {
         "name": "",
         "points": "all",
         "showlegend": false,
         "side": "positive",
         "y": [
          1.5038836655372299,
          1.5269042930538452,
          1.4989819736686798,
          1.4811064843494892,
          1.4670309809063267,
          1.5573814294938906,
          1.3882040645993627,
          1.464115968808154,
          1.521830994795735,
          1.347428375532512,
          1.5328577776806316,
          1.490845511226886,
          1.5310396423358803,
          1.5416403326535506,
          1.4717026052051894,
          1.4826494298650996,
          1.4096610086206969,
          1.3539738825976164,
          1.3995926254704008
         ],
         "type": "violin",
         "xaxis": "x19",
         "yaxis": "y19"
        },
        {
         "name": "",
         "points": "all",
         "showlegend": false,
         "side": "positive",
         "y": [
          1.4174770912173944,
          1.413975355910539,
          1.4202735922431131,
          1.234623508475859,
          1.6551927580751675,
          1.413491967303907,
          1.645402961652195,
          1.334419203627249,
          1.4224961447315387,
          1.7014126522486326,
          1.4236399254434513,
          1.7252270082403505,
          1.4133588598937352,
          1.4357158381336697,
          1.7239537929128772,
          1.7242917298968394,
          1.0273411310155518,
          1.4109803669198417,
          1.9478887122583648
         ],
         "type": "violin",
         "xaxis": "x20",
         "yaxis": "y20"
        },
        {
         "name": "",
         "points": "all",
         "showlegend": false,
         "side": "positive",
         "y": [
          0.11242095123270059,
          0.054069023478958055,
          0.12286984445621243,
          1.40174532576006,
          1.379911175318405,
          0.9545811533621866,
          0.9924127242943444,
          1.3846010631179402,
          0.10392004456330743,
          0.4646286824103019,
          0.1464312494358272,
          1.3475102337654103,
          0.8525499876740111,
          0.154648061485765,
          1.397316304832916,
          1.387076801666052,
          1.024188821359237,
          0.9917756462604634,
          0.9992086508820741
         ],
         "type": "violin",
         "xaxis": "x21",
         "yaxis": "y21"
        },
        {
         "name": "",
         "points": "all",
         "showlegend": false,
         "side": "positive",
         "y": [
          0.21010200599179937,
          1.266021862900179,
          0.999662498265097,
          null,
          0.9417542682465045,
          null,
          null,
          0.05080676041325657,
          0.05449182032911947,
          null,
          null,
          null,
          null,
          null,
          null,
          0.9932356725097616,
          0.03811219906080986,
          0.8878859493518937,
          0.9911331492590654,
          0.04595497074767282,
          null,
          null,
          null,
          null,
          null,
          null,
          null,
          null,
          null,
          0.012606070567415221,
          0.10192137703526753,
          0.030479417200938087,
          0.11007192298253682,
          0.973416965052205,
          null,
          0.018981612924159674,
          0.03953979647448663,
          null,
          0.9941914534803238,
          1.0449204701231813,
          0.06281301845435934,
          0.0389893943624333,
          0.9923250070698748,
          0.08569441509545724,
          null,
          0.1308296119430538,
          0.03134144900686228,
          null,
          0.010528295261301132,
          0.9948258994860614,
          0.850574826163345,
          0.09336752701994946,
          0.025042300069254005,
          1.4101366206792572,
          null,
          0.02084495341392419,
          null,
          null
         ],
         "type": "violin",
         "xaxis": "x22",
         "yaxis": "y22"
        },
        {
         "name": "",
         "points": "all",
         "showlegend": false,
         "side": "positive",
         "y": [
          1.5463927388598928,
          1.2380800147783788,
          1.150057525609764,
          null,
          1.3624452552422344,
          null,
          null,
          1.8201600389768802,
          1.5475602051263455,
          null,
          null,
          null,
          null,
          null,
          null,
          1.1523708983629046,
          1.594882599958261,
          1.8140942704953864,
          1.0019846035004094,
          1.5506514283019055,
          null,
          null,
          null,
          null,
          null,
          null,
          null,
          null,
          null,
          1.1809832040917472,
          1.5108066527371278,
          1.5260770651151039,
          1.4771238757644436,
          1.1822310502231506,
          null,
          1.0892922875388562,
          1.5155151705445007,
          null,
          1.1669314547647271,
          1.47627735873713,
          1.1676130767543909,
          1.5453641570756647,
          1.2283225059888425,
          1.5119219686644343,
          null,
          1.4962677518227685,
          1.4937211868465616,
          null,
          1.1087797504932084,
          1.9335398161499513,
          1.4754004538068595,
          1.3908151136303395,
          1.4509578261506184,
          0.9224842693948068,
          null,
          1.112119509032005,
          null,
          null
         ],
         "type": "violin",
         "xaxis": "x23",
         "yaxis": "y23"
        },
        {
         "name": "",
         "points": "all",
         "showlegend": false,
         "side": "positive",
         "y": [
          1.4400675170016586,
          1.001486643572442,
          1.0055205144268948,
          null,
          1.702058360928039,
          null,
          null,
          1.734279438822453,
          1.4128102960847817,
          null,
          null,
          null,
          null,
          null,
          null,
          1.4088943483287157,
          1.4388550316211899,
          1.7463586936922766,
          1.350959332556616,
          1.416372801583351,
          null,
          null,
          null,
          null,
          null,
          null,
          null,
          null,
          null,
          1.0018687267228694,
          1.0227812995967278,
          1.4219514379184819,
          1.2750129882145487,
          1.0011075443567852,
          null,
          1.399747887228872,
          1.4141391472253833,
          null,
          1.002054698809985,
          1.55394484202779,
          1.0179643307656934,
          1.4383930654315036,
          0.8556622191293175,
          1.7255214477385117,
          null,
          1.2972296197484763,
          1.725844937469394,
          null,
          0.9832081291617557,
          1.9956434230677629,
          1.403044078319111,
          1.0504037114044338,
          1.7456708789857405,
          0.1400949388932895,
          null,
          0.8371571788584955,
          null,
          null
         ],
         "type": "violin",
         "xaxis": "x24",
         "yaxis": "y24"
        },
        {
         "name": "",
         "points": "all",
         "showlegend": false,
         "side": "positive",
         "y": [
          0.8795582603542469,
          1.3894953331803968,
          1.32860502721394,
          null,
          0.9455884329864774,
          null,
          null,
          0.9970014426052441,
          0.03877941512581261,
          null,
          null,
          null,
          null,
          null,
          null,
          1.691351703983695,
          0.22236700486590738,
          0.971915185924372,
          0.996235346751266,
          0.9556348371987117,
          null,
          null,
          null,
          null,
          null,
          null,
          null,
          null,
          null,
          0.9891456055332661,
          0.1992974342497869,
          0.1273066611121631,
          0.7965466949163574,
          1.2672993169226137,
          null,
          1.6674207153778948,
          0.8537977862076475,
          null,
          0.9896088929975507,
          1.0461364409460956,
          0.9839796177421172,
          0.14681506866856056,
          1.7153359584827887,
          1.3973282845868416,
          null,
          0.25167764182392255,
          1.3883699938842196,
          null,
          1.7186533600711011,
          0.9841802430679636,
          1.4070801114582705,
          1.001484494667707,
          1.4207247797263007,
          1.401872709721565,
          null,
          1.6788066031749858,
          null,
          null
         ],
         "type": "violin",
         "xaxis": "x25",
         "yaxis": "y25"
        },
        {
         "name": "",
         "points": "all",
         "showlegend": false,
         "side": "positive",
         "y": [
          1.4932350694860217,
          1.335948847671584,
          1.5158143420283814,
          1.1009640860344125,
          1.5038836655372299,
          1.339223489776508,
          0.983663876308013,
          1.8168452854791863,
          1.5269042930538452,
          1.1853292303334764,
          1.4989819736686798,
          1.4811064843494892,
          1.4849097435885303,
          1.8344519629044296,
          1.4670309809063267,
          1.511302069759939,
          1.5816857480586235,
          1.5925740918413203,
          1.4050450685973712,
          1.5573814294938906,
          1.8069707142446407,
          1.3882040645993627,
          1.464115968808154,
          1.362597669542668,
          1.4587553434932417,
          1.521830994795735,
          1.456861037636922,
          1.4690842489649134,
          1.347428375532512,
          1.1872228056898122,
          1.5259293628750703,
          1.5328577776806316,
          1.497151944770807,
          1.5322743770463567,
          1.490845511226886,
          1.0915102817581581,
          1.5310396423358803,
          1.4914093902538053,
          1.540413817138079,
          1.3988098139126335,
          1.145497796388127,
          1.5416403326535506,
          1.5826279075523755,
          1.4717026052051894,
          1.447448534228906,
          1.5273111787178297,
          1.4826494298650996,
          1.5346122158565905,
          1.1124986905569019,
          1.6686227269882596,
          1.4096610086206969,
          1.4013574839810166,
          1.4526123616364797,
          1.542037403842185,
          1.3539738825976164,
          1.1149995206097014,
          1.2916304127611544,
          1.3995926254704008
         ],
         "type": "violin",
         "xaxis": "x26",
         "yaxis": "y26"
        },
        {
         "name": "",
         "points": "all",
         "showlegend": false,
         "side": "positive",
         "y": [
          1.463280706748353,
          1.6139258888452754,
          1.4170199774188725,
          1.4105402765993302,
          1.4174770912173944,
          1.7388023964424602,
          1.3128194343473585,
          1.734621097800413,
          1.413975355910539,
          1.0015291001459077,
          1.4202735922431131,
          1.234623508475859,
          1.718055479800252,
          1.6801441307990763,
          1.6551927580751675,
          1.7213290579316394,
          1.4389404277432107,
          1.9173348845557536,
          1.6884416673524418,
          1.413491967303907,
          1.870547341985994,
          1.645402961652195,
          1.334419203627249,
          1.4200106201152984,
          1.2539485466542235,
          1.4224961447315387,
          1.4081709097108601,
          1.3998053938097643,
          1.7014126522486326,
          1.0018364839172582,
          1.007679574835815,
          1.4236399254434513,
          1.2986118777027957,
          1.3965390406199993,
          1.7252270082403505,
          1.400604022205815,
          1.4133588598937352,
          1.4312134589815981,
          1.4106568957179761,
          1.910949217820366,
          1.0082695430982174,
          1.4357158381336697,
          1.3096005060330043,
          1.7239537929128772,
          1.5050734596482416,
          1.3331436169300979,
          1.7242917298968394,
          1.3149147915509263,
          0.9822985419940111,
          1.7177556262518399,
          1.0273411310155518,
          1.0536264310711851,
          1.745628265580557,
          1.394361633181253,
          1.4109803669198417,
          0.8372927718289253,
          1.6148172364553666,
          1.9478887122583648
         ],
         "type": "violin",
         "xaxis": "x27",
         "yaxis": "y27"
        },
        {
         "name": "",
         "points": "all",
         "showlegend": false,
         "side": "positive",
         "y": [
          0.7804384847716653,
          0.31882186803543916,
          0.8884041531920978,
          1.2967515702071162,
          0.11242095123270059,
          0.8693571764003826,
          1.0861597654921022,
          0.9989718343919547,
          0.054069023478958055,
          0.9872106751640968,
          0.12286984445621243,
          1.40174532576006,
          1.374618002033594,
          0.9982721961235151,
          1.379911175318405,
          1.3691414706533784,
          0.2297873606928871,
          1.328793424783953,
          0.10012495346153615,
          0.9545811533621866,
          1.402428425210796,
          0.9924127242943444,
          1.3846010631179402,
          0.9939226128543076,
          0.39747360319440866,
          0.10392004456330743,
          0.8424748097152702,
          0.7124151653743177,
          0.4646286824103019,
          0.9893015105693049,
          0.12250500290024305,
          0.1464312494358272,
          0.8346522902975847,
          0.7932408065057774,
          1.3475102337654103,
          1.6677104788855648,
          0.8525499876740111,
          0.8304907985557358,
          0.030008352330940246,
          0.03091405812136113,
          0.9827714323408501,
          0.154648061485765,
          1.401716417283633,
          1.397316304832916,
          0.5358388475720197,
          0.17089745700190656,
          1.387076801666052,
          0.8531199879578958,
          1.7194210785834618,
          0.09262333957328284,
          1.024188821359237,
          0.9994967335977237,
          1.4187770780152922,
          1.3915908578231757,
          0.9917756462604634,
          1.6800896470764353,
          0.7976727845049546,
          0.9992086508820741
         ],
         "type": "violin",
         "xaxis": "x28",
         "yaxis": "y28"
        }
       ],
       "layout": {
        "template": {
         "data": {
          "histogram2dcontour": [
           {
            "type": "histogram2dcontour",
            "colorbar": {
             "outlinewidth": 0,
             "ticks": ""
            },
            "colorscale": [
             [
              0.0,
              "#0d0887"
             ],
             [
              0.1111111111111111,
              "#46039f"
             ],
             [
              0.2222222222222222,
              "#7201a8"
             ],
             [
              0.3333333333333333,
              "#9c179e"
             ],
             [
              0.4444444444444444,
              "#bd3786"
             ],
             [
              0.5555555555555556,
              "#d8576b"
             ],
             [
              0.6666666666666666,
              "#ed7953"
             ],
             [
              0.7777777777777778,
              "#fb9f3a"
             ],
             [
              0.8888888888888888,
              "#fdca26"
             ],
             [
              1.0,
              "#f0f921"
             ]
            ]
           }
          ],
          "choropleth": [
           {
            "type": "choropleth",
            "colorbar": {
             "outlinewidth": 0,
             "ticks": ""
            }
           }
          ],
          "histogram2d": [
           {
            "type": "histogram2d",
            "colorbar": {
             "outlinewidth": 0,
             "ticks": ""
            },
            "colorscale": [
             [
              0.0,
              "#0d0887"
             ],
             [
              0.1111111111111111,
              "#46039f"
             ],
             [
              0.2222222222222222,
              "#7201a8"
             ],
             [
              0.3333333333333333,
              "#9c179e"
             ],
             [
              0.4444444444444444,
              "#bd3786"
             ],
             [
              0.5555555555555556,
              "#d8576b"
             ],
             [
              0.6666666666666666,
              "#ed7953"
             ],
             [
              0.7777777777777778,
              "#fb9f3a"
             ],
             [
              0.8888888888888888,
              "#fdca26"
             ],
             [
              1.0,
              "#f0f921"
             ]
            ]
           }
          ],
          "heatmap": [
           {
            "type": "heatmap",
            "colorbar": {
             "outlinewidth": 0,
             "ticks": ""
            },
            "colorscale": [
             [
              0.0,
              "#0d0887"
             ],
             [
              0.1111111111111111,
              "#46039f"
             ],
             [
              0.2222222222222222,
              "#7201a8"
             ],
             [
              0.3333333333333333,
              "#9c179e"
             ],
             [
              0.4444444444444444,
              "#bd3786"
             ],
             [
              0.5555555555555556,
              "#d8576b"
             ],
             [
              0.6666666666666666,
              "#ed7953"
             ],
             [
              0.7777777777777778,
              "#fb9f3a"
             ],
             [
              0.8888888888888888,
              "#fdca26"
             ],
             [
              1.0,
              "#f0f921"
             ]
            ]
           }
          ],
          "heatmapgl": [
           {
            "type": "heatmapgl",
            "colorbar": {
             "outlinewidth": 0,
             "ticks": ""
            },
            "colorscale": [
             [
              0.0,
              "#0d0887"
             ],
             [
              0.1111111111111111,
              "#46039f"
             ],
             [
              0.2222222222222222,
              "#7201a8"
             ],
             [
              0.3333333333333333,
              "#9c179e"
             ],
             [
              0.4444444444444444,
              "#bd3786"
             ],
             [
              0.5555555555555556,
              "#d8576b"
             ],
             [
              0.6666666666666666,
              "#ed7953"
             ],
             [
              0.7777777777777778,
              "#fb9f3a"
             ],
             [
              0.8888888888888888,
              "#fdca26"
             ],
             [
              1.0,
              "#f0f921"
             ]
            ]
           }
          ],
          "contourcarpet": [
           {
            "type": "contourcarpet",
            "colorbar": {
             "outlinewidth": 0,
             "ticks": ""
            }
           }
          ],
          "contour": [
           {
            "type": "contour",
            "colorbar": {
             "outlinewidth": 0,
             "ticks": ""
            },
            "colorscale": [
             [
              0.0,
              "#0d0887"
             ],
             [
              0.1111111111111111,
              "#46039f"
             ],
             [
              0.2222222222222222,
              "#7201a8"
             ],
             [
              0.3333333333333333,
              "#9c179e"
             ],
             [
              0.4444444444444444,
              "#bd3786"
             ],
             [
              0.5555555555555556,
              "#d8576b"
             ],
             [
              0.6666666666666666,
              "#ed7953"
             ],
             [
              0.7777777777777778,
              "#fb9f3a"
             ],
             [
              0.8888888888888888,
              "#fdca26"
             ],
             [
              1.0,
              "#f0f921"
             ]
            ]
           }
          ],
          "surface": [
           {
            "type": "surface",
            "colorbar": {
             "outlinewidth": 0,
             "ticks": ""
            },
            "colorscale": [
             [
              0.0,
              "#0d0887"
             ],
             [
              0.1111111111111111,
              "#46039f"
             ],
             [
              0.2222222222222222,
              "#7201a8"
             ],
             [
              0.3333333333333333,
              "#9c179e"
             ],
             [
              0.4444444444444444,
              "#bd3786"
             ],
             [
              0.5555555555555556,
              "#d8576b"
             ],
             [
              0.6666666666666666,
              "#ed7953"
             ],
             [
              0.7777777777777778,
              "#fb9f3a"
             ],
             [
              0.8888888888888888,
              "#fdca26"
             ],
             [
              1.0,
              "#f0f921"
             ]
            ]
           }
          ],
          "mesh3d": [
           {
            "type": "mesh3d",
            "colorbar": {
             "outlinewidth": 0,
             "ticks": ""
            }
           }
          ],
          "scatter": [
           {
            "marker": {
             "line": {
              "color": "#283442"
             }
            },
            "type": "scatter"
           }
          ],
          "parcoords": [
           {
            "type": "parcoords",
            "line": {
             "colorbar": {
              "outlinewidth": 0,
              "ticks": ""
             }
            }
           }
          ],
          "scatterpolargl": [
           {
            "type": "scatterpolargl",
            "marker": {
             "colorbar": {
              "outlinewidth": 0,
              "ticks": ""
             }
            }
           }
          ],
          "bar": [
           {
            "error_x": {
             "color": "#f2f5fa"
            },
            "error_y": {
             "color": "#f2f5fa"
            },
            "marker": {
             "line": {
              "color": "rgb(17,17,17)",
              "width": 0.5
             },
             "pattern": {
              "fillmode": "overlay",
              "size": 10,
              "solidity": 0.2
             }
            },
            "type": "bar"
           }
          ],
          "scattergeo": [
           {
            "type": "scattergeo",
            "marker": {
             "colorbar": {
              "outlinewidth": 0,
              "ticks": ""
             }
            }
           }
          ],
          "scatterpolar": [
           {
            "type": "scatterpolar",
            "marker": {
             "colorbar": {
              "outlinewidth": 0,
              "ticks": ""
             }
            }
           }
          ],
          "histogram": [
           {
            "marker": {
             "pattern": {
              "fillmode": "overlay",
              "size": 10,
              "solidity": 0.2
             }
            },
            "type": "histogram"
           }
          ],
          "scattergl": [
           {
            "marker": {
             "line": {
              "color": "#283442"
             }
            },
            "type": "scattergl"
           }
          ],
          "scatter3d": [
           {
            "type": "scatter3d",
            "line": {
             "colorbar": {
              "outlinewidth": 0,
              "ticks": ""
             }
            },
            "marker": {
             "colorbar": {
              "outlinewidth": 0,
              "ticks": ""
             }
            }
           }
          ],
          "scattermapbox": [
           {
            "type": "scattermapbox",
            "marker": {
             "colorbar": {
              "outlinewidth": 0,
              "ticks": ""
             }
            }
           }
          ],
          "scatterternary": [
           {
            "type": "scatterternary",
            "marker": {
             "colorbar": {
              "outlinewidth": 0,
              "ticks": ""
             }
            }
           }
          ],
          "scattercarpet": [
           {
            "type": "scattercarpet",
            "marker": {
             "colorbar": {
              "outlinewidth": 0,
              "ticks": ""
             }
            }
           }
          ],
          "carpet": [
           {
            "aaxis": {
             "endlinecolor": "#A2B1C6",
             "gridcolor": "#506784",
             "linecolor": "#506784",
             "minorgridcolor": "#506784",
             "startlinecolor": "#A2B1C6"
            },
            "baxis": {
             "endlinecolor": "#A2B1C6",
             "gridcolor": "#506784",
             "linecolor": "#506784",
             "minorgridcolor": "#506784",
             "startlinecolor": "#A2B1C6"
            },
            "type": "carpet"
           }
          ],
          "table": [
           {
            "cells": {
             "fill": {
              "color": "#506784"
             },
             "line": {
              "color": "rgb(17,17,17)"
             }
            },
            "header": {
             "fill": {
              "color": "#2a3f5f"
             },
             "line": {
              "color": "rgb(17,17,17)"
             }
            },
            "type": "table"
           }
          ],
          "barpolar": [
           {
            "marker": {
             "line": {
              "color": "rgb(17,17,17)",
              "width": 0.5
             },
             "pattern": {
              "fillmode": "overlay",
              "size": 10,
              "solidity": 0.2
             }
            },
            "type": "barpolar"
           }
          ],
          "pie": [
           {
            "automargin": true,
            "type": "pie"
           }
          ]
         },
         "layout": {
          "autotypenumbers": "strict",
          "colorway": [
           "#636efa",
           "#EF553B",
           "#00cc96",
           "#ab63fa",
           "#FFA15A",
           "#19d3f3",
           "#FF6692",
           "#B6E880",
           "#FF97FF",
           "#FECB52"
          ],
          "font": {
           "color": "#f2f5fa"
          },
          "hovermode": "closest",
          "hoverlabel": {
           "align": "left"
          },
          "paper_bgcolor": "rgb(17,17,17)",
          "plot_bgcolor": "rgb(17,17,17)",
          "polar": {
           "bgcolor": "rgb(17,17,17)",
           "angularaxis": {
            "gridcolor": "#506784",
            "linecolor": "#506784",
            "ticks": ""
           },
           "radialaxis": {
            "gridcolor": "#506784",
            "linecolor": "#506784",
            "ticks": ""
           }
          },
          "ternary": {
           "bgcolor": "rgb(17,17,17)",
           "aaxis": {
            "gridcolor": "#506784",
            "linecolor": "#506784",
            "ticks": ""
           },
           "baxis": {
            "gridcolor": "#506784",
            "linecolor": "#506784",
            "ticks": ""
           },
           "caxis": {
            "gridcolor": "#506784",
            "linecolor": "#506784",
            "ticks": ""
           }
          },
          "coloraxis": {
           "colorbar": {
            "outlinewidth": 0,
            "ticks": ""
           }
          },
          "colorscale": {
           "sequential": [
            [
             0.0,
             "#0d0887"
            ],
            [
             0.1111111111111111,
             "#46039f"
            ],
            [
             0.2222222222222222,
             "#7201a8"
            ],
            [
             0.3333333333333333,
             "#9c179e"
            ],
            [
             0.4444444444444444,
             "#bd3786"
            ],
            [
             0.5555555555555556,
             "#d8576b"
            ],
            [
             0.6666666666666666,
             "#ed7953"
            ],
            [
             0.7777777777777778,
             "#fb9f3a"
            ],
            [
             0.8888888888888888,
             "#fdca26"
            ],
            [
             1.0,
             "#f0f921"
            ]
           ],
           "sequentialminus": [
            [
             0.0,
             "#0d0887"
            ],
            [
             0.1111111111111111,
             "#46039f"
            ],
            [
             0.2222222222222222,
             "#7201a8"
            ],
            [
             0.3333333333333333,
             "#9c179e"
            ],
            [
             0.4444444444444444,
             "#bd3786"
            ],
            [
             0.5555555555555556,
             "#d8576b"
            ],
            [
             0.6666666666666666,
             "#ed7953"
            ],
            [
             0.7777777777777778,
             "#fb9f3a"
            ],
            [
             0.8888888888888888,
             "#fdca26"
            ],
            [
             1.0,
             "#f0f921"
            ]
           ],
           "diverging": [
            [
             0,
             "#8e0152"
            ],
            [
             0.1,
             "#c51b7d"
            ],
            [
             0.2,
             "#de77ae"
            ],
            [
             0.3,
             "#f1b6da"
            ],
            [
             0.4,
             "#fde0ef"
            ],
            [
             0.5,
             "#f7f7f7"
            ],
            [
             0.6,
             "#e6f5d0"
            ],
            [
             0.7,
             "#b8e186"
            ],
            [
             0.8,
             "#7fbc41"
            ],
            [
             0.9,
             "#4d9221"
            ],
            [
             1,
             "#276419"
            ]
           ]
          },
          "xaxis": {
           "gridcolor": "#283442",
           "linecolor": "#506784",
           "ticks": "",
           "title": {
            "standoff": 15
           },
           "zerolinecolor": "#283442",
           "automargin": true,
           "zerolinewidth": 2
          },
          "yaxis": {
           "gridcolor": "#283442",
           "linecolor": "#506784",
           "ticks": "",
           "title": {
            "standoff": 15
           },
           "zerolinecolor": "#283442",
           "automargin": true,
           "zerolinewidth": 2
          },
          "scene": {
           "xaxis": {
            "backgroundcolor": "rgb(17,17,17)",
            "gridcolor": "#506784",
            "linecolor": "#506784",
            "showbackground": true,
            "ticks": "",
            "zerolinecolor": "#C8D4E3",
            "gridwidth": 2
           },
           "yaxis": {
            "backgroundcolor": "rgb(17,17,17)",
            "gridcolor": "#506784",
            "linecolor": "#506784",
            "showbackground": true,
            "ticks": "",
            "zerolinecolor": "#C8D4E3",
            "gridwidth": 2
           },
           "zaxis": {
            "backgroundcolor": "rgb(17,17,17)",
            "gridcolor": "#506784",
            "linecolor": "#506784",
            "showbackground": true,
            "ticks": "",
            "zerolinecolor": "#C8D4E3",
            "gridwidth": 2
           }
          },
          "shapedefaults": {
           "line": {
            "color": "#f2f5fa"
           }
          },
          "annotationdefaults": {
           "arrowcolor": "#f2f5fa",
           "arrowhead": 0,
           "arrowwidth": 1
          },
          "geo": {
           "bgcolor": "rgb(17,17,17)",
           "landcolor": "rgb(17,17,17)",
           "subunitcolor": "#506784",
           "showland": true,
           "showlakes": true,
           "lakecolor": "rgb(17,17,17)"
          },
          "title": {
           "x": 0.05
          },
          "updatemenudefaults": {
           "bgcolor": "#506784",
           "borderwidth": 0
          },
          "sliderdefaults": {
           "bgcolor": "#C8D4E3",
           "borderwidth": 1,
           "bordercolor": "rgb(17,17,17)",
           "tickwidth": 0
          },
          "mapbox": {
           "style": "dark"
          }
         }
        },
        "xaxis": {
         "anchor": "y",
         "domain": [
          0.0,
          0.11551020408163264
         ]
        },
        "yaxis": {
         "anchor": "x",
         "domain": [
          0.80625,
          1.0
         ]
        },
        "xaxis2": {
         "anchor": "y2",
         "domain": [
          0.1440816326530612,
          0.2595918367346938
         ]
        },
        "yaxis2": {
         "anchor": "x2",
         "domain": [
          0.80625,
          1.0
         ]
        },
        "xaxis3": {
         "anchor": "y3",
         "domain": [
          0.2881632653061224,
          0.40367346938775506
         ]
        },
        "yaxis3": {
         "anchor": "x3",
         "domain": [
          0.80625,
          1.0
         ]
        },
        "xaxis4": {
         "anchor": "y4",
         "domain": [
          0.43224489795918364,
          0.5477551020408162
         ]
        },
        "yaxis4": {
         "anchor": "x4",
         "domain": [
          0.80625,
          1.0
         ]
        },
        "xaxis5": {
         "anchor": "y5",
         "domain": [
          0.5763265306122448,
          0.6918367346938774
         ]
        },
        "yaxis5": {
         "anchor": "x5",
         "domain": [
          0.80625,
          1.0
         ]
        },
        "xaxis6": {
         "anchor": "y6",
         "domain": [
          0.7204081632653061,
          0.8359183673469387
         ]
        },
        "yaxis6": {
         "anchor": "x6",
         "domain": [
          0.80625,
          1.0
         ]
        },
        "xaxis7": {
         "anchor": "y7",
         "domain": [
          0.8644897959183673,
          0.9799999999999999
         ]
        },
        "yaxis7": {
         "anchor": "x7",
         "domain": [
          0.80625,
          1.0
         ]
        },
        "xaxis8": {
         "anchor": "y8",
         "domain": [
          0.0,
          0.11551020408163264
         ]
        },
        "yaxis8": {
         "anchor": "x8",
         "domain": [
          0.5375,
          0.73125
         ]
        },
        "xaxis9": {
         "anchor": "y9",
         "domain": [
          0.1440816326530612,
          0.2595918367346938
         ]
        },
        "yaxis9": {
         "anchor": "x9",
         "domain": [
          0.5375,
          0.73125
         ]
        },
        "xaxis10": {
         "anchor": "y10",
         "domain": [
          0.2881632653061224,
          0.40367346938775506
         ]
        },
        "yaxis10": {
         "anchor": "x10",
         "domain": [
          0.5375,
          0.73125
         ]
        },
        "xaxis11": {
         "anchor": "y11",
         "domain": [
          0.43224489795918364,
          0.5477551020408162
         ]
        },
        "yaxis11": {
         "anchor": "x11",
         "domain": [
          0.5375,
          0.73125
         ]
        },
        "xaxis12": {
         "anchor": "y12",
         "domain": [
          0.5763265306122448,
          0.6918367346938774
         ]
        },
        "yaxis12": {
         "anchor": "x12",
         "domain": [
          0.5375,
          0.73125
         ]
        },
        "xaxis13": {
         "anchor": "y13",
         "domain": [
          0.7204081632653061,
          0.8359183673469387
         ]
        },
        "yaxis13": {
         "anchor": "x13",
         "domain": [
          0.5375,
          0.73125
         ]
        },
        "xaxis14": {
         "anchor": "y14",
         "domain": [
          0.8644897959183673,
          0.9799999999999999
         ]
        },
        "yaxis14": {
         "anchor": "x14",
         "domain": [
          0.5375,
          0.73125
         ]
        },
        "xaxis15": {
         "anchor": "y15",
         "domain": [
          0.0,
          0.11551020408163264
         ]
        },
        "yaxis15": {
         "anchor": "x15",
         "domain": [
          0.26875,
          0.4625
         ]
        },
        "xaxis16": {
         "anchor": "y16",
         "domain": [
          0.1440816326530612,
          0.2595918367346938
         ]
        },
        "yaxis16": {
         "anchor": "x16",
         "domain": [
          0.26875,
          0.4625
         ]
        },
        "xaxis17": {
         "anchor": "y17",
         "domain": [
          0.2881632653061224,
          0.40367346938775506
         ]
        },
        "yaxis17": {
         "anchor": "x17",
         "domain": [
          0.26875,
          0.4625
         ]
        },
        "xaxis18": {
         "anchor": "y18",
         "domain": [
          0.43224489795918364,
          0.5477551020408162
         ]
        },
        "yaxis18": {
         "anchor": "x18",
         "domain": [
          0.26875,
          0.4625
         ]
        },
        "xaxis19": {
         "anchor": "y19",
         "domain": [
          0.5763265306122448,
          0.6918367346938774
         ]
        },
        "yaxis19": {
         "anchor": "x19",
         "domain": [
          0.26875,
          0.4625
         ]
        },
        "xaxis20": {
         "anchor": "y20",
         "domain": [
          0.7204081632653061,
          0.8359183673469387
         ]
        },
        "yaxis20": {
         "anchor": "x20",
         "domain": [
          0.26875,
          0.4625
         ]
        },
        "xaxis21": {
         "anchor": "y21",
         "domain": [
          0.8644897959183673,
          0.9799999999999999
         ]
        },
        "yaxis21": {
         "anchor": "x21",
         "domain": [
          0.26875,
          0.4625
         ]
        },
        "xaxis22": {
         "anchor": "y22",
         "domain": [
          0.0,
          0.11551020408163264
         ]
        },
        "yaxis22": {
         "anchor": "x22",
         "domain": [
          0.0,
          0.19375
         ]
        },
        "xaxis23": {
         "anchor": "y23",
         "domain": [
          0.1440816326530612,
          0.2595918367346938
         ]
        },
        "yaxis23": {
         "anchor": "x23",
         "domain": [
          0.0,
          0.19375
         ]
        },
        "xaxis24": {
         "anchor": "y24",
         "domain": [
          0.2881632653061224,
          0.40367346938775506
         ]
        },
        "yaxis24": {
         "anchor": "x24",
         "domain": [
          0.0,
          0.19375
         ]
        },
        "xaxis25": {
         "anchor": "y25",
         "domain": [
          0.43224489795918364,
          0.5477551020408162
         ]
        },
        "yaxis25": {
         "anchor": "x25",
         "domain": [
          0.0,
          0.19375
         ]
        },
        "xaxis26": {
         "anchor": "y26",
         "domain": [
          0.5763265306122448,
          0.6918367346938774
         ]
        },
        "yaxis26": {
         "anchor": "x26",
         "domain": [
          0.0,
          0.19375
         ]
        },
        "xaxis27": {
         "anchor": "y27",
         "domain": [
          0.7204081632653061,
          0.8359183673469387
         ]
        },
        "yaxis27": {
         "anchor": "x27",
         "domain": [
          0.0,
          0.19375
         ]
        },
        "xaxis28": {
         "anchor": "y28",
         "domain": [
          0.8644897959183673,
          0.9799999999999999
         ]
        },
        "yaxis28": {
         "anchor": "x28",
         "domain": [
          0.0,
          0.19375
         ]
        },
        "annotations": [
         {
          "font": {
           "size": 16
          },
          "showarrow": false,
          "text": "MN→RA",
          "x": 0.05775510204081632,
          "xanchor": "center",
          "xref": "paper",
          "y": 1.0,
          "yanchor": "bottom",
          "yref": "paper"
         },
         {
          "font": {
           "size": 16
          },
          "showarrow": false,
          "text": "MN→EngbertDetector{'λ':5,'ws':2}",
          "x": 0.20183673469387753,
          "xanchor": "center",
          "xref": "paper",
          "y": 1.0,
          "yanchor": "bottom",
          "yref": "paper"
         },
         {
          "font": {
           "size": 16
          },
          "showarrow": false,
          "text": "MN→NHDetector",
          "x": 0.3459183673469387,
          "xanchor": "center",
          "xref": "paper",
          "y": 1.0,
          "yanchor": "bottom",
          "yref": "paper"
         },
         {
          "font": {
           "size": 16
          },
          "showarrow": false,
          "text": "MN→REMoDNaVDetector",
          "x": 0.48999999999999994,
          "xanchor": "center",
          "xref": "paper",
          "y": 1.0,
          "yanchor": "bottom",
          "yref": "paper"
         },
         {
          "font": {
           "size": 16
          },
          "showarrow": false,
          "text": "RA→EngbertDetector{'λ':5,'ws':2}",
          "x": 0.6340816326530612,
          "xanchor": "center",
          "xref": "paper",
          "y": 1.0,
          "yanchor": "bottom",
          "yref": "paper"
         },
         {
          "font": {
           "size": 16
          },
          "showarrow": false,
          "text": "RA→NHDetector",
          "x": 0.7781632653061223,
          "xanchor": "center",
          "xref": "paper",
          "y": 1.0,
          "yanchor": "bottom",
          "yref": "paper"
         },
         {
          "font": {
           "size": 16
          },
          "showarrow": false,
          "text": "RA→REMoDNaVDetector",
          "x": 0.9222448979591835,
          "xanchor": "center",
          "xref": "paper",
          "y": 1.0,
          "yanchor": "bottom",
          "yref": "paper"
         },
         {
          "font": {
           "size": 16
          },
          "showarrow": false,
          "text": "img",
          "textangle": 90,
          "x": 0.9799999999999999,
          "xanchor": "left",
          "xref": "paper",
          "y": 0.903125,
          "yanchor": "middle",
          "yref": "paper"
         },
         {
          "font": {
           "size": 16
          },
          "showarrow": false,
          "text": "moving dot",
          "textangle": 90,
          "x": 0.9799999999999999,
          "xanchor": "left",
          "xref": "paper",
          "y": 0.6343749999999999,
          "yanchor": "middle",
          "yref": "paper"
         },
         {
          "font": {
           "size": 16
          },
          "showarrow": false,
          "text": "video",
          "textangle": 90,
          "x": 0.9799999999999999,
          "xanchor": "left",
          "xref": "paper",
          "y": 0.365625,
          "yanchor": "middle",
          "yref": "paper"
         },
         {
          "font": {
           "size": 16
          },
          "showarrow": false,
          "text": "all",
          "textangle": 90,
          "x": 0.9799999999999999,
          "xanchor": "left",
          "xref": "paper",
          "y": 0.096875,
          "yanchor": "middle",
          "yref": "paper"
         }
        ],
        "title": {
         "text": "Frobenius Norm Distribution"
        },
        "showlegend": false
       },
       "config": {
        "plotlyServerURL": "https://plot.ly"
       }
      },
      "text/html": "<div>                            <div id=\"c2cc82c5-83bb-4e31-b394-31b6eaa33570\" class=\"plotly-graph-div\" style=\"height:525px; width:100%;\"></div>            <script type=\"text/javascript\">                require([\"plotly\"], function(Plotly) {                    window.PLOTLYENV=window.PLOTLYENV || {};                                    if (document.getElementById(\"c2cc82c5-83bb-4e31-b394-31b6eaa33570\")) {                    Plotly.newPlot(                        \"c2cc82c5-83bb-4e31-b394-31b6eaa33570\",                        [{\"name\":\"\",\"points\":\"all\",\"showlegend\":false,\"side\":\"positive\",\"y\":[1.266021862900179,0.999662498265097,null,null,null,0.9932356725097616,0.9911331492590654,null,null,null,0.012606070567415221,0.973416965052205,0.018981612924159674,0.9941914534803238,0.06281301845435934,0.9923250070698748,0.010528295261301132,0.09336752701994946,1.4101366206792572,0.02084495341392419],\"type\":\"violin\",\"xaxis\":\"x\",\"yaxis\":\"y\"},{\"name\":\"\",\"points\":\"all\",\"showlegend\":false,\"side\":\"positive\",\"y\":[1.2380800147783788,1.150057525609764,null,null,null,1.1523708983629046,1.0019846035004094,null,null,null,1.1809832040917472,1.1822310502231506,1.0892922875388562,1.1669314547647271,1.1676130767543909,1.2283225059888425,1.1087797504932084,1.3908151136303395,0.9224842693948068,1.112119509032005],\"type\":\"violin\",\"xaxis\":\"x2\",\"yaxis\":\"y2\"},{\"name\":\"\",\"points\":\"all\",\"showlegend\":false,\"side\":\"positive\",\"y\":[1.001486643572442,1.0055205144268948,null,null,null,1.4088943483287157,1.350959332556616,null,null,null,1.0018687267228694,1.0011075443567852,1.399747887228872,1.002054698809985,1.0179643307656934,0.8556622191293175,0.9832081291617557,1.0504037114044338,0.1400949388932895,0.8371571788584955],\"type\":\"violin\",\"xaxis\":\"x3\",\"yaxis\":\"y3\"},{\"name\":\"\",\"points\":\"all\",\"showlegend\":false,\"side\":\"positive\",\"y\":[1.3894953331803968,1.32860502721394,null,null,null,1.691351703983695,0.996235346751266,null,null,null,0.9891456055332661,1.2672993169226137,1.6674207153778948,0.9896088929975507,0.9839796177421172,1.7153359584827887,1.7186533600711011,1.001484494667707,1.401872709721565,1.6788066031749858],\"type\":\"violin\",\"xaxis\":\"x4\",\"yaxis\":\"y4\"},{\"name\":\"\",\"points\":\"all\",\"showlegend\":false,\"side\":\"positive\",\"y\":[1.335948847671584,1.5158143420283814,0.983663876308013,1.1853292303334764,1.4849097435885303,1.511302069759939,1.4050450685973712,1.362597669542668,1.456861037636922,1.4690842489649134,1.1872228056898122,1.5322743770463567,1.0915102817581581,1.540413817138079,1.145497796388127,1.5826279075523755,1.1124986905569019,1.4013574839810166,1.542037403842185,1.1149995206097014],\"type\":\"violin\",\"xaxis\":\"x5\",\"yaxis\":\"y5\"},{\"name\":\"\",\"points\":\"all\",\"showlegend\":false,\"side\":\"positive\",\"y\":[1.6139258888452754,1.4170199774188725,1.3128194343473585,1.0015291001459077,1.718055479800252,1.7213290579316394,1.6884416673524418,1.4200106201152984,1.4081709097108601,1.3998053938097643,1.0018364839172582,1.3965390406199993,1.400604022205815,1.4106568957179761,1.0082695430982174,1.3096005060330043,0.9822985419940111,1.0536264310711851,1.394361633181253,0.8372927718289253],\"type\":\"violin\",\"xaxis\":\"x6\",\"yaxis\":\"y6\"},{\"name\":\"\",\"points\":\"all\",\"showlegend\":false,\"side\":\"positive\",\"y\":[0.31882186803543916,0.8884041531920978,1.0861597654921022,0.9872106751640968,1.374618002033594,1.3691414706533784,0.10012495346153615,0.9939226128543076,0.8424748097152702,0.7124151653743177,0.9893015105693049,0.7932408065057774,1.6677104788855648,0.030008352330940246,0.9827714323408501,1.401716417283633,1.7194210785834618,0.9994967335977237,1.3915908578231757,1.6800896470764353],\"type\":\"violin\",\"xaxis\":\"x7\",\"yaxis\":\"y7\"},{\"name\":\"\",\"points\":\"all\",\"showlegend\":false,\"side\":\"positive\",\"y\":[0.21010200599179937,null,null,0.05080676041325657,null,0.03811219906080986,0.8878859493518937,null,null,0.10192137703526753,0.11007192298253682,null,1.0449204701231813,null,0.1308296119430538,null,0.9948258994860614,0.025042300069254005,null],\"type\":\"violin\",\"xaxis\":\"x8\",\"yaxis\":\"y8\"},{\"name\":\"\",\"points\":\"all\",\"showlegend\":false,\"side\":\"positive\",\"y\":[1.5463927388598928,null,null,1.8201600389768802,null,1.594882599958261,1.8140942704953864,null,null,1.5108066527371278,1.4771238757644436,null,1.47627735873713,null,1.4962677518227685,null,1.9335398161499513,1.4509578261506184,null],\"type\":\"violin\",\"xaxis\":\"x9\",\"yaxis\":\"y9\"},{\"name\":\"\",\"points\":\"all\",\"showlegend\":false,\"side\":\"positive\",\"y\":[1.4400675170016586,null,null,1.734279438822453,null,1.4388550316211899,1.7463586936922766,null,null,1.0227812995967278,1.2750129882145487,null,1.55394484202779,null,1.2972296197484763,null,1.9956434230677629,1.7456708789857405,null],\"type\":\"violin\",\"xaxis\":\"x10\",\"yaxis\":\"y10\"},{\"name\":\"\",\"points\":\"all\",\"showlegend\":false,\"side\":\"positive\",\"y\":[0.8795582603542469,null,null,0.9970014426052441,null,0.22236700486590738,0.971915185924372,null,null,0.1992974342497869,0.7965466949163574,null,1.0461364409460956,null,0.25167764182392255,null,0.9841802430679636,1.4207247797263007,null],\"type\":\"violin\",\"xaxis\":\"x11\",\"yaxis\":\"y11\"},{\"name\":\"\",\"points\":\"all\",\"showlegend\":false,\"side\":\"positive\",\"y\":[1.4932350694860217,1.1009640860344125,1.339223489776508,1.8168452854791863,1.8344519629044296,1.5816857480586235,1.5925740918413203,1.8069707142446407,1.4587553434932417,1.5259293628750703,1.497151944770807,1.4914093902538053,1.3988098139126335,1.447448534228906,1.5273111787178297,1.5346122158565905,1.6686227269882596,1.4526123616364797,1.2916304127611544],\"type\":\"violin\",\"xaxis\":\"x12\",\"yaxis\":\"y12\"},{\"name\":\"\",\"points\":\"all\",\"showlegend\":false,\"side\":\"positive\",\"y\":[1.463280706748353,1.4105402765993302,1.7388023964424602,1.734621097800413,1.6801441307990763,1.4389404277432107,1.9173348845557536,1.870547341985994,1.2539485466542235,1.007679574835815,1.2986118777027957,1.4312134589815981,1.910949217820366,1.5050734596482416,1.3331436169300979,1.3149147915509263,1.7177556262518399,1.745628265580557,1.6148172364553666],\"type\":\"violin\",\"xaxis\":\"x13\",\"yaxis\":\"y13\"},{\"name\":\"\",\"points\":\"all\",\"showlegend\":false,\"side\":\"positive\",\"y\":[0.7804384847716653,1.2967515702071162,0.8693571764003826,0.9989718343919547,0.9982721961235151,0.2297873606928871,1.328793424783953,1.402428425210796,0.39747360319440866,0.12250500290024305,0.8346522902975847,0.8304907985557358,0.03091405812136113,0.5358388475720197,0.17089745700190656,0.8531199879578958,0.09262333957328284,1.4187770780152922,0.7976727845049546],\"type\":\"violin\",\"xaxis\":\"x14\",\"yaxis\":\"y14\"},{\"name\":\"\",\"points\":\"all\",\"showlegend\":false,\"side\":\"positive\",\"y\":[0.9417542682465045,0.05449182032911947,null,null,null,0.04595497074767282,null,null,null,null,0.030479417200938087,null,0.03953979647448663,0.0389893943624333,0.08569441509545724,0.03134144900686228,0.850574826163345,null,null],\"type\":\"violin\",\"xaxis\":\"x15\",\"yaxis\":\"y15\"},{\"name\":\"\",\"points\":\"all\",\"showlegend\":false,\"side\":\"positive\",\"y\":[1.3624452552422344,1.5475602051263455,null,null,null,1.5506514283019055,null,null,null,null,1.5260770651151039,null,1.5155151705445007,1.5453641570756647,1.5119219686644343,1.4937211868465616,1.4754004538068595,null,null],\"type\":\"violin\",\"xaxis\":\"x16\",\"yaxis\":\"y16\"},{\"name\":\"\",\"points\":\"all\",\"showlegend\":false,\"side\":\"positive\",\"y\":[1.702058360928039,1.4128102960847817,null,null,null,1.416372801583351,null,null,null,null,1.4219514379184819,null,1.4141391472253833,1.4383930654315036,1.7255214477385117,1.725844937469394,1.403044078319111,null,null],\"type\":\"violin\",\"xaxis\":\"x17\",\"yaxis\":\"y17\"},{\"name\":\"\",\"points\":\"all\",\"showlegend\":false,\"side\":\"positive\",\"y\":[0.9455884329864774,0.03877941512581261,null,null,null,0.9556348371987117,null,null,null,null,0.1273066611121631,null,0.8537977862076475,0.14681506866856056,1.3973282845868416,1.3883699938842196,1.4070801114582705,null,null],\"type\":\"violin\",\"xaxis\":\"x18\",\"yaxis\":\"y18\"},{\"name\":\"\",\"points\":\"all\",\"showlegend\":false,\"side\":\"positive\",\"y\":[1.5038836655372299,1.5269042930538452,1.4989819736686798,1.4811064843494892,1.4670309809063267,1.5573814294938906,1.3882040645993627,1.464115968808154,1.521830994795735,1.347428375532512,1.5328577776806316,1.490845511226886,1.5310396423358803,1.5416403326535506,1.4717026052051894,1.4826494298650996,1.4096610086206969,1.3539738825976164,1.3995926254704008],\"type\":\"violin\",\"xaxis\":\"x19\",\"yaxis\":\"y19\"},{\"name\":\"\",\"points\":\"all\",\"showlegend\":false,\"side\":\"positive\",\"y\":[1.4174770912173944,1.413975355910539,1.4202735922431131,1.234623508475859,1.6551927580751675,1.413491967303907,1.645402961652195,1.334419203627249,1.4224961447315387,1.7014126522486326,1.4236399254434513,1.7252270082403505,1.4133588598937352,1.4357158381336697,1.7239537929128772,1.7242917298968394,1.0273411310155518,1.4109803669198417,1.9478887122583648],\"type\":\"violin\",\"xaxis\":\"x20\",\"yaxis\":\"y20\"},{\"name\":\"\",\"points\":\"all\",\"showlegend\":false,\"side\":\"positive\",\"y\":[0.11242095123270059,0.054069023478958055,0.12286984445621243,1.40174532576006,1.379911175318405,0.9545811533621866,0.9924127242943444,1.3846010631179402,0.10392004456330743,0.4646286824103019,0.1464312494358272,1.3475102337654103,0.8525499876740111,0.154648061485765,1.397316304832916,1.387076801666052,1.024188821359237,0.9917756462604634,0.9992086508820741],\"type\":\"violin\",\"xaxis\":\"x21\",\"yaxis\":\"y21\"},{\"name\":\"\",\"points\":\"all\",\"showlegend\":false,\"side\":\"positive\",\"y\":[0.21010200599179937,1.266021862900179,0.999662498265097,null,0.9417542682465045,null,null,0.05080676041325657,0.05449182032911947,null,null,null,null,null,null,0.9932356725097616,0.03811219906080986,0.8878859493518937,0.9911331492590654,0.04595497074767282,null,null,null,null,null,null,null,null,null,0.012606070567415221,0.10192137703526753,0.030479417200938087,0.11007192298253682,0.973416965052205,null,0.018981612924159674,0.03953979647448663,null,0.9941914534803238,1.0449204701231813,0.06281301845435934,0.0389893943624333,0.9923250070698748,0.08569441509545724,null,0.1308296119430538,0.03134144900686228,null,0.010528295261301132,0.9948258994860614,0.850574826163345,0.09336752701994946,0.025042300069254005,1.4101366206792572,null,0.02084495341392419,null,null],\"type\":\"violin\",\"xaxis\":\"x22\",\"yaxis\":\"y22\"},{\"name\":\"\",\"points\":\"all\",\"showlegend\":false,\"side\":\"positive\",\"y\":[1.5463927388598928,1.2380800147783788,1.150057525609764,null,1.3624452552422344,null,null,1.8201600389768802,1.5475602051263455,null,null,null,null,null,null,1.1523708983629046,1.594882599958261,1.8140942704953864,1.0019846035004094,1.5506514283019055,null,null,null,null,null,null,null,null,null,1.1809832040917472,1.5108066527371278,1.5260770651151039,1.4771238757644436,1.1822310502231506,null,1.0892922875388562,1.5155151705445007,null,1.1669314547647271,1.47627735873713,1.1676130767543909,1.5453641570756647,1.2283225059888425,1.5119219686644343,null,1.4962677518227685,1.4937211868465616,null,1.1087797504932084,1.9335398161499513,1.4754004538068595,1.3908151136303395,1.4509578261506184,0.9224842693948068,null,1.112119509032005,null,null],\"type\":\"violin\",\"xaxis\":\"x23\",\"yaxis\":\"y23\"},{\"name\":\"\",\"points\":\"all\",\"showlegend\":false,\"side\":\"positive\",\"y\":[1.4400675170016586,1.001486643572442,1.0055205144268948,null,1.702058360928039,null,null,1.734279438822453,1.4128102960847817,null,null,null,null,null,null,1.4088943483287157,1.4388550316211899,1.7463586936922766,1.350959332556616,1.416372801583351,null,null,null,null,null,null,null,null,null,1.0018687267228694,1.0227812995967278,1.4219514379184819,1.2750129882145487,1.0011075443567852,null,1.399747887228872,1.4141391472253833,null,1.002054698809985,1.55394484202779,1.0179643307656934,1.4383930654315036,0.8556622191293175,1.7255214477385117,null,1.2972296197484763,1.725844937469394,null,0.9832081291617557,1.9956434230677629,1.403044078319111,1.0504037114044338,1.7456708789857405,0.1400949388932895,null,0.8371571788584955,null,null],\"type\":\"violin\",\"xaxis\":\"x24\",\"yaxis\":\"y24\"},{\"name\":\"\",\"points\":\"all\",\"showlegend\":false,\"side\":\"positive\",\"y\":[0.8795582603542469,1.3894953331803968,1.32860502721394,null,0.9455884329864774,null,null,0.9970014426052441,0.03877941512581261,null,null,null,null,null,null,1.691351703983695,0.22236700486590738,0.971915185924372,0.996235346751266,0.9556348371987117,null,null,null,null,null,null,null,null,null,0.9891456055332661,0.1992974342497869,0.1273066611121631,0.7965466949163574,1.2672993169226137,null,1.6674207153778948,0.8537977862076475,null,0.9896088929975507,1.0461364409460956,0.9839796177421172,0.14681506866856056,1.7153359584827887,1.3973282845868416,null,0.25167764182392255,1.3883699938842196,null,1.7186533600711011,0.9841802430679636,1.4070801114582705,1.001484494667707,1.4207247797263007,1.401872709721565,null,1.6788066031749858,null,null],\"type\":\"violin\",\"xaxis\":\"x25\",\"yaxis\":\"y25\"},{\"name\":\"\",\"points\":\"all\",\"showlegend\":false,\"side\":\"positive\",\"y\":[1.4932350694860217,1.335948847671584,1.5158143420283814,1.1009640860344125,1.5038836655372299,1.339223489776508,0.983663876308013,1.8168452854791863,1.5269042930538452,1.1853292303334764,1.4989819736686798,1.4811064843494892,1.4849097435885303,1.8344519629044296,1.4670309809063267,1.511302069759939,1.5816857480586235,1.5925740918413203,1.4050450685973712,1.5573814294938906,1.8069707142446407,1.3882040645993627,1.464115968808154,1.362597669542668,1.4587553434932417,1.521830994795735,1.456861037636922,1.4690842489649134,1.347428375532512,1.1872228056898122,1.5259293628750703,1.5328577776806316,1.497151944770807,1.5322743770463567,1.490845511226886,1.0915102817581581,1.5310396423358803,1.4914093902538053,1.540413817138079,1.3988098139126335,1.145497796388127,1.5416403326535506,1.5826279075523755,1.4717026052051894,1.447448534228906,1.5273111787178297,1.4826494298650996,1.5346122158565905,1.1124986905569019,1.6686227269882596,1.4096610086206969,1.4013574839810166,1.4526123616364797,1.542037403842185,1.3539738825976164,1.1149995206097014,1.2916304127611544,1.3995926254704008],\"type\":\"violin\",\"xaxis\":\"x26\",\"yaxis\":\"y26\"},{\"name\":\"\",\"points\":\"all\",\"showlegend\":false,\"side\":\"positive\",\"y\":[1.463280706748353,1.6139258888452754,1.4170199774188725,1.4105402765993302,1.4174770912173944,1.7388023964424602,1.3128194343473585,1.734621097800413,1.413975355910539,1.0015291001459077,1.4202735922431131,1.234623508475859,1.718055479800252,1.6801441307990763,1.6551927580751675,1.7213290579316394,1.4389404277432107,1.9173348845557536,1.6884416673524418,1.413491967303907,1.870547341985994,1.645402961652195,1.334419203627249,1.4200106201152984,1.2539485466542235,1.4224961447315387,1.4081709097108601,1.3998053938097643,1.7014126522486326,1.0018364839172582,1.007679574835815,1.4236399254434513,1.2986118777027957,1.3965390406199993,1.7252270082403505,1.400604022205815,1.4133588598937352,1.4312134589815981,1.4106568957179761,1.910949217820366,1.0082695430982174,1.4357158381336697,1.3096005060330043,1.7239537929128772,1.5050734596482416,1.3331436169300979,1.7242917298968394,1.3149147915509263,0.9822985419940111,1.7177556262518399,1.0273411310155518,1.0536264310711851,1.745628265580557,1.394361633181253,1.4109803669198417,0.8372927718289253,1.6148172364553666,1.9478887122583648],\"type\":\"violin\",\"xaxis\":\"x27\",\"yaxis\":\"y27\"},{\"name\":\"\",\"points\":\"all\",\"showlegend\":false,\"side\":\"positive\",\"y\":[0.7804384847716653,0.31882186803543916,0.8884041531920978,1.2967515702071162,0.11242095123270059,0.8693571764003826,1.0861597654921022,0.9989718343919547,0.054069023478958055,0.9872106751640968,0.12286984445621243,1.40174532576006,1.374618002033594,0.9982721961235151,1.379911175318405,1.3691414706533784,0.2297873606928871,1.328793424783953,0.10012495346153615,0.9545811533621866,1.402428425210796,0.9924127242943444,1.3846010631179402,0.9939226128543076,0.39747360319440866,0.10392004456330743,0.8424748097152702,0.7124151653743177,0.4646286824103019,0.9893015105693049,0.12250500290024305,0.1464312494358272,0.8346522902975847,0.7932408065057774,1.3475102337654103,1.6677104788855648,0.8525499876740111,0.8304907985557358,0.030008352330940246,0.03091405812136113,0.9827714323408501,0.154648061485765,1.401716417283633,1.397316304832916,0.5358388475720197,0.17089745700190656,1.387076801666052,0.8531199879578958,1.7194210785834618,0.09262333957328284,1.024188821359237,0.9994967335977237,1.4187770780152922,1.3915908578231757,0.9917756462604634,1.6800896470764353,0.7976727845049546,0.9992086508820741],\"type\":\"violin\",\"xaxis\":\"x28\",\"yaxis\":\"y28\"}],                        {\"template\":{\"data\":{\"histogram2dcontour\":[{\"type\":\"histogram2dcontour\",\"colorbar\":{\"outlinewidth\":0,\"ticks\":\"\"},\"colorscale\":[[0.0,\"#0d0887\"],[0.1111111111111111,\"#46039f\"],[0.2222222222222222,\"#7201a8\"],[0.3333333333333333,\"#9c179e\"],[0.4444444444444444,\"#bd3786\"],[0.5555555555555556,\"#d8576b\"],[0.6666666666666666,\"#ed7953\"],[0.7777777777777778,\"#fb9f3a\"],[0.8888888888888888,\"#fdca26\"],[1.0,\"#f0f921\"]]}],\"choropleth\":[{\"type\":\"choropleth\",\"colorbar\":{\"outlinewidth\":0,\"ticks\":\"\"}}],\"histogram2d\":[{\"type\":\"histogram2d\",\"colorbar\":{\"outlinewidth\":0,\"ticks\":\"\"},\"colorscale\":[[0.0,\"#0d0887\"],[0.1111111111111111,\"#46039f\"],[0.2222222222222222,\"#7201a8\"],[0.3333333333333333,\"#9c179e\"],[0.4444444444444444,\"#bd3786\"],[0.5555555555555556,\"#d8576b\"],[0.6666666666666666,\"#ed7953\"],[0.7777777777777778,\"#fb9f3a\"],[0.8888888888888888,\"#fdca26\"],[1.0,\"#f0f921\"]]}],\"heatmap\":[{\"type\":\"heatmap\",\"colorbar\":{\"outlinewidth\":0,\"ticks\":\"\"},\"colorscale\":[[0.0,\"#0d0887\"],[0.1111111111111111,\"#46039f\"],[0.2222222222222222,\"#7201a8\"],[0.3333333333333333,\"#9c179e\"],[0.4444444444444444,\"#bd3786\"],[0.5555555555555556,\"#d8576b\"],[0.6666666666666666,\"#ed7953\"],[0.7777777777777778,\"#fb9f3a\"],[0.8888888888888888,\"#fdca26\"],[1.0,\"#f0f921\"]]}],\"heatmapgl\":[{\"type\":\"heatmapgl\",\"colorbar\":{\"outlinewidth\":0,\"ticks\":\"\"},\"colorscale\":[[0.0,\"#0d0887\"],[0.1111111111111111,\"#46039f\"],[0.2222222222222222,\"#7201a8\"],[0.3333333333333333,\"#9c179e\"],[0.4444444444444444,\"#bd3786\"],[0.5555555555555556,\"#d8576b\"],[0.6666666666666666,\"#ed7953\"],[0.7777777777777778,\"#fb9f3a\"],[0.8888888888888888,\"#fdca26\"],[1.0,\"#f0f921\"]]}],\"contourcarpet\":[{\"type\":\"contourcarpet\",\"colorbar\":{\"outlinewidth\":0,\"ticks\":\"\"}}],\"contour\":[{\"type\":\"contour\",\"colorbar\":{\"outlinewidth\":0,\"ticks\":\"\"},\"colorscale\":[[0.0,\"#0d0887\"],[0.1111111111111111,\"#46039f\"],[0.2222222222222222,\"#7201a8\"],[0.3333333333333333,\"#9c179e\"],[0.4444444444444444,\"#bd3786\"],[0.5555555555555556,\"#d8576b\"],[0.6666666666666666,\"#ed7953\"],[0.7777777777777778,\"#fb9f3a\"],[0.8888888888888888,\"#fdca26\"],[1.0,\"#f0f921\"]]}],\"surface\":[{\"type\":\"surface\",\"colorbar\":{\"outlinewidth\":0,\"ticks\":\"\"},\"colorscale\":[[0.0,\"#0d0887\"],[0.1111111111111111,\"#46039f\"],[0.2222222222222222,\"#7201a8\"],[0.3333333333333333,\"#9c179e\"],[0.4444444444444444,\"#bd3786\"],[0.5555555555555556,\"#d8576b\"],[0.6666666666666666,\"#ed7953\"],[0.7777777777777778,\"#fb9f3a\"],[0.8888888888888888,\"#fdca26\"],[1.0,\"#f0f921\"]]}],\"mesh3d\":[{\"type\":\"mesh3d\",\"colorbar\":{\"outlinewidth\":0,\"ticks\":\"\"}}],\"scatter\":[{\"marker\":{\"line\":{\"color\":\"#283442\"}},\"type\":\"scatter\"}],\"parcoords\":[{\"type\":\"parcoords\",\"line\":{\"colorbar\":{\"outlinewidth\":0,\"ticks\":\"\"}}}],\"scatterpolargl\":[{\"type\":\"scatterpolargl\",\"marker\":{\"colorbar\":{\"outlinewidth\":0,\"ticks\":\"\"}}}],\"bar\":[{\"error_x\":{\"color\":\"#f2f5fa\"},\"error_y\":{\"color\":\"#f2f5fa\"},\"marker\":{\"line\":{\"color\":\"rgb(17,17,17)\",\"width\":0.5},\"pattern\":{\"fillmode\":\"overlay\",\"size\":10,\"solidity\":0.2}},\"type\":\"bar\"}],\"scattergeo\":[{\"type\":\"scattergeo\",\"marker\":{\"colorbar\":{\"outlinewidth\":0,\"ticks\":\"\"}}}],\"scatterpolar\":[{\"type\":\"scatterpolar\",\"marker\":{\"colorbar\":{\"outlinewidth\":0,\"ticks\":\"\"}}}],\"histogram\":[{\"marker\":{\"pattern\":{\"fillmode\":\"overlay\",\"size\":10,\"solidity\":0.2}},\"type\":\"histogram\"}],\"scattergl\":[{\"marker\":{\"line\":{\"color\":\"#283442\"}},\"type\":\"scattergl\"}],\"scatter3d\":[{\"type\":\"scatter3d\",\"line\":{\"colorbar\":{\"outlinewidth\":0,\"ticks\":\"\"}},\"marker\":{\"colorbar\":{\"outlinewidth\":0,\"ticks\":\"\"}}}],\"scattermapbox\":[{\"type\":\"scattermapbox\",\"marker\":{\"colorbar\":{\"outlinewidth\":0,\"ticks\":\"\"}}}],\"scatterternary\":[{\"type\":\"scatterternary\",\"marker\":{\"colorbar\":{\"outlinewidth\":0,\"ticks\":\"\"}}}],\"scattercarpet\":[{\"type\":\"scattercarpet\",\"marker\":{\"colorbar\":{\"outlinewidth\":0,\"ticks\":\"\"}}}],\"carpet\":[{\"aaxis\":{\"endlinecolor\":\"#A2B1C6\",\"gridcolor\":\"#506784\",\"linecolor\":\"#506784\",\"minorgridcolor\":\"#506784\",\"startlinecolor\":\"#A2B1C6\"},\"baxis\":{\"endlinecolor\":\"#A2B1C6\",\"gridcolor\":\"#506784\",\"linecolor\":\"#506784\",\"minorgridcolor\":\"#506784\",\"startlinecolor\":\"#A2B1C6\"},\"type\":\"carpet\"}],\"table\":[{\"cells\":{\"fill\":{\"color\":\"#506784\"},\"line\":{\"color\":\"rgb(17,17,17)\"}},\"header\":{\"fill\":{\"color\":\"#2a3f5f\"},\"line\":{\"color\":\"rgb(17,17,17)\"}},\"type\":\"table\"}],\"barpolar\":[{\"marker\":{\"line\":{\"color\":\"rgb(17,17,17)\",\"width\":0.5},\"pattern\":{\"fillmode\":\"overlay\",\"size\":10,\"solidity\":0.2}},\"type\":\"barpolar\"}],\"pie\":[{\"automargin\":true,\"type\":\"pie\"}]},\"layout\":{\"autotypenumbers\":\"strict\",\"colorway\":[\"#636efa\",\"#EF553B\",\"#00cc96\",\"#ab63fa\",\"#FFA15A\",\"#19d3f3\",\"#FF6692\",\"#B6E880\",\"#FF97FF\",\"#FECB52\"],\"font\":{\"color\":\"#f2f5fa\"},\"hovermode\":\"closest\",\"hoverlabel\":{\"align\":\"left\"},\"paper_bgcolor\":\"rgb(17,17,17)\",\"plot_bgcolor\":\"rgb(17,17,17)\",\"polar\":{\"bgcolor\":\"rgb(17,17,17)\",\"angularaxis\":{\"gridcolor\":\"#506784\",\"linecolor\":\"#506784\",\"ticks\":\"\"},\"radialaxis\":{\"gridcolor\":\"#506784\",\"linecolor\":\"#506784\",\"ticks\":\"\"}},\"ternary\":{\"bgcolor\":\"rgb(17,17,17)\",\"aaxis\":{\"gridcolor\":\"#506784\",\"linecolor\":\"#506784\",\"ticks\":\"\"},\"baxis\":{\"gridcolor\":\"#506784\",\"linecolor\":\"#506784\",\"ticks\":\"\"},\"caxis\":{\"gridcolor\":\"#506784\",\"linecolor\":\"#506784\",\"ticks\":\"\"}},\"coloraxis\":{\"colorbar\":{\"outlinewidth\":0,\"ticks\":\"\"}},\"colorscale\":{\"sequential\":[[0.0,\"#0d0887\"],[0.1111111111111111,\"#46039f\"],[0.2222222222222222,\"#7201a8\"],[0.3333333333333333,\"#9c179e\"],[0.4444444444444444,\"#bd3786\"],[0.5555555555555556,\"#d8576b\"],[0.6666666666666666,\"#ed7953\"],[0.7777777777777778,\"#fb9f3a\"],[0.8888888888888888,\"#fdca26\"],[1.0,\"#f0f921\"]],\"sequentialminus\":[[0.0,\"#0d0887\"],[0.1111111111111111,\"#46039f\"],[0.2222222222222222,\"#7201a8\"],[0.3333333333333333,\"#9c179e\"],[0.4444444444444444,\"#bd3786\"],[0.5555555555555556,\"#d8576b\"],[0.6666666666666666,\"#ed7953\"],[0.7777777777777778,\"#fb9f3a\"],[0.8888888888888888,\"#fdca26\"],[1.0,\"#f0f921\"]],\"diverging\":[[0,\"#8e0152\"],[0.1,\"#c51b7d\"],[0.2,\"#de77ae\"],[0.3,\"#f1b6da\"],[0.4,\"#fde0ef\"],[0.5,\"#f7f7f7\"],[0.6,\"#e6f5d0\"],[0.7,\"#b8e186\"],[0.8,\"#7fbc41\"],[0.9,\"#4d9221\"],[1,\"#276419\"]]},\"xaxis\":{\"gridcolor\":\"#283442\",\"linecolor\":\"#506784\",\"ticks\":\"\",\"title\":{\"standoff\":15},\"zerolinecolor\":\"#283442\",\"automargin\":true,\"zerolinewidth\":2},\"yaxis\":{\"gridcolor\":\"#283442\",\"linecolor\":\"#506784\",\"ticks\":\"\",\"title\":{\"standoff\":15},\"zerolinecolor\":\"#283442\",\"automargin\":true,\"zerolinewidth\":2},\"scene\":{\"xaxis\":{\"backgroundcolor\":\"rgb(17,17,17)\",\"gridcolor\":\"#506784\",\"linecolor\":\"#506784\",\"showbackground\":true,\"ticks\":\"\",\"zerolinecolor\":\"#C8D4E3\",\"gridwidth\":2},\"yaxis\":{\"backgroundcolor\":\"rgb(17,17,17)\",\"gridcolor\":\"#506784\",\"linecolor\":\"#506784\",\"showbackground\":true,\"ticks\":\"\",\"zerolinecolor\":\"#C8D4E3\",\"gridwidth\":2},\"zaxis\":{\"backgroundcolor\":\"rgb(17,17,17)\",\"gridcolor\":\"#506784\",\"linecolor\":\"#506784\",\"showbackground\":true,\"ticks\":\"\",\"zerolinecolor\":\"#C8D4E3\",\"gridwidth\":2}},\"shapedefaults\":{\"line\":{\"color\":\"#f2f5fa\"}},\"annotationdefaults\":{\"arrowcolor\":\"#f2f5fa\",\"arrowhead\":0,\"arrowwidth\":1},\"geo\":{\"bgcolor\":\"rgb(17,17,17)\",\"landcolor\":\"rgb(17,17,17)\",\"subunitcolor\":\"#506784\",\"showland\":true,\"showlakes\":true,\"lakecolor\":\"rgb(17,17,17)\"},\"title\":{\"x\":0.05},\"updatemenudefaults\":{\"bgcolor\":\"#506784\",\"borderwidth\":0},\"sliderdefaults\":{\"bgcolor\":\"#C8D4E3\",\"borderwidth\":1,\"bordercolor\":\"rgb(17,17,17)\",\"tickwidth\":0},\"mapbox\":{\"style\":\"dark\"}}},\"xaxis\":{\"anchor\":\"y\",\"domain\":[0.0,0.11551020408163264]},\"yaxis\":{\"anchor\":\"x\",\"domain\":[0.80625,1.0]},\"xaxis2\":{\"anchor\":\"y2\",\"domain\":[0.1440816326530612,0.2595918367346938]},\"yaxis2\":{\"anchor\":\"x2\",\"domain\":[0.80625,1.0]},\"xaxis3\":{\"anchor\":\"y3\",\"domain\":[0.2881632653061224,0.40367346938775506]},\"yaxis3\":{\"anchor\":\"x3\",\"domain\":[0.80625,1.0]},\"xaxis4\":{\"anchor\":\"y4\",\"domain\":[0.43224489795918364,0.5477551020408162]},\"yaxis4\":{\"anchor\":\"x4\",\"domain\":[0.80625,1.0]},\"xaxis5\":{\"anchor\":\"y5\",\"domain\":[0.5763265306122448,0.6918367346938774]},\"yaxis5\":{\"anchor\":\"x5\",\"domain\":[0.80625,1.0]},\"xaxis6\":{\"anchor\":\"y6\",\"domain\":[0.7204081632653061,0.8359183673469387]},\"yaxis6\":{\"anchor\":\"x6\",\"domain\":[0.80625,1.0]},\"xaxis7\":{\"anchor\":\"y7\",\"domain\":[0.8644897959183673,0.9799999999999999]},\"yaxis7\":{\"anchor\":\"x7\",\"domain\":[0.80625,1.0]},\"xaxis8\":{\"anchor\":\"y8\",\"domain\":[0.0,0.11551020408163264]},\"yaxis8\":{\"anchor\":\"x8\",\"domain\":[0.5375,0.73125]},\"xaxis9\":{\"anchor\":\"y9\",\"domain\":[0.1440816326530612,0.2595918367346938]},\"yaxis9\":{\"anchor\":\"x9\",\"domain\":[0.5375,0.73125]},\"xaxis10\":{\"anchor\":\"y10\",\"domain\":[0.2881632653061224,0.40367346938775506]},\"yaxis10\":{\"anchor\":\"x10\",\"domain\":[0.5375,0.73125]},\"xaxis11\":{\"anchor\":\"y11\",\"domain\":[0.43224489795918364,0.5477551020408162]},\"yaxis11\":{\"anchor\":\"x11\",\"domain\":[0.5375,0.73125]},\"xaxis12\":{\"anchor\":\"y12\",\"domain\":[0.5763265306122448,0.6918367346938774]},\"yaxis12\":{\"anchor\":\"x12\",\"domain\":[0.5375,0.73125]},\"xaxis13\":{\"anchor\":\"y13\",\"domain\":[0.7204081632653061,0.8359183673469387]},\"yaxis13\":{\"anchor\":\"x13\",\"domain\":[0.5375,0.73125]},\"xaxis14\":{\"anchor\":\"y14\",\"domain\":[0.8644897959183673,0.9799999999999999]},\"yaxis14\":{\"anchor\":\"x14\",\"domain\":[0.5375,0.73125]},\"xaxis15\":{\"anchor\":\"y15\",\"domain\":[0.0,0.11551020408163264]},\"yaxis15\":{\"anchor\":\"x15\",\"domain\":[0.26875,0.4625]},\"xaxis16\":{\"anchor\":\"y16\",\"domain\":[0.1440816326530612,0.2595918367346938]},\"yaxis16\":{\"anchor\":\"x16\",\"domain\":[0.26875,0.4625]},\"xaxis17\":{\"anchor\":\"y17\",\"domain\":[0.2881632653061224,0.40367346938775506]},\"yaxis17\":{\"anchor\":\"x17\",\"domain\":[0.26875,0.4625]},\"xaxis18\":{\"anchor\":\"y18\",\"domain\":[0.43224489795918364,0.5477551020408162]},\"yaxis18\":{\"anchor\":\"x18\",\"domain\":[0.26875,0.4625]},\"xaxis19\":{\"anchor\":\"y19\",\"domain\":[0.5763265306122448,0.6918367346938774]},\"yaxis19\":{\"anchor\":\"x19\",\"domain\":[0.26875,0.4625]},\"xaxis20\":{\"anchor\":\"y20\",\"domain\":[0.7204081632653061,0.8359183673469387]},\"yaxis20\":{\"anchor\":\"x20\",\"domain\":[0.26875,0.4625]},\"xaxis21\":{\"anchor\":\"y21\",\"domain\":[0.8644897959183673,0.9799999999999999]},\"yaxis21\":{\"anchor\":\"x21\",\"domain\":[0.26875,0.4625]},\"xaxis22\":{\"anchor\":\"y22\",\"domain\":[0.0,0.11551020408163264]},\"yaxis22\":{\"anchor\":\"x22\",\"domain\":[0.0,0.19375]},\"xaxis23\":{\"anchor\":\"y23\",\"domain\":[0.1440816326530612,0.2595918367346938]},\"yaxis23\":{\"anchor\":\"x23\",\"domain\":[0.0,0.19375]},\"xaxis24\":{\"anchor\":\"y24\",\"domain\":[0.2881632653061224,0.40367346938775506]},\"yaxis24\":{\"anchor\":\"x24\",\"domain\":[0.0,0.19375]},\"xaxis25\":{\"anchor\":\"y25\",\"domain\":[0.43224489795918364,0.5477551020408162]},\"yaxis25\":{\"anchor\":\"x25\",\"domain\":[0.0,0.19375]},\"xaxis26\":{\"anchor\":\"y26\",\"domain\":[0.5763265306122448,0.6918367346938774]},\"yaxis26\":{\"anchor\":\"x26\",\"domain\":[0.0,0.19375]},\"xaxis27\":{\"anchor\":\"y27\",\"domain\":[0.7204081632653061,0.8359183673469387]},\"yaxis27\":{\"anchor\":\"x27\",\"domain\":[0.0,0.19375]},\"xaxis28\":{\"anchor\":\"y28\",\"domain\":[0.8644897959183673,0.9799999999999999]},\"yaxis28\":{\"anchor\":\"x28\",\"domain\":[0.0,0.19375]},\"annotations\":[{\"font\":{\"size\":16},\"showarrow\":false,\"text\":\"MN\\u2192RA\",\"x\":0.05775510204081632,\"xanchor\":\"center\",\"xref\":\"paper\",\"y\":1.0,\"yanchor\":\"bottom\",\"yref\":\"paper\"},{\"font\":{\"size\":16},\"showarrow\":false,\"text\":\"MN\\u2192EngbertDetector{'\\u03bb':5,'ws':2}\",\"x\":0.20183673469387753,\"xanchor\":\"center\",\"xref\":\"paper\",\"y\":1.0,\"yanchor\":\"bottom\",\"yref\":\"paper\"},{\"font\":{\"size\":16},\"showarrow\":false,\"text\":\"MN\\u2192NHDetector\",\"x\":0.3459183673469387,\"xanchor\":\"center\",\"xref\":\"paper\",\"y\":1.0,\"yanchor\":\"bottom\",\"yref\":\"paper\"},{\"font\":{\"size\":16},\"showarrow\":false,\"text\":\"MN\\u2192REMoDNaVDetector\",\"x\":0.48999999999999994,\"xanchor\":\"center\",\"xref\":\"paper\",\"y\":1.0,\"yanchor\":\"bottom\",\"yref\":\"paper\"},{\"font\":{\"size\":16},\"showarrow\":false,\"text\":\"RA\\u2192EngbertDetector{'\\u03bb':5,'ws':2}\",\"x\":0.6340816326530612,\"xanchor\":\"center\",\"xref\":\"paper\",\"y\":1.0,\"yanchor\":\"bottom\",\"yref\":\"paper\"},{\"font\":{\"size\":16},\"showarrow\":false,\"text\":\"RA\\u2192NHDetector\",\"x\":0.7781632653061223,\"xanchor\":\"center\",\"xref\":\"paper\",\"y\":1.0,\"yanchor\":\"bottom\",\"yref\":\"paper\"},{\"font\":{\"size\":16},\"showarrow\":false,\"text\":\"RA\\u2192REMoDNaVDetector\",\"x\":0.9222448979591835,\"xanchor\":\"center\",\"xref\":\"paper\",\"y\":1.0,\"yanchor\":\"bottom\",\"yref\":\"paper\"},{\"font\":{\"size\":16},\"showarrow\":false,\"text\":\"img\",\"textangle\":90,\"x\":0.9799999999999999,\"xanchor\":\"left\",\"xref\":\"paper\",\"y\":0.903125,\"yanchor\":\"middle\",\"yref\":\"paper\"},{\"font\":{\"size\":16},\"showarrow\":false,\"text\":\"moving dot\",\"textangle\":90,\"x\":0.9799999999999999,\"xanchor\":\"left\",\"xref\":\"paper\",\"y\":0.6343749999999999,\"yanchor\":\"middle\",\"yref\":\"paper\"},{\"font\":{\"size\":16},\"showarrow\":false,\"text\":\"video\",\"textangle\":90,\"x\":0.9799999999999999,\"xanchor\":\"left\",\"xref\":\"paper\",\"y\":0.365625,\"yanchor\":\"middle\",\"yref\":\"paper\"},{\"font\":{\"size\":16},\"showarrow\":false,\"text\":\"all\",\"textangle\":90,\"x\":0.9799999999999999,\"xanchor\":\"left\",\"xref\":\"paper\",\"y\":0.096875,\"yanchor\":\"middle\",\"yref\":\"paper\"}],\"title\":{\"text\":\"Frobenius Norm Distribution\"},\"showlegend\":false},                        {\"responsive\": true}                    ).then(function(){\n                            \nvar gd = document.getElementById('c2cc82c5-83bb-4e31-b394-31b6eaa33570');\nvar x = new MutationObserver(function (mutations, observer) {{\n        var display = window.getComputedStyle(gd).display;\n        if (!display || display === 'none') {{\n            console.log([gd, 'removed!']);\n            Plotly.purge(gd);\n            observer.disconnect();\n        }}\n}});\n\n// Listen for the removal of the full notebook cells\nvar notebookContainer = gd.closest('#notebook-container');\nif (notebookContainer) {{\n    x.observe(notebookContainer, {childList: true});\n}}\n\n// Listen for the clearing of the current output cell\nvar outputEl = gd.closest('.output');\nif (outputEl) {{\n    x.observe(outputEl, {childList: true});\n}}\n\n                        })                };                });            </script>        </div>"
     },
     "metadata": {},
     "output_type": "display_data"
    }
   ],
   "source": [
    "samples_frobenius_grouped = detector_comparisons.compare_samples(samples=samples_df, metric=\"frobenius\", group_by=cnst.STIMULUS)\n",
    "frob_distribution_fig = figs.distributions_grid(\n",
    "    samples_frobenius_grouped[COMPARISON_COLUMNS],\n",
    "    plot_type=\"violin\",\n",
    "    title=\"Frobenius Norm Distribution\",\n",
    "    column_title_mapper=lambda col: f\"{col[0]}→{col[1]}\"\n",
    ")\n",
    "frob_distribution_fig.show()"
   ],
   "metadata": {
    "collapsed": false,
    "ExecuteTime": {
     "end_time": "2024-04-07T11:18:40.621526Z",
     "start_time": "2024-04-07T11:18:30.178303Z"
    }
   },
   "id": "5b561c4688ae8414",
   "execution_count": 14
  },
  {
   "cell_type": "code",
   "outputs": [
    {
     "data": {
      "application/vnd.plotly.v1+json": {
       "data": [
        {
         "name": "",
         "points": "all",
         "showlegend": false,
         "side": "positive",
         "y": [
          0.03853038855807625,
          0.14360128550707754,
          null,
          null,
          null,
          0.06133635020122808,
          0.07615434546246627,
          null,
          null,
          null,
          2.496053049682763E-4,
          0.008299486054646543,
          0.0027370171695101165,
          0.033761328593377445,
          0.005294065433456369,
          0.0334017220273832,
          0.008489644349328584,
          0.005015618051111148,
          23.0258509077363,
          0.0014477293611685031
         ],
         "type": "violin",
         "xaxis": "x",
         "yaxis": "y"
        },
        {
         "name": "",
         "points": "all",
         "showlegend": false,
         "side": "positive",
         "y": [
          0.7766797879591045,
          0.07940824588054876,
          null,
          null,
          null,
          0.8086022323667491,
          1.9452239653267394,
          null,
          null,
          null,
          1.330275614675846,
          1.170047061835645,
          0.5616557464276212,
          0.758193336495866,
          1.9036675388426596,
          1.8359159944821282,
          1.206230948235662,
          2.8052291614192266,
          5.949640438529079,
          2.340857638253658
         ],
         "type": "violin",
         "xaxis": "x2",
         "yaxis": "y2"
        },
        {
         "name": "",
         "points": "all",
         "showlegend": false,
         "side": "positive",
         "y": [
          0.019592103918113942,
          0.010472560357300625,
          null,
          null,
          null,
          0.42218413000335486,
          0.3424880696393481,
          null,
          null,
          null,
          0.027079548860351063,
          0.02197925858845173,
          0.17488582284490864,
          0.021706371823259893,
          0.08450058862956036,
          0.12149537652322735,
          0.8457291340696542,
          2.9470992727101617,
          3.9819903021474086,
          0.20823309918968252
         ],
         "type": "violin",
         "xaxis": "x3",
         "yaxis": "y3"
        },
        {
         "name": "",
         "points": "all",
         "showlegend": false,
         "side": "positive",
         "y": [
          0.15303565729149446,
          0.3001819142694316,
          null,
          null,
          null,
          0.5674070424398662,
          0.2654433718547742,
          null,
          null,
          null,
          0.04419973319578522,
          0.10888875759925405,
          0.3629174155522109,
          0.17775460341733856,
          0.3730063211682701,
          1.7152951598616049,
          7.056887426162681,
          6.246987750192051,
          3.722890658357773,
          1.1476110032421396
         ],
         "type": "violin",
         "xaxis": "x4",
         "yaxis": "y4"
        },
        {
         "name": "",
         "points": "all",
         "showlegend": false,
         "side": "positive",
         "y": [
          1.2855978256249636,
          2.7940879945179287,
          0.3720012528684839,
          1.1962540205152168,
          1.299755711624529,
          1.6729251991688723,
          2.1063610967686883,
          6.028880738990549,
          2.828243232191249,
          1.4589325596392757,
          1.430847845639033,
          1.4703006064208841,
          0.8438638544576356,
          1.4495378193976305,
          1.457459712268901,
          2.5673359649126324,
          1.338303509127254,
          3.2895633318942648,
          2.027157067256137,
          2.5653003740128266
         ],
         "type": "violin",
         "xaxis": "x5",
         "yaxis": "y5"
        },
        {
         "name": "",
         "points": "all",
         "showlegend": false,
         "side": "positive",
         "y": [
          0.6811057141255692,
          2.6522731692580224,
          0.6184311201114762,
          0.024524700318437537,
          0.5770688312033048,
          1.3720279589819855,
          1.3765252535575683,
          4.987426864555769,
          2.395912471319042,
          0.6658228315650908,
          0.03211083846574436,
          0.15800161329049237,
          0.18544268740398734,
          0.6255523043033009,
          0.04648003811485055,
          0.652417038247727,
          1.057488567797881,
          3.341678249360057,
          1.4505517682567581,
          0.2249197940627041
         ],
         "type": "violin",
         "xaxis": "x6",
         "yaxis": "y6"
        },
        {
         "name": "",
         "points": "all",
         "showlegend": false,
         "side": "positive",
         "y": [
          0.06452978406539625,
          0.04947217483148124,
          0.13004780636931412,
          0.0567646077416166,
          0.37118595798617815,
          0.32916294657427597,
          0.13199551141204832,
          3.798852338877473,
          0.20427776927671576,
          0.09064008324567327,
          0.04666201634440839,
          0.08575202867027257,
          0.3622796957239903,
          0.0859058380026293,
          0.3695860670212779,
          2.07531667531123,
          8.268934685702993,
          6.253216332796309,
          0.5010855381164665,
          1.2259254185559456
         ],
         "type": "violin",
         "xaxis": "x7",
         "yaxis": "y7"
        },
        {
         "name": "",
         "points": "all",
         "showlegend": false,
         "side": "positive",
         "y": [
          0.02147663757660348,
          null,
          null,
          0.012856956732684825,
          null,
          5.00910489060763E-4,
          0.9291549330254243,
          null,
          null,
          0.19227397315954728,
          0.009285616747036417,
          null,
          22.746903191428007,
          null,
          0.00720963314479664,
          null,
          1.031215914394578,
          0.01498747684611406,
          null
         ],
         "type": "violin",
         "xaxis": "x8",
         "yaxis": "y8"
        },
        {
         "name": "",
         "points": "all",
         "showlegend": false,
         "side": "positive",
         "y": [
          22.2595972545495,
          null,
          null,
          20.553860441917006,
          null,
          22.366321390171613,
          21.065743786535073,
          null,
          null,
          21.772533985109643,
          21.967448297322473,
          null,
          21.446351295669494,
          null,
          21.96603392233832,
          null,
          17.349849042828993,
          19.282141423433583,
          null
         ],
         "type": "violin",
         "xaxis": "x9",
         "yaxis": "y9"
        },
        {
         "name": "",
         "points": "all",
         "showlegend": false,
         "side": "positive",
         "y": [
          21.920268281948548,
          null,
          null,
          19.566131747957694,
          null,
          21.940656114621554,
          20.23287978513137,
          null,
          null,
          21.393079353836075,
          21.964586882878866,
          null,
          22.746903191428007,
          null,
          21.96827747884836,
          null,
          17.219610057133515,
          21.92156200486459,
          null
         ],
         "type": "violin",
         "xaxis": "x10",
         "yaxis": "y10"
        },
        {
         "name": "",
         "points": "all",
         "showlegend": false,
         "side": "positive",
         "y": [
          0.5735588667187457,
          null,
          null,
          0.32028571946007484,
          null,
          0.8091150777723833,
          0.015026735134213563,
          null,
          null,
          0.12850290028695854,
          0.4944776436413298,
          null,
          22.746903191428007,
          null,
          0.5191825573077198,
          null,
          0.15812332299263077,
          3.008247353607225,
          null
         ],
         "type": "violin",
         "xaxis": "x11",
         "yaxis": "y11"
        },
        {
         "name": "",
         "points": "all",
         "showlegend": false,
         "side": "positive",
         "y": [
          22.620077330253626,
          5.012855043724307,
          4.321922703818484,
          20.8411989417446,
          22.4774507562383,
          22.348676011251307,
          21.629573046016656,
          22.49381725347224,
          22.58953853704263,
          16.95579082292808,
          21.944218438232816,
          20.05832998180077,
          5.015069884041252,
          11.458734887267383,
          21.29926922464313,
          22.276690939474847,
          4.726659190530483,
          20.50310483597137,
          4.4811175304151405
         ],
         "type": "violin",
         "xaxis": "x12",
         "yaxis": "y12"
        },
        {
         "name": "",
         "points": "all",
         "showlegend": false,
         "side": "positive",
         "y": [
          22.555535132080372,
          23.025850913945778,
          2.0794415382508835,
          20.386894811603206,
          22.52113907275022,
          22.00732581316699,
          21.683190331594826,
          22.86743235745716,
          22.586273966036863,
          16.75936514315892,
          21.94148014734053,
          19.817609980138073,
          23.025850916124945,
          13.084367499038605,
          21.303112436599918,
          22.315629205389175,
          4.298300657673976,
          22.09777806995893,
          23.025850914075452
         ],
         "type": "violin",
         "xaxis": "x13",
         "yaxis": "y13"
        },
        {
         "name": "",
         "points": "all",
         "showlegend": false,
         "side": "positive",
         "y": [
          0.294837437955447,
          23.025850909890607,
          0.0,
          0.34655795148056523,
          0.11904849964440928,
          0.7493861058235782,
          0.024218241903528392,
          22.86743235745716,
          0.057960368898256384,
          0.09306487922615153,
          0.7477378671037709,
          0.49679805540568034,
          0.0,
          0.03884711238279619,
          0.4973142112306636,
          0.14986997448844583,
          0.5912950225362948,
          1.9225925520045197,
          3.278192396001281
         ],
         "type": "violin",
         "xaxis": "x14",
         "yaxis": "y14"
        },
        {
         "name": "",
         "points": "all",
         "showlegend": false,
         "side": "positive",
         "y": [
          0.13242733227882975,
          0.45846532166250764,
          null,
          null,
          null,
          0.0015902664297052053,
          null,
          null,
          null,
          null,
          0.012969886554008402,
          null,
          0.034129570199277426,
          0.07992196820733136,
          0.03740390085910501,
          0.0028941586560415474,
          0.04747945019048433,
          null,
          null
         ],
         "type": "violin",
         "xaxis": "x15",
         "yaxis": "y15"
        },
        {
         "name": "",
         "points": "all",
         "showlegend": false,
         "side": "positive",
         "y": [
          8.439360982601094,
          3.195199603401765,
          null,
          null,
          null,
          12.086193713744388,
          null,
          null,
          null,
          null,
          20.94738431009725,
          null,
          12.054206258294382,
          8.03931810657281,
          10.013835255370976,
          10.91564457611521,
          10.069278607305238,
          null,
          null
         ],
         "type": "violin",
         "xaxis": "x16",
         "yaxis": "y16"
        },
        {
         "name": "",
         "points": "all",
         "showlegend": false,
         "side": "positive",
         "y": [
          8.247803690395777,
          2.6019914098650463,
          null,
          null,
          null,
          11.763863805943535,
          null,
          null,
          null,
          null,
          20.633491449398136,
          null,
          11.54764077605412,
          6.861072472408724,
          8.89877545976542,
          10.453867546035672,
          9.837696326875363,
          null,
          null
         ],
         "type": "violin",
         "xaxis": "x17",
         "yaxis": "y17"
        },
        {
         "name": "",
         "points": "all",
         "showlegend": false,
         "side": "positive",
         "y": [
          0.08091140852153272,
          0.5589951122682553,
          null,
          null,
          null,
          0.04829899336612563,
          null,
          null,
          null,
          null,
          0.39324518200369885,
          null,
          0.028992119412918974,
          0.010863932715676709,
          0.6995902144187676,
          0.6131831777019731,
          5.312050193315304,
          null,
          null
         ],
         "type": "violin",
         "xaxis": "x18",
         "yaxis": "y18"
        },
        {
         "name": "",
         "points": "all",
         "showlegend": false,
         "side": "positive",
         "y": [
          12.33156759115579,
          12.964230275504521,
          18.704294711416996,
          14.682812734211403,
          12.108713796901172,
          11.550522804899975,
          10.764100791175471,
          15.125852880555504,
          13.776598871848028,
          17.83768134591878,
          21.722846927061486,
          10.358049744084978,
          14.88258741341412,
          12.288165712448178,
          8.99264854352964,
          11.225323483244933,
          12.495966262662545,
          9.249547543814819,
          17.17918482947866
         ],
         "type": "violin",
         "xaxis": "x19",
         "yaxis": "y19"
        },
        {
         "name": "",
         "points": "all",
         "showlegend": false,
         "side": "positive",
         "y": [
          12.215379203731779,
          12.666516708036198,
          18.62383477209251,
          14.215646277708883,
          11.857678465379694,
          11.310075018537662,
          10.936875520244904,
          14.851436498992275,
          13.641258818422699,
          17.507422603629653,
          21.395983382569625,
          9.683196998233642,
          14.239439565917014,
          11.089333770072782,
          8.907741090313902,
          10.950157593430834,
          12.027282725597066,
          9.46465949545439,
          16.272189175193663
         ],
         "type": "violin",
         "xaxis": "x20",
         "yaxis": "y20"
        },
        {
         "name": "",
         "points": "all",
         "showlegend": false,
         "side": "positive",
         "y": [
          0.1224198510202281,
          0.007404386719825712,
          0.28428829809725487,
          0.43802270611368976,
          0.24009765704632158,
          0.06052769915342454,
          0.7549609686652663,
          0.34997224239520297,
          0.002776814243770593,
          0.25300596662248315,
          0.47899828582476883,
          0.10427315901513218,
          0.10538278731776363,
          0.10310257754087196,
          0.6565746363900916,
          0.5343374095792114,
          2.9987135907834137,
          0.5522399552309607,
          0.763675299603289
         ],
         "type": "violin",
         "xaxis": "x21",
         "yaxis": "y21"
        },
        {
         "name": "",
         "points": "all",
         "showlegend": false,
         "side": "positive",
         "y": [
          0.02147663757660348,
          0.03853038855807625,
          0.14360128550707754,
          null,
          0.13242733227882975,
          null,
          null,
          0.012856956732684825,
          0.45846532166250764,
          null,
          null,
          null,
          null,
          null,
          null,
          0.06133635020122808,
          5.00910489060763E-4,
          0.9291549330254243,
          0.07615434546246627,
          0.0015902664297052053,
          null,
          null,
          null,
          null,
          null,
          null,
          null,
          null,
          null,
          2.496053049682763E-4,
          0.19227397315954728,
          0.012969886554008402,
          0.009285616747036417,
          0.008299486054646543,
          null,
          0.0027370171695101165,
          0.034129570199277426,
          null,
          0.033761328593377445,
          22.746903191428007,
          0.005294065433456369,
          0.07992196820733136,
          0.0334017220273832,
          0.03740390085910501,
          null,
          0.00720963314479664,
          0.0028941586560415474,
          null,
          0.008489644349328584,
          1.031215914394578,
          0.04747945019048433,
          0.005015618051111148,
          0.01498747684611406,
          23.0258509077363,
          null,
          0.0014477293611685031,
          null,
          null
         ],
         "type": "violin",
         "xaxis": "x22",
         "yaxis": "y22"
        },
        {
         "name": "",
         "points": "all",
         "showlegend": false,
         "side": "positive",
         "y": [
          22.2595972545495,
          0.7766797879591045,
          0.07940824588054876,
          null,
          8.439360982601094,
          null,
          null,
          20.553860441917006,
          3.195199603401765,
          null,
          null,
          null,
          null,
          null,
          null,
          0.8086022323667491,
          22.366321390171613,
          21.065743786535073,
          1.9452239653267394,
          12.086193713744388,
          null,
          null,
          null,
          null,
          null,
          null,
          null,
          null,
          null,
          1.330275614675846,
          21.772533985109643,
          20.94738431009725,
          21.967448297322473,
          1.170047061835645,
          null,
          0.5616557464276212,
          12.054206258294382,
          null,
          0.758193336495866,
          21.446351295669494,
          1.9036675388426596,
          8.03931810657281,
          1.8359159944821282,
          10.013835255370976,
          null,
          21.96603392233832,
          10.91564457611521,
          null,
          1.206230948235662,
          17.349849042828993,
          10.069278607305238,
          2.8052291614192266,
          19.282141423433583,
          5.949640438529079,
          null,
          2.340857638253658,
          null,
          null
         ],
         "type": "violin",
         "xaxis": "x23",
         "yaxis": "y23"
        },
        {
         "name": "",
         "points": "all",
         "showlegend": false,
         "side": "positive",
         "y": [
          21.920268281948548,
          0.019592103918113942,
          0.010472560357300625,
          null,
          8.247803690395777,
          null,
          null,
          19.566131747957694,
          2.6019914098650463,
          null,
          null,
          null,
          null,
          null,
          null,
          0.42218413000335486,
          21.940656114621554,
          20.23287978513137,
          0.3424880696393481,
          11.763863805943535,
          null,
          null,
          null,
          null,
          null,
          null,
          null,
          null,
          null,
          0.027079548860351063,
          21.393079353836075,
          20.633491449398136,
          21.964586882878866,
          0.02197925858845173,
          null,
          0.17488582284490864,
          11.54764077605412,
          null,
          0.021706371823259893,
          22.746903191428007,
          0.08450058862956036,
          6.861072472408724,
          0.12149537652322735,
          8.89877545976542,
          null,
          21.96827747884836,
          10.453867546035672,
          null,
          0.8457291340696542,
          17.219610057133515,
          9.837696326875363,
          2.9470992727101617,
          21.92156200486459,
          3.9819903021474086,
          null,
          0.20823309918968252,
          null,
          null
         ],
         "type": "violin",
         "xaxis": "x24",
         "yaxis": "y24"
        },
        {
         "name": "",
         "points": "all",
         "showlegend": false,
         "side": "positive",
         "y": [
          0.5735588667187457,
          0.15303565729149446,
          0.3001819142694316,
          null,
          0.08091140852153272,
          null,
          null,
          0.32028571946007484,
          0.5589951122682553,
          null,
          null,
          null,
          null,
          null,
          null,
          0.5674070424398662,
          0.8091150777723833,
          0.015026735134213563,
          0.2654433718547742,
          0.04829899336612563,
          null,
          null,
          null,
          null,
          null,
          null,
          null,
          null,
          null,
          0.04419973319578522,
          0.12850290028695854,
          0.39324518200369885,
          0.4944776436413298,
          0.10888875759925405,
          null,
          0.3629174155522109,
          0.028992119412918974,
          null,
          0.17775460341733856,
          22.746903191428007,
          0.3730063211682701,
          0.010863932715676709,
          1.7152951598616049,
          0.6995902144187676,
          null,
          0.5191825573077198,
          0.6131831777019731,
          null,
          7.056887426162681,
          0.15812332299263077,
          5.312050193315304,
          6.246987750192051,
          3.008247353607225,
          3.722890658357773,
          null,
          1.1476110032421396,
          null,
          null
         ],
         "type": "violin",
         "xaxis": "x25",
         "yaxis": "y25"
        },
        {
         "name": "",
         "points": "all",
         "showlegend": false,
         "side": "positive",
         "y": [
          22.620077330253626,
          1.2855978256249636,
          2.7940879945179287,
          5.012855043724307,
          12.33156759115579,
          4.321922703818484,
          0.3720012528684839,
          20.8411989417446,
          12.964230275504521,
          1.1962540205152168,
          18.704294711416996,
          14.682812734211403,
          1.299755711624529,
          22.4774507562383,
          12.108713796901172,
          1.6729251991688723,
          22.348676011251307,
          21.629573046016656,
          2.1063610967686883,
          11.550522804899975,
          22.49381725347224,
          10.764100791175471,
          15.125852880555504,
          6.028880738990549,
          22.58953853704263,
          13.776598871848028,
          2.828243232191249,
          1.4589325596392757,
          17.83768134591878,
          1.430847845639033,
          16.95579082292808,
          21.722846927061486,
          21.944218438232816,
          1.4703006064208841,
          10.358049744084978,
          0.8438638544576356,
          14.88258741341412,
          20.05832998180077,
          1.4495378193976305,
          5.015069884041252,
          1.457459712268901,
          12.288165712448178,
          2.5673359649126324,
          8.99264854352964,
          11.458734887267383,
          21.29926922464313,
          11.225323483244933,
          22.276690939474847,
          1.338303509127254,
          4.726659190530483,
          12.495966262662545,
          3.2895633318942648,
          20.50310483597137,
          2.027157067256137,
          9.249547543814819,
          2.5653003740128266,
          4.4811175304151405,
          17.17918482947866
         ],
         "type": "violin",
         "xaxis": "x26",
         "yaxis": "y26"
        },
        {
         "name": "",
         "points": "all",
         "showlegend": false,
         "side": "positive",
         "y": [
          22.555535132080372,
          0.6811057141255692,
          2.6522731692580224,
          23.025850913945778,
          12.215379203731779,
          2.0794415382508835,
          0.6184311201114762,
          20.386894811603206,
          12.666516708036198,
          0.024524700318437537,
          18.62383477209251,
          14.215646277708883,
          0.5770688312033048,
          22.52113907275022,
          11.857678465379694,
          1.3720279589819855,
          22.00732581316699,
          21.683190331594826,
          1.3765252535575683,
          11.310075018537662,
          22.86743235745716,
          10.936875520244904,
          14.851436498992275,
          4.987426864555769,
          22.586273966036863,
          13.641258818422699,
          2.395912471319042,
          0.6658228315650908,
          17.507422603629653,
          0.03211083846574436,
          16.75936514315892,
          21.395983382569625,
          21.94148014734053,
          0.15800161329049237,
          9.683196998233642,
          0.18544268740398734,
          14.239439565917014,
          19.817609980138073,
          0.6255523043033009,
          23.025850916124945,
          0.04648003811485055,
          11.089333770072782,
          0.652417038247727,
          8.907741090313902,
          13.084367499038605,
          21.303112436599918,
          10.950157593430834,
          22.315629205389175,
          1.057488567797881,
          4.298300657673976,
          12.027282725597066,
          3.341678249360057,
          22.09777806995893,
          1.4505517682567581,
          9.46465949545439,
          0.2249197940627041,
          23.025850914075452,
          16.272189175193663
         ],
         "type": "violin",
         "xaxis": "x27",
         "yaxis": "y27"
        },
        {
         "name": "",
         "points": "all",
         "showlegend": false,
         "side": "positive",
         "y": [
          0.294837437955447,
          0.06452978406539625,
          0.04947217483148124,
          23.025850909890607,
          0.1224198510202281,
          0.0,
          0.13004780636931412,
          0.34655795148056523,
          0.007404386719825712,
          0.0567646077416166,
          0.28428829809725487,
          0.43802270611368976,
          0.37118595798617815,
          0.11904849964440928,
          0.24009765704632158,
          0.32916294657427597,
          0.7493861058235782,
          0.024218241903528392,
          0.13199551141204832,
          0.06052769915342454,
          22.86743235745716,
          0.7549609686652663,
          0.34997224239520297,
          3.798852338877473,
          0.057960368898256384,
          0.002776814243770593,
          0.20427776927671576,
          0.09064008324567327,
          0.25300596662248315,
          0.04666201634440839,
          0.09306487922615153,
          0.47899828582476883,
          0.7477378671037709,
          0.08575202867027257,
          0.10427315901513218,
          0.3622796957239903,
          0.10538278731776363,
          0.49679805540568034,
          0.0859058380026293,
          0.0,
          0.3695860670212779,
          0.10310257754087196,
          2.07531667531123,
          0.6565746363900916,
          0.03884711238279619,
          0.4973142112306636,
          0.5343374095792114,
          0.14986997448844583,
          8.268934685702993,
          0.5912950225362948,
          2.9987135907834137,
          6.253216332796309,
          1.9225925520045197,
          0.5010855381164665,
          0.5522399552309607,
          1.2259254185559456,
          3.278192396001281,
          0.763675299603289
         ],
         "type": "violin",
         "xaxis": "x28",
         "yaxis": "y28"
        }
       ],
       "layout": {
        "template": {
         "data": {
          "histogram2dcontour": [
           {
            "type": "histogram2dcontour",
            "colorbar": {
             "outlinewidth": 0,
             "ticks": ""
            },
            "colorscale": [
             [
              0.0,
              "#0d0887"
             ],
             [
              0.1111111111111111,
              "#46039f"
             ],
             [
              0.2222222222222222,
              "#7201a8"
             ],
             [
              0.3333333333333333,
              "#9c179e"
             ],
             [
              0.4444444444444444,
              "#bd3786"
             ],
             [
              0.5555555555555556,
              "#d8576b"
             ],
             [
              0.6666666666666666,
              "#ed7953"
             ],
             [
              0.7777777777777778,
              "#fb9f3a"
             ],
             [
              0.8888888888888888,
              "#fdca26"
             ],
             [
              1.0,
              "#f0f921"
             ]
            ]
           }
          ],
          "choropleth": [
           {
            "type": "choropleth",
            "colorbar": {
             "outlinewidth": 0,
             "ticks": ""
            }
           }
          ],
          "histogram2d": [
           {
            "type": "histogram2d",
            "colorbar": {
             "outlinewidth": 0,
             "ticks": ""
            },
            "colorscale": [
             [
              0.0,
              "#0d0887"
             ],
             [
              0.1111111111111111,
              "#46039f"
             ],
             [
              0.2222222222222222,
              "#7201a8"
             ],
             [
              0.3333333333333333,
              "#9c179e"
             ],
             [
              0.4444444444444444,
              "#bd3786"
             ],
             [
              0.5555555555555556,
              "#d8576b"
             ],
             [
              0.6666666666666666,
              "#ed7953"
             ],
             [
              0.7777777777777778,
              "#fb9f3a"
             ],
             [
              0.8888888888888888,
              "#fdca26"
             ],
             [
              1.0,
              "#f0f921"
             ]
            ]
           }
          ],
          "heatmap": [
           {
            "type": "heatmap",
            "colorbar": {
             "outlinewidth": 0,
             "ticks": ""
            },
            "colorscale": [
             [
              0.0,
              "#0d0887"
             ],
             [
              0.1111111111111111,
              "#46039f"
             ],
             [
              0.2222222222222222,
              "#7201a8"
             ],
             [
              0.3333333333333333,
              "#9c179e"
             ],
             [
              0.4444444444444444,
              "#bd3786"
             ],
             [
              0.5555555555555556,
              "#d8576b"
             ],
             [
              0.6666666666666666,
              "#ed7953"
             ],
             [
              0.7777777777777778,
              "#fb9f3a"
             ],
             [
              0.8888888888888888,
              "#fdca26"
             ],
             [
              1.0,
              "#f0f921"
             ]
            ]
           }
          ],
          "heatmapgl": [
           {
            "type": "heatmapgl",
            "colorbar": {
             "outlinewidth": 0,
             "ticks": ""
            },
            "colorscale": [
             [
              0.0,
              "#0d0887"
             ],
             [
              0.1111111111111111,
              "#46039f"
             ],
             [
              0.2222222222222222,
              "#7201a8"
             ],
             [
              0.3333333333333333,
              "#9c179e"
             ],
             [
              0.4444444444444444,
              "#bd3786"
             ],
             [
              0.5555555555555556,
              "#d8576b"
             ],
             [
              0.6666666666666666,
              "#ed7953"
             ],
             [
              0.7777777777777778,
              "#fb9f3a"
             ],
             [
              0.8888888888888888,
              "#fdca26"
             ],
             [
              1.0,
              "#f0f921"
             ]
            ]
           }
          ],
          "contourcarpet": [
           {
            "type": "contourcarpet",
            "colorbar": {
             "outlinewidth": 0,
             "ticks": ""
            }
           }
          ],
          "contour": [
           {
            "type": "contour",
            "colorbar": {
             "outlinewidth": 0,
             "ticks": ""
            },
            "colorscale": [
             [
              0.0,
              "#0d0887"
             ],
             [
              0.1111111111111111,
              "#46039f"
             ],
             [
              0.2222222222222222,
              "#7201a8"
             ],
             [
              0.3333333333333333,
              "#9c179e"
             ],
             [
              0.4444444444444444,
              "#bd3786"
             ],
             [
              0.5555555555555556,
              "#d8576b"
             ],
             [
              0.6666666666666666,
              "#ed7953"
             ],
             [
              0.7777777777777778,
              "#fb9f3a"
             ],
             [
              0.8888888888888888,
              "#fdca26"
             ],
             [
              1.0,
              "#f0f921"
             ]
            ]
           }
          ],
          "surface": [
           {
            "type": "surface",
            "colorbar": {
             "outlinewidth": 0,
             "ticks": ""
            },
            "colorscale": [
             [
              0.0,
              "#0d0887"
             ],
             [
              0.1111111111111111,
              "#46039f"
             ],
             [
              0.2222222222222222,
              "#7201a8"
             ],
             [
              0.3333333333333333,
              "#9c179e"
             ],
             [
              0.4444444444444444,
              "#bd3786"
             ],
             [
              0.5555555555555556,
              "#d8576b"
             ],
             [
              0.6666666666666666,
              "#ed7953"
             ],
             [
              0.7777777777777778,
              "#fb9f3a"
             ],
             [
              0.8888888888888888,
              "#fdca26"
             ],
             [
              1.0,
              "#f0f921"
             ]
            ]
           }
          ],
          "mesh3d": [
           {
            "type": "mesh3d",
            "colorbar": {
             "outlinewidth": 0,
             "ticks": ""
            }
           }
          ],
          "scatter": [
           {
            "marker": {
             "line": {
              "color": "#283442"
             }
            },
            "type": "scatter"
           }
          ],
          "parcoords": [
           {
            "type": "parcoords",
            "line": {
             "colorbar": {
              "outlinewidth": 0,
              "ticks": ""
             }
            }
           }
          ],
          "scatterpolargl": [
           {
            "type": "scatterpolargl",
            "marker": {
             "colorbar": {
              "outlinewidth": 0,
              "ticks": ""
             }
            }
           }
          ],
          "bar": [
           {
            "error_x": {
             "color": "#f2f5fa"
            },
            "error_y": {
             "color": "#f2f5fa"
            },
            "marker": {
             "line": {
              "color": "rgb(17,17,17)",
              "width": 0.5
             },
             "pattern": {
              "fillmode": "overlay",
              "size": 10,
              "solidity": 0.2
             }
            },
            "type": "bar"
           }
          ],
          "scattergeo": [
           {
            "type": "scattergeo",
            "marker": {
             "colorbar": {
              "outlinewidth": 0,
              "ticks": ""
             }
            }
           }
          ],
          "scatterpolar": [
           {
            "type": "scatterpolar",
            "marker": {
             "colorbar": {
              "outlinewidth": 0,
              "ticks": ""
             }
            }
           }
          ],
          "histogram": [
           {
            "marker": {
             "pattern": {
              "fillmode": "overlay",
              "size": 10,
              "solidity": 0.2
             }
            },
            "type": "histogram"
           }
          ],
          "scattergl": [
           {
            "marker": {
             "line": {
              "color": "#283442"
             }
            },
            "type": "scattergl"
           }
          ],
          "scatter3d": [
           {
            "type": "scatter3d",
            "line": {
             "colorbar": {
              "outlinewidth": 0,
              "ticks": ""
             }
            },
            "marker": {
             "colorbar": {
              "outlinewidth": 0,
              "ticks": ""
             }
            }
           }
          ],
          "scattermapbox": [
           {
            "type": "scattermapbox",
            "marker": {
             "colorbar": {
              "outlinewidth": 0,
              "ticks": ""
             }
            }
           }
          ],
          "scatterternary": [
           {
            "type": "scatterternary",
            "marker": {
             "colorbar": {
              "outlinewidth": 0,
              "ticks": ""
             }
            }
           }
          ],
          "scattercarpet": [
           {
            "type": "scattercarpet",
            "marker": {
             "colorbar": {
              "outlinewidth": 0,
              "ticks": ""
             }
            }
           }
          ],
          "carpet": [
           {
            "aaxis": {
             "endlinecolor": "#A2B1C6",
             "gridcolor": "#506784",
             "linecolor": "#506784",
             "minorgridcolor": "#506784",
             "startlinecolor": "#A2B1C6"
            },
            "baxis": {
             "endlinecolor": "#A2B1C6",
             "gridcolor": "#506784",
             "linecolor": "#506784",
             "minorgridcolor": "#506784",
             "startlinecolor": "#A2B1C6"
            },
            "type": "carpet"
           }
          ],
          "table": [
           {
            "cells": {
             "fill": {
              "color": "#506784"
             },
             "line": {
              "color": "rgb(17,17,17)"
             }
            },
            "header": {
             "fill": {
              "color": "#2a3f5f"
             },
             "line": {
              "color": "rgb(17,17,17)"
             }
            },
            "type": "table"
           }
          ],
          "barpolar": [
           {
            "marker": {
             "line": {
              "color": "rgb(17,17,17)",
              "width": 0.5
             },
             "pattern": {
              "fillmode": "overlay",
              "size": 10,
              "solidity": 0.2
             }
            },
            "type": "barpolar"
           }
          ],
          "pie": [
           {
            "automargin": true,
            "type": "pie"
           }
          ]
         },
         "layout": {
          "autotypenumbers": "strict",
          "colorway": [
           "#636efa",
           "#EF553B",
           "#00cc96",
           "#ab63fa",
           "#FFA15A",
           "#19d3f3",
           "#FF6692",
           "#B6E880",
           "#FF97FF",
           "#FECB52"
          ],
          "font": {
           "color": "#f2f5fa"
          },
          "hovermode": "closest",
          "hoverlabel": {
           "align": "left"
          },
          "paper_bgcolor": "rgb(17,17,17)",
          "plot_bgcolor": "rgb(17,17,17)",
          "polar": {
           "bgcolor": "rgb(17,17,17)",
           "angularaxis": {
            "gridcolor": "#506784",
            "linecolor": "#506784",
            "ticks": ""
           },
           "radialaxis": {
            "gridcolor": "#506784",
            "linecolor": "#506784",
            "ticks": ""
           }
          },
          "ternary": {
           "bgcolor": "rgb(17,17,17)",
           "aaxis": {
            "gridcolor": "#506784",
            "linecolor": "#506784",
            "ticks": ""
           },
           "baxis": {
            "gridcolor": "#506784",
            "linecolor": "#506784",
            "ticks": ""
           },
           "caxis": {
            "gridcolor": "#506784",
            "linecolor": "#506784",
            "ticks": ""
           }
          },
          "coloraxis": {
           "colorbar": {
            "outlinewidth": 0,
            "ticks": ""
           }
          },
          "colorscale": {
           "sequential": [
            [
             0.0,
             "#0d0887"
            ],
            [
             0.1111111111111111,
             "#46039f"
            ],
            [
             0.2222222222222222,
             "#7201a8"
            ],
            [
             0.3333333333333333,
             "#9c179e"
            ],
            [
             0.4444444444444444,
             "#bd3786"
            ],
            [
             0.5555555555555556,
             "#d8576b"
            ],
            [
             0.6666666666666666,
             "#ed7953"
            ],
            [
             0.7777777777777778,
             "#fb9f3a"
            ],
            [
             0.8888888888888888,
             "#fdca26"
            ],
            [
             1.0,
             "#f0f921"
            ]
           ],
           "sequentialminus": [
            [
             0.0,
             "#0d0887"
            ],
            [
             0.1111111111111111,
             "#46039f"
            ],
            [
             0.2222222222222222,
             "#7201a8"
            ],
            [
             0.3333333333333333,
             "#9c179e"
            ],
            [
             0.4444444444444444,
             "#bd3786"
            ],
            [
             0.5555555555555556,
             "#d8576b"
            ],
            [
             0.6666666666666666,
             "#ed7953"
            ],
            [
             0.7777777777777778,
             "#fb9f3a"
            ],
            [
             0.8888888888888888,
             "#fdca26"
            ],
            [
             1.0,
             "#f0f921"
            ]
           ],
           "diverging": [
            [
             0,
             "#8e0152"
            ],
            [
             0.1,
             "#c51b7d"
            ],
            [
             0.2,
             "#de77ae"
            ],
            [
             0.3,
             "#f1b6da"
            ],
            [
             0.4,
             "#fde0ef"
            ],
            [
             0.5,
             "#f7f7f7"
            ],
            [
             0.6,
             "#e6f5d0"
            ],
            [
             0.7,
             "#b8e186"
            ],
            [
             0.8,
             "#7fbc41"
            ],
            [
             0.9,
             "#4d9221"
            ],
            [
             1,
             "#276419"
            ]
           ]
          },
          "xaxis": {
           "gridcolor": "#283442",
           "linecolor": "#506784",
           "ticks": "",
           "title": {
            "standoff": 15
           },
           "zerolinecolor": "#283442",
           "automargin": true,
           "zerolinewidth": 2
          },
          "yaxis": {
           "gridcolor": "#283442",
           "linecolor": "#506784",
           "ticks": "",
           "title": {
            "standoff": 15
           },
           "zerolinecolor": "#283442",
           "automargin": true,
           "zerolinewidth": 2
          },
          "scene": {
           "xaxis": {
            "backgroundcolor": "rgb(17,17,17)",
            "gridcolor": "#506784",
            "linecolor": "#506784",
            "showbackground": true,
            "ticks": "",
            "zerolinecolor": "#C8D4E3",
            "gridwidth": 2
           },
           "yaxis": {
            "backgroundcolor": "rgb(17,17,17)",
            "gridcolor": "#506784",
            "linecolor": "#506784",
            "showbackground": true,
            "ticks": "",
            "zerolinecolor": "#C8D4E3",
            "gridwidth": 2
           },
           "zaxis": {
            "backgroundcolor": "rgb(17,17,17)",
            "gridcolor": "#506784",
            "linecolor": "#506784",
            "showbackground": true,
            "ticks": "",
            "zerolinecolor": "#C8D4E3",
            "gridwidth": 2
           }
          },
          "shapedefaults": {
           "line": {
            "color": "#f2f5fa"
           }
          },
          "annotationdefaults": {
           "arrowcolor": "#f2f5fa",
           "arrowhead": 0,
           "arrowwidth": 1
          },
          "geo": {
           "bgcolor": "rgb(17,17,17)",
           "landcolor": "rgb(17,17,17)",
           "subunitcolor": "#506784",
           "showland": true,
           "showlakes": true,
           "lakecolor": "rgb(17,17,17)"
          },
          "title": {
           "x": 0.05
          },
          "updatemenudefaults": {
           "bgcolor": "#506784",
           "borderwidth": 0
          },
          "sliderdefaults": {
           "bgcolor": "#C8D4E3",
           "borderwidth": 1,
           "bordercolor": "rgb(17,17,17)",
           "tickwidth": 0
          },
          "mapbox": {
           "style": "dark"
          }
         }
        },
        "xaxis": {
         "anchor": "y",
         "domain": [
          0.0,
          0.11551020408163264
         ]
        },
        "yaxis": {
         "anchor": "x",
         "domain": [
          0.80625,
          1.0
         ]
        },
        "xaxis2": {
         "anchor": "y2",
         "domain": [
          0.1440816326530612,
          0.2595918367346938
         ]
        },
        "yaxis2": {
         "anchor": "x2",
         "domain": [
          0.80625,
          1.0
         ]
        },
        "xaxis3": {
         "anchor": "y3",
         "domain": [
          0.2881632653061224,
          0.40367346938775506
         ]
        },
        "yaxis3": {
         "anchor": "x3",
         "domain": [
          0.80625,
          1.0
         ]
        },
        "xaxis4": {
         "anchor": "y4",
         "domain": [
          0.43224489795918364,
          0.5477551020408162
         ]
        },
        "yaxis4": {
         "anchor": "x4",
         "domain": [
          0.80625,
          1.0
         ]
        },
        "xaxis5": {
         "anchor": "y5",
         "domain": [
          0.5763265306122448,
          0.6918367346938774
         ]
        },
        "yaxis5": {
         "anchor": "x5",
         "domain": [
          0.80625,
          1.0
         ]
        },
        "xaxis6": {
         "anchor": "y6",
         "domain": [
          0.7204081632653061,
          0.8359183673469387
         ]
        },
        "yaxis6": {
         "anchor": "x6",
         "domain": [
          0.80625,
          1.0
         ]
        },
        "xaxis7": {
         "anchor": "y7",
         "domain": [
          0.8644897959183673,
          0.9799999999999999
         ]
        },
        "yaxis7": {
         "anchor": "x7",
         "domain": [
          0.80625,
          1.0
         ]
        },
        "xaxis8": {
         "anchor": "y8",
         "domain": [
          0.0,
          0.11551020408163264
         ]
        },
        "yaxis8": {
         "anchor": "x8",
         "domain": [
          0.5375,
          0.73125
         ]
        },
        "xaxis9": {
         "anchor": "y9",
         "domain": [
          0.1440816326530612,
          0.2595918367346938
         ]
        },
        "yaxis9": {
         "anchor": "x9",
         "domain": [
          0.5375,
          0.73125
         ]
        },
        "xaxis10": {
         "anchor": "y10",
         "domain": [
          0.2881632653061224,
          0.40367346938775506
         ]
        },
        "yaxis10": {
         "anchor": "x10",
         "domain": [
          0.5375,
          0.73125
         ]
        },
        "xaxis11": {
         "anchor": "y11",
         "domain": [
          0.43224489795918364,
          0.5477551020408162
         ]
        },
        "yaxis11": {
         "anchor": "x11",
         "domain": [
          0.5375,
          0.73125
         ]
        },
        "xaxis12": {
         "anchor": "y12",
         "domain": [
          0.5763265306122448,
          0.6918367346938774
         ]
        },
        "yaxis12": {
         "anchor": "x12",
         "domain": [
          0.5375,
          0.73125
         ]
        },
        "xaxis13": {
         "anchor": "y13",
         "domain": [
          0.7204081632653061,
          0.8359183673469387
         ]
        },
        "yaxis13": {
         "anchor": "x13",
         "domain": [
          0.5375,
          0.73125
         ]
        },
        "xaxis14": {
         "anchor": "y14",
         "domain": [
          0.8644897959183673,
          0.9799999999999999
         ]
        },
        "yaxis14": {
         "anchor": "x14",
         "domain": [
          0.5375,
          0.73125
         ]
        },
        "xaxis15": {
         "anchor": "y15",
         "domain": [
          0.0,
          0.11551020408163264
         ]
        },
        "yaxis15": {
         "anchor": "x15",
         "domain": [
          0.26875,
          0.4625
         ]
        },
        "xaxis16": {
         "anchor": "y16",
         "domain": [
          0.1440816326530612,
          0.2595918367346938
         ]
        },
        "yaxis16": {
         "anchor": "x16",
         "domain": [
          0.26875,
          0.4625
         ]
        },
        "xaxis17": {
         "anchor": "y17",
         "domain": [
          0.2881632653061224,
          0.40367346938775506
         ]
        },
        "yaxis17": {
         "anchor": "x17",
         "domain": [
          0.26875,
          0.4625
         ]
        },
        "xaxis18": {
         "anchor": "y18",
         "domain": [
          0.43224489795918364,
          0.5477551020408162
         ]
        },
        "yaxis18": {
         "anchor": "x18",
         "domain": [
          0.26875,
          0.4625
         ]
        },
        "xaxis19": {
         "anchor": "y19",
         "domain": [
          0.5763265306122448,
          0.6918367346938774
         ]
        },
        "yaxis19": {
         "anchor": "x19",
         "domain": [
          0.26875,
          0.4625
         ]
        },
        "xaxis20": {
         "anchor": "y20",
         "domain": [
          0.7204081632653061,
          0.8359183673469387
         ]
        },
        "yaxis20": {
         "anchor": "x20",
         "domain": [
          0.26875,
          0.4625
         ]
        },
        "xaxis21": {
         "anchor": "y21",
         "domain": [
          0.8644897959183673,
          0.9799999999999999
         ]
        },
        "yaxis21": {
         "anchor": "x21",
         "domain": [
          0.26875,
          0.4625
         ]
        },
        "xaxis22": {
         "anchor": "y22",
         "domain": [
          0.0,
          0.11551020408163264
         ]
        },
        "yaxis22": {
         "anchor": "x22",
         "domain": [
          0.0,
          0.19375
         ]
        },
        "xaxis23": {
         "anchor": "y23",
         "domain": [
          0.1440816326530612,
          0.2595918367346938
         ]
        },
        "yaxis23": {
         "anchor": "x23",
         "domain": [
          0.0,
          0.19375
         ]
        },
        "xaxis24": {
         "anchor": "y24",
         "domain": [
          0.2881632653061224,
          0.40367346938775506
         ]
        },
        "yaxis24": {
         "anchor": "x24",
         "domain": [
          0.0,
          0.19375
         ]
        },
        "xaxis25": {
         "anchor": "y25",
         "domain": [
          0.43224489795918364,
          0.5477551020408162
         ]
        },
        "yaxis25": {
         "anchor": "x25",
         "domain": [
          0.0,
          0.19375
         ]
        },
        "xaxis26": {
         "anchor": "y26",
         "domain": [
          0.5763265306122448,
          0.6918367346938774
         ]
        },
        "yaxis26": {
         "anchor": "x26",
         "domain": [
          0.0,
          0.19375
         ]
        },
        "xaxis27": {
         "anchor": "y27",
         "domain": [
          0.7204081632653061,
          0.8359183673469387
         ]
        },
        "yaxis27": {
         "anchor": "x27",
         "domain": [
          0.0,
          0.19375
         ]
        },
        "xaxis28": {
         "anchor": "y28",
         "domain": [
          0.8644897959183673,
          0.9799999999999999
         ]
        },
        "yaxis28": {
         "anchor": "x28",
         "domain": [
          0.0,
          0.19375
         ]
        },
        "annotations": [
         {
          "font": {
           "size": 16
          },
          "showarrow": false,
          "text": "MN→RA",
          "x": 0.05775510204081632,
          "xanchor": "center",
          "xref": "paper",
          "y": 1.0,
          "yanchor": "bottom",
          "yref": "paper"
         },
         {
          "font": {
           "size": 16
          },
          "showarrow": false,
          "text": "MN→EngbertDetector{'λ':5,'ws':2}",
          "x": 0.20183673469387753,
          "xanchor": "center",
          "xref": "paper",
          "y": 1.0,
          "yanchor": "bottom",
          "yref": "paper"
         },
         {
          "font": {
           "size": 16
          },
          "showarrow": false,
          "text": "MN→NHDetector",
          "x": 0.3459183673469387,
          "xanchor": "center",
          "xref": "paper",
          "y": 1.0,
          "yanchor": "bottom",
          "yref": "paper"
         },
         {
          "font": {
           "size": 16
          },
          "showarrow": false,
          "text": "MN→REMoDNaVDetector",
          "x": 0.48999999999999994,
          "xanchor": "center",
          "xref": "paper",
          "y": 1.0,
          "yanchor": "bottom",
          "yref": "paper"
         },
         {
          "font": {
           "size": 16
          },
          "showarrow": false,
          "text": "RA→EngbertDetector{'λ':5,'ws':2}",
          "x": 0.6340816326530612,
          "xanchor": "center",
          "xref": "paper",
          "y": 1.0,
          "yanchor": "bottom",
          "yref": "paper"
         },
         {
          "font": {
           "size": 16
          },
          "showarrow": false,
          "text": "RA→NHDetector",
          "x": 0.7781632653061223,
          "xanchor": "center",
          "xref": "paper",
          "y": 1.0,
          "yanchor": "bottom",
          "yref": "paper"
         },
         {
          "font": {
           "size": 16
          },
          "showarrow": false,
          "text": "RA→REMoDNaVDetector",
          "x": 0.9222448979591835,
          "xanchor": "center",
          "xref": "paper",
          "y": 1.0,
          "yanchor": "bottom",
          "yref": "paper"
         },
         {
          "font": {
           "size": 16
          },
          "showarrow": false,
          "text": "img",
          "textangle": 90,
          "x": 0.9799999999999999,
          "xanchor": "left",
          "xref": "paper",
          "y": 0.903125,
          "yanchor": "middle",
          "yref": "paper"
         },
         {
          "font": {
           "size": 16
          },
          "showarrow": false,
          "text": "moving dot",
          "textangle": 90,
          "x": 0.9799999999999999,
          "xanchor": "left",
          "xref": "paper",
          "y": 0.6343749999999999,
          "yanchor": "middle",
          "yref": "paper"
         },
         {
          "font": {
           "size": 16
          },
          "showarrow": false,
          "text": "video",
          "textangle": 90,
          "x": 0.9799999999999999,
          "xanchor": "left",
          "xref": "paper",
          "y": 0.365625,
          "yanchor": "middle",
          "yref": "paper"
         },
         {
          "font": {
           "size": 16
          },
          "showarrow": false,
          "text": "all",
          "textangle": 90,
          "x": 0.9799999999999999,
          "xanchor": "left",
          "xref": "paper",
          "y": 0.096875,
          "yanchor": "middle",
          "yref": "paper"
         }
        ],
        "title": {
         "text": "Kullback-Leibler Divergence Distribution"
        },
        "showlegend": false
       },
       "config": {
        "plotlyServerURL": "https://plot.ly"
       }
      },
      "text/html": "<div>                            <div id=\"268a7e30-146a-4d3f-a74b-200febf0d850\" class=\"plotly-graph-div\" style=\"height:525px; width:100%;\"></div>            <script type=\"text/javascript\">                require([\"plotly\"], function(Plotly) {                    window.PLOTLYENV=window.PLOTLYENV || {};                                    if (document.getElementById(\"268a7e30-146a-4d3f-a74b-200febf0d850\")) {                    Plotly.newPlot(                        \"268a7e30-146a-4d3f-a74b-200febf0d850\",                        [{\"name\":\"\",\"points\":\"all\",\"showlegend\":false,\"side\":\"positive\",\"y\":[0.03853038855807625,0.14360128550707754,null,null,null,0.06133635020122808,0.07615434546246627,null,null,null,0.0002496053049682763,0.008299486054646543,0.0027370171695101165,0.033761328593377445,0.005294065433456369,0.0334017220273832,0.008489644349328584,0.005015618051111148,23.0258509077363,0.0014477293611685031],\"type\":\"violin\",\"xaxis\":\"x\",\"yaxis\":\"y\"},{\"name\":\"\",\"points\":\"all\",\"showlegend\":false,\"side\":\"positive\",\"y\":[0.7766797879591045,0.07940824588054876,null,null,null,0.8086022323667491,1.9452239653267394,null,null,null,1.330275614675846,1.170047061835645,0.5616557464276212,0.758193336495866,1.9036675388426596,1.8359159944821282,1.206230948235662,2.8052291614192266,5.949640438529079,2.340857638253658],\"type\":\"violin\",\"xaxis\":\"x2\",\"yaxis\":\"y2\"},{\"name\":\"\",\"points\":\"all\",\"showlegend\":false,\"side\":\"positive\",\"y\":[0.019592103918113942,0.010472560357300625,null,null,null,0.42218413000335486,0.3424880696393481,null,null,null,0.027079548860351063,0.02197925858845173,0.17488582284490864,0.021706371823259893,0.08450058862956036,0.12149537652322735,0.8457291340696542,2.9470992727101617,3.9819903021474086,0.20823309918968252],\"type\":\"violin\",\"xaxis\":\"x3\",\"yaxis\":\"y3\"},{\"name\":\"\",\"points\":\"all\",\"showlegend\":false,\"side\":\"positive\",\"y\":[0.15303565729149446,0.3001819142694316,null,null,null,0.5674070424398662,0.2654433718547742,null,null,null,0.04419973319578522,0.10888875759925405,0.3629174155522109,0.17775460341733856,0.3730063211682701,1.7152951598616049,7.056887426162681,6.246987750192051,3.722890658357773,1.1476110032421396],\"type\":\"violin\",\"xaxis\":\"x4\",\"yaxis\":\"y4\"},{\"name\":\"\",\"points\":\"all\",\"showlegend\":false,\"side\":\"positive\",\"y\":[1.2855978256249636,2.7940879945179287,0.3720012528684839,1.1962540205152168,1.299755711624529,1.6729251991688723,2.1063610967686883,6.028880738990549,2.828243232191249,1.4589325596392757,1.430847845639033,1.4703006064208841,0.8438638544576356,1.4495378193976305,1.457459712268901,2.5673359649126324,1.338303509127254,3.2895633318942648,2.027157067256137,2.5653003740128266],\"type\":\"violin\",\"xaxis\":\"x5\",\"yaxis\":\"y5\"},{\"name\":\"\",\"points\":\"all\",\"showlegend\":false,\"side\":\"positive\",\"y\":[0.6811057141255692,2.6522731692580224,0.6184311201114762,0.024524700318437537,0.5770688312033048,1.3720279589819855,1.3765252535575683,4.987426864555769,2.395912471319042,0.6658228315650908,0.03211083846574436,0.15800161329049237,0.18544268740398734,0.6255523043033009,0.04648003811485055,0.652417038247727,1.057488567797881,3.341678249360057,1.4505517682567581,0.2249197940627041],\"type\":\"violin\",\"xaxis\":\"x6\",\"yaxis\":\"y6\"},{\"name\":\"\",\"points\":\"all\",\"showlegend\":false,\"side\":\"positive\",\"y\":[0.06452978406539625,0.04947217483148124,0.13004780636931412,0.0567646077416166,0.37118595798617815,0.32916294657427597,0.13199551141204832,3.798852338877473,0.20427776927671576,0.09064008324567327,0.04666201634440839,0.08575202867027257,0.3622796957239903,0.0859058380026293,0.3695860670212779,2.07531667531123,8.268934685702993,6.253216332796309,0.5010855381164665,1.2259254185559456],\"type\":\"violin\",\"xaxis\":\"x7\",\"yaxis\":\"y7\"},{\"name\":\"\",\"points\":\"all\",\"showlegend\":false,\"side\":\"positive\",\"y\":[0.02147663757660348,null,null,0.012856956732684825,null,0.000500910489060763,0.9291549330254243,null,null,0.19227397315954728,0.009285616747036417,null,22.746903191428007,null,0.00720963314479664,null,1.031215914394578,0.01498747684611406,null],\"type\":\"violin\",\"xaxis\":\"x8\",\"yaxis\":\"y8\"},{\"name\":\"\",\"points\":\"all\",\"showlegend\":false,\"side\":\"positive\",\"y\":[22.2595972545495,null,null,20.553860441917006,null,22.366321390171613,21.065743786535073,null,null,21.772533985109643,21.967448297322473,null,21.446351295669494,null,21.96603392233832,null,17.349849042828993,19.282141423433583,null],\"type\":\"violin\",\"xaxis\":\"x9\",\"yaxis\":\"y9\"},{\"name\":\"\",\"points\":\"all\",\"showlegend\":false,\"side\":\"positive\",\"y\":[21.920268281948548,null,null,19.566131747957694,null,21.940656114621554,20.23287978513137,null,null,21.393079353836075,21.964586882878866,null,22.746903191428007,null,21.96827747884836,null,17.219610057133515,21.92156200486459,null],\"type\":\"violin\",\"xaxis\":\"x10\",\"yaxis\":\"y10\"},{\"name\":\"\",\"points\":\"all\",\"showlegend\":false,\"side\":\"positive\",\"y\":[0.5735588667187457,null,null,0.32028571946007484,null,0.8091150777723833,0.015026735134213563,null,null,0.12850290028695854,0.4944776436413298,null,22.746903191428007,null,0.5191825573077198,null,0.15812332299263077,3.008247353607225,null],\"type\":\"violin\",\"xaxis\":\"x11\",\"yaxis\":\"y11\"},{\"name\":\"\",\"points\":\"all\",\"showlegend\":false,\"side\":\"positive\",\"y\":[22.620077330253626,5.012855043724307,4.321922703818484,20.8411989417446,22.4774507562383,22.348676011251307,21.629573046016656,22.49381725347224,22.58953853704263,16.95579082292808,21.944218438232816,20.05832998180077,5.015069884041252,11.458734887267383,21.29926922464313,22.276690939474847,4.726659190530483,20.50310483597137,4.4811175304151405],\"type\":\"violin\",\"xaxis\":\"x12\",\"yaxis\":\"y12\"},{\"name\":\"\",\"points\":\"all\",\"showlegend\":false,\"side\":\"positive\",\"y\":[22.555535132080372,23.025850913945778,2.0794415382508835,20.386894811603206,22.52113907275022,22.00732581316699,21.683190331594826,22.86743235745716,22.586273966036863,16.75936514315892,21.94148014734053,19.817609980138073,23.025850916124945,13.084367499038605,21.303112436599918,22.315629205389175,4.298300657673976,22.09777806995893,23.025850914075452],\"type\":\"violin\",\"xaxis\":\"x13\",\"yaxis\":\"y13\"},{\"name\":\"\",\"points\":\"all\",\"showlegend\":false,\"side\":\"positive\",\"y\":[0.294837437955447,23.025850909890607,0.0,0.34655795148056523,0.11904849964440928,0.7493861058235782,0.024218241903528392,22.86743235745716,0.057960368898256384,0.09306487922615153,0.7477378671037709,0.49679805540568034,0.0,0.03884711238279619,0.4973142112306636,0.14986997448844583,0.5912950225362948,1.9225925520045197,3.278192396001281],\"type\":\"violin\",\"xaxis\":\"x14\",\"yaxis\":\"y14\"},{\"name\":\"\",\"points\":\"all\",\"showlegend\":false,\"side\":\"positive\",\"y\":[0.13242733227882975,0.45846532166250764,null,null,null,0.0015902664297052053,null,null,null,null,0.012969886554008402,null,0.034129570199277426,0.07992196820733136,0.03740390085910501,0.0028941586560415474,0.04747945019048433,null,null],\"type\":\"violin\",\"xaxis\":\"x15\",\"yaxis\":\"y15\"},{\"name\":\"\",\"points\":\"all\",\"showlegend\":false,\"side\":\"positive\",\"y\":[8.439360982601094,3.195199603401765,null,null,null,12.086193713744388,null,null,null,null,20.94738431009725,null,12.054206258294382,8.03931810657281,10.013835255370976,10.91564457611521,10.069278607305238,null,null],\"type\":\"violin\",\"xaxis\":\"x16\",\"yaxis\":\"y16\"},{\"name\":\"\",\"points\":\"all\",\"showlegend\":false,\"side\":\"positive\",\"y\":[8.247803690395777,2.6019914098650463,null,null,null,11.763863805943535,null,null,null,null,20.633491449398136,null,11.54764077605412,6.861072472408724,8.89877545976542,10.453867546035672,9.837696326875363,null,null],\"type\":\"violin\",\"xaxis\":\"x17\",\"yaxis\":\"y17\"},{\"name\":\"\",\"points\":\"all\",\"showlegend\":false,\"side\":\"positive\",\"y\":[0.08091140852153272,0.5589951122682553,null,null,null,0.04829899336612563,null,null,null,null,0.39324518200369885,null,0.028992119412918974,0.010863932715676709,0.6995902144187676,0.6131831777019731,5.312050193315304,null,null],\"type\":\"violin\",\"xaxis\":\"x18\",\"yaxis\":\"y18\"},{\"name\":\"\",\"points\":\"all\",\"showlegend\":false,\"side\":\"positive\",\"y\":[12.33156759115579,12.964230275504521,18.704294711416996,14.682812734211403,12.108713796901172,11.550522804899975,10.764100791175471,15.125852880555504,13.776598871848028,17.83768134591878,21.722846927061486,10.358049744084978,14.88258741341412,12.288165712448178,8.99264854352964,11.225323483244933,12.495966262662545,9.249547543814819,17.17918482947866],\"type\":\"violin\",\"xaxis\":\"x19\",\"yaxis\":\"y19\"},{\"name\":\"\",\"points\":\"all\",\"showlegend\":false,\"side\":\"positive\",\"y\":[12.215379203731779,12.666516708036198,18.62383477209251,14.215646277708883,11.857678465379694,11.310075018537662,10.936875520244904,14.851436498992275,13.641258818422699,17.507422603629653,21.395983382569625,9.683196998233642,14.239439565917014,11.089333770072782,8.907741090313902,10.950157593430834,12.027282725597066,9.46465949545439,16.272189175193663],\"type\":\"violin\",\"xaxis\":\"x20\",\"yaxis\":\"y20\"},{\"name\":\"\",\"points\":\"all\",\"showlegend\":false,\"side\":\"positive\",\"y\":[0.1224198510202281,0.007404386719825712,0.28428829809725487,0.43802270611368976,0.24009765704632158,0.06052769915342454,0.7549609686652663,0.34997224239520297,0.002776814243770593,0.25300596662248315,0.47899828582476883,0.10427315901513218,0.10538278731776363,0.10310257754087196,0.6565746363900916,0.5343374095792114,2.9987135907834137,0.5522399552309607,0.763675299603289],\"type\":\"violin\",\"xaxis\":\"x21\",\"yaxis\":\"y21\"},{\"name\":\"\",\"points\":\"all\",\"showlegend\":false,\"side\":\"positive\",\"y\":[0.02147663757660348,0.03853038855807625,0.14360128550707754,null,0.13242733227882975,null,null,0.012856956732684825,0.45846532166250764,null,null,null,null,null,null,0.06133635020122808,0.000500910489060763,0.9291549330254243,0.07615434546246627,0.0015902664297052053,null,null,null,null,null,null,null,null,null,0.0002496053049682763,0.19227397315954728,0.012969886554008402,0.009285616747036417,0.008299486054646543,null,0.0027370171695101165,0.034129570199277426,null,0.033761328593377445,22.746903191428007,0.005294065433456369,0.07992196820733136,0.0334017220273832,0.03740390085910501,null,0.00720963314479664,0.0028941586560415474,null,0.008489644349328584,1.031215914394578,0.04747945019048433,0.005015618051111148,0.01498747684611406,23.0258509077363,null,0.0014477293611685031,null,null],\"type\":\"violin\",\"xaxis\":\"x22\",\"yaxis\":\"y22\"},{\"name\":\"\",\"points\":\"all\",\"showlegend\":false,\"side\":\"positive\",\"y\":[22.2595972545495,0.7766797879591045,0.07940824588054876,null,8.439360982601094,null,null,20.553860441917006,3.195199603401765,null,null,null,null,null,null,0.8086022323667491,22.366321390171613,21.065743786535073,1.9452239653267394,12.086193713744388,null,null,null,null,null,null,null,null,null,1.330275614675846,21.772533985109643,20.94738431009725,21.967448297322473,1.170047061835645,null,0.5616557464276212,12.054206258294382,null,0.758193336495866,21.446351295669494,1.9036675388426596,8.03931810657281,1.8359159944821282,10.013835255370976,null,21.96603392233832,10.91564457611521,null,1.206230948235662,17.349849042828993,10.069278607305238,2.8052291614192266,19.282141423433583,5.949640438529079,null,2.340857638253658,null,null],\"type\":\"violin\",\"xaxis\":\"x23\",\"yaxis\":\"y23\"},{\"name\":\"\",\"points\":\"all\",\"showlegend\":false,\"side\":\"positive\",\"y\":[21.920268281948548,0.019592103918113942,0.010472560357300625,null,8.247803690395777,null,null,19.566131747957694,2.6019914098650463,null,null,null,null,null,null,0.42218413000335486,21.940656114621554,20.23287978513137,0.3424880696393481,11.763863805943535,null,null,null,null,null,null,null,null,null,0.027079548860351063,21.393079353836075,20.633491449398136,21.964586882878866,0.02197925858845173,null,0.17488582284490864,11.54764077605412,null,0.021706371823259893,22.746903191428007,0.08450058862956036,6.861072472408724,0.12149537652322735,8.89877545976542,null,21.96827747884836,10.453867546035672,null,0.8457291340696542,17.219610057133515,9.837696326875363,2.9470992727101617,21.92156200486459,3.9819903021474086,null,0.20823309918968252,null,null],\"type\":\"violin\",\"xaxis\":\"x24\",\"yaxis\":\"y24\"},{\"name\":\"\",\"points\":\"all\",\"showlegend\":false,\"side\":\"positive\",\"y\":[0.5735588667187457,0.15303565729149446,0.3001819142694316,null,0.08091140852153272,null,null,0.32028571946007484,0.5589951122682553,null,null,null,null,null,null,0.5674070424398662,0.8091150777723833,0.015026735134213563,0.2654433718547742,0.04829899336612563,null,null,null,null,null,null,null,null,null,0.04419973319578522,0.12850290028695854,0.39324518200369885,0.4944776436413298,0.10888875759925405,null,0.3629174155522109,0.028992119412918974,null,0.17775460341733856,22.746903191428007,0.3730063211682701,0.010863932715676709,1.7152951598616049,0.6995902144187676,null,0.5191825573077198,0.6131831777019731,null,7.056887426162681,0.15812332299263077,5.312050193315304,6.246987750192051,3.008247353607225,3.722890658357773,null,1.1476110032421396,null,null],\"type\":\"violin\",\"xaxis\":\"x25\",\"yaxis\":\"y25\"},{\"name\":\"\",\"points\":\"all\",\"showlegend\":false,\"side\":\"positive\",\"y\":[22.620077330253626,1.2855978256249636,2.7940879945179287,5.012855043724307,12.33156759115579,4.321922703818484,0.3720012528684839,20.8411989417446,12.964230275504521,1.1962540205152168,18.704294711416996,14.682812734211403,1.299755711624529,22.4774507562383,12.108713796901172,1.6729251991688723,22.348676011251307,21.629573046016656,2.1063610967686883,11.550522804899975,22.49381725347224,10.764100791175471,15.125852880555504,6.028880738990549,22.58953853704263,13.776598871848028,2.828243232191249,1.4589325596392757,17.83768134591878,1.430847845639033,16.95579082292808,21.722846927061486,21.944218438232816,1.4703006064208841,10.358049744084978,0.8438638544576356,14.88258741341412,20.05832998180077,1.4495378193976305,5.015069884041252,1.457459712268901,12.288165712448178,2.5673359649126324,8.99264854352964,11.458734887267383,21.29926922464313,11.225323483244933,22.276690939474847,1.338303509127254,4.726659190530483,12.495966262662545,3.2895633318942648,20.50310483597137,2.027157067256137,9.249547543814819,2.5653003740128266,4.4811175304151405,17.17918482947866],\"type\":\"violin\",\"xaxis\":\"x26\",\"yaxis\":\"y26\"},{\"name\":\"\",\"points\":\"all\",\"showlegend\":false,\"side\":\"positive\",\"y\":[22.555535132080372,0.6811057141255692,2.6522731692580224,23.025850913945778,12.215379203731779,2.0794415382508835,0.6184311201114762,20.386894811603206,12.666516708036198,0.024524700318437537,18.62383477209251,14.215646277708883,0.5770688312033048,22.52113907275022,11.857678465379694,1.3720279589819855,22.00732581316699,21.683190331594826,1.3765252535575683,11.310075018537662,22.86743235745716,10.936875520244904,14.851436498992275,4.987426864555769,22.586273966036863,13.641258818422699,2.395912471319042,0.6658228315650908,17.507422603629653,0.03211083846574436,16.75936514315892,21.395983382569625,21.94148014734053,0.15800161329049237,9.683196998233642,0.18544268740398734,14.239439565917014,19.817609980138073,0.6255523043033009,23.025850916124945,0.04648003811485055,11.089333770072782,0.652417038247727,8.907741090313902,13.084367499038605,21.303112436599918,10.950157593430834,22.315629205389175,1.057488567797881,4.298300657673976,12.027282725597066,3.341678249360057,22.09777806995893,1.4505517682567581,9.46465949545439,0.2249197940627041,23.025850914075452,16.272189175193663],\"type\":\"violin\",\"xaxis\":\"x27\",\"yaxis\":\"y27\"},{\"name\":\"\",\"points\":\"all\",\"showlegend\":false,\"side\":\"positive\",\"y\":[0.294837437955447,0.06452978406539625,0.04947217483148124,23.025850909890607,0.1224198510202281,0.0,0.13004780636931412,0.34655795148056523,0.007404386719825712,0.0567646077416166,0.28428829809725487,0.43802270611368976,0.37118595798617815,0.11904849964440928,0.24009765704632158,0.32916294657427597,0.7493861058235782,0.024218241903528392,0.13199551141204832,0.06052769915342454,22.86743235745716,0.7549609686652663,0.34997224239520297,3.798852338877473,0.057960368898256384,0.002776814243770593,0.20427776927671576,0.09064008324567327,0.25300596662248315,0.04666201634440839,0.09306487922615153,0.47899828582476883,0.7477378671037709,0.08575202867027257,0.10427315901513218,0.3622796957239903,0.10538278731776363,0.49679805540568034,0.0859058380026293,0.0,0.3695860670212779,0.10310257754087196,2.07531667531123,0.6565746363900916,0.03884711238279619,0.4973142112306636,0.5343374095792114,0.14986997448844583,8.268934685702993,0.5912950225362948,2.9987135907834137,6.253216332796309,1.9225925520045197,0.5010855381164665,0.5522399552309607,1.2259254185559456,3.278192396001281,0.763675299603289],\"type\":\"violin\",\"xaxis\":\"x28\",\"yaxis\":\"y28\"}],                        {\"template\":{\"data\":{\"histogram2dcontour\":[{\"type\":\"histogram2dcontour\",\"colorbar\":{\"outlinewidth\":0,\"ticks\":\"\"},\"colorscale\":[[0.0,\"#0d0887\"],[0.1111111111111111,\"#46039f\"],[0.2222222222222222,\"#7201a8\"],[0.3333333333333333,\"#9c179e\"],[0.4444444444444444,\"#bd3786\"],[0.5555555555555556,\"#d8576b\"],[0.6666666666666666,\"#ed7953\"],[0.7777777777777778,\"#fb9f3a\"],[0.8888888888888888,\"#fdca26\"],[1.0,\"#f0f921\"]]}],\"choropleth\":[{\"type\":\"choropleth\",\"colorbar\":{\"outlinewidth\":0,\"ticks\":\"\"}}],\"histogram2d\":[{\"type\":\"histogram2d\",\"colorbar\":{\"outlinewidth\":0,\"ticks\":\"\"},\"colorscale\":[[0.0,\"#0d0887\"],[0.1111111111111111,\"#46039f\"],[0.2222222222222222,\"#7201a8\"],[0.3333333333333333,\"#9c179e\"],[0.4444444444444444,\"#bd3786\"],[0.5555555555555556,\"#d8576b\"],[0.6666666666666666,\"#ed7953\"],[0.7777777777777778,\"#fb9f3a\"],[0.8888888888888888,\"#fdca26\"],[1.0,\"#f0f921\"]]}],\"heatmap\":[{\"type\":\"heatmap\",\"colorbar\":{\"outlinewidth\":0,\"ticks\":\"\"},\"colorscale\":[[0.0,\"#0d0887\"],[0.1111111111111111,\"#46039f\"],[0.2222222222222222,\"#7201a8\"],[0.3333333333333333,\"#9c179e\"],[0.4444444444444444,\"#bd3786\"],[0.5555555555555556,\"#d8576b\"],[0.6666666666666666,\"#ed7953\"],[0.7777777777777778,\"#fb9f3a\"],[0.8888888888888888,\"#fdca26\"],[1.0,\"#f0f921\"]]}],\"heatmapgl\":[{\"type\":\"heatmapgl\",\"colorbar\":{\"outlinewidth\":0,\"ticks\":\"\"},\"colorscale\":[[0.0,\"#0d0887\"],[0.1111111111111111,\"#46039f\"],[0.2222222222222222,\"#7201a8\"],[0.3333333333333333,\"#9c179e\"],[0.4444444444444444,\"#bd3786\"],[0.5555555555555556,\"#d8576b\"],[0.6666666666666666,\"#ed7953\"],[0.7777777777777778,\"#fb9f3a\"],[0.8888888888888888,\"#fdca26\"],[1.0,\"#f0f921\"]]}],\"contourcarpet\":[{\"type\":\"contourcarpet\",\"colorbar\":{\"outlinewidth\":0,\"ticks\":\"\"}}],\"contour\":[{\"type\":\"contour\",\"colorbar\":{\"outlinewidth\":0,\"ticks\":\"\"},\"colorscale\":[[0.0,\"#0d0887\"],[0.1111111111111111,\"#46039f\"],[0.2222222222222222,\"#7201a8\"],[0.3333333333333333,\"#9c179e\"],[0.4444444444444444,\"#bd3786\"],[0.5555555555555556,\"#d8576b\"],[0.6666666666666666,\"#ed7953\"],[0.7777777777777778,\"#fb9f3a\"],[0.8888888888888888,\"#fdca26\"],[1.0,\"#f0f921\"]]}],\"surface\":[{\"type\":\"surface\",\"colorbar\":{\"outlinewidth\":0,\"ticks\":\"\"},\"colorscale\":[[0.0,\"#0d0887\"],[0.1111111111111111,\"#46039f\"],[0.2222222222222222,\"#7201a8\"],[0.3333333333333333,\"#9c179e\"],[0.4444444444444444,\"#bd3786\"],[0.5555555555555556,\"#d8576b\"],[0.6666666666666666,\"#ed7953\"],[0.7777777777777778,\"#fb9f3a\"],[0.8888888888888888,\"#fdca26\"],[1.0,\"#f0f921\"]]}],\"mesh3d\":[{\"type\":\"mesh3d\",\"colorbar\":{\"outlinewidth\":0,\"ticks\":\"\"}}],\"scatter\":[{\"marker\":{\"line\":{\"color\":\"#283442\"}},\"type\":\"scatter\"}],\"parcoords\":[{\"type\":\"parcoords\",\"line\":{\"colorbar\":{\"outlinewidth\":0,\"ticks\":\"\"}}}],\"scatterpolargl\":[{\"type\":\"scatterpolargl\",\"marker\":{\"colorbar\":{\"outlinewidth\":0,\"ticks\":\"\"}}}],\"bar\":[{\"error_x\":{\"color\":\"#f2f5fa\"},\"error_y\":{\"color\":\"#f2f5fa\"},\"marker\":{\"line\":{\"color\":\"rgb(17,17,17)\",\"width\":0.5},\"pattern\":{\"fillmode\":\"overlay\",\"size\":10,\"solidity\":0.2}},\"type\":\"bar\"}],\"scattergeo\":[{\"type\":\"scattergeo\",\"marker\":{\"colorbar\":{\"outlinewidth\":0,\"ticks\":\"\"}}}],\"scatterpolar\":[{\"type\":\"scatterpolar\",\"marker\":{\"colorbar\":{\"outlinewidth\":0,\"ticks\":\"\"}}}],\"histogram\":[{\"marker\":{\"pattern\":{\"fillmode\":\"overlay\",\"size\":10,\"solidity\":0.2}},\"type\":\"histogram\"}],\"scattergl\":[{\"marker\":{\"line\":{\"color\":\"#283442\"}},\"type\":\"scattergl\"}],\"scatter3d\":[{\"type\":\"scatter3d\",\"line\":{\"colorbar\":{\"outlinewidth\":0,\"ticks\":\"\"}},\"marker\":{\"colorbar\":{\"outlinewidth\":0,\"ticks\":\"\"}}}],\"scattermapbox\":[{\"type\":\"scattermapbox\",\"marker\":{\"colorbar\":{\"outlinewidth\":0,\"ticks\":\"\"}}}],\"scatterternary\":[{\"type\":\"scatterternary\",\"marker\":{\"colorbar\":{\"outlinewidth\":0,\"ticks\":\"\"}}}],\"scattercarpet\":[{\"type\":\"scattercarpet\",\"marker\":{\"colorbar\":{\"outlinewidth\":0,\"ticks\":\"\"}}}],\"carpet\":[{\"aaxis\":{\"endlinecolor\":\"#A2B1C6\",\"gridcolor\":\"#506784\",\"linecolor\":\"#506784\",\"minorgridcolor\":\"#506784\",\"startlinecolor\":\"#A2B1C6\"},\"baxis\":{\"endlinecolor\":\"#A2B1C6\",\"gridcolor\":\"#506784\",\"linecolor\":\"#506784\",\"minorgridcolor\":\"#506784\",\"startlinecolor\":\"#A2B1C6\"},\"type\":\"carpet\"}],\"table\":[{\"cells\":{\"fill\":{\"color\":\"#506784\"},\"line\":{\"color\":\"rgb(17,17,17)\"}},\"header\":{\"fill\":{\"color\":\"#2a3f5f\"},\"line\":{\"color\":\"rgb(17,17,17)\"}},\"type\":\"table\"}],\"barpolar\":[{\"marker\":{\"line\":{\"color\":\"rgb(17,17,17)\",\"width\":0.5},\"pattern\":{\"fillmode\":\"overlay\",\"size\":10,\"solidity\":0.2}},\"type\":\"barpolar\"}],\"pie\":[{\"automargin\":true,\"type\":\"pie\"}]},\"layout\":{\"autotypenumbers\":\"strict\",\"colorway\":[\"#636efa\",\"#EF553B\",\"#00cc96\",\"#ab63fa\",\"#FFA15A\",\"#19d3f3\",\"#FF6692\",\"#B6E880\",\"#FF97FF\",\"#FECB52\"],\"font\":{\"color\":\"#f2f5fa\"},\"hovermode\":\"closest\",\"hoverlabel\":{\"align\":\"left\"},\"paper_bgcolor\":\"rgb(17,17,17)\",\"plot_bgcolor\":\"rgb(17,17,17)\",\"polar\":{\"bgcolor\":\"rgb(17,17,17)\",\"angularaxis\":{\"gridcolor\":\"#506784\",\"linecolor\":\"#506784\",\"ticks\":\"\"},\"radialaxis\":{\"gridcolor\":\"#506784\",\"linecolor\":\"#506784\",\"ticks\":\"\"}},\"ternary\":{\"bgcolor\":\"rgb(17,17,17)\",\"aaxis\":{\"gridcolor\":\"#506784\",\"linecolor\":\"#506784\",\"ticks\":\"\"},\"baxis\":{\"gridcolor\":\"#506784\",\"linecolor\":\"#506784\",\"ticks\":\"\"},\"caxis\":{\"gridcolor\":\"#506784\",\"linecolor\":\"#506784\",\"ticks\":\"\"}},\"coloraxis\":{\"colorbar\":{\"outlinewidth\":0,\"ticks\":\"\"}},\"colorscale\":{\"sequential\":[[0.0,\"#0d0887\"],[0.1111111111111111,\"#46039f\"],[0.2222222222222222,\"#7201a8\"],[0.3333333333333333,\"#9c179e\"],[0.4444444444444444,\"#bd3786\"],[0.5555555555555556,\"#d8576b\"],[0.6666666666666666,\"#ed7953\"],[0.7777777777777778,\"#fb9f3a\"],[0.8888888888888888,\"#fdca26\"],[1.0,\"#f0f921\"]],\"sequentialminus\":[[0.0,\"#0d0887\"],[0.1111111111111111,\"#46039f\"],[0.2222222222222222,\"#7201a8\"],[0.3333333333333333,\"#9c179e\"],[0.4444444444444444,\"#bd3786\"],[0.5555555555555556,\"#d8576b\"],[0.6666666666666666,\"#ed7953\"],[0.7777777777777778,\"#fb9f3a\"],[0.8888888888888888,\"#fdca26\"],[1.0,\"#f0f921\"]],\"diverging\":[[0,\"#8e0152\"],[0.1,\"#c51b7d\"],[0.2,\"#de77ae\"],[0.3,\"#f1b6da\"],[0.4,\"#fde0ef\"],[0.5,\"#f7f7f7\"],[0.6,\"#e6f5d0\"],[0.7,\"#b8e186\"],[0.8,\"#7fbc41\"],[0.9,\"#4d9221\"],[1,\"#276419\"]]},\"xaxis\":{\"gridcolor\":\"#283442\",\"linecolor\":\"#506784\",\"ticks\":\"\",\"title\":{\"standoff\":15},\"zerolinecolor\":\"#283442\",\"automargin\":true,\"zerolinewidth\":2},\"yaxis\":{\"gridcolor\":\"#283442\",\"linecolor\":\"#506784\",\"ticks\":\"\",\"title\":{\"standoff\":15},\"zerolinecolor\":\"#283442\",\"automargin\":true,\"zerolinewidth\":2},\"scene\":{\"xaxis\":{\"backgroundcolor\":\"rgb(17,17,17)\",\"gridcolor\":\"#506784\",\"linecolor\":\"#506784\",\"showbackground\":true,\"ticks\":\"\",\"zerolinecolor\":\"#C8D4E3\",\"gridwidth\":2},\"yaxis\":{\"backgroundcolor\":\"rgb(17,17,17)\",\"gridcolor\":\"#506784\",\"linecolor\":\"#506784\",\"showbackground\":true,\"ticks\":\"\",\"zerolinecolor\":\"#C8D4E3\",\"gridwidth\":2},\"zaxis\":{\"backgroundcolor\":\"rgb(17,17,17)\",\"gridcolor\":\"#506784\",\"linecolor\":\"#506784\",\"showbackground\":true,\"ticks\":\"\",\"zerolinecolor\":\"#C8D4E3\",\"gridwidth\":2}},\"shapedefaults\":{\"line\":{\"color\":\"#f2f5fa\"}},\"annotationdefaults\":{\"arrowcolor\":\"#f2f5fa\",\"arrowhead\":0,\"arrowwidth\":1},\"geo\":{\"bgcolor\":\"rgb(17,17,17)\",\"landcolor\":\"rgb(17,17,17)\",\"subunitcolor\":\"#506784\",\"showland\":true,\"showlakes\":true,\"lakecolor\":\"rgb(17,17,17)\"},\"title\":{\"x\":0.05},\"updatemenudefaults\":{\"bgcolor\":\"#506784\",\"borderwidth\":0},\"sliderdefaults\":{\"bgcolor\":\"#C8D4E3\",\"borderwidth\":1,\"bordercolor\":\"rgb(17,17,17)\",\"tickwidth\":0},\"mapbox\":{\"style\":\"dark\"}}},\"xaxis\":{\"anchor\":\"y\",\"domain\":[0.0,0.11551020408163264]},\"yaxis\":{\"anchor\":\"x\",\"domain\":[0.80625,1.0]},\"xaxis2\":{\"anchor\":\"y2\",\"domain\":[0.1440816326530612,0.2595918367346938]},\"yaxis2\":{\"anchor\":\"x2\",\"domain\":[0.80625,1.0]},\"xaxis3\":{\"anchor\":\"y3\",\"domain\":[0.2881632653061224,0.40367346938775506]},\"yaxis3\":{\"anchor\":\"x3\",\"domain\":[0.80625,1.0]},\"xaxis4\":{\"anchor\":\"y4\",\"domain\":[0.43224489795918364,0.5477551020408162]},\"yaxis4\":{\"anchor\":\"x4\",\"domain\":[0.80625,1.0]},\"xaxis5\":{\"anchor\":\"y5\",\"domain\":[0.5763265306122448,0.6918367346938774]},\"yaxis5\":{\"anchor\":\"x5\",\"domain\":[0.80625,1.0]},\"xaxis6\":{\"anchor\":\"y6\",\"domain\":[0.7204081632653061,0.8359183673469387]},\"yaxis6\":{\"anchor\":\"x6\",\"domain\":[0.80625,1.0]},\"xaxis7\":{\"anchor\":\"y7\",\"domain\":[0.8644897959183673,0.9799999999999999]},\"yaxis7\":{\"anchor\":\"x7\",\"domain\":[0.80625,1.0]},\"xaxis8\":{\"anchor\":\"y8\",\"domain\":[0.0,0.11551020408163264]},\"yaxis8\":{\"anchor\":\"x8\",\"domain\":[0.5375,0.73125]},\"xaxis9\":{\"anchor\":\"y9\",\"domain\":[0.1440816326530612,0.2595918367346938]},\"yaxis9\":{\"anchor\":\"x9\",\"domain\":[0.5375,0.73125]},\"xaxis10\":{\"anchor\":\"y10\",\"domain\":[0.2881632653061224,0.40367346938775506]},\"yaxis10\":{\"anchor\":\"x10\",\"domain\":[0.5375,0.73125]},\"xaxis11\":{\"anchor\":\"y11\",\"domain\":[0.43224489795918364,0.5477551020408162]},\"yaxis11\":{\"anchor\":\"x11\",\"domain\":[0.5375,0.73125]},\"xaxis12\":{\"anchor\":\"y12\",\"domain\":[0.5763265306122448,0.6918367346938774]},\"yaxis12\":{\"anchor\":\"x12\",\"domain\":[0.5375,0.73125]},\"xaxis13\":{\"anchor\":\"y13\",\"domain\":[0.7204081632653061,0.8359183673469387]},\"yaxis13\":{\"anchor\":\"x13\",\"domain\":[0.5375,0.73125]},\"xaxis14\":{\"anchor\":\"y14\",\"domain\":[0.8644897959183673,0.9799999999999999]},\"yaxis14\":{\"anchor\":\"x14\",\"domain\":[0.5375,0.73125]},\"xaxis15\":{\"anchor\":\"y15\",\"domain\":[0.0,0.11551020408163264]},\"yaxis15\":{\"anchor\":\"x15\",\"domain\":[0.26875,0.4625]},\"xaxis16\":{\"anchor\":\"y16\",\"domain\":[0.1440816326530612,0.2595918367346938]},\"yaxis16\":{\"anchor\":\"x16\",\"domain\":[0.26875,0.4625]},\"xaxis17\":{\"anchor\":\"y17\",\"domain\":[0.2881632653061224,0.40367346938775506]},\"yaxis17\":{\"anchor\":\"x17\",\"domain\":[0.26875,0.4625]},\"xaxis18\":{\"anchor\":\"y18\",\"domain\":[0.43224489795918364,0.5477551020408162]},\"yaxis18\":{\"anchor\":\"x18\",\"domain\":[0.26875,0.4625]},\"xaxis19\":{\"anchor\":\"y19\",\"domain\":[0.5763265306122448,0.6918367346938774]},\"yaxis19\":{\"anchor\":\"x19\",\"domain\":[0.26875,0.4625]},\"xaxis20\":{\"anchor\":\"y20\",\"domain\":[0.7204081632653061,0.8359183673469387]},\"yaxis20\":{\"anchor\":\"x20\",\"domain\":[0.26875,0.4625]},\"xaxis21\":{\"anchor\":\"y21\",\"domain\":[0.8644897959183673,0.9799999999999999]},\"yaxis21\":{\"anchor\":\"x21\",\"domain\":[0.26875,0.4625]},\"xaxis22\":{\"anchor\":\"y22\",\"domain\":[0.0,0.11551020408163264]},\"yaxis22\":{\"anchor\":\"x22\",\"domain\":[0.0,0.19375]},\"xaxis23\":{\"anchor\":\"y23\",\"domain\":[0.1440816326530612,0.2595918367346938]},\"yaxis23\":{\"anchor\":\"x23\",\"domain\":[0.0,0.19375]},\"xaxis24\":{\"anchor\":\"y24\",\"domain\":[0.2881632653061224,0.40367346938775506]},\"yaxis24\":{\"anchor\":\"x24\",\"domain\":[0.0,0.19375]},\"xaxis25\":{\"anchor\":\"y25\",\"domain\":[0.43224489795918364,0.5477551020408162]},\"yaxis25\":{\"anchor\":\"x25\",\"domain\":[0.0,0.19375]},\"xaxis26\":{\"anchor\":\"y26\",\"domain\":[0.5763265306122448,0.6918367346938774]},\"yaxis26\":{\"anchor\":\"x26\",\"domain\":[0.0,0.19375]},\"xaxis27\":{\"anchor\":\"y27\",\"domain\":[0.7204081632653061,0.8359183673469387]},\"yaxis27\":{\"anchor\":\"x27\",\"domain\":[0.0,0.19375]},\"xaxis28\":{\"anchor\":\"y28\",\"domain\":[0.8644897959183673,0.9799999999999999]},\"yaxis28\":{\"anchor\":\"x28\",\"domain\":[0.0,0.19375]},\"annotations\":[{\"font\":{\"size\":16},\"showarrow\":false,\"text\":\"MN\\u2192RA\",\"x\":0.05775510204081632,\"xanchor\":\"center\",\"xref\":\"paper\",\"y\":1.0,\"yanchor\":\"bottom\",\"yref\":\"paper\"},{\"font\":{\"size\":16},\"showarrow\":false,\"text\":\"MN\\u2192EngbertDetector{'\\u03bb':5,'ws':2}\",\"x\":0.20183673469387753,\"xanchor\":\"center\",\"xref\":\"paper\",\"y\":1.0,\"yanchor\":\"bottom\",\"yref\":\"paper\"},{\"font\":{\"size\":16},\"showarrow\":false,\"text\":\"MN\\u2192NHDetector\",\"x\":0.3459183673469387,\"xanchor\":\"center\",\"xref\":\"paper\",\"y\":1.0,\"yanchor\":\"bottom\",\"yref\":\"paper\"},{\"font\":{\"size\":16},\"showarrow\":false,\"text\":\"MN\\u2192REMoDNaVDetector\",\"x\":0.48999999999999994,\"xanchor\":\"center\",\"xref\":\"paper\",\"y\":1.0,\"yanchor\":\"bottom\",\"yref\":\"paper\"},{\"font\":{\"size\":16},\"showarrow\":false,\"text\":\"RA\\u2192EngbertDetector{'\\u03bb':5,'ws':2}\",\"x\":0.6340816326530612,\"xanchor\":\"center\",\"xref\":\"paper\",\"y\":1.0,\"yanchor\":\"bottom\",\"yref\":\"paper\"},{\"font\":{\"size\":16},\"showarrow\":false,\"text\":\"RA\\u2192NHDetector\",\"x\":0.7781632653061223,\"xanchor\":\"center\",\"xref\":\"paper\",\"y\":1.0,\"yanchor\":\"bottom\",\"yref\":\"paper\"},{\"font\":{\"size\":16},\"showarrow\":false,\"text\":\"RA\\u2192REMoDNaVDetector\",\"x\":0.9222448979591835,\"xanchor\":\"center\",\"xref\":\"paper\",\"y\":1.0,\"yanchor\":\"bottom\",\"yref\":\"paper\"},{\"font\":{\"size\":16},\"showarrow\":false,\"text\":\"img\",\"textangle\":90,\"x\":0.9799999999999999,\"xanchor\":\"left\",\"xref\":\"paper\",\"y\":0.903125,\"yanchor\":\"middle\",\"yref\":\"paper\"},{\"font\":{\"size\":16},\"showarrow\":false,\"text\":\"moving dot\",\"textangle\":90,\"x\":0.9799999999999999,\"xanchor\":\"left\",\"xref\":\"paper\",\"y\":0.6343749999999999,\"yanchor\":\"middle\",\"yref\":\"paper\"},{\"font\":{\"size\":16},\"showarrow\":false,\"text\":\"video\",\"textangle\":90,\"x\":0.9799999999999999,\"xanchor\":\"left\",\"xref\":\"paper\",\"y\":0.365625,\"yanchor\":\"middle\",\"yref\":\"paper\"},{\"font\":{\"size\":16},\"showarrow\":false,\"text\":\"all\",\"textangle\":90,\"x\":0.9799999999999999,\"xanchor\":\"left\",\"xref\":\"paper\",\"y\":0.096875,\"yanchor\":\"middle\",\"yref\":\"paper\"}],\"title\":{\"text\":\"Kullback-Leibler Divergence Distribution\"},\"showlegend\":false},                        {\"responsive\": true}                    ).then(function(){\n                            \nvar gd = document.getElementById('268a7e30-146a-4d3f-a74b-200febf0d850');\nvar x = new MutationObserver(function (mutations, observer) {{\n        var display = window.getComputedStyle(gd).display;\n        if (!display || display === 'none') {{\n            console.log([gd, 'removed!']);\n            Plotly.purge(gd);\n            observer.disconnect();\n        }}\n}});\n\n// Listen for the removal of the full notebook cells\nvar notebookContainer = gd.closest('#notebook-container');\nif (notebookContainer) {{\n    x.observe(notebookContainer, {childList: true});\n}}\n\n// Listen for the clearing of the current output cell\nvar outputEl = gd.closest('.output');\nif (outputEl) {{\n    x.observe(outputEl, {childList: true});\n}}\n\n                        })                };                });            </script>        </div>"
     },
     "metadata": {},
     "output_type": "display_data"
    }
   ],
   "source": [
    "samples_kl_grouped = detector_comparisons.compare_samples(samples=samples_df, metric=\"kl\", group_by=cnst.STIMULUS)\n",
    "kl_distribution_fig = figs.distributions_grid(\n",
    "    samples_kl_grouped[COMPARISON_COLUMNS],\n",
    "    plot_type=\"violin\",\n",
    "    title=\"Kullback-Leibler Divergence Distribution\",\n",
    "    column_title_mapper=lambda col: f\"{col[0]}→{col[1]}\"\n",
    ")\n",
    "kl_distribution_fig.show()"
   ],
   "metadata": {
    "collapsed": false,
    "ExecuteTime": {
     "end_time": "2024-04-07T11:18:49.607390Z",
     "start_time": "2024-04-07T11:18:40.623799Z"
    }
   },
   "id": "cf68916d58524b3d",
   "execution_count": 15
  },
  {
   "cell_type": "code",
   "outputs": [],
   "source": [],
   "metadata": {
    "collapsed": false,
    "ExecuteTime": {
     "end_time": "2024-04-07T11:14:27.754598Z",
     "start_time": "2024-04-07T11:14:27.646381Z"
    }
   },
   "id": "4352d9621d7c833b",
   "execution_count": 12
  }
 ],
 "metadata": {
  "kernelspec": {
   "display_name": "Python 3",
   "language": "python",
   "name": "python3"
  },
  "language_info": {
   "codemirror_mode": {
    "name": "ipython",
    "version": 2
   },
   "file_extension": ".py",
   "mimetype": "text/x-python",
   "name": "python",
   "nbconvert_exporter": "python",
   "pygments_lexer": "ipython2",
   "version": "2.7.6"
  }
 },
 "nbformat": 4,
 "nbformat_minor": 5
}
