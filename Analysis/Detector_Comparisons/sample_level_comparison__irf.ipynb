{
 "cells": [
  {
   "cell_type": "markdown",
   "source": [
    "# Sample-Level Comparison\n",
    "## Dataset: Lund2013\n",
    "(1) **Levenshtein Distance**: Measuring the edit distance between two sequences of sample-labels.  \n",
    "(2) **Cohen's Kappa**: Measuring the agreement between two sequences of sample-labels.  \n",
    "(3) **Transition-Matrices' Frobenius Norm**: Computing the transition matrix of each sequence of labels and measuring the Frobenius Norm of the difference between the two matrices.  \n",
    "(4) **Transition-Matrices' Kullback-Leibler Divergence**: Computing the transition matrix of each sequence of labels, calculating each matrix's first (left-) eigenvector (which is the transition matrix's stationary distribution), and measuring the Kullback-Leibler Divergence between the two stationary distributions."
   ],
   "metadata": {
    "collapsed": false
   },
   "id": "bb8d5cefcc5927d2"
  },
  {
   "cell_type": "code",
   "outputs": [],
   "source": [
    "import Config.constants as cnst\n",
    "\n",
    "from GazeDetectors.EngbertDetector import EngbertDetector\n",
    "from GazeDetectors.NHDetector import NHDetector\n",
    "from GazeDetectors.REMoDNaVDetector import REMoDNaVDetector\n",
    "from DataSetLoaders.DataSetFactory import DataSetFactory\n",
    "\n",
    "import Analysis.comparisons as detector_comparisons\n",
    "import Analysis.figures as figs"
   ],
   "metadata": {
    "collapsed": false
   },
   "id": "15c41c57f0246e4d"
  },
  {
   "cell_type": "code",
   "outputs": [],
   "source": [
    "%%capture --no-stdout\n",
    "\n",
    "DATASET_NAME = \"IRF\"\n",
    "RATERS = [\"RZ\"]\n",
    "DETECTORS = [EngbertDetector(), NHDetector(), REMoDNaVDetector()]\n",
    "COMPARISON_COLUMNS = [(r, d.name) for r in RATERS for d in DETECTORS]\n",
    "EVENT_MATCHING_PARAMS = {\"match_by\": \"onset\", \"max_onset_latency\": 15, \"allow_cross_matching\": False}\n",
    "\n",
    "samples_df, events_df = DataSetFactory.load_and_process(DATASET_NAME, RATERS, DETECTORS)"
   ],
   "metadata": {
    "collapsed": false
   },
   "id": "26b03db29ae09a01"
  },
  {
   "cell_type": "code",
   "outputs": [],
   "source": [
    "samples_levenshtein_grouped = detector_comparisons.compare_samples(samples=samples_df, metric=\"lev\", group_by=cnst.STIMULUS)\n",
    "lev_distribution_fig = figs.distributions_grid(\n",
    "    samples_levenshtein_grouped[COMPARISON_COLUMNS],\n",
    "    plot_type=\"violin\",\n",
    "    title=\"Levenshtein Distance Distribution\",\n",
    "    column_title_mapper=lambda col: f\"{col[0]}→{col[1]}\"\n",
    ")\n",
    "lev_distribution_fig.show()"
   ],
   "metadata": {
    "collapsed": false
   },
   "id": "2cb51cbd7dbbe575"
  },
  {
   "cell_type": "code",
   "outputs": [],
   "source": [
    "samples_kappa_grouped = detector_comparisons.compare_samples(samples=samples_df, metric=\"kappa\", group_by=cnst.STIMULUS)\n",
    "kappa_distribution_fig = figs.distributions_grid(\n",
    "    samples_kappa_grouped[COMPARISON_COLUMNS],\n",
    "    plot_type=\"violin\",\n",
    "    title=\"Cohen's Kappa Distribution\",\n",
    "    column_title_mapper=lambda col: f\"{col[0]}→{col[1]}\"\n",
    ")\n",
    "kappa_distribution_fig.show()"
   ],
   "metadata": {
    "collapsed": false
   },
   "id": "23b6c9d19e8bad29"
  },
  {
   "cell_type": "code",
   "outputs": [],
   "source": [
    "samples_frobenius_grouped = detector_comparisons.compare_samples(samples=samples_df, metric=\"frobenius\", group_by=cnst.STIMULUS)\n",
    "frob_distribution_fig = figs.distributions_grid(\n",
    "    samples_frobenius_grouped[COMPARISON_COLUMNS],\n",
    "    plot_type=\"violin\",\n",
    "    title=\"Frobenius Norm Distribution\",\n",
    "    column_title_mapper=lambda col: f\"{col[0]}→{col[1]}\"\n",
    ")\n",
    "frob_distribution_fig.show()"
   ],
   "metadata": {
    "collapsed": false
   },
   "id": "5b561c4688ae8414"
  },
  {
   "cell_type": "code",
   "outputs": [],
   "source": [
    "samples_kl_grouped = detector_comparisons.compare_samples(samples=samples_df, metric=\"kl\", group_by=cnst.STIMULUS)\n",
    "kl_distribution_fig = figs.distributions_grid(\n",
    "    samples_kl_grouped[COMPARISON_COLUMNS],\n",
    "    plot_type=\"violin\",\n",
    "    title=\"Kullback-Leibler Divergence Distribution\",\n",
    "    column_title_mapper=lambda col: f\"{col[0]}→{col[1]}\"\n",
    ")\n",
    "kl_distribution_fig.show()"
   ],
   "metadata": {
    "collapsed": false
   },
   "id": "cf68916d58524b3d"
  },
  {
   "cell_type": "code",
   "outputs": [],
   "source": [],
   "metadata": {
    "collapsed": false
   },
   "id": "4352d9621d7c833b"
  }
 ],
 "metadata": {
  "kernelspec": {
   "display_name": "Python 3",
   "language": "python",
   "name": "python3"
  },
  "language_info": {
   "codemirror_mode": {
    "name": "ipython",
    "version": 2
   },
   "file_extension": ".py",
   "mimetype": "text/x-python",
   "name": "python",
   "nbconvert_exporter": "python",
   "pygments_lexer": "ipython2",
   "version": "2.7.6"
  }
 },
 "nbformat": 4,
 "nbformat_minor": 5
}
