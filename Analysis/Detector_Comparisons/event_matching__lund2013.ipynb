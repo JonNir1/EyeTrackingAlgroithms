{
 "cells": [
  {
   "cell_type": "markdown",
   "source": [
    "# Matched-Events Comparison\n",
    "## Dataset: Lund2013\n",
    "Matching same-type events that were detected using two different detectors based on their onset times (allowed jitter ±15ms), and comparing their features.  \n",
    "  \n",
    "(1) **Percent Matched**: The ratio of matched events to the total number of events (detected by the human rater).  \n",
    "(2) **Onset Jitter**: The difference between the onset times of matched events (this is bound by the allowed jitter: ±15ms).      \n",
    "(3) **Duration Difference**: The difference between the durations of matched events.  \n",
    "(4) **Amplitude Difference**: The difference between the amplitudes of matched events (excluding blink events).    \n",
    "  \n",
    "*NOTE: lower absolute values indicate better matching.* "
   ],
   "metadata": {
    "collapsed": false
   },
   "id": "67a6e05e33627f01"
  },
  {
   "cell_type": "code",
   "outputs": [],
   "source": [
    "import numpy as np\n",
    "import pandas as pd\n",
    "import plotly.graph_objects as go\n",
    "import plotly.express as px\n",
    "from plotly.subplots import make_subplots\n",
    "\n",
    "import Config.constants as cnst\n",
    "import Config.experiment_config as cnfg\n",
    "\n",
    "from GazeDetectors.EngbertDetector import EngbertDetector\n",
    "from GazeDetectors.NHDetector import NHDetector\n",
    "from GazeDetectors.REMoDNaVDetector import REMoDNaVDetector\n",
    "from DataSetLoaders.DataSetFactory import DataSetFactory\n",
    "\n",
    "import Analysis.Detector_Comparisons.detector_comparisons as detector_comparisons\n",
    "import Analysis.Detector_Comparisons.figures as figs"
   ],
   "metadata": {
    "collapsed": false
   },
   "id": "2a2e7d0a38684c83"
  },
  {
   "cell_type": "code",
   "outputs": [],
   "source": [
    "%%capture --no-stdout\n",
    "\n",
    "DATASET_NAME = \"Lund2013\"\n",
    "RATERS = [\"MN\", \"RA\"]\n",
    "DETECTORS = [EngbertDetector(), NHDetector(), REMoDNaVDetector()]\n",
    "COMPARISON_COLUMNS = [tuple(RATERS)] + [(r, d.name) for r in RATERS for d in DETECTORS]\n",
    "EVENT_MATCHING_PARAMS = {\"match_by\": \"onset\", \"max_onset_latency\": 15, \"allow_cross_matching\": False}\n",
    "\n",
    "samples_df, events_df = DataSetFactory.load_and_process(DATASET_NAME, RATERS, DETECTORS)"
   ],
   "metadata": {
    "collapsed": false
   },
   "id": "efd3a5dbd424e90f"
  },
  {
   "cell_type": "markdown",
   "source": [
    "### All-Event Matching"
   ],
   "metadata": {
    "collapsed": false
   },
   "id": "eb09a9513ea1c0fc"
  },
  {
   "cell_type": "code",
   "outputs": [],
   "source": [
    "match_ratios_grouped = detector_comparisons.event_matching_ratio(events_df, group_by=cnst.STIMULUS, **EVENT_MATCHING_PARAMS)\n",
    "match_ratio_distributions = figs.distributions_grid(\n",
    "    match_ratios_grouped[COMPARISON_COLUMNS],\n",
    "    plot_type=\"violin\",\n",
    "    title=\"Matched-Events Ratio\",\n",
    "    column_title_mapper=lambda col: f\"{col[0]}→{col[1]}\"\n",
    ")\n",
    "match_ratio_distributions.show()"
   ],
   "metadata": {
    "collapsed": false
   },
   "id": "286e9bf4933915ee"
  },
  {
   "cell_type": "code",
   "outputs": [],
   "source": [
    "all_events_onset_jitter = detector_comparisons.matched_events_feature_difference(events_df,\n",
    "                                                                                 compare_by=\"onset\",\n",
    "                                                                                 group_by=cnst.STIMULUS,\n",
    "                                                                                 **EVENT_MATCHING_PARAMS)\n",
    "all_events_onset_jitter_distribution_fig = figs.distributions_grid(\n",
    "    all_events_onset_jitter[COMPARISON_COLUMNS],\n",
    "    plot_type=\"violin\",\n",
    "    title=\"Matched-Events Onset Jitter\",\n",
    "    column_title_mapper=lambda col: f\"{col[0]}→{col[1]}\"\n",
    ")\n",
    "all_events_onset_jitter_distribution_fig.show()"
   ],
   "metadata": {
    "collapsed": false
   },
   "id": "1b2b61a30e399a2a"
  },
  {
   "cell_type": "code",
   "outputs": [],
   "source": [
    "all_events_duration_diffs = detector_comparisons.matched_events_feature_difference(events_df,\n",
    "                                                                                 compare_by=\"duration\",\n",
    "                                                                                 group_by=cnst.STIMULUS,\n",
    "                                                                                 **EVENT_MATCHING_PARAMS)\n",
    "all_events_duration_diffs_distribution_fig = figs.distributions_grid(\n",
    "    all_events_onset_jitter[COMPARISON_COLUMNS],\n",
    "    plot_type=\"violin\",\n",
    "    title=\"Matched-Events Duration Difference\",\n",
    "    column_title_mapper=lambda col: f\"{col[0]}→{col[1]}\"\n",
    ")\n",
    "all_events_duration_diffs_distribution_fig.show()"
   ],
   "metadata": {
    "collapsed": false
   },
   "id": "3d0c714e6dd185ba"
  },
  {
   "cell_type": "code",
   "outputs": [],
   "source": [
    "all_events_amplitude_diffs = detector_comparisons.matched_events_feature_difference(events_df,\n",
    "                                                                                  compare_by=\"amplitude\",\n",
    "                                                                                  group_by=cnst.STIMULUS,\n",
    "                                                                                  **EVENT_MATCHING_PARAMS)\n",
    "all_events_amplitude_diffs_distribution_fig = figs.distributions_grid(\n",
    "    all_events_onset_jitter[COMPARISON_COLUMNS],\n",
    "    plot_type=\"violin\",\n",
    "    title=\"Matched-Events Amplitude Difference\",\n",
    "    column_title_mapper=lambda col: f\"{col[0]}→{col[1]}\"\n",
    ")\n",
    "all_events_amplitude_diffs_distribution_fig.show()"
   ],
   "metadata": {
    "collapsed": false
   },
   "id": "b2ee522f2609a81a"
  },
  {
   "cell_type": "markdown",
   "source": [
    "### Matched-Fixation Comparisons"
   ],
   "metadata": {
    "collapsed": false
   },
   "id": "454e5ba2ba5f1f37"
  },
  {
   "cell_type": "code",
   "outputs": [],
   "source": [
    "fixation_onset_jitter = detector_comparisons.matched_events_feature_difference(events_df,\n",
    "                                                                               compare_by=\"onset\",\n",
    "                                                                               group_by=cnst.STIMULUS,\n",
    "                                                                               ignore_events=[v for v in\n",
    "                                                                                              cnst.EVENT_LABELS\n",
    "                                                                                              if\n",
    "                                                                                              v != cnst.EVENT_LABELS.FIXATION],\n",
    "                                                                               **EVENT_MATCHING_PARAMS)\n",
    "fixation_onset_jitter_distributions = figs.distributions_grid(\n",
    "    fixation_onset_jitter[COMPARISON_COLUMNS],\n",
    "    plot_type=\"violin\",\n",
    "    title=\"Matched-Fixations Onset Jitter\",\n",
    "    column_title_mapper=lambda col: f\"{col[0]}→{col[1]}\"\n",
    ")\n",
    "fixation_onset_jitter_distributions.show()"
   ],
   "metadata": {
    "collapsed": false
   },
   "id": "706b9e5a7460f9af"
  },
  {
   "cell_type": "code",
   "outputs": [],
   "source": [
    "fixation_duration_diffs = detector_comparisons.matched_events_feature_difference(events_df,\n",
    "                                                                                 compare_by=\"duration\",\n",
    "                                                                                 group_by=cnst.STIMULUS,\n",
    "                                                                                 ignore_events=[v for v in\n",
    "                                                                                                cnst.EVENT_LABELS\n",
    "                                                                                                if\n",
    "                                                                                                v != cnst.EVENT_LABELS.FIXATION],\n",
    "                                                                                 **EVENT_MATCHING_PARAMS)\n",
    "\n",
    "fixation_duration_diff_distributions = figs.distributions_grid(\n",
    "    fixation_duration_diffs[COMPARISON_COLUMNS],\n",
    "    plot_type=\"violin\",\n",
    "    title=\"Matched-Fixations Duration Difference\",\n",
    "    column_title_mapper=lambda col: f\"{col[0]}→{col[1]}\"\n",
    ")\n",
    "fixation_duration_diff_distributions.show()"
   ],
   "metadata": {
    "collapsed": false
   },
   "id": "f6dd3f882c2b7b13"
  },
  {
   "cell_type": "markdown",
   "source": [
    "### Matched-Saccade Comparisons"
   ],
   "metadata": {
    "collapsed": false
   },
   "id": "6140432ebf89828e"
  },
  {
   "cell_type": "code",
   "outputs": [],
   "source": [
    "saccade_onset_jitter = detector_comparisons.matched_events_feature_difference(events_df,\n",
    "                                                                              compare_by=\"onset\",\n",
    "                                                        group_by=cnst.STIMULUS,\n",
    "                                                        ignore_events=[v for v in cnst.EVENT_LABELS\n",
    "                                                                       if v != cnst.EVENT_LABELS.SACCADE],\n",
    "                                                        **EVENT_MATCHING_PARAMS)\n",
    "saccade_onset_jitter_distributions = figs.distributions_grid(\n",
    "    saccade_onset_jitter[COMPARISON_COLUMNS],\n",
    "    plot_type=\"violin\",\n",
    "    title=\"Matched-Saccades Onset Jitter\",\n",
    "    column_title_mapper=lambda col: f\"{col[0]}→{col[1]}\"\n",
    ")\n",
    "saccade_onset_jitter_distributions.show()"
   ],
   "metadata": {
    "collapsed": false
   },
   "id": "cf8d891526c59fdf"
  },
  {
   "cell_type": "code",
   "outputs": [],
   "source": [
    "saccade_duration_diffs = detector_comparisons.matched_events_feature_difference(events_df,\n",
    "                                                                                compare_by=\"duration\",\n",
    "                                                          group_by=cnst.STIMULUS,\n",
    "                                                          ignore_events=[v for v in cnst.EVENT_LABELS\n",
    "                                                                         if v != cnst.EVENT_LABELS.SACCADE],\n",
    "                                                          **EVENT_MATCHING_PARAMS)\n",
    "saccade_duration_diff_distributions = figs.distributions_grid(\n",
    "    saccade_duration_diffs[COMPARISON_COLUMNS],\n",
    "    plot_type=\"violin\",\n",
    "    title=\"Matched-Saccades Duration Difference\",\n",
    "    column_title_mapper=lambda col: f\"{col[0]}→{col[1]}\"\n",
    ")\n",
    "saccade_duration_diff_distributions.show()"
   ],
   "metadata": {
    "collapsed": false
   },
   "id": "c85aaf0f96faa122"
  },
  {
   "cell_type": "code",
   "outputs": [],
   "source": [
    "saccade_amplitude_diffs = detector_comparisons.matched_events_feature_difference(events_df,\n",
    "                                                                                 compare_by=\"amplitude\",\n",
    "                                                           group_by=cnst.STIMULUS,\n",
    "                                                           ignore_events=[v for v in cnst.EVENT_LABELS\n",
    "                                                                          if v != cnst.EVENT_LABELS.SACCADE],\n",
    "                                                           **EVENT_MATCHING_PARAMS)\n",
    "saccade_amplitude_diff_distributions = figs.distributions_grid(\n",
    "    saccade_amplitude_diffs[COMPARISON_COLUMNS],\n",
    "    plot_type=\"violin\",\n",
    "    title=\"Matched-Saccades Amplitude Difference\",\n",
    "    column_title_mapper=lambda col: f\"{col[0]}→{col[1]}\"\n",
    ")\n",
    "saccade_amplitude_diff_distributions.show()"
   ],
   "metadata": {
    "collapsed": false
   },
   "id": "4278378140214de6"
  },
  {
   "cell_type": "markdown",
   "source": [],
   "metadata": {
    "collapsed": false
   },
   "id": "5bc8a9f0467250fe"
  }
 ],
 "metadata": {
  "kernelspec": {
   "display_name": "Python 3",
   "language": "python",
   "name": "python3"
  },
  "language_info": {
   "codemirror_mode": {
    "name": "ipython",
    "version": 2
   },
   "file_extension": ".py",
   "mimetype": "text/x-python",
   "name": "python",
   "nbconvert_exporter": "python",
   "pygments_lexer": "ipython2",
   "version": "2.7.6"
  }
 },
 "nbformat": 4,
 "nbformat_minor": 5
}
