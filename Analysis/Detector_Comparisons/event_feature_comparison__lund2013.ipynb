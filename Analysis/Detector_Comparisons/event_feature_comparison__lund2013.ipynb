{
 "cells": [
  {
   "cell_type": "markdown",
   "source": [
    "# Event-Features Comparison\n",
    "## Dataset: Lund2013\n",
    "(1) **Event Counts**: Comparing the number of detected event of each event-type.  \n",
    "(2) **Durations**: Comparing the duration of each event-type.  \n",
    "(3) **Amplitudes**: Comparing the amplitude of each event-type (excluding blinks).  \n",
    "(4) **Azimuths**: Comparing the azimuth of each event-type (excluding blinks).  \n",
    "(5) **Peak Velocities**: Comparing the peak velocity of each event-type (excluding blinks). "
   ],
   "metadata": {
    "collapsed": false
   },
   "id": "9331abd53bd259cb"
  },
  {
   "cell_type": "code",
   "outputs": [],
   "source": [
    "import Config.constants as cnst\n",
    "\n",
    "from GazeDetectors.EngbertDetector import EngbertDetector\n",
    "from GazeDetectors.NHDetector import NHDetector\n",
    "from GazeDetectors.REMoDNaVDetector import REMoDNaVDetector\n",
    "from DataSetLoaders.DataSetFactory import DataSetFactory\n",
    "\n",
    "import Analysis.comparisons as detector_comparisons\n",
    "import Analysis.figures as figs"
   ],
   "metadata": {
    "collapsed": false
   },
   "id": "3318dfa19c2b795e"
  },
  {
   "cell_type": "code",
   "outputs": [],
   "source": [
    "%%capture --no-stdout\n",
    "\n",
    "DATASET_NAME = \"Lund2013\"\n",
    "RATERS = [\"MN\", \"RA\"]\n",
    "DETECTORS = [EngbertDetector(), NHDetector(), REMoDNaVDetector()]\n",
    "COMPARISON_COLUMNS = [tuple(RATERS)] + [(r, d.name) for r in RATERS for d in DETECTORS]\n",
    "EVENT_MATCHING_PARAMS = {\"match_by\": \"onset\", \"max_onset_latency\": 15, \"allow_cross_matching\": False}\n",
    "\n",
    "samples_df, events_df = DataSetFactory.load_and_process(DATASET_NAME, RATERS, DETECTORS)"
   ],
   "metadata": {
    "collapsed": false
   },
   "id": "b449db02082d7d9e"
  },
  {
   "cell_type": "markdown",
   "source": [
    "### All-Event Counts"
   ],
   "metadata": {
    "collapsed": false
   },
   "id": "f42a94c9b5e14816"
  },
  {
   "cell_type": "code",
   "outputs": [],
   "source": [
    "event_counts = detector_comparisons.label_counts(events=events_df ,group_by=cnst.STIMULUS)\n",
    "event_counts_fig = figs.count_grid(event_counts, title=\"Event Counts\")\n",
    "event_counts_fig.show()"
   ],
   "metadata": {
    "collapsed": false
   },
   "id": "d659e11143aad0b6"
  },
  {
   "cell_type": "code",
   "outputs": [],
   "source": [
    "event_durations = detector_comparisons.event_features(events_df,\n",
    "                                                      feature=\"duration\",\n",
    "                                                      group_by=cnst.STIMULUS,\n",
    "                                                      ignore_events=[cnst.EVENT_LABELS.BLINK])\n",
    "duration_distribution_fig = figs.distributions_grid(\n",
    "    event_durations,\n",
    "    plot_type=\"violin\",\n",
    "    title=\"Event Durations\",\n",
    ")\n",
    "duration_distribution_fig.show()"
   ],
   "metadata": {
    "collapsed": false
   },
   "id": "ae340cd22cf3ac76"
  },
  {
   "cell_type": "code",
   "outputs": [],
   "source": [
    "event_amplitudes = detector_comparisons.event_features(events_df,\n",
    "                                                       feature=\"amplitude\",\n",
    "                                                       group_by=cnst.STIMULUS,\n",
    "                                                       ignore_events=[cnst.EVENT_LABELS.BLINK])\n",
    "amplitude_distribution_fig = figs.distributions_grid(\n",
    "    event_amplitudes,\n",
    "    plot_type=\"violin\",\n",
    "    title=\"Event Amplitudes\",\n",
    ")\n",
    "amplitude_distribution_fig.show()"
   ],
   "metadata": {
    "collapsed": false
   },
   "id": "de0da95958fe739f"
  },
  {
   "cell_type": "code",
   "outputs": [],
   "source": [
    "event_azimuths = detector_comparisons.event_features(events_df,\n",
    "                                                     feature=\"azimuth\",\n",
    "                                                     group_by=cnst.STIMULUS,\n",
    "                                                     ignore_events=[cnst.EVENT_LABELS.BLINK])\n",
    "azimuth_distribution_fig = figs.distributions_grid(\n",
    "    event_azimuths,\n",
    "    plot_type=\"violin\",\n",
    "    title=\"Event Azimuths\",\n",
    ")\n",
    "azimuth_distribution_fig.show()"
   ],
   "metadata": {
    "collapsed": false
   },
   "id": "def42001b1436cd8"
  },
  {
   "cell_type": "code",
   "outputs": [],
   "source": [
    "event_peak_velocities = detector_comparisons.event_features(events_df,\n",
    "                                                            feature=\"peak_velocity\",\n",
    "                                                            group_by=cnst.STIMULUS,\n",
    "                                                            ignore_events=[cnst.EVENT_LABELS.BLINK])\n",
    "peak_velocity_distribution_fig = figs.distributions_grid(\n",
    "    event_peak_velocities,\n",
    "    plot_type=\"violin\",\n",
    "    title=\"Event Peak Velocities\",\n",
    ")\n",
    "peak_velocity_distribution_fig.show()"
   ],
   "metadata": {
    "collapsed": false
   },
   "id": "f0ed84ffc1580fca"
  },
  {
   "cell_type": "markdown",
   "source": [
    "### Fixation-Features Comparison"
   ],
   "metadata": {
    "collapsed": false
   },
   "id": "30d907b685b25807"
  },
  {
   "cell_type": "code",
   "outputs": [],
   "source": [
    "fixation_durations = detector_comparisons.event_features(events_df,\n",
    "                                                         feature=\"duration\",\n",
    "                                                         group_by=cnst.STIMULUS,\n",
    "                                                         ignore_events=[v for v in cnst.EVENT_LABELS if\n",
    "                                                                        v != cnst.EVENT_LABELS.FIXATION])\n",
    "fixation_duration_distribution_fig = figs.distributions_grid(\n",
    "    fixation_durations,\n",
    "    plot_type=\"violin\",\n",
    "    title=\"Fixation Durations\",\n",
    ")\n",
    "fixation_duration_distribution_fig.show()"
   ],
   "metadata": {
    "collapsed": false
   },
   "id": "18602b8310bb1cf0"
  },
  {
   "cell_type": "code",
   "outputs": [],
   "source": [
    "fixation_peak_velocities = detector_comparisons.event_features(events_df,\n",
    "                                                               feature=\"peak_velocity\",\n",
    "                                                               group_by=cnst.STIMULUS,\n",
    "                                                               ignore_events=[v for v in cnst.EVENT_LABELS if\n",
    "                                                                              v != cnst.EVENT_LABELS.FIXATION])\n",
    "fixation_peak_velocity_distribution_fig = figs.distributions_grid(\n",
    "    fixation_peak_velocities,\n",
    "    plot_type=\"violin\",\n",
    "    title=\"Fixation Peak Velocities\",\n",
    ")\n",
    "fixation_peak_velocity_distribution_fig.show()"
   ],
   "metadata": {
    "collapsed": false
   },
   "id": "1aba9f9d90224e9f"
  },
  {
   "cell_type": "markdown",
   "source": [
    "### Saccade-Features Comparison"
   ],
   "metadata": {
    "collapsed": false
   },
   "id": "ce44c2c0c30ecb9f"
  },
  {
   "cell_type": "code",
   "outputs": [],
   "source": [
    "saccade_durations = detector_comparisons.event_features(events_df,\n",
    "                                                        feature=\"duration\",\n",
    "                                                        group_by=cnst.STIMULUS,\n",
    "                                                        ignore_events=[v for v in cnst.EVENT_LABELS if\n",
    "                                                                       v != cnst.EVENT_LABELS.SACCADE])\n",
    "saccade_duration_distribution_fig = figs.distributions_grid(\n",
    "    saccade_durations,\n",
    "    plot_type=\"violin\",\n",
    "    title=\"Saccade Durations\",\n",
    ")\n",
    "saccade_duration_distribution_fig.show()"
   ],
   "metadata": {
    "collapsed": false
   },
   "id": "b935710e17057d98"
  },
  {
   "cell_type": "code",
   "outputs": [],
   "source": [
    "saccade_amplitudes = detector_comparisons.event_features(events_df,\n",
    "                                                         feature=\"amplitude\",\n",
    "                                                         group_by=cnst.STIMULUS,\n",
    "                                                         ignore_events=[v for v in cnst.EVENT_LABELS if\n",
    "                                                                        v != cnst.EVENT_LABELS.SACCADE])\n",
    "saccade_amplitude_distribution_fig = figs.distributions_grid(\n",
    "    saccade_amplitudes,\n",
    "    plot_type=\"violin\",\n",
    "    title=\"Saccade Amplitudes\",\n",
    ")\n",
    "saccade_amplitude_distribution_fig.show()"
   ],
   "metadata": {
    "collapsed": false
   },
   "id": "8654292f01883f35"
  },
  {
   "cell_type": "code",
   "outputs": [],
   "source": [
    "saccade_azimuths = detector_comparisons.event_features(events_df,\n",
    "                                                      feature=\"azimuth\",\n",
    "                                                      group_by=cnst.STIMULUS,\n",
    "                                                      ignore_events=[v for v in cnst.EVENT_LABELS if\n",
    "                                                                     v != cnst.EVENT_LABELS.SACCADE])\n",
    "saccade_azimuth_distribution_fig = figs.distributions_grid(\n",
    "    saccade_azimuths,\n",
    "    plot_type=\"violin\",\n",
    "    title=\"Saccade Azimuths\",\n",
    ")\n",
    "saccade_azimuth_distribution_fig.show()"
   ],
   "metadata": {
    "collapsed": false
   },
   "id": "33dc3e3c60bee08a"
  },
  {
   "cell_type": "code",
   "outputs": [],
   "source": [
    "saccade_peak_velocities = detector_comparisons.event_features(events_df,\n",
    "                                                              feature=\"peak_velocity\",\n",
    "                                                              group_by=cnst.STIMULUS,\n",
    "                                                              ignore_events=[v for v in cnst.EVENT_LABELS if\n",
    "                                                                             v != cnst.EVENT_LABELS.SACCADE])\n",
    "saccade_peak_velocity_distribution_fig = figs.distributions_grid(\n",
    "    saccade_peak_velocities,\n",
    "    plot_type=\"violin\",\n",
    "    title=\"Saccade Peak Velocities\",\n",
    ")\n",
    "saccade_peak_velocity_distribution_fig.show()"
   ],
   "metadata": {
    "collapsed": false
   },
   "id": "89ca6027876db96e"
  },
  {
   "cell_type": "code",
   "outputs": [],
   "source": [],
   "metadata": {
    "collapsed": false
   },
   "id": "375dbc1f23ed1632"
  }
 ],
 "metadata": {
  "kernelspec": {
   "display_name": "Python 3",
   "language": "python",
   "name": "python3"
  },
  "language_info": {
   "codemirror_mode": {
    "name": "ipython",
    "version": 2
   },
   "file_extension": ".py",
   "mimetype": "text/x-python",
   "name": "python",
   "nbconvert_exporter": "python",
   "pygments_lexer": "ipython2",
   "version": "2.7.6"
  }
 },
 "nbformat": 4,
 "nbformat_minor": 5
}
