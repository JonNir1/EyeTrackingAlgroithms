{
 "cells": [
  {
   "cell_type": "code",
   "execution_count": 1,
   "id": "initial_id",
   "metadata": {
    "collapsed": true,
    "ExecuteTime": {
     "end_time": "2024-03-25T21:03:34.531904Z",
     "start_time": "2024-03-25T21:03:22.986595Z"
    }
   },
   "outputs": [],
   "source": [
    "import numpy as np\n",
    "import pandas as pd\n",
    "import plotly.graph_objects as go\n",
    "\n",
    "import Config.constants as cnst\n",
    "import Config.experiment_config as cnfg\n",
    "\n",
    "import Analysis.lund2013_analysis_helpers as lund_helpers\n",
    "from DataSetLoaders.Lund2013DataSetLoader import Lund2013DataSetLoader as Lund2013\n",
    "from GazeDetectors.EngbertDetector import EngbertDetector\n",
    "from GazeDetectors.NHDetector import NHDetector\n",
    "from GazeDetectors.REMoDNaVDetector import REMoDNaVDetector"
   ]
  },
  {
   "cell_type": "markdown",
   "source": [
    "### Load the Dataset\n",
    "Lund2013 Dataset loaded into a DataFrame"
   ],
   "metadata": {
    "collapsed": false
   },
   "id": "444712d50513710"
  },
  {
   "cell_type": "code",
   "outputs": [
    {
     "data": {
      "text/plain": "   trial subject_id    stimulus stimulus_name    t         x        y  \\\n0      1       TH20  moving dot                0.0  123.2532  22.6264   \n1      1       TH20  moving dot                2.0  123.5395  22.9064   \n2      1       TH20  moving dot                4.0  123.2230  21.9909   \n3      1       TH20  moving dot                6.0  123.1883  21.7740   \n4      1       TH20  moving dot                8.0  125.0540  21.1805   \n\n   pixel_size_cm  viewer_distance_cm   MN  RA  \n0       0.037824                67.0  1.0   1  \n1       0.037824                67.0  1.0   1  \n2       0.037824                67.0  1.0   1  \n3       0.037824                67.0  1.0   1  \n4       0.037824                67.0  1.0   1  ",
      "text/html": "<div>\n<style scoped>\n    .dataframe tbody tr th:only-of-type {\n        vertical-align: middle;\n    }\n\n    .dataframe tbody tr th {\n        vertical-align: top;\n    }\n\n    .dataframe thead th {\n        text-align: right;\n    }\n</style>\n<table border=\"1\" class=\"dataframe\">\n  <thead>\n    <tr style=\"text-align: right;\">\n      <th></th>\n      <th>trial</th>\n      <th>subject_id</th>\n      <th>stimulus</th>\n      <th>stimulus_name</th>\n      <th>t</th>\n      <th>x</th>\n      <th>y</th>\n      <th>pixel_size_cm</th>\n      <th>viewer_distance_cm</th>\n      <th>MN</th>\n      <th>RA</th>\n    </tr>\n  </thead>\n  <tbody>\n    <tr>\n      <th>0</th>\n      <td>1</td>\n      <td>TH20</td>\n      <td>moving dot</td>\n      <td></td>\n      <td>0.0</td>\n      <td>123.2532</td>\n      <td>22.6264</td>\n      <td>0.037824</td>\n      <td>67.0</td>\n      <td>1.0</td>\n      <td>1</td>\n    </tr>\n    <tr>\n      <th>1</th>\n      <td>1</td>\n      <td>TH20</td>\n      <td>moving dot</td>\n      <td></td>\n      <td>2.0</td>\n      <td>123.5395</td>\n      <td>22.9064</td>\n      <td>0.037824</td>\n      <td>67.0</td>\n      <td>1.0</td>\n      <td>1</td>\n    </tr>\n    <tr>\n      <th>2</th>\n      <td>1</td>\n      <td>TH20</td>\n      <td>moving dot</td>\n      <td></td>\n      <td>4.0</td>\n      <td>123.2230</td>\n      <td>21.9909</td>\n      <td>0.037824</td>\n      <td>67.0</td>\n      <td>1.0</td>\n      <td>1</td>\n    </tr>\n    <tr>\n      <th>3</th>\n      <td>1</td>\n      <td>TH20</td>\n      <td>moving dot</td>\n      <td></td>\n      <td>6.0</td>\n      <td>123.1883</td>\n      <td>21.7740</td>\n      <td>0.037824</td>\n      <td>67.0</td>\n      <td>1.0</td>\n      <td>1</td>\n    </tr>\n    <tr>\n      <th>4</th>\n      <td>1</td>\n      <td>TH20</td>\n      <td>moving dot</td>\n      <td></td>\n      <td>8.0</td>\n      <td>125.0540</td>\n      <td>21.1805</td>\n      <td>0.037824</td>\n      <td>67.0</td>\n      <td>1.0</td>\n      <td>1</td>\n    </tr>\n  </tbody>\n</table>\n</div>"
     },
     "execution_count": 2,
     "metadata": {},
     "output_type": "execute_result"
    }
   ],
   "source": [
    "dataset = Lund2013().load(should_save=False)\n",
    "dataset.head()"
   ],
   "metadata": {
    "collapsed": false,
    "ExecuteTime": {
     "end_time": "2024-03-25T21:03:42.680835Z",
     "start_time": "2024-03-25T21:03:34.532962Z"
    }
   },
   "id": "caa9a89ac28f137f",
   "execution_count": 2
  },
  {
   "cell_type": "markdown",
   "source": [
    "### Detect and Pre-Process Gaze Events"
   ],
   "metadata": {
    "collapsed": false
   },
   "id": "71d2fbd189090ee8"
  },
  {
   "cell_type": "code",
   "outputs": [],
   "source": [
    "samples, events = lund_helpers.detect(EngbertDetector(),\n",
    "                                                  NHDetector(),\n",
    "                                                  # REMoDNaVDetector()\n",
    "                                                  )"
   ],
   "metadata": {
    "collapsed": false,
    "ExecuteTime": {
     "end_time": "2024-03-25T21:03:56.525346Z",
     "start_time": "2024-03-25T21:03:42.682829Z"
    }
   },
   "id": "a157d8ea3d9f4a83",
   "execution_count": 3
  },
  {
   "cell_type": "code",
   "outputs": [
    {
     "data": {
      "text/plain": "                                                                                          MN  \\\ntrial subject_id stimulus   stimulus_name                                                      \n1     TH20       moving dot                0       1.0\n1       1.0\n2       1.0\n3       1....   \n4     TH34       moving dot                1658   NaN\n1659   NaN\n1660   NaN\n1661   NaN\n16...   \n6     TH36       moving dot                2110   NaN\n2111   NaN\n2112   NaN\n2113   NaN\n21...   \n8     TH38       moving dot                2563    4.0\n2564    4.0\n2565    4.0\n2566    4....   \n14    TH50       moving dot                3016   NaN\n3017   NaN\n3018   NaN\n3019   NaN\n30...   \n\n                                                                                          RA  \\\ntrial subject_id stimulus   stimulus_name                                                      \n1     TH20       moving dot                0       1\n1       1\n2       1\n3       1\n4     ...   \n4     TH34       moving dot                1658    1\n1659    1\n1660    1\n1661    1\n1662  ...   \n6     TH36       moving dot                2110    1\n2111    1\n2112    1\n2113    1\n2114  ...   \n8     TH38       moving dot                2563    4\n2564    4\n2565    4\n2566    4\n2567  ...   \n14    TH50       moving dot                3016    4\n3017    4\n3018    4\n3019    4\n3020  ...   \n\n                                                                             EngbertDetector  \\\ntrial subject_id stimulus   stimulus_name                                                      \n1     TH20       moving dot                0       0\n1       0\n2       1\n3       1\n4     ...   \n4     TH34       moving dot                0      0\n1      0\n2      1\n3      1\n4      1\n ...   \n6     TH36       moving dot                0      0\n1      0\n2      1\n3      1\n4      1\n ...   \n8     TH38       moving dot                0      0\n1      0\n2      1\n3      1\n4      1\n ...   \n14    TH50       moving dot                0       0\n1       0\n2       1\n3       1\n4     ...   \n\n                                                                                  NHDetector  \ntrial subject_id stimulus   stimulus_name                                                     \n1     TH20       moving dot                0       1\n1       1\n2       1\n3       1\n4     ...  \n4     TH34       moving dot                0      1\n1      1\n2      1\n3      1\n4      1\n ...  \n6     TH36       moving dot                0      1\n1      1\n2      1\n3      1\n4      1\n ...  \n8     TH38       moving dot                0      1\n1      1\n2      1\n3      1\n4      1\n ...  \n14    TH50       moving dot                0       1\n1       1\n2       1\n3       1\n4     ...  ",
      "text/html": "<div>\n<style scoped>\n    .dataframe tbody tr th:only-of-type {\n        vertical-align: middle;\n    }\n\n    .dataframe tbody tr th {\n        vertical-align: top;\n    }\n\n    .dataframe thead th {\n        text-align: right;\n    }\n</style>\n<table border=\"1\" class=\"dataframe\">\n  <thead>\n    <tr style=\"text-align: right;\">\n      <th></th>\n      <th></th>\n      <th></th>\n      <th></th>\n      <th>MN</th>\n      <th>RA</th>\n      <th>EngbertDetector</th>\n      <th>NHDetector</th>\n    </tr>\n    <tr>\n      <th>trial</th>\n      <th>subject_id</th>\n      <th>stimulus</th>\n      <th>stimulus_name</th>\n      <th></th>\n      <th></th>\n      <th></th>\n      <th></th>\n    </tr>\n  </thead>\n  <tbody>\n    <tr>\n      <th>1</th>\n      <th>TH20</th>\n      <th>moving dot</th>\n      <th></th>\n      <td>0       1.0\n1       1.0\n2       1.0\n3       1....</td>\n      <td>0       1\n1       1\n2       1\n3       1\n4     ...</td>\n      <td>0       0\n1       0\n2       1\n3       1\n4     ...</td>\n      <td>0       1\n1       1\n2       1\n3       1\n4     ...</td>\n    </tr>\n    <tr>\n      <th>4</th>\n      <th>TH34</th>\n      <th>moving dot</th>\n      <th></th>\n      <td>1658   NaN\n1659   NaN\n1660   NaN\n1661   NaN\n16...</td>\n      <td>1658    1\n1659    1\n1660    1\n1661    1\n1662  ...</td>\n      <td>0      0\n1      0\n2      1\n3      1\n4      1\n ...</td>\n      <td>0      1\n1      1\n2      1\n3      1\n4      1\n ...</td>\n    </tr>\n    <tr>\n      <th>6</th>\n      <th>TH36</th>\n      <th>moving dot</th>\n      <th></th>\n      <td>2110   NaN\n2111   NaN\n2112   NaN\n2113   NaN\n21...</td>\n      <td>2110    1\n2111    1\n2112    1\n2113    1\n2114  ...</td>\n      <td>0      0\n1      0\n2      1\n3      1\n4      1\n ...</td>\n      <td>0      1\n1      1\n2      1\n3      1\n4      1\n ...</td>\n    </tr>\n    <tr>\n      <th>8</th>\n      <th>TH38</th>\n      <th>moving dot</th>\n      <th></th>\n      <td>2563    4.0\n2564    4.0\n2565    4.0\n2566    4....</td>\n      <td>2563    4\n2564    4\n2565    4\n2566    4\n2567  ...</td>\n      <td>0      0\n1      0\n2      1\n3      1\n4      1\n ...</td>\n      <td>0      1\n1      1\n2      1\n3      1\n4      1\n ...</td>\n    </tr>\n    <tr>\n      <th>14</th>\n      <th>TH50</th>\n      <th>moving dot</th>\n      <th></th>\n      <td>3016   NaN\n3017   NaN\n3018   NaN\n3019   NaN\n30...</td>\n      <td>3016    4\n3017    4\n3018    4\n3019    4\n3020  ...</td>\n      <td>0       0\n1       0\n2       1\n3       1\n4     ...</td>\n      <td>0       1\n1       1\n2       1\n3       1\n4     ...</td>\n    </tr>\n  </tbody>\n</table>\n</div>"
     },
     "execution_count": 4,
     "metadata": {},
     "output_type": "execute_result"
    }
   ],
   "source": [
    "samples.head()"
   ],
   "metadata": {
    "collapsed": false,
    "ExecuteTime": {
     "end_time": "2024-03-25T21:03:56.557463Z",
     "start_time": "2024-03-25T21:03:56.526402Z"
    }
   },
   "id": "9efd015f2b5f6ec1",
   "execution_count": 4
  },
  {
   "cell_type": "code",
   "outputs": [
    {
     "data": {
      "text/plain": "                                                                                          MN  \\\ntrial subject_id stimulus   stimulus_name                                                      \n1     TH20       moving dot                [Fixation (236.0 ms), Saccade (20.0 ms), Pso (...   \n4     TH34       moving dot                                                               []   \n6     TH36       moving dot                                                               []   \n8     TH38       moving dot                [Smooth_pursuit (346.0 ms), Saccade (16.0 ms),...   \n14    TH50       moving dot                                                               []   \n\n                                                                                          RA  \\\ntrial subject_id stimulus   stimulus_name                                                      \n1     TH20       moving dot                [Fixation (236.0 ms), Saccade (18.0 ms), Pso (...   \n4     TH34       moving dot                [Fixation (240.0 ms), Saccade (26.0 ms), Smoot...   \n6     TH36       moving dot                [Fixation (198.0 ms), Saccade (26.0 ms), Smoot...   \n8     TH38       moving dot                [Smooth_pursuit (346.0 ms), Saccade (18.0 ms),...   \n14    TH50       moving dot                [Smooth_pursuit (232.0 ms), Saccade (24.0 ms),...   \n\n                                                                             EngbertDetector  \\\ntrial subject_id stimulus   stimulus_name                                                      \n1     TH20       moving dot                [Fixation (232.0 ms), Saccade (30.0 ms), Fixat...   \n4     TH34       moving dot                [Fixation (234.0 ms), Saccade (50.0 ms), Fixat...   \n6     TH36       moving dot                [Fixation (192.0 ms), Saccade (32.0 ms), Fixat...   \n8     TH38       moving dot                [Fixation (280.0 ms), Saccade (72.0 ms), Fixat...   \n14    TH50       moving dot                [Fixation (192.0 ms), Saccade (82.0 ms), Fixat...   \n\n                                                                                  NHDetector  \ntrial subject_id stimulus   stimulus_name                                                     \n1     TH20       moving dot                [Fixation (222.0 ms), Saccade (50.0 ms), Fixat...  \n4     TH34       moving dot                [Fixation (228.0 ms), Saccade (38.0 ms), Fixat...  \n6     TH36       moving dot                [Fixation (188.0 ms), Saccade (48.0 ms), Fixat...  \n8     TH38       moving dot                [Fixation (272.0 ms), Saccade (60.0 ms), Pso (...  \n14    TH50       moving dot                [Fixation (226.0 ms), Saccade (28.0 ms), Fixat...  ",
      "text/html": "<div>\n<style scoped>\n    .dataframe tbody tr th:only-of-type {\n        vertical-align: middle;\n    }\n\n    .dataframe tbody tr th {\n        vertical-align: top;\n    }\n\n    .dataframe thead th {\n        text-align: right;\n    }\n</style>\n<table border=\"1\" class=\"dataframe\">\n  <thead>\n    <tr style=\"text-align: right;\">\n      <th></th>\n      <th></th>\n      <th></th>\n      <th></th>\n      <th>MN</th>\n      <th>RA</th>\n      <th>EngbertDetector</th>\n      <th>NHDetector</th>\n    </tr>\n    <tr>\n      <th>trial</th>\n      <th>subject_id</th>\n      <th>stimulus</th>\n      <th>stimulus_name</th>\n      <th></th>\n      <th></th>\n      <th></th>\n      <th></th>\n    </tr>\n  </thead>\n  <tbody>\n    <tr>\n      <th>1</th>\n      <th>TH20</th>\n      <th>moving dot</th>\n      <th></th>\n      <td>[Fixation (236.0 ms), Saccade (20.0 ms), Pso (...</td>\n      <td>[Fixation (236.0 ms), Saccade (18.0 ms), Pso (...</td>\n      <td>[Fixation (232.0 ms), Saccade (30.0 ms), Fixat...</td>\n      <td>[Fixation (222.0 ms), Saccade (50.0 ms), Fixat...</td>\n    </tr>\n    <tr>\n      <th>4</th>\n      <th>TH34</th>\n      <th>moving dot</th>\n      <th></th>\n      <td>[]</td>\n      <td>[Fixation (240.0 ms), Saccade (26.0 ms), Smoot...</td>\n      <td>[Fixation (234.0 ms), Saccade (50.0 ms), Fixat...</td>\n      <td>[Fixation (228.0 ms), Saccade (38.0 ms), Fixat...</td>\n    </tr>\n    <tr>\n      <th>6</th>\n      <th>TH36</th>\n      <th>moving dot</th>\n      <th></th>\n      <td>[]</td>\n      <td>[Fixation (198.0 ms), Saccade (26.0 ms), Smoot...</td>\n      <td>[Fixation (192.0 ms), Saccade (32.0 ms), Fixat...</td>\n      <td>[Fixation (188.0 ms), Saccade (48.0 ms), Fixat...</td>\n    </tr>\n    <tr>\n      <th>8</th>\n      <th>TH38</th>\n      <th>moving dot</th>\n      <th></th>\n      <td>[Smooth_pursuit (346.0 ms), Saccade (16.0 ms),...</td>\n      <td>[Smooth_pursuit (346.0 ms), Saccade (18.0 ms),...</td>\n      <td>[Fixation (280.0 ms), Saccade (72.0 ms), Fixat...</td>\n      <td>[Fixation (272.0 ms), Saccade (60.0 ms), Pso (...</td>\n    </tr>\n    <tr>\n      <th>14</th>\n      <th>TH50</th>\n      <th>moving dot</th>\n      <th></th>\n      <td>[]</td>\n      <td>[Smooth_pursuit (232.0 ms), Saccade (24.0 ms),...</td>\n      <td>[Fixation (192.0 ms), Saccade (82.0 ms), Fixat...</td>\n      <td>[Fixation (226.0 ms), Saccade (28.0 ms), Fixat...</td>\n    </tr>\n  </tbody>\n</table>\n</div>"
     },
     "execution_count": 5,
     "metadata": {},
     "output_type": "execute_result"
    }
   ],
   "source": [
    "events.head()"
   ],
   "metadata": {
    "collapsed": false,
    "ExecuteTime": {
     "end_time": "2024-03-25T21:03:56.582074Z",
     "start_time": "2024-03-25T21:03:56.558457Z"
    }
   },
   "id": "600d53984421dd93",
   "execution_count": 5
  },
  {
   "cell_type": "markdown",
   "source": [
    "### Distance Measures\n",
    "#### (1) Levenshtein Distance\n",
    "Calculating the Levenstein Distance for sequences of labels and sequences of events"
   ],
   "metadata": {
    "collapsed": false
   },
   "id": "b15f1cb4104cc778"
  },
  {
   "cell_type": "code",
   "outputs": [
    {
     "data": {
      "text/plain": "                                            MN                        \\\n                                            MN    RA EngbertDetector   \ntrial subject_id stimulus   stimulus_name                              \n1     TH20       moving dot                0.0  53.0          1494.0   \n4     TH34       moving dot                NaN   NaN             NaN   \n6     TH36       moving dot                NaN   NaN             NaN   \n8     TH38       moving dot                0.0  13.0           447.0   \n14    TH50       moving dot                NaN   NaN             NaN   \n\n                                                     RA                  \\\n                                          NHDetector RA EngbertDetector   \ntrial subject_id stimulus   stimulus_name                                 \n1     TH20       moving dot                   1491.0  0            1510   \n4     TH34       moving dot                      NaN  0             293   \n6     TH36       moving dot                      NaN  0             296   \n8     TH38       moving dot                    439.0  0             447   \n14    TH50       moving dot                      NaN  0            1300   \n\n                                                     EngbertDetector  \\\n                                          NHDetector EngbertDetector   \ntrial subject_id stimulus   stimulus_name                              \n1     TH20       moving dot                     1515               0   \n4     TH34       moving dot                      298               0   \n6     TH36       moving dot                      301               0   \n8     TH38       moving dot                      442               0   \n14    TH50       moving dot                     1314               0   \n\n                                                     NHDetector  \n                                          NHDetector NHDetector  \ntrial subject_id stimulus   stimulus_name                        \n1     TH20       moving dot                       51          0  \n4     TH34       moving dot                       29          0  \n6     TH36       moving dot                       58          0  \n8     TH38       moving dot                       49          0  \n14    TH50       moving dot                      128          0  ",
      "text/html": "<div>\n<style scoped>\n    .dataframe tbody tr th:only-of-type {\n        vertical-align: middle;\n    }\n\n    .dataframe tbody tr th {\n        vertical-align: top;\n    }\n\n    .dataframe thead tr th {\n        text-align: left;\n    }\n\n    .dataframe thead tr:last-of-type th {\n        text-align: right;\n    }\n</style>\n<table border=\"1\" class=\"dataframe\">\n  <thead>\n    <tr>\n      <th></th>\n      <th></th>\n      <th></th>\n      <th></th>\n      <th colspan=\"4\" halign=\"left\">MN</th>\n      <th colspan=\"3\" halign=\"left\">RA</th>\n      <th colspan=\"2\" halign=\"left\">EngbertDetector</th>\n      <th>NHDetector</th>\n    </tr>\n    <tr>\n      <th></th>\n      <th></th>\n      <th></th>\n      <th></th>\n      <th>MN</th>\n      <th>RA</th>\n      <th>EngbertDetector</th>\n      <th>NHDetector</th>\n      <th>RA</th>\n      <th>EngbertDetector</th>\n      <th>NHDetector</th>\n      <th>EngbertDetector</th>\n      <th>NHDetector</th>\n      <th>NHDetector</th>\n    </tr>\n    <tr>\n      <th>trial</th>\n      <th>subject_id</th>\n      <th>stimulus</th>\n      <th>stimulus_name</th>\n      <th></th>\n      <th></th>\n      <th></th>\n      <th></th>\n      <th></th>\n      <th></th>\n      <th></th>\n      <th></th>\n      <th></th>\n      <th></th>\n    </tr>\n  </thead>\n  <tbody>\n    <tr>\n      <th>1</th>\n      <th>TH20</th>\n      <th>moving dot</th>\n      <th></th>\n      <td>0.0</td>\n      <td>53.0</td>\n      <td>1494.0</td>\n      <td>1491.0</td>\n      <td>0</td>\n      <td>1510</td>\n      <td>1515</td>\n      <td>0</td>\n      <td>51</td>\n      <td>0</td>\n    </tr>\n    <tr>\n      <th>4</th>\n      <th>TH34</th>\n      <th>moving dot</th>\n      <th></th>\n      <td>NaN</td>\n      <td>NaN</td>\n      <td>NaN</td>\n      <td>NaN</td>\n      <td>0</td>\n      <td>293</td>\n      <td>298</td>\n      <td>0</td>\n      <td>29</td>\n      <td>0</td>\n    </tr>\n    <tr>\n      <th>6</th>\n      <th>TH36</th>\n      <th>moving dot</th>\n      <th></th>\n      <td>NaN</td>\n      <td>NaN</td>\n      <td>NaN</td>\n      <td>NaN</td>\n      <td>0</td>\n      <td>296</td>\n      <td>301</td>\n      <td>0</td>\n      <td>58</td>\n      <td>0</td>\n    </tr>\n    <tr>\n      <th>8</th>\n      <th>TH38</th>\n      <th>moving dot</th>\n      <th></th>\n      <td>0.0</td>\n      <td>13.0</td>\n      <td>447.0</td>\n      <td>439.0</td>\n      <td>0</td>\n      <td>447</td>\n      <td>442</td>\n      <td>0</td>\n      <td>49</td>\n      <td>0</td>\n    </tr>\n    <tr>\n      <th>14</th>\n      <th>TH50</th>\n      <th>moving dot</th>\n      <th></th>\n      <td>NaN</td>\n      <td>NaN</td>\n      <td>NaN</td>\n      <td>NaN</td>\n      <td>0</td>\n      <td>1300</td>\n      <td>1314</td>\n      <td>0</td>\n      <td>128</td>\n      <td>0</td>\n    </tr>\n  </tbody>\n</table>\n</div>"
     },
     "execution_count": 6,
     "metadata": {},
     "output_type": "execute_result"
    }
   ],
   "source": [
    "samples_levenshtein = lund_helpers.levenshtein_distances(samples)\n",
    "samples_levenshtein.head()"
   ],
   "metadata": {
    "collapsed": false,
    "ExecuteTime": {
     "end_time": "2024-03-25T21:04:02.524745Z",
     "start_time": "2024-03-25T21:03:56.583756Z"
    }
   },
   "id": "40b736803a1321b6",
   "execution_count": 6
  },
  {
   "cell_type": "code",
   "outputs": [
    {
     "data": {
      "text/plain": "                                            MN                       \\\n                                            MN   RA EngbertDetector   \ntrial subject_id stimulus   stimulus_name                             \n1     TH20       moving dot                0.0  7.0            11.0   \n4     TH34       moving dot                NaN  NaN             NaN   \n6     TH36       moving dot                NaN  NaN             NaN   \n8     TH38       moving dot                0.0  1.0             7.0   \n14    TH50       moving dot                NaN  NaN             NaN   \n\n                                                     RA                  \\\n                                          NHDetector RA EngbertDetector   \ntrial subject_id stimulus   stimulus_name                                 \n1     TH20       moving dot                     10.0  0               8   \n4     TH34       moving dot                      NaN  0               4   \n6     TH36       moving dot                      NaN  0               5   \n8     TH38       moving dot                      5.0  0               6   \n14    TH50       moving dot                      NaN  0              13   \n\n                                                     EngbertDetector  \\\n                                          NHDetector EngbertDetector   \ntrial subject_id stimulus   stimulus_name                              \n1     TH20       moving dot                        9               0   \n4     TH34       moving dot                        2               0   \n6     TH36       moving dot                        5               0   \n8     TH38       moving dot                        4               0   \n14    TH50       moving dot                        5               0   \n\n                                                     NHDetector  \n                                          NHDetector NHDetector  \ntrial subject_id stimulus   stimulus_name                        \n1     TH20       moving dot                        1          0  \n4     TH34       moving dot                        2          0  \n6     TH36       moving dot                        2          0  \n8     TH38       moving dot                        4          0  \n14    TH50       moving dot                       12          0  ",
      "text/html": "<div>\n<style scoped>\n    .dataframe tbody tr th:only-of-type {\n        vertical-align: middle;\n    }\n\n    .dataframe tbody tr th {\n        vertical-align: top;\n    }\n\n    .dataframe thead tr th {\n        text-align: left;\n    }\n\n    .dataframe thead tr:last-of-type th {\n        text-align: right;\n    }\n</style>\n<table border=\"1\" class=\"dataframe\">\n  <thead>\n    <tr>\n      <th></th>\n      <th></th>\n      <th></th>\n      <th></th>\n      <th colspan=\"4\" halign=\"left\">MN</th>\n      <th colspan=\"3\" halign=\"left\">RA</th>\n      <th colspan=\"2\" halign=\"left\">EngbertDetector</th>\n      <th>NHDetector</th>\n    </tr>\n    <tr>\n      <th></th>\n      <th></th>\n      <th></th>\n      <th></th>\n      <th>MN</th>\n      <th>RA</th>\n      <th>EngbertDetector</th>\n      <th>NHDetector</th>\n      <th>RA</th>\n      <th>EngbertDetector</th>\n      <th>NHDetector</th>\n      <th>EngbertDetector</th>\n      <th>NHDetector</th>\n      <th>NHDetector</th>\n    </tr>\n    <tr>\n      <th>trial</th>\n      <th>subject_id</th>\n      <th>stimulus</th>\n      <th>stimulus_name</th>\n      <th></th>\n      <th></th>\n      <th></th>\n      <th></th>\n      <th></th>\n      <th></th>\n      <th></th>\n      <th></th>\n      <th></th>\n      <th></th>\n    </tr>\n  </thead>\n  <tbody>\n    <tr>\n      <th>1</th>\n      <th>TH20</th>\n      <th>moving dot</th>\n      <th></th>\n      <td>0.0</td>\n      <td>7.0</td>\n      <td>11.0</td>\n      <td>10.0</td>\n      <td>0</td>\n      <td>8</td>\n      <td>9</td>\n      <td>0</td>\n      <td>1</td>\n      <td>0</td>\n    </tr>\n    <tr>\n      <th>4</th>\n      <th>TH34</th>\n      <th>moving dot</th>\n      <th></th>\n      <td>NaN</td>\n      <td>NaN</td>\n      <td>NaN</td>\n      <td>NaN</td>\n      <td>0</td>\n      <td>4</td>\n      <td>2</td>\n      <td>0</td>\n      <td>2</td>\n      <td>0</td>\n    </tr>\n    <tr>\n      <th>6</th>\n      <th>TH36</th>\n      <th>moving dot</th>\n      <th></th>\n      <td>NaN</td>\n      <td>NaN</td>\n      <td>NaN</td>\n      <td>NaN</td>\n      <td>0</td>\n      <td>5</td>\n      <td>5</td>\n      <td>0</td>\n      <td>2</td>\n      <td>0</td>\n    </tr>\n    <tr>\n      <th>8</th>\n      <th>TH38</th>\n      <th>moving dot</th>\n      <th></th>\n      <td>0.0</td>\n      <td>1.0</td>\n      <td>7.0</td>\n      <td>5.0</td>\n      <td>0</td>\n      <td>6</td>\n      <td>4</td>\n      <td>0</td>\n      <td>4</td>\n      <td>0</td>\n    </tr>\n    <tr>\n      <th>14</th>\n      <th>TH50</th>\n      <th>moving dot</th>\n      <th></th>\n      <td>NaN</td>\n      <td>NaN</td>\n      <td>NaN</td>\n      <td>NaN</td>\n      <td>0</td>\n      <td>13</td>\n      <td>5</td>\n      <td>0</td>\n      <td>12</td>\n      <td>0</td>\n    </tr>\n  </tbody>\n</table>\n</div>"
     },
     "execution_count": 7,
     "metadata": {},
     "output_type": "execute_result"
    }
   ],
   "source": [
    "events_levenshtein = lund_helpers.levenshtein_distances(events)\n",
    "events_levenshtein.head()"
   ],
   "metadata": {
    "collapsed": false,
    "ExecuteTime": {
     "end_time": "2024-03-25T21:04:02.896415Z",
     "start_time": "2024-03-25T21:04:02.526239Z"
    }
   },
   "id": "3f7e66a9f17fc6bb",
   "execution_count": 7
  },
  {
   "cell_type": "markdown",
   "source": [
    "#### (2) Frobenius Norm\n",
    "Calculating sample-level transition matrices and calculating the Frobenius Norm of the difference between them"
   ],
   "metadata": {
    "collapsed": false
   },
   "id": "6c75f09bd8ffcd30"
  },
  {
   "cell_type": "code",
   "outputs": [
    {
     "data": {
      "text/plain": "                                            MN                            \\\n                                            MN        RA EngbertDetector   \ntrial subject_id stimulus   stimulus_name                                  \n1     TH20       moving dot                0.0  0.210102        1.546393   \n4     TH34       moving dot                NaN       NaN             NaN   \n6     TH36       moving dot                NaN       NaN             NaN   \n8     TH38       moving dot                0.0  0.050807        1.820160   \n14    TH50       moving dot                NaN       NaN             NaN   \n\n                                                       RA                  \\\n                                          NHDetector   RA EngbertDetector   \ntrial subject_id stimulus   stimulus_name                                   \n1     TH20       moving dot                 1.440068  0.0        1.493235   \n4     TH34       moving dot                      NaN  0.0        1.100964   \n6     TH36       moving dot                      NaN  0.0        1.339223   \n8     TH38       moving dot                 1.734279  0.0        1.816845   \n14    TH50       moving dot                      NaN  0.0        1.834452   \n\n                                                     EngbertDetector  \\\n                                          NHDetector EngbertDetector   \ntrial subject_id stimulus   stimulus_name                              \n1     TH20       moving dot                 1.463281             0.0   \n4     TH34       moving dot                 1.410540             0.0   \n6     TH36       moving dot                 1.738802             0.0   \n8     TH38       moving dot                 1.734621             0.0   \n14    TH50       moving dot                 1.680144             0.0   \n\n                                                     NHDetector  \n                                          NHDetector NHDetector  \ntrial subject_id stimulus   stimulus_name                        \n1     TH20       moving dot                 1.518732        0.0  \n4     TH34       moving dot                 0.745425        0.0  \n6     TH36       moving dot                 1.574031        0.0  \n8     TH38       moving dot                 1.535995        0.0  \n14    TH50       moving dot                 0.745755        0.0  ",
      "text/html": "<div>\n<style scoped>\n    .dataframe tbody tr th:only-of-type {\n        vertical-align: middle;\n    }\n\n    .dataframe tbody tr th {\n        vertical-align: top;\n    }\n\n    .dataframe thead tr th {\n        text-align: left;\n    }\n\n    .dataframe thead tr:last-of-type th {\n        text-align: right;\n    }\n</style>\n<table border=\"1\" class=\"dataframe\">\n  <thead>\n    <tr>\n      <th></th>\n      <th></th>\n      <th></th>\n      <th></th>\n      <th colspan=\"4\" halign=\"left\">MN</th>\n      <th colspan=\"3\" halign=\"left\">RA</th>\n      <th colspan=\"2\" halign=\"left\">EngbertDetector</th>\n      <th>NHDetector</th>\n    </tr>\n    <tr>\n      <th></th>\n      <th></th>\n      <th></th>\n      <th></th>\n      <th>MN</th>\n      <th>RA</th>\n      <th>EngbertDetector</th>\n      <th>NHDetector</th>\n      <th>RA</th>\n      <th>EngbertDetector</th>\n      <th>NHDetector</th>\n      <th>EngbertDetector</th>\n      <th>NHDetector</th>\n      <th>NHDetector</th>\n    </tr>\n    <tr>\n      <th>trial</th>\n      <th>subject_id</th>\n      <th>stimulus</th>\n      <th>stimulus_name</th>\n      <th></th>\n      <th></th>\n      <th></th>\n      <th></th>\n      <th></th>\n      <th></th>\n      <th></th>\n      <th></th>\n      <th></th>\n      <th></th>\n    </tr>\n  </thead>\n  <tbody>\n    <tr>\n      <th>1</th>\n      <th>TH20</th>\n      <th>moving dot</th>\n      <th></th>\n      <td>0.0</td>\n      <td>0.210102</td>\n      <td>1.546393</td>\n      <td>1.440068</td>\n      <td>0.0</td>\n      <td>1.493235</td>\n      <td>1.463281</td>\n      <td>0.0</td>\n      <td>1.518732</td>\n      <td>0.0</td>\n    </tr>\n    <tr>\n      <th>4</th>\n      <th>TH34</th>\n      <th>moving dot</th>\n      <th></th>\n      <td>NaN</td>\n      <td>NaN</td>\n      <td>NaN</td>\n      <td>NaN</td>\n      <td>0.0</td>\n      <td>1.100964</td>\n      <td>1.410540</td>\n      <td>0.0</td>\n      <td>0.745425</td>\n      <td>0.0</td>\n    </tr>\n    <tr>\n      <th>6</th>\n      <th>TH36</th>\n      <th>moving dot</th>\n      <th></th>\n      <td>NaN</td>\n      <td>NaN</td>\n      <td>NaN</td>\n      <td>NaN</td>\n      <td>0.0</td>\n      <td>1.339223</td>\n      <td>1.738802</td>\n      <td>0.0</td>\n      <td>1.574031</td>\n      <td>0.0</td>\n    </tr>\n    <tr>\n      <th>8</th>\n      <th>TH38</th>\n      <th>moving dot</th>\n      <th></th>\n      <td>0.0</td>\n      <td>0.050807</td>\n      <td>1.820160</td>\n      <td>1.734279</td>\n      <td>0.0</td>\n      <td>1.816845</td>\n      <td>1.734621</td>\n      <td>0.0</td>\n      <td>1.535995</td>\n      <td>0.0</td>\n    </tr>\n    <tr>\n      <th>14</th>\n      <th>TH50</th>\n      <th>moving dot</th>\n      <th></th>\n      <td>NaN</td>\n      <td>NaN</td>\n      <td>NaN</td>\n      <td>NaN</td>\n      <td>0.0</td>\n      <td>1.834452</td>\n      <td>1.680144</td>\n      <td>0.0</td>\n      <td>0.745755</td>\n      <td>0.0</td>\n    </tr>\n  </tbody>\n</table>\n</div>"
     },
     "execution_count": 8,
     "metadata": {},
     "output_type": "execute_result"
    }
   ],
   "source": [
    "samples_frobenius = lund_helpers.transition_distances__frobinius(samples)\n",
    "samples_frobenius.head()"
   ],
   "metadata": {
    "collapsed": false,
    "ExecuteTime": {
     "end_time": "2024-03-25T21:04:04.829630Z",
     "start_time": "2024-03-25T21:04:02.898993Z"
    }
   },
   "id": "2c8ecf107a9dfb9c",
   "execution_count": 8
  },
  {
   "cell_type": "markdown",
   "source": [
    "#### (3) Kullback-Leibler Divergence\n",
    "Calculating sample-level transition matrices and calculating the Kullback-Leibler Divergence of the difference between them"
   ],
   "metadata": {
    "collapsed": false
   },
   "id": "129f9ede2c2461c3"
  },
  {
   "cell_type": "code",
   "outputs": [
    {
     "data": {
      "text/plain": "                                            MN                            \\\n                                            MN        RA EngbertDetector   \ntrial subject_id stimulus   stimulus_name                                  \n1     TH20       moving dot                0.0  0.021477       22.259597   \n4     TH34       moving dot                NaN       NaN             NaN   \n6     TH36       moving dot                NaN       NaN             NaN   \n8     TH38       moving dot                0.0  0.012857       20.553860   \n14    TH50       moving dot                NaN       NaN             NaN   \n\n                                                       RA                  \\\n                                          NHDetector   RA EngbertDetector   \ntrial subject_id stimulus   stimulus_name                                   \n1     TH20       moving dot                21.920268  0.0       22.620077   \n4     TH34       moving dot                      NaN  0.0        5.012855   \n6     TH36       moving dot                      NaN  0.0        4.321923   \n8     TH38       moving dot                19.566132  0.0       20.841199   \n14    TH50       moving dot                      NaN  0.0       22.477451   \n\n                                                     EngbertDetector  \\\n                                          NHDetector EngbertDetector   \ntrial subject_id stimulus   stimulus_name                              \n1     TH20       moving dot                22.555535             0.0   \n4     TH34       moving dot                23.025851             0.0   \n6     TH36       moving dot                 2.079442             0.0   \n8     TH38       moving dot                20.386895             0.0   \n14    TH50       moving dot                22.521139             0.0   \n\n                                                     NHDetector  \n                                          NHDetector NHDetector  \ntrial subject_id stimulus   stimulus_name                        \n1     TH20       moving dot                 0.008226        0.0  \n4     TH34       moving dot                 0.119611        0.0  \n6     TH36       moving dot                22.163333        0.0  \n8     TH38       moving dot                 0.039754        0.0  \n14    TH50       moving dot                 0.180863        0.0  ",
      "text/html": "<div>\n<style scoped>\n    .dataframe tbody tr th:only-of-type {\n        vertical-align: middle;\n    }\n\n    .dataframe tbody tr th {\n        vertical-align: top;\n    }\n\n    .dataframe thead tr th {\n        text-align: left;\n    }\n\n    .dataframe thead tr:last-of-type th {\n        text-align: right;\n    }\n</style>\n<table border=\"1\" class=\"dataframe\">\n  <thead>\n    <tr>\n      <th></th>\n      <th></th>\n      <th></th>\n      <th></th>\n      <th colspan=\"4\" halign=\"left\">MN</th>\n      <th colspan=\"3\" halign=\"left\">RA</th>\n      <th colspan=\"2\" halign=\"left\">EngbertDetector</th>\n      <th>NHDetector</th>\n    </tr>\n    <tr>\n      <th></th>\n      <th></th>\n      <th></th>\n      <th></th>\n      <th>MN</th>\n      <th>RA</th>\n      <th>EngbertDetector</th>\n      <th>NHDetector</th>\n      <th>RA</th>\n      <th>EngbertDetector</th>\n      <th>NHDetector</th>\n      <th>EngbertDetector</th>\n      <th>NHDetector</th>\n      <th>NHDetector</th>\n    </tr>\n    <tr>\n      <th>trial</th>\n      <th>subject_id</th>\n      <th>stimulus</th>\n      <th>stimulus_name</th>\n      <th></th>\n      <th></th>\n      <th></th>\n      <th></th>\n      <th></th>\n      <th></th>\n      <th></th>\n      <th></th>\n      <th></th>\n      <th></th>\n    </tr>\n  </thead>\n  <tbody>\n    <tr>\n      <th>1</th>\n      <th>TH20</th>\n      <th>moving dot</th>\n      <th></th>\n      <td>0.0</td>\n      <td>0.021477</td>\n      <td>22.259597</td>\n      <td>21.920268</td>\n      <td>0.0</td>\n      <td>22.620077</td>\n      <td>22.555535</td>\n      <td>0.0</td>\n      <td>0.008226</td>\n      <td>0.0</td>\n    </tr>\n    <tr>\n      <th>4</th>\n      <th>TH34</th>\n      <th>moving dot</th>\n      <th></th>\n      <td>NaN</td>\n      <td>NaN</td>\n      <td>NaN</td>\n      <td>NaN</td>\n      <td>0.0</td>\n      <td>5.012855</td>\n      <td>23.025851</td>\n      <td>0.0</td>\n      <td>0.119611</td>\n      <td>0.0</td>\n    </tr>\n    <tr>\n      <th>6</th>\n      <th>TH36</th>\n      <th>moving dot</th>\n      <th></th>\n      <td>NaN</td>\n      <td>NaN</td>\n      <td>NaN</td>\n      <td>NaN</td>\n      <td>0.0</td>\n      <td>4.321923</td>\n      <td>2.079442</td>\n      <td>0.0</td>\n      <td>22.163333</td>\n      <td>0.0</td>\n    </tr>\n    <tr>\n      <th>8</th>\n      <th>TH38</th>\n      <th>moving dot</th>\n      <th></th>\n      <td>0.0</td>\n      <td>0.012857</td>\n      <td>20.553860</td>\n      <td>19.566132</td>\n      <td>0.0</td>\n      <td>20.841199</td>\n      <td>20.386895</td>\n      <td>0.0</td>\n      <td>0.039754</td>\n      <td>0.0</td>\n    </tr>\n    <tr>\n      <th>14</th>\n      <th>TH50</th>\n      <th>moving dot</th>\n      <th></th>\n      <td>NaN</td>\n      <td>NaN</td>\n      <td>NaN</td>\n      <td>NaN</td>\n      <td>0.0</td>\n      <td>22.477451</td>\n      <td>22.521139</td>\n      <td>0.0</td>\n      <td>0.180863</td>\n      <td>0.0</td>\n    </tr>\n  </tbody>\n</table>\n</div>"
     },
     "execution_count": 9,
     "metadata": {},
     "output_type": "execute_result"
    }
   ],
   "source": [
    "samples_kl = lund_helpers.transition_distances__kl_divergence(samples)\n",
    "samples_kl.head()"
   ],
   "metadata": {
    "collapsed": false,
    "ExecuteTime": {
     "end_time": "2024-03-25T21:04:06.645656Z",
     "start_time": "2024-03-25T21:04:04.832641Z"
    }
   },
   "id": "8868c709467a948",
   "execution_count": 9
  },
  {
   "cell_type": "code",
   "outputs": [],
   "source": [],
   "metadata": {
    "collapsed": false,
    "ExecuteTime": {
     "end_time": "2024-03-25T21:04:06.649373Z",
     "start_time": "2024-03-25T21:04:06.646668Z"
    }
   },
   "id": "cb2f66f9030770b0",
   "execution_count": 9
  }
 ],
 "metadata": {
  "kernelspec": {
   "display_name": "Python 3",
   "language": "python",
   "name": "python3"
  },
  "language_info": {
   "codemirror_mode": {
    "name": "ipython",
    "version": 2
   },
   "file_extension": ".py",
   "mimetype": "text/x-python",
   "name": "python",
   "nbconvert_exporter": "python",
   "pygments_lexer": "ipython2",
   "version": "2.7.6"
  }
 },
 "nbformat": 4,
 "nbformat_minor": 5
}
