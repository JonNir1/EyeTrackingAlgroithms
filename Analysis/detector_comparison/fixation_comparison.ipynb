{
 "cells": [
  {
   "cell_type": "code",
   "execution_count": null,
   "id": "initial_id",
   "metadata": {
    "collapsed": true
   },
   "outputs": [],
   "source": [
    "import plotly.io as pio\n",
    "\n",
    "import Config.constants as cnst\n",
    "import Analysis.figures as figs\n",
    "from Analysis.DetectorComparisonAnalyzer import DetectorComparisonAnalyzer\n",
    "\n",
    "pio.renderers.default = \"notebook\""
   ]
  },
  {
   "cell_type": "code",
   "outputs": [],
   "source": [
    "DATASET = \"Lund2013\"\n",
    "COL_MAPPER = lambda col: col[:col.index(\"ector\")] if \"ector\" in col else col\n",
    "VERBOSE = True\n",
    "SHOW_DISTRIBUTIONS = True"
   ],
   "metadata": {
    "collapsed": false
   },
   "id": "c2b1efb4f23041d0"
  },
  {
   "cell_type": "code",
   "outputs": [],
   "source": [
    "%%capture --no-stdout\n",
    "\n",
    "_, events, _, event_matches, comparison_columns = DetectorComparisonAnalyzer.preprocess_dataset(DATASET,\n",
    "                                                                         column_mapper=COL_MAPPER,\n",
    "                                                                         verbose=VERBOSE)\n",
    "\n",
    "# events = events.map(lambda cell: [e for e in cell if e.event_label == cnst.EVENT_LABELS.FIXATION])\n",
    "# event_matches = event_matches.map(\n",
    "#     lambda cell: {k: v for k, v in cell.items() if k.event_label == cnst.EVENT_LABELS.FIXATION}\n",
    "#     if cell is not None else None)\n",
    "\n",
    "comparison_columns"
   ],
   "metadata": {
    "collapsed": false
   },
   "id": "51d57da5fe84030d",
   "execution_count": null
  },
  {
   "cell_type": "code",
   "outputs": [],
   "source": [
    "fixation_metrics = DetectorComparisonAnalyzer.analyze(events, event_matches,\n",
    "                                    ignore_events={v for v in cnst.EVENT_LABELS if v != cnst.EVENT_LABELS.FIXATION},\n",
    "                                    verbose=VERBOSE)\n",
    "event_features = fixation_metrics[\"Event Features\"]\n",
    "event_matching_ratios = fixation_metrics[\"Event Matching Ratios\"]\n",
    "event_matching_feature_diffs = fixation_metrics[\"Event Matching Feature Diffs\"]"
   ],
   "metadata": {
    "collapsed": false
   },
   "id": "30cededaa65d279e",
   "execution_count": null
  },
  {
   "cell_type": "markdown",
   "source": [
    "# Fixations' Feature Distributions"
   ],
   "metadata": {
    "collapsed": false
   },
   "id": "bfc4282721543989"
  },
  {
   "cell_type": "code",
   "outputs": [],
   "source": [
    "print(f\"Available fixation features: {list(event_features.keys())}\")"
   ],
   "metadata": {
    "collapsed": false
   },
   "id": "54495d6f6df2cac1",
   "execution_count": null
  },
  {
   "cell_type": "code",
   "outputs": [],
   "source": [
    "if SHOW_DISTRIBUTIONS:\n",
    "    for feature in event_features.keys():\n",
    "        if feature not in {\"Duration\"}:\n",
    "            continue\n",
    "        title = f\"{DATASET.upper()}:\\t\\tFixations' {feature.title()} Distribution\"\n",
    "        figs.distributions_grid(\n",
    "            data=event_features[feature],\n",
    "            title=title,\n",
    "            show_counts=feature == \"Counts\",\n",
    "        ).show()"
   ],
   "metadata": {
    "collapsed": false
   },
   "id": "71500e46df14e286",
   "execution_count": null
  },
  {
   "cell_type": "markdown",
   "source": [
    "# Matched-Fixations' Feature Differences"
   ],
   "metadata": {
    "collapsed": false
   },
   "id": "b8db8277727f68e8"
  },
  {
   "cell_type": "code",
   "outputs": [],
   "source": [
    "print(f\"Available matched-fixation feature differences: {list(event_matching_feature_diffs.keys())}\")"
   ],
   "metadata": {
    "collapsed": false
   },
   "id": "c5d7fe733c2c25b0",
   "execution_count": null
  },
  {
   "cell_type": "code",
   "outputs": [],
   "source": [
    "if SHOW_DISTRIBUTIONS:\n",
    "    figs.distributions_grid(\n",
    "        data=event_matching_ratios[\"Match Ratio\"][comparison_columns],\n",
    "        title=f\"{DATASET.upper()}:\\t\\tFixation-Matching Ratios\",\n",
    "        pdf_min_val=0,\n",
    "        pdf_max_val=100,\n",
    "        column_title_mapper=lambda col: f\"{col[0]}→{col[1]}\"\n",
    "    ).show()"
   ],
   "metadata": {
    "collapsed": false
   },
   "id": "2d51a9e46b312288",
   "execution_count": null
  },
  {
   "cell_type": "code",
   "outputs": [],
   "source": [
    "if SHOW_DISTRIBUTIONS:\n",
    "    for feature in event_matching_feature_diffs.keys():\n",
    "        if feature not in ['Duration', 'Onset Jitter', 'Overlap Time', 'L2 Timing Jitter', 'Offset Jitter', 'IoU']:\n",
    "            continue\n",
    "        figs.distributions_grid(\n",
    "            data=event_matching_feature_diffs[feature][comparison_columns],\n",
    "            title=f\"{DATASET.upper()}:\\t\\tMatched-Fixations' {feature.title()} Distribution\",\n",
    "            column_title_mapper=lambda col: f\"{col[0]}→{col[1]}\",\n",
    "            pdf_min_val=0 if feature == \"IoU\" else None,\n",
    "            pdf_max_val=1 if feature == \"IoU\" else None,\n",
    "        ).show()"
   ],
   "metadata": {
    "collapsed": false
   },
   "id": "3f44a036f8f58fbd",
   "execution_count": null
  },
  {
   "cell_type": "code",
   "outputs": [],
   "source": [],
   "metadata": {
    "collapsed": false
   },
   "id": "49c665ae91ecdd29",
   "execution_count": null
  },
  {
   "cell_type": "code",
   "outputs": [],
   "source": [],
   "metadata": {
    "collapsed": false
   },
   "id": "f9acad3b3c4cfa5a",
   "execution_count": null
  }
 ],
 "metadata": {
  "kernelspec": {
   "display_name": "Python 3",
   "language": "python",
   "name": "python3"
  },
  "language_info": {
   "codemirror_mode": {
    "name": "ipython",
    "version": 2
   },
   "file_extension": ".py",
   "mimetype": "text/x-python",
   "name": "python",
   "nbconvert_exporter": "python",
   "pygments_lexer": "ipython2",
   "version": "2.7.6"
  }
 },
 "nbformat": 4,
 "nbformat_minor": 5
}
