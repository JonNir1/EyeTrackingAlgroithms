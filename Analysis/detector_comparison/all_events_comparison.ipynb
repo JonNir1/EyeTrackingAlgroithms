{
 "cells": [
  {
   "cell_type": "code",
   "execution_count": null,
   "id": "initial_id",
   "metadata": {
    "collapsed": true
   },
   "outputs": [],
   "source": [
    "import numpy as np\n",
    "import plotly.io as pio\n",
    "\n",
    "import Config.constants as cnst\n",
    "from Analysis.detector_comparison.DetectorComparisonAnalyzer import DetectorComparisonAnalyzer\n",
    "from Visualization.distributions_grid import distributions_grid\n",
    "from Visualization.p_value_heatmap import heatmap_grid\n",
    "\n",
    "pio.renderers.default = \"notebook\""
   ]
  },
  {
   "cell_type": "code",
   "outputs": [],
   "source": [
    "DATASET = \"Lund2013\"\n",
    "COL_MAPPER = lambda col: col[:col.index(\"ector\")] if \"ector\" in col else col\n",
    "VERBOSE = True\n",
    "\n",
    "STAT_TEST_NAME = \"Mann-Whitney\"\n",
    "CRITICAL_VALUE = 0.05\n",
    "CORRECTION = \"bonferroni\"\n",
    "\n",
    "SHOW_DISTRIBUTIONS = True\n",
    "SHOW_P_VALUES = True"
   ],
   "metadata": {
    "collapsed": false
   },
   "id": "f82937dc1b7ad1b1"
  },
  {
   "cell_type": "code",
   "outputs": [],
   "source": [
    "%%capture --no-stdout\n",
    "\n",
    "samples, events, _, event_matches, comparison_columns = DetectorComparisonAnalyzer.preprocess_dataset(DATASET,\n",
    "                                                                                    column_mapper=COL_MAPPER,\n",
    "                                                                                    verbose=VERBOSE)\n",
    "comparison_columns"
   ],
   "metadata": {
    "collapsed": false
   },
   "id": "51d57da5fe84030d",
   "execution_count": null
  },
  {
   "cell_type": "code",
   "outputs": [],
   "source": [
    "all_event_metrics = DetectorComparisonAnalyzer.analyze(events, event_matches, samples, verbose=VERBOSE)\n",
    "sample_metrics = all_event_metrics[\"Sample Metrics\"]\n",
    "event_features = all_event_metrics[\"Event Features\"]\n",
    "event_matching_ratios = all_event_metrics[\"Event Matching Ratios\"]\n",
    "event_matching_feature_diffs = all_event_metrics[\"Event Matching Feature Diffs\"]"
   ],
   "metadata": {
    "collapsed": false
   },
   "id": "30cededaa65d279e",
   "execution_count": null
  },
  {
   "cell_type": "markdown",
   "source": [
    "# Sample-Level Metrics"
   ],
   "metadata": {
    "collapsed": false
   },
   "id": "c451dc6b289f8136"
  },
  {
   "cell_type": "code",
   "outputs": [],
   "source": [
    "print(f\"Available sample metrics: {list(sample_metrics.keys())}\")"
   ],
   "metadata": {
    "collapsed": false
   },
   "id": "a57c929fdc6ef1da",
   "execution_count": null
  },
  {
   "cell_type": "code",
   "outputs": [],
   "source": [
    "if SHOW_DISTRIBUTIONS:\n",
    "    for metric in sample_metrics.keys():\n",
    "        distributions_grid(\n",
    "            data=sample_metrics[metric][comparison_columns],\n",
    "            title=f\"{DATASET.upper()}:\\t\\tSample-Level {metric.title()}\",\n",
    "            pdf_min_val=0 if \"Transition Matrix\" not in metric else None,\n",
    "            pdf_max_val=1 if \"Transition Matrix\" not in metric else None,\n",
    "            column_title_mapper=lambda col: f\"{col[0]}→{col[1]}\"\n",
    "        ).show()"
   ],
   "metadata": {
    "collapsed": false
   },
   "id": "18258f05fe232703",
   "execution_count": null
  },
  {
   "cell_type": "markdown",
   "source": [
    "# Feature Distributions"
   ],
   "metadata": {
    "collapsed": false
   },
   "id": "bfc4282721543989"
  },
  {
   "cell_type": "code",
   "outputs": [],
   "source": [
    "print(f\"Available event features: {list(event_features.keys())}\")"
   ],
   "metadata": {
    "collapsed": false
   },
   "id": "54495d6f6df2cac1",
   "execution_count": null
  },
  {
   "cell_type": "code",
   "outputs": [],
   "source": [
    "if SHOW_DISTRIBUTIONS:\n",
    "    for feature in event_features.keys():\n",
    "        if feature == \"Counts\":\n",
    "            title = f\"{DATASET.upper()}:\\t\\tEvent {feature.title()}\"\n",
    "        else:\n",
    "            title = f\"{DATASET.upper()}:\\t\\tEvents' {feature.title()} Distribution\"\n",
    "        distributions_grid(\n",
    "            data=event_features[feature],\n",
    "            title=title,\n",
    "            show_counts=feature == \"Counts\",\n",
    "        ).show()"
   ],
   "metadata": {
    "collapsed": false
   },
   "id": "71500e46df14e286",
   "execution_count": null
  },
  {
   "cell_type": "code",
   "outputs": [],
   "source": [
    "if SHOW_P_VALUES:\n",
    "    for feature in event_features.keys():\n",
    "        if feature == \"Counts\":\n",
    "            continue\n",
    "        feature_values = event_features[feature].map(lambda cell: [v for v in cell if not np.isnan(v)])\n",
    "        stat_test_res = DetectorComparisonAnalyzer.event_feature_statistical_comparison(feature_values, STAT_TEST_NAME)\n",
    "        p_values = stat_test_res.xs(cnst.P_VALUE, axis=1, level=2)\n",
    "        heatmap_grid(\n",
    "            p_values,\n",
    "            critical_value=CRITICAL_VALUE,\n",
    "            correction=CORRECTION,\n",
    "            add_annotations=True,\n",
    "            ignore_above_critical=True\n",
    "        ).show()"
   ],
   "metadata": {
    "collapsed": false
   },
   "id": "d7fa242462574ce9"
  },
  {
   "cell_type": "markdown",
   "source": [
    "# Event Matching Ratio"
   ],
   "metadata": {
    "collapsed": false
   },
   "id": "bfb548a2abfd40e5"
  },
  {
   "cell_type": "code",
   "outputs": [],
   "source": [
    "if SHOW_DISTRIBUTIONS:\n",
    "    distributions_grid(\n",
    "        data=event_matching_ratios[\"Match Ratio\"][comparison_columns],\n",
    "        title=f\"{DATASET.upper()}:\\t\\tEvent-Matching Ratios\",\n",
    "        pdf_min_val=0,\n",
    "        pdf_max_val=100,\n",
    "        column_title_mapper=lambda col: f\"{col[0]}→{col[1]}\"\n",
    "    ).show()"
   ],
   "metadata": {
    "collapsed": false
   },
   "id": "2d51a9e46b312288",
   "execution_count": null
  },
  {
   "cell_type": "markdown",
   "source": [
    "# Matched-Events' Feature Differences"
   ],
   "metadata": {
    "collapsed": false
   },
   "id": "b8db8277727f68e8"
  },
  {
   "cell_type": "code",
   "outputs": [],
   "source": [
    "print(f\"Available matched-event feature differences: {list(event_matching_feature_diffs.keys())}\")"
   ],
   "metadata": {
    "collapsed": false
   },
   "id": "c5d7fe733c2c25b0",
   "execution_count": 0
  },
  {
   "cell_type": "code",
   "outputs": [],
   "source": [
    "if SHOW_DISTRIBUTIONS:\n",
    "    for feature in event_matching_feature_diffs.keys():\n",
    "        distributions_grid(\n",
    "            data=event_matching_feature_diffs[feature][comparison_columns],\n",
    "            title=f\"{DATASET.upper()}:\\t\\tMatched-Events' {feature.title()} Distribution\",\n",
    "            column_title_mapper=lambda col: f\"{col[0]}→{col[1]}\",\n",
    "            pdf_min_val=0 if feature == \"IoU\" else None,\n",
    "            pdf_max_val=1 if feature == \"IoU\" else None,\n",
    "        ).show()"
   ],
   "metadata": {
    "collapsed": false
   },
   "id": "3f44a036f8f58fbd",
   "execution_count": null
  },
  {
   "cell_type": "code",
   "outputs": [],
   "source": [],
   "metadata": {
    "collapsed": false
   },
   "id": "f9acad3b3c4cfa5a",
   "execution_count": null
  }
 ],
 "metadata": {
  "kernelspec": {
   "display_name": "Python 3",
   "language": "python",
   "name": "python3"
  },
  "language_info": {
   "codemirror_mode": {
    "name": "ipython",
    "version": 2
   },
   "file_extension": ".py",
   "mimetype": "text/x-python",
   "name": "python",
   "nbconvert_exporter": "python",
   "pygments_lexer": "ipython2",
   "version": "2.7.6"
  }
 },
 "nbformat": 4,
 "nbformat_minor": 5
}
