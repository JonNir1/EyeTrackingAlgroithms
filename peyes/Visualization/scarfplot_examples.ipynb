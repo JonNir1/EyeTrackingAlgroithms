{
 "cells": [
  {
   "cell_type": "code",
   "execution_count": 1,
   "id": "initial_id",
   "metadata": {
    "ExecuteTime": {
     "end_time": "2024-04-07T10:45:39.658880Z",
     "start_time": "2024-04-07T10:45:31.801787Z"
    },
    "collapsed": true
   },
   "outputs": [],
   "source": [
    "import numpy as np\n",
    "import plotly.graph_objects as go\n",
    "from plotly.subplots import make_subplots\n",
    "import plotly.io as pio\n",
    "\n",
    "import peyes.Config.constants as cnst\n",
    "import peyes.Config.experiment_config as cnfg\n",
    "\n",
    "from peyes.DataSetLoaders.Lund2013DataSetLoader import Lund2013DataSetLoader as Lund2013\n",
    "\n",
    "from peyes.GazeDetectors.IVTDetector import IVTDetector\n",
    "from peyes.GazeDetectors.IDTDetector import IDTDetector\n",
    "from peyes.GazeDetectors.EngbertDetector import EngbertDetector\n",
    "from peyes.GazeDetectors.NHDetector import NHDetector\n",
    "from peyes.GazeDetectors.REMoDNaVDetector import REMoDNaVDetector\n",
    "\n",
    "import peyes.Visualization.scarfplot as scarfplot\n",
    "\n",
    "pio.renderers.default = 'notebook'"
   ]
  },
  {
   "cell_type": "markdown",
   "id": "16da46695f71f3b7",
   "metadata": {
    "collapsed": false
   },
   "source": [
    "## Load Data Set"
   ]
  },
  {
   "cell_type": "code",
   "execution_count": 2,
   "id": "3d0695f409685bcd",
   "metadata": {
    "ExecuteTime": {
     "end_time": "2024-04-07T10:46:24.222824Z",
     "start_time": "2024-04-07T10:45:39.662880Z"
    },
    "collapsed": false
   },
   "outputs": [],
   "source": [
    "lund_dataset = Lund2013().load(should_save=False)"
   ]
  },
  {
   "cell_type": "code",
   "execution_count": 3,
   "id": "89f668767dab852f",
   "metadata": {
    "ExecuteTime": {
     "end_time": "2024-04-07T10:46:24.259402Z",
     "start_time": "2024-04-07T10:46:24.224105Z"
    },
    "collapsed": false
   },
   "outputs": [],
   "source": [
    "trial1 = lund_dataset[lund_dataset[cnst.TRIAL] == 2]\n",
    "t, x, y = trial1[cnst.T].to_numpy(), trial1[cnst.X].to_numpy(), trial1[cnst.Y].to_numpy()\n",
    "mn_events = trial1[\"MN\"].to_numpy()\n",
    "ra_events = trial1[\"RA\"].to_numpy()\n",
    "\n",
    "trial1"
   ]
  },
  {
   "cell_type": "markdown",
   "id": "b8b82bb782808096",
   "metadata": {
    "collapsed": false
   },
   "source": [
    "## Detect Events"
   ]
  },
  {
   "cell_type": "code",
   "execution_count": 4,
   "id": "931b3de9d5bec908",
   "metadata": {
    "ExecuteTime": {
     "end_time": "2024-04-07T10:46:25.600157Z",
     "start_time": "2024-04-07T10:46:24.261762Z"
    },
    "collapsed": false
   },
   "outputs": [],
   "source": [
    "%%capture --no-stdout\n",
    "\n",
    "ivt = IVTDetector()\n",
    "ivt_results = ivt.detect(t, x, y)\n",
    "\n",
    "idt = IDTDetector()\n",
    "idt_results = idt.detect(t, x, y)\n",
    "\n",
    "engbert = EngbertDetector()\n",
    "engbert_results = engbert.detect(t, x, y)\n",
    "\n",
    "nh = NHDetector()\n",
    "nh_results = nh.detect(t, x, y)\n",
    "\n",
    "rmdnv = REMoDNaVDetector()\n",
    "rmdnv_results = rmdnv.detect(t, x, y)"
   ]
  },
  {
   "cell_type": "markdown",
   "id": "fda489396a8adedb",
   "metadata": {
    "collapsed": false
   },
   "source": [
    "### Figure 1: Gaze Locations\n",
    "Scatter plot of X and Y coordinates, colored by each sample's event (pre-annotated) "
   ]
  },
  {
   "cell_type": "code",
   "execution_count": 5,
   "id": "4633fac64ef0e47c",
   "metadata": {
    "ExecuteTime": {
     "end_time": "2024-04-07T10:46:26.445726Z",
     "start_time": "2024-04-07T10:46:25.601295Z"
    },
    "collapsed": false
   },
   "outputs": [],
   "source": [
    "colors = np.array([cnfg.EVENT_MAPPING[val][\"color\"] for val in mn_events])\n",
    "\n",
    "# TODO: add background image\n",
    "\n",
    "fig1 = go.Figure()\n",
    "fig1.add_trace(go.Scatter(x=x, y=y, mode='markers', marker=dict(color=colors, size=5)))\n",
    "fig1.update_layout(xaxis_title=\"X\", yaxis_title=\"Y\")\n",
    "fig1.show()"
   ]
  },
  {
   "cell_type": "markdown",
   "id": "41cab2ee496b7cb2",
   "metadata": {
    "collapsed": false
   },
   "source": [
    "### Figure 2: Gaze over Time\n",
    "Presenting the X- and Y-coordinates over time, with the velocity and/or acceleration (normalized to avoid scale issues).\n",
    "Bottom of the figure will present the detected events."
   ]
  },
  {
   "cell_type": "code",
   "execution_count": 6,
   "id": "1a2cd668797cd39a",
   "metadata": {
    "ExecuteTime": {
     "end_time": "2024-04-07T10:46:26.908420Z",
     "start_time": "2024-04-07T10:46:26.447929Z"
    },
    "collapsed": false
   },
   "outputs": [],
   "source": [
    "# normalize velocity & acceleration\n",
    "v, a = nh_results[cnst.GAZE][cnst.VELOCITY], nh_results[cnst.GAZE][cnst.ACCELERATION]\n",
    "nv = v / np.nanmax(v)\n",
    "na = a / np.nanmax(a)\n",
    "\n",
    "# create the figure with two y-axes\n",
    "fig2 = make_subplots(specs=[[{\"secondary_y\": True}]])\n",
    "\n",
    "# add lines for gaze location & velocity\n",
    "fig2.add_trace(go.Scatter(x=t, y=x, mode=\"lines\", line=dict(color='#ff0000', width=4), name=\"X\"), secondary_y=False)\n",
    "fig2.add_trace(go.Scatter(x=t, y=y, mode=\"lines\", line=dict(color='#0000ff', width=4), name=\"Y\"), secondary_y=False)\n",
    "fig2.add_trace(go.Scatter(x=t, y=nv, mode=\"lines\", line=dict(color='#888888', width=2, dash='dash'), name=\"v\"), secondary_y=True)\n",
    "# fig2.add_trace(go.Scatter(x=t, y=na, mode=\"lines\", line=dict(color='#888888', width=2, dash='dot'), name=\"a\"), secondary_y=True)\n",
    "\n",
    "# add events as heatmap\n",
    "fig2 = scarfplot.add_scarfplot(fig2, t, mn_events, 0, 0.5 * np.nanmin([x, y]))\n",
    "\n",
    "# move legend to top left\n",
    "fig2.update_layout(xaxis_title=\"Time (ms)\",\n",
    "                   yaxis_title=\"Gaze Location\",\n",
    "                   yaxis2_title=\"Velocity\",\n",
    "                   legend=dict(\n",
    "                       yanchor=\"top\",\n",
    "                       y=0.99,\n",
    "                       xanchor=\"left\",\n",
    "                       x=0.01\n",
    "                   ))\n",
    "\n",
    "fig2.show()"
   ]
  },
  {
   "cell_type": "markdown",
   "id": "41b4a1e601e5673e",
   "metadata": {
    "collapsed": false
   },
   "source": [
    "### Figure 3: Gaze over Time with Multiple Detectors\n",
    "Adding the detection results for NHDetector and EngbertDetector to the previous figure.\n",
    "Also, playing around with some layout properties like the background colors, text colors, etc."
   ]
  },
  {
   "cell_type": "code",
   "execution_count": 7,
   "id": "34bd70108a15d9f9",
   "metadata": {
    "ExecuteTime": {
     "end_time": "2024-04-07T10:46:27.248113Z",
     "start_time": "2024-04-07T10:46:26.910848Z"
    },
    "collapsed": false
   },
   "outputs": [],
   "source": [
    "nh_events = nh_results[cnst.GAZE][cnst.EVENT]\n",
    "eng_events = engbert_results[cnst.GAZE][cnst.EVENT]\n",
    "\n",
    "fig3 = go.Figure(fig2)\n",
    "line_size = 0.5 * np.nanmin([x, y])\n",
    "\n",
    "fig3 = scarfplot.add_scarfplot(fig3, t, nh_events, -2 * line_size, -1 * line_size)\n",
    "fig3 = scarfplot.add_scarfplot(fig3, t, eng_events, -4 * line_size, -3 * line_size)\n",
    "\n",
    "fig3.update_layout(\n",
    "    plot_bgcolor='white',\n",
    "    paper_bgcolor='white',\n",
    "    font_color='black',\n",
    "    xaxis=dict(showgrid=False),\n",
    "    yaxis1=dict(showgrid=False),\n",
    "    yaxis2=dict(showgrid=False),\n",
    ")\n",
    "\n",
    "fig3.show()"
   ]
  },
  {
   "cell_type": "markdown",
   "id": "847181f52930868f",
   "metadata": {
    "collapsed": false
   },
   "source": [
    "### Figure 4: Comparing Detectors\n",
    "Displaying the detected events for each detector in a separate (heatmap) subplot depicting events over time."
   ]
  },
  {
   "cell_type": "code",
   "execution_count": 8,
   "id": "e008019f9eec9451",
   "metadata": {
    "ExecuteTime": {
     "end_time": "2024-04-07T10:46:27.777459Z",
     "start_time": "2024-04-07T10:46:27.250386Z"
    },
    "collapsed": false
   },
   "outputs": [],
   "source": [
    "ivt_events = ivt_results[cnst.GAZE][cnst.EVENT]\n",
    "idt_events = idt_results[cnst.GAZE][cnst.EVENT]\n",
    "nh_events = nh_results[cnst.GAZE][cnst.EVENT]\n",
    "eng_events = engbert_results[cnst.GAZE][cnst.EVENT]\n",
    "rmdnv_events = rmdnv_results[cnst.GAZE][cnst.EVENT]\n",
    "\n",
    "events_dict = {\n",
    "    \"IVT\": ivt_events,\n",
    "    \"IDT\": idt_events,\n",
    "    \"Engbert\": eng_events,\n",
    "    \"NH\": nh_events,\n",
    "    \"REMoDNaV\": rmdnv_events,\n",
    "    \"MN\": mn_events,\n",
    "    \"RA\": ra_events,\n",
    "}\n",
    "\n",
    "ROW_WIDTH = 10\n",
    "\n",
    "fig4 = go.Figure()\n",
    "for i, (_, events) in enumerate(events_dict.items()):\n",
    "    fig4 = scarfplot.add_scarfplot(fig4, t, events, ymin=2 * i * ROW_WIDTH, ymax=(2 * i + 1) * ROW_WIDTH)\n",
    "\n",
    "fig4.update_layout(yaxis=dict(range=[0, (2 * len(events_dict) - 1) * ROW_WIDTH],\n",
    "                              tickmode='array',\n",
    "                              tickvals=[(2 * i + 0.5) * ROW_WIDTH for i in range(len(events_dict))],\n",
    "                              ticktext=list(events_dict.keys())),\n",
    "                   xaxis_title=\"Time (ms)\", )\n",
    "\n",
    "\n",
    "fig4.show()"
   ]
  },
  {
   "cell_type": "code",
   "execution_count": 8,
   "id": "4e07c7b8a030ff36",
   "metadata": {
    "ExecuteTime": {
     "end_time": "2024-04-07T10:46:27.787381Z",
     "start_time": "2024-04-07T10:46:27.784003Z"
    },
    "collapsed": false
   },
   "outputs": [],
   "source": []
  },
  {
   "cell_type": "code",
   "execution_count": 9,
   "id": "9bb9d953bfb068e5",
   "metadata": {
    "collapsed": false
   },
   "outputs": [],
   "source": [
    "# TODO:\n",
    "# add background image to the first figure\n",
    "# create a fixation/gaze heatmap figure\n",
    "# create a main-sequence plot"
   ]
  }
 ],
 "metadata": {
  "kernelspec": {
   "display_name": "Python 3",
   "language": "python",
   "name": "python3"
  },
  "language_info": {
   "codemirror_mode": {
    "name": "ipython",
    "version": 2
   },
   "file_extension": ".py",
   "mimetype": "text/x-python",
   "name": "python",
   "nbconvert_exporter": "python",
   "pygments_lexer": "ipython2",
   "version": "2.7.6"
  }
 },
 "nbformat": 4,
 "nbformat_minor": 5
}
